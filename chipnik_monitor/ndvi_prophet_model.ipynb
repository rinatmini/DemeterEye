{
 "cells": [
  {
   "cell_type": "markdown",
   "id": "be0baa42",
   "metadata": {},
   "source": [
    "# NDVI Prophet Model Training\n",
    "\n",
    "This notebook helps to train a Facebook Prophet model using cached NDVI and weather data from the HLS Crop Monitor project to predict vegetation patterns for the current year.\n",
    "\n",
    "## Objectives:\n",
    "- Load cached NDVI and weather data from multiple years\n",
    "- Train a Prophet model with weather variables as additional regressors  \n",
    "- Generate predictions for the current year\n",
    "- Evaluate model performance and visualize results"
   ]
  },
  {
   "cell_type": "code",
   "execution_count": 54,
   "id": "bc7f81d8",
   "metadata": {},
   "outputs": [
    {
     "name": "stdout",
     "output_type": "stream",
     "text": [
      "✅ Libraries imported successfully\n"
     ]
    }
   ],
   "source": [
    "# Import Required Libraries\n",
    "import pandas as pd\n",
    "import numpy as np\n",
    "import matplotlib.pyplot as plt\n",
    "import seaborn as sns\n",
    "from datetime import datetime, timedelta\n",
    "import json\n",
    "import hashlib\n",
    "from pathlib import Path\n",
    "import warnings\n",
    "import pickle\n",
    "import logging\n",
    "\n",
    "# Prophet and related libraries\n",
    "try:\n",
    "    from prophet import Prophet\n",
    "    from prophet.diagnostics import cross_validation, performance_metrics\n",
    "    from prophet.plot import plot_cross_validation_metric\n",
    "except ImportError:\n",
    "    print(\"Prophet not installed. Please install it using: pip install prophet\")\n",
    "\n",
    "# Plotly for interactive visualizations\n",
    "import plotly.graph_objects as go\n",
    "import plotly.express as px\n",
    "from plotly.subplots import make_subplots\n",
    "\n",
    "# Weather data\n",
    "import requests\n",
    "\n",
    "# Set up logging and warnings\n",
    "warnings.filterwarnings(\"ignore\")\n",
    "logging.getLogger('prophet').setLevel(logging.WARNING)\n",
    "\n",
    "# Set style\n",
    "plt.style.use('seaborn-v0_8')\n",
    "sns.set_palette(\"husl\")\n",
    "\n",
    "print(\"✅ Libraries imported successfully\")"
   ]
  },
  {
   "cell_type": "markdown",
   "id": "34af2711",
   "metadata": {},
   "source": [
    "## Configuration and Cache Directory Setup"
   ]
  },
  {
   "cell_type": "code",
   "execution_count": 56,
   "id": "1eb3ac6d",
   "metadata": {},
   "outputs": [
    {
     "name": "stdout",
     "output_type": "stream",
     "text": [
      "📁 Cache directories:\n",
      "   STAC cache: .cache\\stac\n",
      "   NDVI cache: .cache\\NDVI\n",
      "   EVI cache: .cache\\EVI\n",
      "🤖 Model output: models\n",
      "📅 Current year: 2025\n"
     ]
    }
   ],
   "source": [
    "# Configuration from chipnik_monitor.py\n",
    "CACHE_ROOT = Path(\".cache\")\n",
    "STAC_CACHE_DIR = CACHE_ROOT / \"stac\"\n",
    "NDVI_CACHE_DIR = CACHE_ROOT / \"NDVI\"\n",
    "EVI_CACHE_DIR = CACHE_ROOT / \"EVI\"\n",
    "\n",
    "# Model output directory\n",
    "MODEL_OUTPUT_DIR = Path(\"models\")\n",
    "MODEL_OUTPUT_DIR.mkdir(exist_ok=True)\n",
    "\n",
    "# Current year for predictions\n",
    "CURRENT_YEAR = datetime.now().year\n",
    "\n",
    "# Area of Interest (example - can be modified)\n",
    "DEFAULT_BBOX = [-112.8480 - 0.1, 42.7730 - 0.1, -112.8480 + 0.1, 42.7730 + 0.1]  # Snake River Plain\n",
    "\n",
    "print(f\"📁 Cache directories:\")\n",
    "print(f\"   STAC cache: {STAC_CACHE_DIR}\")\n",
    "print(f\"   NDVI cache: {NDVI_CACHE_DIR}\")\n",
    "print(f\"   EVI cache: {EVI_CACHE_DIR}\")\n",
    "print(f\"🤖 Model output: {MODEL_OUTPUT_DIR}\")\n",
    "print(f\"📅 Current year: {CURRENT_YEAR}\")"
   ]
  },
  {
   "cell_type": "code",
   "execution_count": 119,
   "id": "1fa772ca",
   "metadata": {},
   "outputs": [
    {
     "name": "stderr",
     "output_type": "stream",
     "text": [
      "2025-10-04 13:52:56.635 Thread 'MainThread': missing ScriptRunContext! This warning can be ignored when running in bare mode.\n",
      "2025-10-04 13:52:56.636 Thread 'MainThread': missing ScriptRunContext! This warning can be ignored when running in bare mode.\n",
      "2025-10-04 13:52:56.636 Thread 'MainThread': missing ScriptRunContext! This warning can be ignored when running in bare mode.\n",
      "2025-10-04 13:52:56.667 Thread 'MainThread': missing ScriptRunContext! This warning can be ignored when running in bare mode.\n",
      "2025-10-04 13:52:56.668 Thread 'MainThread': missing ScriptRunContext! This warning can be ignored when running in bare mode.\n",
      "2025-10-04 13:52:56.668 Thread 'MainThread': missing ScriptRunContext! This warning can be ignored when running in bare mode.\n",
      "2025-10-04 13:52:56.669 Thread 'MainThread': missing ScriptRunContext! This warning can be ignored when running in bare mode.\n",
      "2025-10-04 13:52:56.670 Thread 'MainThread': missing ScriptRunContext! This warning can be ignored when running in bare mode.\n",
      "2025-10-04 13:52:56.672 Thread 'MainThread': missing ScriptRunContext! This warning can be ignored when running in bare mode.\n",
      "2025-10-04 13:52:56.673 Thread 'MainThread': missing ScriptRunContext! This warning can be ignored when running in bare mode.\n",
      "2025-10-04 13:52:56.674 Thread 'MainThread': missing ScriptRunContext! This warning can be ignored when running in bare mode.\n",
      "2025-10-04 13:52:56.675 Thread 'MainThread': missing ScriptRunContext! This warning can be ignored when running in bare mode.\n",
      "2025-10-04 13:52:56.677 Thread 'MainThread': missing ScriptRunContext! This warning can be ignored when running in bare mode.\n",
      "2025-10-04 13:52:56.677 Thread 'MainThread': missing ScriptRunContext! This warning can be ignored when running in bare mode.\n",
      "2025-10-04 13:52:56.678 Thread 'MainThread': missing ScriptRunContext! This warning can be ignored when running in bare mode.\n",
      "2025-10-04 13:52:56.679 Thread 'MainThread': missing ScriptRunContext! This warning can be ignored when running in bare mode.\n",
      "2025-10-04 13:52:56.679 Thread 'MainThread': missing ScriptRunContext! This warning can be ignored when running in bare mode.\n",
      "2025-10-04 13:52:56.680 Thread 'MainThread': missing ScriptRunContext! This warning can be ignored when running in bare mode.\n",
      "2025-10-04 13:52:56.667 Thread 'MainThread': missing ScriptRunContext! This warning can be ignored when running in bare mode.\n",
      "2025-10-04 13:52:56.668 Thread 'MainThread': missing ScriptRunContext! This warning can be ignored when running in bare mode.\n",
      "2025-10-04 13:52:56.668 Thread 'MainThread': missing ScriptRunContext! This warning can be ignored when running in bare mode.\n",
      "2025-10-04 13:52:56.669 Thread 'MainThread': missing ScriptRunContext! This warning can be ignored when running in bare mode.\n",
      "2025-10-04 13:52:56.670 Thread 'MainThread': missing ScriptRunContext! This warning can be ignored when running in bare mode.\n",
      "2025-10-04 13:52:56.672 Thread 'MainThread': missing ScriptRunContext! This warning can be ignored when running in bare mode.\n",
      "2025-10-04 13:52:56.673 Thread 'MainThread': missing ScriptRunContext! This warning can be ignored when running in bare mode.\n",
      "2025-10-04 13:52:56.674 Thread 'MainThread': missing ScriptRunContext! This warning can be ignored when running in bare mode.\n",
      "2025-10-04 13:52:56.675 Thread 'MainThread': missing ScriptRunContext! This warning can be ignored when running in bare mode.\n",
      "2025-10-04 13:52:56.677 Thread 'MainThread': missing ScriptRunContext! This warning can be ignored when running in bare mode.\n",
      "2025-10-04 13:52:56.677 Thread 'MainThread': missing ScriptRunContext! This warning can be ignored when running in bare mode.\n",
      "2025-10-04 13:52:56.678 Thread 'MainThread': missing ScriptRunContext! This warning can be ignored when running in bare mode.\n",
      "2025-10-04 13:52:56.679 Thread 'MainThread': missing ScriptRunContext! This warning can be ignored when running in bare mode.\n",
      "2025-10-04 13:52:56.679 Thread 'MainThread': missing ScriptRunContext! This warning can be ignored when running in bare mode.\n",
      "2025-10-04 13:52:56.680 Thread 'MainThread': missing ScriptRunContext! This warning can be ignored when running in bare mode.\n",
      "2025-10-04 13:52:56.680 Thread 'MainThread': missing ScriptRunContext! This warning can be ignored when running in bare mode.\n",
      "2025-10-04 13:52:56.682 Thread 'MainThread': missing ScriptRunContext! This warning can be ignored when running in bare mode.\n",
      "2025-10-04 13:52:56.683 Thread 'MainThread': missing ScriptRunContext! This warning can be ignored when running in bare mode.\n",
      "2025-10-04 13:52:56.684 Thread 'MainThread': missing ScriptRunContext! This warning can be ignored when running in bare mode.\n",
      "2025-10-04 13:52:56.680 Thread 'MainThread': missing ScriptRunContext! This warning can be ignored when running in bare mode.\n",
      "2025-10-04 13:52:56.682 Thread 'MainThread': missing ScriptRunContext! This warning can be ignored when running in bare mode.\n",
      "2025-10-04 13:52:56.683 Thread 'MainThread': missing ScriptRunContext! This warning can be ignored when running in bare mode.\n",
      "2025-10-04 13:52:56.684 Thread 'MainThread': missing ScriptRunContext! This warning can be ignored when running in bare mode.\n",
      "2025-10-04 13:52:56.685 Thread 'MainThread': missing ScriptRunContext! This warning can be ignored when running in bare mode.\n",
      "2025-10-04 13:52:56.685 Thread 'MainThread': missing ScriptRunContext! This warning can be ignored when running in bare mode.\n",
      "2025-10-04 13:52:56.690 Thread 'MainThread': missing ScriptRunContext! This warning can be ignored when running in bare mode.\n",
      "2025-10-04 13:52:56.691 Thread 'MainThread': missing ScriptRunContext! This warning can be ignored when running in bare mode.\n",
      "2025-10-04 13:52:56.692 Thread 'MainThread': missing ScriptRunContext! This warning can be ignored when running in bare mode.\n",
      "2025-10-04 13:52:56.693 Thread 'MainThread': missing ScriptRunContext! This warning can be ignored when running in bare mode.\n",
      "2025-10-04 13:52:56.694 Thread 'MainThread': missing ScriptRunContext! This warning can be ignored when running in bare mode.\n",
      "2025-10-04 13:52:56.695 Thread 'MainThread': missing ScriptRunContext! This warning can be ignored when running in bare mode.\n",
      "2025-10-04 13:52:56.696 Thread 'MainThread': missing ScriptRunContext! This warning can be ignored when running in bare mode.\n",
      "2025-10-04 13:52:56.697 Thread 'MainThread': missing ScriptRunContext! This warning can be ignored when running in bare mode.\n",
      "2025-10-04 13:52:56.698 Thread 'MainThread': missing ScriptRunContext! This warning can be ignored when running in bare mode.\n",
      "2025-10-04 13:52:56.699 Thread 'MainThread': missing ScriptRunContext! This warning can be ignored when running in bare mode.\n",
      "2025-10-04 13:52:56.700 Thread 'MainThread': missing ScriptRunContext! This warning can be ignored when running in bare mode.\n",
      "2025-10-04 13:52:56.685 Thread 'MainThread': missing ScriptRunContext! This warning can be ignored when running in bare mode.\n",
      "2025-10-04 13:52:56.685 Thread 'MainThread': missing ScriptRunContext! This warning can be ignored when running in bare mode.\n",
      "2025-10-04 13:52:56.690 Thread 'MainThread': missing ScriptRunContext! This warning can be ignored when running in bare mode.\n",
      "2025-10-04 13:52:56.691 Thread 'MainThread': missing ScriptRunContext! This warning can be ignored when running in bare mode.\n",
      "2025-10-04 13:52:56.692 Thread 'MainThread': missing ScriptRunContext! This warning can be ignored when running in bare mode.\n",
      "2025-10-04 13:52:56.693 Thread 'MainThread': missing ScriptRunContext! This warning can be ignored when running in bare mode.\n",
      "2025-10-04 13:52:56.694 Thread 'MainThread': missing ScriptRunContext! This warning can be ignored when running in bare mode.\n",
      "2025-10-04 13:52:56.695 Thread 'MainThread': missing ScriptRunContext! This warning can be ignored when running in bare mode.\n",
      "2025-10-04 13:52:56.696 Thread 'MainThread': missing ScriptRunContext! This warning can be ignored when running in bare mode.\n",
      "2025-10-04 13:52:56.697 Thread 'MainThread': missing ScriptRunContext! This warning can be ignored when running in bare mode.\n",
      "2025-10-04 13:52:56.698 Thread 'MainThread': missing ScriptRunContext! This warning can be ignored when running in bare mode.\n",
      "2025-10-04 13:52:56.699 Thread 'MainThread': missing ScriptRunContext! This warning can be ignored when running in bare mode.\n",
      "2025-10-04 13:52:56.700 Thread 'MainThread': missing ScriptRunContext! This warning can be ignored when running in bare mode.\n",
      "2025-10-04 13:52:56.700 Thread 'MainThread': missing ScriptRunContext! This warning can be ignored when running in bare mode.\n",
      "2025-10-04 13:52:56.701 Thread 'MainThread': missing ScriptRunContext! This warning can be ignored when running in bare mode.\n",
      "2025-10-04 13:52:56.702 Thread 'MainThread': missing ScriptRunContext! This warning can be ignored when running in bare mode.\n",
      "2025-10-04 13:52:56.700 Thread 'MainThread': missing ScriptRunContext! This warning can be ignored when running in bare mode.\n",
      "2025-10-04 13:52:56.701 Thread 'MainThread': missing ScriptRunContext! This warning can be ignored when running in bare mode.\n",
      "2025-10-04 13:52:56.702 Thread 'MainThread': missing ScriptRunContext! This warning can be ignored when running in bare mode.\n",
      "2025-10-04 13:52:56.728 Thread 'MainThread': missing ScriptRunContext! This warning can be ignored when running in bare mode.\n",
      "2025-10-04 13:52:56.729 Thread 'MainThread': missing ScriptRunContext! This warning can be ignored when running in bare mode.\n",
      "2025-10-04 13:52:56.730 Thread 'MainThread': missing ScriptRunContext! This warning can be ignored when running in bare mode.\n",
      "2025-10-04 13:52:56.730 Thread 'MainThread': missing ScriptRunContext! This warning can be ignored when running in bare mode.\n",
      "2025-10-04 13:52:56.731 Thread 'MainThread': missing ScriptRunContext! This warning can be ignored when running in bare mode.\n",
      "2025-10-04 13:52:56.732 Thread 'MainThread': missing ScriptRunContext! This warning can be ignored when running in bare mode.\n",
      "2025-10-04 13:52:56.733 Thread 'MainThread': missing ScriptRunContext! This warning can be ignored when running in bare mode.\n",
      "2025-10-04 13:52:56.733 Thread 'MainThread': missing ScriptRunContext! This warning can be ignored when running in bare mode.\n",
      "2025-10-04 13:52:56.734 Thread 'MainThread': missing ScriptRunContext! This warning can be ignored when running in bare mode.\n",
      "2025-10-04 13:52:56.734 Thread 'MainThread': missing ScriptRunContext! This warning can be ignored when running in bare mode.\n",
      "DEBUG:chipnik_monitor:Normalised bbox=[-113.90279587828836, 42.56892463282091, -113.58840072392796, 42.84287717991728]\n",
      "2025-10-04 13:52:56.736 Thread 'MainThread': missing ScriptRunContext! This warning can be ignored when running in bare mode.\n",
      "2025-10-04 13:52:56.737 Thread 'MainThread': missing ScriptRunContext! This warning can be ignored when running in bare mode.\n",
      "2025-10-04 13:52:56.739 Thread 'MainThread': missing ScriptRunContext! This warning can be ignored when running in bare mode.\n",
      "2025-10-04 13:52:56.728 Thread 'MainThread': missing ScriptRunContext! This warning can be ignored when running in bare mode.\n",
      "2025-10-04 13:52:56.729 Thread 'MainThread': missing ScriptRunContext! This warning can be ignored when running in bare mode.\n",
      "2025-10-04 13:52:56.730 Thread 'MainThread': missing ScriptRunContext! This warning can be ignored when running in bare mode.\n",
      "2025-10-04 13:52:56.730 Thread 'MainThread': missing ScriptRunContext! This warning can be ignored when running in bare mode.\n",
      "2025-10-04 13:52:56.731 Thread 'MainThread': missing ScriptRunContext! This warning can be ignored when running in bare mode.\n",
      "2025-10-04 13:52:56.732 Thread 'MainThread': missing ScriptRunContext! This warning can be ignored when running in bare mode.\n",
      "2025-10-04 13:52:56.733 Thread 'MainThread': missing ScriptRunContext! This warning can be ignored when running in bare mode.\n",
      "2025-10-04 13:52:56.733 Thread 'MainThread': missing ScriptRunContext! This warning can be ignored when running in bare mode.\n",
      "2025-10-04 13:52:56.734 Thread 'MainThread': missing ScriptRunContext! This warning can be ignored when running in bare mode.\n",
      "2025-10-04 13:52:56.734 Thread 'MainThread': missing ScriptRunContext! This warning can be ignored when running in bare mode.\n",
      "DEBUG:chipnik_monitor:Normalised bbox=[-113.90279587828836, 42.56892463282091, -113.58840072392796, 42.84287717991728]\n",
      "2025-10-04 13:52:56.736 Thread 'MainThread': missing ScriptRunContext! This warning can be ignored when running in bare mode.\n",
      "2025-10-04 13:52:56.737 Thread 'MainThread': missing ScriptRunContext! This warning can be ignored when running in bare mode.\n",
      "2025-10-04 13:52:56.739 Thread 'MainThread': missing ScriptRunContext! This warning can be ignored when running in bare mode.\n",
      "2025-10-04 13:52:56.740 Thread 'MainThread': missing ScriptRunContext! This warning can be ignored when running in bare mode.\n",
      "2025-10-04 13:52:56.741 Thread 'MainThread': missing ScriptRunContext! This warning can be ignored when running in bare mode.\n",
      "2025-10-04 13:52:56.742 Thread 'MainThread': missing ScriptRunContext! This warning can be ignored when running in bare mode.\n",
      "2025-10-04 13:52:56.743 Thread 'MainThread': missing ScriptRunContext! This warning can be ignored when running in bare mode.\n",
      "2025-10-04 13:52:56.744 Thread 'MainThread': missing ScriptRunContext! This warning can be ignored when running in bare mode.\n",
      "2025-10-04 13:52:56.745 Thread 'MainThread': missing ScriptRunContext! This warning can be ignored when running in bare mode.\n",
      "2025-10-04 13:52:56.746 Thread 'MainThread': missing ScriptRunContext! This warning can be ignored when running in bare mode.\n",
      "2025-10-04 13:52:56.746 Thread 'MainThread': missing ScriptRunContext! This warning can be ignored when running in bare mode.\n",
      "2025-10-04 13:52:56.747 Thread 'MainThread': missing ScriptRunContext! This warning can be ignored when running in bare mode.\n",
      "2025-10-04 13:52:56.748 Thread 'MainThread': missing ScriptRunContext! This warning can be ignored when running in bare mode.\n",
      "2025-10-04 13:52:56.748 Thread 'MainThread': missing ScriptRunContext! This warning can be ignored when running in bare mode.\n",
      "2025-10-04 13:52:56.749 Thread 'MainThread': missing ScriptRunContext! This warning can be ignored when running in bare mode.\n",
      "2025-10-04 13:52:56.750 Thread 'MainThread': missing ScriptRunContext! This warning can be ignored when running in bare mode.\n",
      "2025-10-04 13:52:56.750 Thread 'MainThread': missing ScriptRunContext! This warning can be ignored when running in bare mode.\n",
      "2025-10-04 13:52:56.751 Thread 'MainThread': missing ScriptRunContext! This warning can be ignored when running in bare mode.\n",
      "2025-10-04 13:52:56.751 Thread 'MainThread': missing ScriptRunContext! This warning can be ignored when running in bare mode.\n",
      "2025-10-04 13:52:56.740 Thread 'MainThread': missing ScriptRunContext! This warning can be ignored when running in bare mode.\n",
      "2025-10-04 13:52:56.741 Thread 'MainThread': missing ScriptRunContext! This warning can be ignored when running in bare mode.\n",
      "2025-10-04 13:52:56.742 Thread 'MainThread': missing ScriptRunContext! This warning can be ignored when running in bare mode.\n",
      "2025-10-04 13:52:56.743 Thread 'MainThread': missing ScriptRunContext! This warning can be ignored when running in bare mode.\n",
      "2025-10-04 13:52:56.744 Thread 'MainThread': missing ScriptRunContext! This warning can be ignored when running in bare mode.\n",
      "2025-10-04 13:52:56.745 Thread 'MainThread': missing ScriptRunContext! This warning can be ignored when running in bare mode.\n",
      "2025-10-04 13:52:56.746 Thread 'MainThread': missing ScriptRunContext! This warning can be ignored when running in bare mode.\n",
      "2025-10-04 13:52:56.746 Thread 'MainThread': missing ScriptRunContext! This warning can be ignored when running in bare mode.\n",
      "2025-10-04 13:52:56.747 Thread 'MainThread': missing ScriptRunContext! This warning can be ignored when running in bare mode.\n",
      "2025-10-04 13:52:56.748 Thread 'MainThread': missing ScriptRunContext! This warning can be ignored when running in bare mode.\n",
      "2025-10-04 13:52:56.748 Thread 'MainThread': missing ScriptRunContext! This warning can be ignored when running in bare mode.\n",
      "2025-10-04 13:52:56.749 Thread 'MainThread': missing ScriptRunContext! This warning can be ignored when running in bare mode.\n",
      "2025-10-04 13:52:56.750 Thread 'MainThread': missing ScriptRunContext! This warning can be ignored when running in bare mode.\n",
      "2025-10-04 13:52:56.750 Thread 'MainThread': missing ScriptRunContext! This warning can be ignored when running in bare mode.\n",
      "2025-10-04 13:52:56.751 Thread 'MainThread': missing ScriptRunContext! This warning can be ignored when running in bare mode.\n",
      "2025-10-04 13:52:56.751 Thread 'MainThread': missing ScriptRunContext! This warning can be ignored when running in bare mode.\n",
      "2025-10-04 13:52:56.751 Thread 'MainThread': missing ScriptRunContext! This warning can be ignored when running in bare mode.\n",
      "2025-10-04 13:52:56.752 Thread 'MainThread': missing ScriptRunContext! This warning can be ignored when running in bare mode.\n",
      "2025-10-04 13:52:56.752 Thread 'MainThread': missing ScriptRunContext! This warning can be ignored when running in bare mode.\n",
      "2025-10-04 13:52:56.751 Thread 'MainThread': missing ScriptRunContext! This warning can be ignored when running in bare mode.\n",
      "2025-10-04 13:52:56.752 Thread 'MainThread': missing ScriptRunContext! This warning can be ignored when running in bare mode.\n",
      "2025-10-04 13:52:56.752 Thread 'MainThread': missing ScriptRunContext! This warning can be ignored when running in bare mode.\n",
      "2025-10-04 13:52:56.753 Thread 'MainThread': missing ScriptRunContext! This warning can be ignored when running in bare mode.\n",
      "2025-10-04 13:52:56.754 Thread 'MainThread': missing ScriptRunContext! This warning can be ignored when running in bare mode.\n",
      "2025-10-04 13:52:56.755 Thread 'MainThread': missing ScriptRunContext! This warning can be ignored when running in bare mode.\n",
      "2025-10-04 13:52:56.757 Thread 'MainThread': missing ScriptRunContext! This warning can be ignored when running in bare mode.\n",
      "2025-10-04 13:52:56.757 Thread 'MainThread': missing ScriptRunContext! This warning can be ignored when running in bare mode.\n",
      "2025-10-04 13:52:56.758 Thread 'MainThread': missing ScriptRunContext! This warning can be ignored when running in bare mode.\n",
      "2025-10-04 13:52:56.760 Thread 'MainThread': missing ScriptRunContext! This warning can be ignored when running in bare mode.\n",
      "2025-10-04 13:52:56.760 Thread 'MainThread': missing ScriptRunContext! This warning can be ignored when running in bare mode.\n",
      "2025-10-04 13:52:56.761 Thread 'MainThread': missing ScriptRunContext! This warning can be ignored when running in bare mode.\n",
      "2025-10-04 13:52:56.761 Thread 'MainThread': missing ScriptRunContext! This warning can be ignored when running in bare mode.\n",
      "2025-10-04 13:52:56.762 Thread 'MainThread': missing ScriptRunContext! This warning can be ignored when running in bare mode.\n",
      "2025-10-04 13:52:56.763 Thread 'MainThread': missing ScriptRunContext! This warning can be ignored when running in bare mode.\n",
      "2025-10-04 13:52:56.763 Thread 'MainThread': missing ScriptRunContext! This warning can be ignored when running in bare mode.\n",
      "2025-10-04 13:52:56.764 Thread 'MainThread': missing ScriptRunContext! This warning can be ignored when running in bare mode.\n",
      "2025-10-04 13:52:56.765 Thread 'MainThread': missing ScriptRunContext! This warning can be ignored when running in bare mode.\n",
      "2025-10-04 13:52:56.765 Thread 'MainThread': missing ScriptRunContext! This warning can be ignored when running in bare mode.\n",
      "2025-10-04 13:52:56.766 Thread 'MainThread': missing ScriptRunContext! This warning can be ignored when running in bare mode.\n",
      "2025-10-04 13:52:56.767 Thread 'MainThread': missing ScriptRunContext! This warning can be ignored when running in bare mode.\n",
      "2025-10-04 13:52:56.767 Thread 'MainThread': missing ScriptRunContext! This warning can be ignored when running in bare mode.\n",
      "2025-10-04 13:52:56.768 Thread 'MainThread': missing ScriptRunContext! This warning can be ignored when running in bare mode.\n",
      "2025-10-04 13:52:56.769 Thread 'MainThread': missing ScriptRunContext! This warning can be ignored when running in bare mode.\n",
      "2025-10-04 13:52:56.769 Thread 'MainThread': missing ScriptRunContext! This warning can be ignored when running in bare mode.\n",
      "2025-10-04 13:52:56.753 Thread 'MainThread': missing ScriptRunContext! This warning can be ignored when running in bare mode.\n",
      "2025-10-04 13:52:56.754 Thread 'MainThread': missing ScriptRunContext! This warning can be ignored when running in bare mode.\n",
      "2025-10-04 13:52:56.755 Thread 'MainThread': missing ScriptRunContext! This warning can be ignored when running in bare mode.\n",
      "2025-10-04 13:52:56.757 Thread 'MainThread': missing ScriptRunContext! This warning can be ignored when running in bare mode.\n",
      "2025-10-04 13:52:56.757 Thread 'MainThread': missing ScriptRunContext! This warning can be ignored when running in bare mode.\n",
      "2025-10-04 13:52:56.758 Thread 'MainThread': missing ScriptRunContext! This warning can be ignored when running in bare mode.\n",
      "2025-10-04 13:52:56.760 Thread 'MainThread': missing ScriptRunContext! This warning can be ignored when running in bare mode.\n",
      "2025-10-04 13:52:56.760 Thread 'MainThread': missing ScriptRunContext! This warning can be ignored when running in bare mode.\n",
      "2025-10-04 13:52:56.761 Thread 'MainThread': missing ScriptRunContext! This warning can be ignored when running in bare mode.\n",
      "2025-10-04 13:52:56.761 Thread 'MainThread': missing ScriptRunContext! This warning can be ignored when running in bare mode.\n",
      "2025-10-04 13:52:56.762 Thread 'MainThread': missing ScriptRunContext! This warning can be ignored when running in bare mode.\n",
      "2025-10-04 13:52:56.763 Thread 'MainThread': missing ScriptRunContext! This warning can be ignored when running in bare mode.\n",
      "2025-10-04 13:52:56.763 Thread 'MainThread': missing ScriptRunContext! This warning can be ignored when running in bare mode.\n",
      "2025-10-04 13:52:56.764 Thread 'MainThread': missing ScriptRunContext! This warning can be ignored when running in bare mode.\n",
      "2025-10-04 13:52:56.765 Thread 'MainThread': missing ScriptRunContext! This warning can be ignored when running in bare mode.\n",
      "2025-10-04 13:52:56.765 Thread 'MainThread': missing ScriptRunContext! This warning can be ignored when running in bare mode.\n",
      "2025-10-04 13:52:56.766 Thread 'MainThread': missing ScriptRunContext! This warning can be ignored when running in bare mode.\n",
      "2025-10-04 13:52:56.767 Thread 'MainThread': missing ScriptRunContext! This warning can be ignored when running in bare mode.\n",
      "2025-10-04 13:52:56.767 Thread 'MainThread': missing ScriptRunContext! This warning can be ignored when running in bare mode.\n",
      "2025-10-04 13:52:56.768 Thread 'MainThread': missing ScriptRunContext! This warning can be ignored when running in bare mode.\n",
      "2025-10-04 13:52:56.769 Thread 'MainThread': missing ScriptRunContext! This warning can be ignored when running in bare mode.\n",
      "2025-10-04 13:52:56.769 Thread 'MainThread': missing ScriptRunContext! This warning can be ignored when running in bare mode.\n",
      "2025-10-04 13:52:56.770 Thread 'MainThread': missing ScriptRunContext! This warning can be ignored when running in bare mode.\n",
      "2025-10-04 13:52:56.771 Thread 'MainThread': missing ScriptRunContext! This warning can be ignored when running in bare mode.\n",
      "DEBUG:chipnik_monitor:Active bbox for queries: [-113.90279587828836, 42.56892463282091, -113.58840072392796, 42.84287717991728]\n",
      "2025-10-04 13:52:56.773 No runtime found, using MemoryCacheStorageManager\n",
      "2025-10-04 13:52:56.776 Thread 'MainThread': missing ScriptRunContext! This warning can be ignored when running in bare mode.\n",
      "2025-10-04 13:52:56.778 Thread 'MainThread': missing ScriptRunContext! This warning can be ignored when running in bare mode.\n",
      "2025-10-04 13:52:56.770 Thread 'MainThread': missing ScriptRunContext! This warning can be ignored when running in bare mode.\n",
      "2025-10-04 13:52:56.771 Thread 'MainThread': missing ScriptRunContext! This warning can be ignored when running in bare mode.\n",
      "DEBUG:chipnik_monitor:Active bbox for queries: [-113.90279587828836, 42.56892463282091, -113.58840072392796, 42.84287717991728]\n",
      "2025-10-04 13:52:56.773 No runtime found, using MemoryCacheStorageManager\n",
      "2025-10-04 13:52:56.776 Thread 'MainThread': missing ScriptRunContext! This warning can be ignored when running in bare mode.\n",
      "2025-10-04 13:52:56.778 Thread 'MainThread': missing ScriptRunContext! This warning can be ignored when running in bare mode.\n",
      "2025-10-04 13:52:56.778 Thread 'MainThread': missing ScriptRunContext! This warning can be ignored when running in bare mode.\n",
      "2025-10-04 13:52:56.779 Thread 'MainThread': missing ScriptRunContext! This warning can be ignored when running in bare mode.\n",
      "2025-10-04 13:52:56.780 Thread 'MainThread': missing ScriptRunContext! This warning can be ignored when running in bare mode.\n",
      "2025-10-04 13:52:56.781 Thread 'MainThread': missing ScriptRunContext! This warning can be ignored when running in bare mode.\n",
      "2025-10-04 13:52:56.782 Thread 'MainThread': missing ScriptRunContext! This warning can be ignored when running in bare mode.\n",
      "2025-10-04 13:52:56.783 Thread 'MainThread': missing ScriptRunContext! This warning can be ignored when running in bare mode.\n",
      "2025-10-04 13:52:56.783 Thread 'MainThread': missing ScriptRunContext! This warning can be ignored when running in bare mode.\n",
      "2025-10-04 13:52:56.785 Thread 'MainThread': missing ScriptRunContext! This warning can be ignored when running in bare mode.\n",
      "2025-10-04 13:52:56.785 Thread 'MainThread': missing ScriptRunContext! This warning can be ignored when running in bare mode.\n",
      "2025-10-04 13:52:56.786 Thread 'MainThread': missing ScriptRunContext! This warning can be ignored when running in bare mode.\n",
      "2025-10-04 13:52:56.787 Thread 'MainThread': missing ScriptRunContext! This warning can be ignored when running in bare mode.\n",
      "2025-10-04 13:52:56.790 Thread 'MainThread': missing ScriptRunContext! This warning can be ignored when running in bare mode.\n",
      "2025-10-04 13:52:56.791 Thread 'MainThread': missing ScriptRunContext! This warning can be ignored when running in bare mode.\n",
      "2025-10-04 13:52:56.792 Thread 'MainThread': missing ScriptRunContext! This warning can be ignored when running in bare mode.\n",
      "2025-10-04 13:52:56.794 Thread 'MainThread': missing ScriptRunContext! This warning can be ignored when running in bare mode.\n",
      "2025-10-04 13:52:56.794 Thread 'MainThread': missing ScriptRunContext! This warning can be ignored when running in bare mode.\n",
      "2025-10-04 13:52:56.795 Thread 'MainThread': missing ScriptRunContext! This warning can be ignored when running in bare mode.\n",
      "2025-10-04 13:52:56.795 Thread 'MainThread': missing ScriptRunContext! This warning can be ignored when running in bare mode.\n",
      "2025-10-04 13:52:56.796 Thread 'MainThread': missing ScriptRunContext! This warning can be ignored when running in bare mode.\n",
      "2025-10-04 13:52:56.778 Thread 'MainThread': missing ScriptRunContext! This warning can be ignored when running in bare mode.\n",
      "2025-10-04 13:52:56.779 Thread 'MainThread': missing ScriptRunContext! This warning can be ignored when running in bare mode.\n",
      "2025-10-04 13:52:56.780 Thread 'MainThread': missing ScriptRunContext! This warning can be ignored when running in bare mode.\n",
      "2025-10-04 13:52:56.781 Thread 'MainThread': missing ScriptRunContext! This warning can be ignored when running in bare mode.\n",
      "2025-10-04 13:52:56.782 Thread 'MainThread': missing ScriptRunContext! This warning can be ignored when running in bare mode.\n",
      "2025-10-04 13:52:56.783 Thread 'MainThread': missing ScriptRunContext! This warning can be ignored when running in bare mode.\n",
      "2025-10-04 13:52:56.783 Thread 'MainThread': missing ScriptRunContext! This warning can be ignored when running in bare mode.\n",
      "2025-10-04 13:52:56.785 Thread 'MainThread': missing ScriptRunContext! This warning can be ignored when running in bare mode.\n",
      "2025-10-04 13:52:56.785 Thread 'MainThread': missing ScriptRunContext! This warning can be ignored when running in bare mode.\n",
      "2025-10-04 13:52:56.786 Thread 'MainThread': missing ScriptRunContext! This warning can be ignored when running in bare mode.\n",
      "2025-10-04 13:52:56.787 Thread 'MainThread': missing ScriptRunContext! This warning can be ignored when running in bare mode.\n",
      "2025-10-04 13:52:56.790 Thread 'MainThread': missing ScriptRunContext! This warning can be ignored when running in bare mode.\n",
      "2025-10-04 13:52:56.791 Thread 'MainThread': missing ScriptRunContext! This warning can be ignored when running in bare mode.\n",
      "2025-10-04 13:52:56.792 Thread 'MainThread': missing ScriptRunContext! This warning can be ignored when running in bare mode.\n",
      "2025-10-04 13:52:56.794 Thread 'MainThread': missing ScriptRunContext! This warning can be ignored when running in bare mode.\n",
      "2025-10-04 13:52:56.794 Thread 'MainThread': missing ScriptRunContext! This warning can be ignored when running in bare mode.\n",
      "2025-10-04 13:52:56.795 Thread 'MainThread': missing ScriptRunContext! This warning can be ignored when running in bare mode.\n",
      "2025-10-04 13:52:56.795 Thread 'MainThread': missing ScriptRunContext! This warning can be ignored when running in bare mode.\n",
      "2025-10-04 13:52:56.796 Thread 'MainThread': missing ScriptRunContext! This warning can be ignored when running in bare mode.\n",
      "2025-10-04 13:52:56.797 Thread 'MainThread': missing ScriptRunContext! This warning can be ignored when running in bare mode.\n",
      "2025-10-04 13:52:56.797 Thread 'MainThread': missing ScriptRunContext! This warning can be ignored when running in bare mode.\n",
      "2025-10-04 13:52:56.799 Thread 'MainThread': missing ScriptRunContext! This warning can be ignored when running in bare mode.\n",
      "2025-10-04 13:52:56.797 Thread 'MainThread': missing ScriptRunContext! This warning can be ignored when running in bare mode.\n",
      "2025-10-04 13:52:56.797 Thread 'MainThread': missing ScriptRunContext! This warning can be ignored when running in bare mode.\n",
      "2025-10-04 13:52:56.799 Thread 'MainThread': missing ScriptRunContext! This warning can be ignored when running in bare mode.\n"
     ]
    },
    {
     "name": "stdout",
     "output_type": "stream",
     "text": [
      "✅ Successfully imported functions from chipnik_monitor\n",
      "🗺️  Loading data from 2 regions...\n",
      "   ✅ Region 1 (53dc11e66dc23dff069f3e80716ccd7d0fc4d0836241e8ff753ad6ca2664048f.json): 241 records\n",
      "      Center: (-76.8799, 39.0192)\n",
      "      Area: 0.2 km²\n",
      "   ✅ Region 2 (c405874584da6e3b8d9bd4fbdc02984bccc68e4a89b790afdca3205a6e184124.json): 499 records\n",
      "      Center: (-113.7456, 42.7059)\n",
      "      Area: 778.8 km²\n",
      "\n",
      "🌍 Multi-region dataset summary:\n",
      "   Total regions: 2\n",
      "   Total records: 740\n",
      "   Date range: 2020-04-20 to 2025-10-01\n",
      "   Regions: 53dc11e66dc23dff069f3e80716ccd7d0fc4d0836241e8ff753ad6ca2664048f, c405874584da6e3b8d9bd4fbdc02984bccc68e4a89b790afdca3205a6e184124\n",
      "\n",
      "📊 Per-region statistics:\n",
      "   region_2: 499 records, center (42.7059, -113.7456)\n",
      "   region_1: 241 records, center (39.0192, -76.8799)\n",
      "\n",
      "🎯 Multi-region training enabled with 2 regions\n",
      "\n",
      "🗺️  Primary region coordinates for weather fallback:\n",
      "   Bounding box: [-76.882163, 39.016557, -76.877539, 39.021769]\n",
      "   Center: (-76.8799, 39.0192)\n",
      "   ✅ Region 2 (c405874584da6e3b8d9bd4fbdc02984bccc68e4a89b790afdca3205a6e184124.json): 499 records\n",
      "      Center: (-113.7456, 42.7059)\n",
      "      Area: 778.8 km²\n",
      "\n",
      "🌍 Multi-region dataset summary:\n",
      "   Total regions: 2\n",
      "   Total records: 740\n",
      "   Date range: 2020-04-20 to 2025-10-01\n",
      "   Regions: 53dc11e66dc23dff069f3e80716ccd7d0fc4d0836241e8ff753ad6ca2664048f, c405874584da6e3b8d9bd4fbdc02984bccc68e4a89b790afdca3205a6e184124\n",
      "\n",
      "📊 Per-region statistics:\n",
      "   region_2: 499 records, center (42.7059, -113.7456)\n",
      "   region_1: 241 records, center (39.0192, -76.8799)\n",
      "\n",
      "🎯 Multi-region training enabled with 2 regions\n",
      "\n",
      "🗺️  Primary region coordinates for weather fallback:\n",
      "   Bounding box: [-76.882163, 39.016557, -76.877539, 39.021769]\n",
      "   Center: (-76.8799, 39.0192)\n"
     ]
    }
   ],
   "source": [
    "# Import the new utility functions from chipnik_monitor\n",
    "import sys\n",
    "import os\n",
    "import importlib\n",
    "\n",
    "# Add current directory to Python path\n",
    "sys.path.insert(0, os.path.dirname(os.path.abspath('.')))\n",
    "\n",
    "# Force reload the module to get latest changes\n",
    "if 'chipnik_monitor' in sys.modules:\n",
    "    importlib.reload(sys.modules['chipnik_monitor'])\n",
    "\n",
    "try:\n",
    "    from chipnik_monitor import load_cached_data_with_region, list_stac_cache_files, fetch_weather_history\n",
    "    print(\"✅ Successfully imported functions from chipnik_monitor\")\n",
    "except ImportError as e:\n",
    "    print(f\"❌ Import error: {e}\")\n",
    "    print(\"📝 Trying alternative import method...\")\n",
    "    \n",
    "    # Alternative: Import the module and access functions directly\n",
    "    import chipnik_monitor\n",
    "    \n",
    "    # Check if functions exist\n",
    "    if hasattr(chipnik_monitor, 'load_cached_data_with_region'):\n",
    "        load_cached_data_with_region = chipnik_monitor.load_cached_data_with_region\n",
    "        print(\"✅ load_cached_data_with_region found via module attribute\")\n",
    "    else:\n",
    "        print(\"❌ load_cached_data_with_region not found\")\n",
    "    \n",
    "    if hasattr(chipnik_monitor, 'list_stac_cache_files'):\n",
    "        list_stac_cache_files = chipnik_monitor.list_stac_cache_files\n",
    "        print(\"✅ list_stac_cache_files found via module attribute\")\n",
    "    else:\n",
    "        print(\"❌ list_stac_cache_files not found\")\n",
    "    \n",
    "    if hasattr(chipnik_monitor, 'fetch_weather_history'):\n",
    "        fetch_weather_history = chipnik_monitor.fetch_weather_history\n",
    "        print(\"✅ fetch_weather_history found via module attribute\")\n",
    "    else:\n",
    "        print(\"❌ fetch_weather_history not found\")\n",
    "\n",
    "def calculate_vpd(temperature_c, relative_humidity_pct):\n",
    "    \"\"\"\n",
    "    Calculate Vapor Pressure Deficit (VPD) from temperature and humidity.\n",
    "    \n",
    "    Parameters:\n",
    "    temperature_c (float): Temperature in Celsius\n",
    "    relative_humidity_pct (float): Relative humidity percentage (0-100)\n",
    "    \n",
    "    Returns:\n",
    "    float: VPD in kPa\n",
    "    \"\"\"\n",
    "    # Saturated vapor pressure (kPa) using Tetens equation\n",
    "    es = 0.6108 * np.exp(17.27 * temperature_c / (temperature_c + 237.3))\n",
    "    \n",
    "    # Actual vapor pressure (kPa)\n",
    "    ea = es * (relative_humidity_pct / 100.0)\n",
    "    \n",
    "    # VPD is the difference\n",
    "    vpd = es - ea\n",
    "    \n",
    "    return np.maximum(vpd, 0)  # Ensure non-negative\n",
    "\n",
    "def fetch_weather_data_for_period(lat, lon, start_date, end_date):\n",
    "    \"\"\"\n",
    "    Wrapper function to fetch weather data with additional derived variables.\n",
    "    \n",
    "    Parameters:\n",
    "    lat (float): Latitude\n",
    "    lon (float): Longitude  \n",
    "    start_date (datetime.date): Start date\n",
    "    end_date (datetime.date): End date\n",
    "    \n",
    "    Returns:\n",
    "    pd.DataFrame: Weather data with derived variables\n",
    "    \"\"\"\n",
    "    # Convert dates to datetime objects if they're date objects\n",
    "    if hasattr(start_date, 'strftime') and not hasattr(start_date, 'hour'):\n",
    "        start_date = datetime.combine(start_date, datetime.min.time())\n",
    "    if hasattr(end_date, 'strftime') and not hasattr(end_date, 'hour'):\n",
    "        end_date = datetime.combine(end_date, datetime.min.time())\n",
    "    \n",
    "    # Fetch base weather data\n",
    "    weather_df = fetch_weather_history(lat, lon, start_date, end_date)\n",
    "    \n",
    "    if weather_df.empty:\n",
    "        return weather_df\n",
    "    \n",
    "    # Add derived variables expected by the Prophet model\n",
    "    if 'temperature_mean' in weather_df.columns and 'humidity_mean' in weather_df.columns:\n",
    "        # Rename humidity column to match expected name\n",
    "        weather_df = weather_df.rename(columns={'humidity_mean': 'humidity'})\n",
    "        \n",
    "        # Calculate VPD\n",
    "        weather_df['vapor_pressure_deficit'] = calculate_vpd(\n",
    "            weather_df['temperature_mean'], \n",
    "            weather_df['humidity']\n",
    "        )\n",
    "        \n",
    "        # Calculate growing degree days (base temperature 10°C)\n",
    "        weather_df['growing_degree_days'] = np.maximum(\n",
    "            weather_df['temperature_mean'] - 10, 0\n",
    "        )\n",
    "        \n",
    "        # Add precipitation (synthetic for now since not in original data)\n",
    "        weather_df['precipitation'] = np.random.exponential(1.5, len(weather_df))\n",
    "    \n",
    "    return weather_df\n",
    "\n",
    "def load_all_regions_data():\n",
    "    \"\"\"\n",
    "    Load data from all STAC cache files representing different regions.\n",
    "    Returns combined dataset with region information for multi-region training.\n",
    "    \"\"\"\n",
    "    cache_files = list_stac_cache_files()\n",
    "    \n",
    "    if not cache_files:\n",
    "        print(\"⚠️  No STAC cache files found, using DEFAULT_BBOX\")\n",
    "        return pd.DataFrame(), [DEFAULT_BBOX], [\"default_region\"]\n",
    "    \n",
    "    all_regions_data = []\n",
    "    all_bboxes = []\n",
    "    region_names = []\n",
    "    \n",
    "    print(f\"🗺️  Loading data from {len(cache_files)} regions...\")\n",
    "    \n",
    "    for i, cache_file in enumerate(cache_files):\n",
    "        try:\n",
    "            # Load cached data with region info\n",
    "            cached_df, region_info, bbox = load_cached_data_with_region(cache_file)\n",
    "            \n",
    "            if not cached_df.empty and bbox and len(bbox) == 4:\n",
    "                # Add region identifier to the data\n",
    "                cached_df = cached_df.copy()\n",
    "                cached_df['region_id'] = f\"region_{i+1}\"\n",
    "                cached_df['region_file'] = cache_file.name\n",
    "                cached_df['bbox_min_lon'] = bbox[0]\n",
    "                cached_df['bbox_min_lat'] = bbox[1]\n",
    "                cached_df['bbox_max_lon'] = bbox[2]\n",
    "                cached_df['bbox_max_lat'] = bbox[3]\n",
    "                \n",
    "                # Calculate region center for weather data\n",
    "                cached_df['region_center_lat'] = (bbox[1] + bbox[3]) / 2\n",
    "                cached_df['region_center_lon'] = (bbox[0] + bbox[2]) / 2\n",
    "                \n",
    "                # Add region info if available\n",
    "                if region_info:\n",
    "                    cached_df['region_area_km2'] = region_info.get('area_km2', 0)\n",
    "                    cached_df['region_width_deg'] = region_info.get('width_deg', 0)\n",
    "                    cached_df['region_height_deg'] = region_info.get('height_deg', 0)\n",
    "                \n",
    "                all_regions_data.append(cached_df)\n",
    "                all_bboxes.append(bbox)\n",
    "                region_names.append(cache_file.stem)\n",
    "                \n",
    "                print(f\"   ✅ Region {i+1} ({cache_file.name}): {len(cached_df)} records\")\n",
    "                print(f\"      Center: ({(bbox[0] + bbox[2])/2:.4f}, {(bbox[1] + bbox[3])/2:.4f})\")\n",
    "                \n",
    "                if region_info:\n",
    "                    print(f\"      Area: {region_info.get('area_km2', 0):.1f} km²\")\n",
    "                    \n",
    "            else:\n",
    "                print(f\"   ❌ Skipping {cache_file.name}: Invalid data or bbox\")\n",
    "                \n",
    "        except Exception as e:\n",
    "            print(f\"   ⚠️  Error loading {cache_file.name}: {e}\")\n",
    "    \n",
    "    if all_regions_data:\n",
    "        # Combine all regions into single DataFrame\n",
    "        combined_df = pd.concat(all_regions_data, ignore_index=True)\n",
    "        combined_df = combined_df.sort_values('datetime').reset_index(drop=True)\n",
    "        \n",
    "        print(f\"\\n🌍 Multi-region dataset summary:\")\n",
    "        print(f\"   Total regions: {len(all_bboxes)}\")\n",
    "        print(f\"   Total records: {len(combined_df)}\")\n",
    "        print(f\"   Date range: {combined_df['datetime'].min().date()} to {combined_df['datetime'].max().date()}\")\n",
    "        print(f\"   Regions: {', '.join(region_names)}\")\n",
    "        \n",
    "        # Display region statistics\n",
    "        region_stats = combined_df.groupby('region_id').agg({\n",
    "            'datetime': ['count', 'min', 'max'],\n",
    "            'region_center_lat': 'first',\n",
    "            'region_center_lon': 'first',\n",
    "            'region_area_km2': 'first'\n",
    "        }).round(4)\n",
    "        \n",
    "        print(f\"\\n📊 Per-region statistics:\")\n",
    "        for region_id in combined_df['region_id'].unique():\n",
    "            region_data = combined_df[combined_df['region_id'] == region_id]\n",
    "            print(f\"   {region_id}: {len(region_data)} records, \"\n",
    "                  f\"center ({region_data['region_center_lat'].iloc[0]:.4f}, \"\n",
    "                  f\"{region_data['region_center_lon'].iloc[0]:.4f})\")\n",
    "        \n",
    "        return combined_df, all_bboxes, region_names\n",
    "    else:\n",
    "        print(\"❌ No valid regions found, using default bbox\")\n",
    "        return pd.DataFrame(), [DEFAULT_BBOX], [\"default_region\"]\n",
    "\n",
    "# Load multi-region data\n",
    "try:\n",
    "    MULTI_REGION_DATA, ALL_BBOXES, REGION_NAMES = load_all_regions_data()\n",
    "\n",
    "    if not MULTI_REGION_DATA.empty:\n",
    "        print(f\"\\n🎯 Multi-region training enabled with {len(ALL_BBOXES)} regions\")\n",
    "        # Use the first region's center as primary coordinates for fallback weather data\n",
    "        PRIMARY_BBOX = ALL_BBOXES[0] if ALL_BBOXES else DEFAULT_BBOX\n",
    "    else:\n",
    "        print(f\"\\n⚠️  Falling back to single region mode\")\n",
    "        PRIMARY_BBOX = DEFAULT_BBOX\n",
    "\n",
    "    print(f\"\\n🗺️  Primary region coordinates for weather fallback:\")\n",
    "    print(f\"   Bounding box: {PRIMARY_BBOX}\")\n",
    "    print(f\"   Center: ({(PRIMARY_BBOX[0] + PRIMARY_BBOX[2])/2:.4f}, {(PRIMARY_BBOX[1] + PRIMARY_BBOX[3])/2:.4f})\")\n",
    "    \n",
    "except Exception as e:\n",
    "    print(f\"❌ Error in load_all_regions_data: {e}\")\n",
    "    print(\"   Using fallback values...\")\n",
    "    MULTI_REGION_DATA = pd.DataFrame()\n",
    "    ALL_BBOXES = [DEFAULT_BBOX]\n",
    "    REGION_NAMES = [\"default_region\"]\n",
    "    PRIMARY_BBOX = DEFAULT_BBOX"
   ]
  },
  {
   "cell_type": "code",
   "execution_count": 99,
   "id": "1bae7e5e",
   "metadata": {},
   "outputs": [
    {
     "name": "stdout",
     "output_type": "stream",
     "text": [
      "✅ Growing season utility functions defined\n"
     ]
    }
   ],
   "source": [
    "# Shared utility functions for growing season analysis\n",
    "def add_growing_season_indicator(df, date_column='ds'):\n",
    "    \"\"\"\n",
    "    Add growing season indicator to dataframe.\n",
    "    Growing season is defined as April through October (months 4-10) for Northern Hemisphere.\n",
    "    \n",
    "    Parameters:\n",
    "    df (pd.DataFrame): DataFrame with datetime column\n",
    "    date_column (str): Name of the datetime column (default: 'ds')\n",
    "    \n",
    "    Returns:\n",
    "    pd.DataFrame: DataFrame with added 'is_growing_season' column\n",
    "    \"\"\"\n",
    "    df = df.copy()\n",
    "    df['is_growing_season'] = (\n",
    "        (df[date_column].dt.month >= 4) & \n",
    "        (df[date_column].dt.month <= 10)\n",
    "    )\n",
    "    return df\n",
    "\n",
    "def is_growing_season_mask(dates):\n",
    "    \"\"\"\n",
    "    Create a boolean mask for growing season dates.\n",
    "    \n",
    "    Parameters:\n",
    "    dates (pd.Series or pd.DatetimeIndex): Datetime series/index\n",
    "    \n",
    "    Returns:\n",
    "    pd.Series: Boolean mask where True indicates growing season\n",
    "    \"\"\"\n",
    "    return (dates.dt.month >= 4) & (dates.dt.month <= 10)\n",
    "\n",
    "print(\"✅ Growing season utility functions defined\")"
   ]
  },
  {
   "cell_type": "code",
   "execution_count": 138,
   "id": "4756a601",
   "metadata": {},
   "outputs": [],
   "source": [
    "def fetch_weather_forecast_data(lat, lon, start_date, end_date):\n",
    "    \"\"\"\n",
    "    Fetch weather forecast data from Open-Meteo forecast API for future dates\n",
    "    \n",
    "    Parameters:\n",
    "    lat (float): Latitude\n",
    "    lon (float): Longitude \n",
    "    start_date (datetime.date): Start date for forecast\n",
    "    end_date (datetime.date): End date for forecast\n",
    "    \n",
    "    Returns:\n",
    "    pd.DataFrame: Weather forecast data\n",
    "    \"\"\"\n",
    "    try:\n",
    "        import requests\n",
    "        \n",
    "        # Open-Meteo forecast API (free, no API key required)\n",
    "        # Note: Free API typically provides 7-16 days of forecast\n",
    "        forecast_url = \"https://api.open-meteo.com/v1/forecast\"\n",
    "        \n",
    "        # Limit forecast period to maximum available (15 days to be safe)\n",
    "        today = datetime.now().date()\n",
    "        max_forecast_end = today + timedelta(days=15)  # More conservative limit\n",
    "        limited_end_date = min(end_date, max_forecast_end)\n",
    "        \n",
    "        # Only proceed if there are forecast days available\n",
    "        if start_date > limited_end_date:\n",
    "            print(f\"   Forecast period beyond API limit (15 days), using climatology...\")\n",
    "            return pd.DataFrame()\n",
    "        \n",
    "        # Parameters for forecast API - using correct Open-Meteo parameter names\n",
    "        params = {\n",
    "            'latitude': lat,\n",
    "            'longitude': lon,\n",
    "            'start_date': start_date.strftime('%Y-%m-%d'),\n",
    "            'end_date': limited_end_date.strftime('%Y-%m-%d'),\n",
    "            'daily': 'temperature_2m_max,temperature_2m_min,relative_humidity_2m_mean,precipitation_sum,wind_speed_10m_max',\n",
    "            'timezone': 'auto'\n",
    "        }\n",
    "        \n",
    "        print(f\"   Fetching forecast from {forecast_url}\")\n",
    "        print(f\"   Coordinates: ({lat:.4f}, {lon:.4f})\")\n",
    "        print(f\"   Date range: {start_date} to {limited_end_date} (limited to 15 days)\")\n",
    "        \n",
    "        response = requests.get(forecast_url, params=params, timeout=30)\n",
    "        response.raise_for_status()\n",
    "        \n",
    "        data = response.json()\n",
    "        \n",
    "        if 'daily' not in data:\n",
    "            print(\"   No daily forecast data available\")\n",
    "            return pd.DataFrame()\n",
    "        \n",
    "        # Parse forecast data\n",
    "        daily_data = data['daily']\n",
    "        \n",
    "        # Calculate mean temperature from max and min\n",
    "        temp_max = daily_data.get('temperature_2m_max', [])\n",
    "        temp_min = daily_data.get('temperature_2m_min', [])\n",
    "        temp_mean = [(tmax + tmin) / 2 if tmax is not None and tmin is not None else None \n",
    "                     for tmax, tmin in zip(temp_max, temp_min)]\n",
    "        \n",
    "        forecast_df = pd.DataFrame({\n",
    "            'date': pd.to_datetime(daily_data['time']),\n",
    "            'temperature_mean': temp_mean,\n",
    "            'humidity': daily_data.get('relative_humidity_2m_mean', []),\n",
    "            'precipitation': daily_data.get('precipitation_sum', []),\n",
    "            'wind_speed_mean': daily_data.get('wind_speed_10m_max', [])  # Use max as proxy for mean\n",
    "        })\n",
    "        \n",
    "        # Calculate derived weather variables\n",
    "        if not forecast_df.empty:\n",
    "            # Growing Degree Days (base 10°C)\n",
    "            forecast_df['growing_degree_days'] = forecast_df['temperature_mean'].apply(\n",
    "                lambda x: max(0, x - 10) if pd.notna(x) else 0\n",
    "            )\n",
    "            \n",
    "            # Vapor Pressure Deficit (simplified calculation)\n",
    "            forecast_df['vapor_pressure_deficit'] = forecast_df.apply(\n",
    "                lambda row: calculate_vpd(row['temperature_mean'], row['humidity']) \n",
    "                if pd.notna(row['temperature_mean']) and pd.notna(row['humidity']) else 0,\n",
    "                axis=1\n",
    "            )\n",
    "            \n",
    "            # Add cloudcover and clarity index (estimates based on precipitation)\n",
    "            forecast_df['cloudcover_mean'] = forecast_df['precipitation'].apply(\n",
    "                lambda x: min(80, 30 + x * 10) if pd.notna(x) else 50  # More precip = more clouds\n",
    "            )\n",
    "            \n",
    "            forecast_df['clarity_index'] = forecast_df['cloudcover_mean'].apply(\n",
    "                lambda x: max(0.2, 1 - x/100) if pd.notna(x) else 0.6\n",
    "            )\n",
    "        \n",
    "        print(f\"   ✅ Retrieved forecast for {len(forecast_df)} days\")\n",
    "        \n",
    "        # If the original request was for longer than available forecast, note this\n",
    "        if end_date > limited_end_date:\n",
    "            remaining_days = (end_date - limited_end_date).days\n",
    "            print(f\"   ⚠️  {remaining_days} days beyond forecast limit, will use climatology for remainder\")\n",
    "            \n",
    "        return forecast_df\n",
    "        \n",
    "    except requests.exceptions.RequestException as e:\n",
    "        print(f\"   ❌ Forecast API request failed: {e}\")\n",
    "        return pd.DataFrame()\n",
    "    except Exception as e:\n",
    "        print(f\"   ❌ Error processing forecast data: {e}\")\n",
    "        return pd.DataFrame()"
   ]
  },
  {
   "cell_type": "markdown",
   "id": "53136b87",
   "metadata": {},
   "source": [
    "## Load Cached NDVI and Weather Data\n",
    "\n",
    "This section loads historical NDVI data from the cache directory and aggregates it across multiple years for training."
   ]
  },
  {
   "cell_type": "code",
   "execution_count": 100,
   "id": "d1f53767",
   "metadata": {},
   "outputs": [
    {
     "name": "stdout",
     "output_type": "stream",
     "text": [
      "🌍 Using multi-region cached data: 740 total records\n",
      "📊 Multi-region STAC dataset loaded:\n",
      "   Date range: 2020-04-20 to 2025-10-01\n",
      "   Collections: {'HLSS30_2.0': 500, 'HLSL30_2.0': 240}\n",
      "   Records per region: {'region_2': 499, 'region_1': 241}\n",
      "   Total regions: 2\n"
     ]
    }
   ],
   "source": [
    "def load_stac_cache_data():\n",
    "    \"\"\"Load all STAC cache files to get datetime information - now supports multi-region\"\"\"\n",
    "    \n",
    "    # Use the multi-region data if available\n",
    "    if not MULTI_REGION_DATA.empty:\n",
    "        print(f\"🌍 Using multi-region cached data: {len(MULTI_REGION_DATA)} total records\")\n",
    "        stac_df = MULTI_REGION_DATA.copy()\n",
    "        \n",
    "        # Ensure proper column naming for compatibility\n",
    "        if 'id' not in stac_df.columns and 'scene_id' in stac_df.columns:\n",
    "            stac_df['id'] = stac_df['scene_id']\n",
    "        \n",
    "        return stac_df\n",
    "    \n",
    "    # Fallback to original single-region loading\n",
    "    stac_data = []\n",
    "    \n",
    "    if not STAC_CACHE_DIR.exists():\n",
    "        print(\"❌ STAC cache directory not found. Run the main app first to generate cache.\")\n",
    "        return pd.DataFrame()\n",
    "    \n",
    "    cache_files = list(STAC_CACHE_DIR.glob(\"*.json\"))\n",
    "    print(f\"📁 Found {len(cache_files)} STAC cache files\")\n",
    "    \n",
    "    for cache_file in cache_files:\n",
    "        try:\n",
    "            with open(cache_file, 'r') as f:\n",
    "                data = json.load(f)\n",
    "            \n",
    "            records = data.get('records', [])\n",
    "            for record in records:\n",
    "                if record.get('datetime'):\n",
    "                    stac_data.append({\n",
    "                        'datetime': pd.to_datetime(record['datetime']),\n",
    "                        'id': record.get('id'),\n",
    "                        'cloud_cover': record.get('cloud_cover'),\n",
    "                        'collection': record.get('collection'),\n",
    "                        'cache_file': cache_file.name,\n",
    "                        'region_id': 'single_region',\n",
    "                        'region_file': cache_file.name\n",
    "                    })\n",
    "        except Exception as e:\n",
    "            print(f\"⚠️  Error loading {cache_file.name}: {e}\")\n",
    "    \n",
    "    if stac_data:\n",
    "        df = pd.DataFrame(stac_data)\n",
    "        df = df.sort_values('datetime').reset_index(drop=True)\n",
    "        print(f\"✅ Loaded {len(df)} STAC records from {df['datetime'].min().date()} to {df['datetime'].max().date()}\")\n",
    "        return df\n",
    "    else:\n",
    "        print(\"❌ No valid STAC data found\")\n",
    "        return pd.DataFrame()\n",
    "\n",
    "# Load STAC cache data (now multi-region aware)\n",
    "stac_df = load_stac_cache_data()\n",
    "\n",
    "if not stac_df.empty:\n",
    "    print(f\"📊 Multi-region STAC dataset loaded:\")\n",
    "    print(f\"   Date range: {stac_df['datetime'].min().strftime('%Y-%m-%d')} to {stac_df['datetime'].max().strftime('%Y-%m-%d')}\")\n",
    "    \n",
    "    if 'collection' in stac_df.columns:\n",
    "        print(f\"   Collections: {stac_df['collection'].value_counts().to_dict()}\")\n",
    "    \n",
    "    if 'region_id' in stac_df.columns:\n",
    "        region_counts = stac_df['region_id'].value_counts()\n",
    "        print(f\"   Records per region: {region_counts.to_dict()}\")\n",
    "        print(f\"   Total regions: {len(region_counts)}\")\n",
    "    \n",
    "else:\n",
    "    print(\"❌ No STAC data available. Please run the main application first to generate cache data.\")"
   ]
  },
  {
   "cell_type": "code",
   "execution_count": 101,
   "id": "e357c7bf",
   "metadata": {},
   "outputs": [
    {
     "name": "stdout",
     "output_type": "stream",
     "text": [
      "📁 Found 740 NDVI cache files\n",
      "✅ Loaded 740 NDVI cache files\n",
      "📊 Mean NDVI range: -0.070 to 0.873\n",
      "✅ Loaded 740 NDVI cache files\n",
      "📊 Mean NDVI range: -0.070 to 0.873\n"
     ]
    }
   ],
   "source": [
    "def load_ndvi_cache_data():\n",
    "    \"\"\"Load cached NDVI data from .npz files\"\"\"\n",
    "    ndvi_data = []\n",
    "    \n",
    "    if not NDVI_CACHE_DIR.exists():\n",
    "        print(\"❌ NDVI cache directory not found.\")\n",
    "        return pd.DataFrame()\n",
    "    \n",
    "    cache_files = list(NDVI_CACHE_DIR.glob(\"*.npz\"))\n",
    "    print(f\"📁 Found {len(cache_files)} NDVI cache files\")\n",
    "    \n",
    "    for cache_file in cache_files:\n",
    "        try:\n",
    "            with np.load(cache_file, allow_pickle=False) as data:\n",
    "                ndvi_array = data['NDVI']\n",
    "                mask = data['mask']\n",
    "                mean_ndvi = float(data['mean'].item())\n",
    "                \n",
    "                # Create masked array and compute statistics\n",
    "                masked_ndvi = np.ma.array(ndvi_array, mask=mask)\n",
    "                \n",
    "                if masked_ndvi.count() > 0:\n",
    "                    ndvi_data.append({\n",
    "                        'cache_file': cache_file.name,\n",
    "                        'mean_ndvi': mean_ndvi,\n",
    "                        'std_ndvi': float(masked_ndvi.std()) if masked_ndvi.count() > 1 else 0,\n",
    "                        'min_ndvi': float(masked_ndvi.min()),\n",
    "                        'max_ndvi': float(masked_ndvi.max()),\n",
    "                        'valid_pixels': int(masked_ndvi.count()),\n",
    "                        'crop_pixels': int(np.sum(masked_ndvi.compressed() >= 0.35)),  # CROP_NDVI_THRESHOLD\n",
    "                    })\n",
    "        except Exception as e:\n",
    "            print(f\"⚠️  Error loading {cache_file.name}: {e}\")\n",
    "    \n",
    "    if ndvi_data:\n",
    "        df = pd.DataFrame(ndvi_data)\n",
    "        print(f\"✅ Loaded {len(df)} NDVI cache files\")\n",
    "        print(f\"📊 Mean NDVI range: {df['mean_ndvi'].min():.3f} to {df['mean_ndvi'].max():.3f}\")\n",
    "        return df\n",
    "    else:\n",
    "        print(\"❌ No valid NDVI cache data found\")\n",
    "        return pd.DataFrame()\n",
    "\n",
    "# Load NDVI cache data\n",
    "ndvi_cache_df = load_ndvi_cache_data()"
   ]
  },
  {
   "cell_type": "code",
   "execution_count": 102,
   "id": "d7174e5e",
   "metadata": {},
   "outputs": [
    {
     "name": "stdout",
     "output_type": "stream",
     "text": [
      "🌡️  Fetching weather data for 2 regions...\n",
      "   🌍 region_2: (42.7059, -113.7456)\n",
      "      ✅ Loaded 1991 weather records\n",
      "   🌍 region_1: (39.0192, -76.8799)\n",
      "      ✅ Loaded 1991 weather records\n",
      "   🌍 region_1: (39.0192, -76.8799)\n",
      "      ✅ Loaded 1991 weather records\n",
      "✅ Combined weather dataset: 3982 records\n",
      "   Date range: 2020-04-20 00:00:00 to 2025-10-01 00:00:00\n",
      "   Regions with weather data: 2\n",
      "   Weather features: ['temperature_mean', 'humidity', 'cloudcover_mean', 'wind_speed_mean', 'clarity_index', 'vapor_pressure_deficit', 'growing_degree_days', 'precipitation']\n",
      "\n",
      "📊 Weather data summary by region:\n",
      "   region_2: 1991 records, temp range -15.0°C to 31.7°C\n",
      "   region_1: 1991 records, temp range -10.7°C to 32.5°C\n",
      "      ✅ Loaded 1991 weather records\n",
      "✅ Combined weather dataset: 3982 records\n",
      "   Date range: 2020-04-20 00:00:00 to 2025-10-01 00:00:00\n",
      "   Regions with weather data: 2\n",
      "   Weather features: ['temperature_mean', 'humidity', 'cloudcover_mean', 'wind_speed_mean', 'clarity_index', 'vapor_pressure_deficit', 'growing_degree_days', 'precipitation']\n",
      "\n",
      "📊 Weather data summary by region:\n",
      "   region_2: 1991 records, temp range -15.0°C to 31.7°C\n",
      "   region_1: 1991 records, temp range -10.7°C to 32.5°C\n"
     ]
    }
   ],
   "source": [
    "# Load weather data for all regions\n",
    "def load_weather_for_all_regions(stac_df):\n",
    "    \"\"\"Load weather data for each region in the dataset\"\"\"\n",
    "    if stac_df.empty:\n",
    "        return pd.DataFrame()\n",
    "    \n",
    "    all_weather_data = []\n",
    "    \n",
    "    # Get unique regions and their coordinates\n",
    "    if 'region_center_lat' in stac_df.columns and 'region_center_lon' in stac_df.columns:\n",
    "        # Multi-region mode\n",
    "        unique_regions = stac_df[['region_id', 'region_center_lat', 'region_center_lon']].drop_duplicates()\n",
    "        \n",
    "        print(f\"🌡️  Fetching weather data for {len(unique_regions)} regions...\")\n",
    "        \n",
    "        start_date = stac_df['datetime'].min().date()\n",
    "        end_date = min(stac_df['datetime'].max().date(), datetime.now().date())\n",
    "        \n",
    "        for _, region in unique_regions.iterrows():\n",
    "            region_id = region['region_id']\n",
    "            lat = region['region_center_lat']\n",
    "            lon = region['region_center_lon']\n",
    "            \n",
    "            print(f\"   🌍 {region_id}: ({lat:.4f}, {lon:.4f})\")\n",
    "            \n",
    "            try:\n",
    "                weather_df = fetch_weather_data_for_period(lat, lon, start_date, end_date)\n",
    "                \n",
    "                if not weather_df.empty:\n",
    "                    weather_df['region_id'] = region_id\n",
    "                    weather_df['region_lat'] = lat\n",
    "                    weather_df['region_lon'] = lon\n",
    "                    all_weather_data.append(weather_df)\n",
    "                    \n",
    "                    print(f\"      ✅ Loaded {len(weather_df)} weather records\")\n",
    "                else:\n",
    "                    print(f\"      ❌ No weather data available\")\n",
    "                    \n",
    "            except Exception as e:\n",
    "                print(f\"      ⚠️  Weather fetch failed: {e}\")\n",
    "    \n",
    "    else:\n",
    "        # Single region fallback\n",
    "        center_lat = (PRIMARY_BBOX[1] + PRIMARY_BBOX[3]) / 2\n",
    "        center_lon = (PRIMARY_BBOX[0] + PRIMARY_BBOX[2]) / 2\n",
    "        \n",
    "        print(f\"🌡️  Fetching weather data for primary region: {center_lat:.4f}, {center_lon:.4f}\")\n",
    "        \n",
    "        start_date = stac_df['datetime'].min().date()\n",
    "        end_date = min(stac_df['datetime'].max().date(), datetime.now().date())\n",
    "        \n",
    "        weather_df = fetch_weather_data_for_period(center_lat, center_lon, start_date, end_date)\n",
    "        \n",
    "        if not weather_df.empty:\n",
    "            weather_df['region_id'] = 'single_region'\n",
    "            weather_df['region_lat'] = center_lat\n",
    "            weather_df['region_lon'] = center_lon\n",
    "            all_weather_data.append(weather_df)\n",
    "    \n",
    "    if all_weather_data:\n",
    "        combined_weather = pd.concat(all_weather_data, ignore_index=True)\n",
    "        \n",
    "        print(f\"✅ Combined weather dataset: {len(combined_weather)} records\")\n",
    "        print(f\"   Date range: {combined_weather['date'].min()} to {combined_weather['date'].max()}\")\n",
    "        print(f\"   Regions with weather data: {combined_weather['region_id'].nunique()}\")\n",
    "        print(f\"   Weather features: {list(combined_weather.columns[~combined_weather.columns.isin(['date', 'region_id', 'region_lat', 'region_lon'])])}\")\n",
    "        \n",
    "        return combined_weather\n",
    "    else:\n",
    "        print(\"❌ No weather data loaded for any region\")\n",
    "        return pd.DataFrame()\n",
    "\n",
    "# Load weather data for all regions\n",
    "weather_df = load_weather_for_all_regions(stac_df)\n",
    "\n",
    "if not weather_df.empty:\n",
    "    # Display weather summary by region\n",
    "    print(f\"\\n📊 Weather data summary by region:\")\n",
    "    for region_id in weather_df['region_id'].unique():\n",
    "        region_weather = weather_df[weather_df['region_id'] == region_id]\n",
    "        print(f\"   {region_id}: {len(region_weather)} records, \"\n",
    "              f\"temp range {region_weather['temperature_mean'].min():.1f}°C to {region_weather['temperature_mean'].max():.1f}°C\")\n",
    "else:\n",
    "    print(\"⚠️  No weather data available - will use synthetic data during preprocessing\")"
   ]
  },
  {
   "cell_type": "markdown",
   "id": "85288800",
   "metadata": {},
   "source": [
    "## Data Preprocessing and Feature Engineering\n",
    "\n",
    "Now we'll combine the NDVI and weather data, handle missing values, and create features for the Prophet model."
   ]
  },
  {
   "cell_type": "code",
   "execution_count": 103,
   "id": "ff0897b6",
   "metadata": {},
   "outputs": [
    {
     "name": "stdout",
     "output_type": "stream",
     "text": [
      "🔄 Processing multi-region STAC data for NDVI time series...\n",
      "📝 Creating synthetic NDVI values for multi-region STAC data...\n",
      "✅ Generated synthetic NDVI for 740 observations across 2 regions\n",
      "\n",
      "🌍 Multi-region NDVI time series prepared:\n",
      "   Total observations: 740\n",
      "   Number of regions: 2\n",
      "   Date range: 2020-04-20 to 2025-10-01\n",
      "   NDVI range: 0.033 to 0.855\n",
      "\n",
      "📊 NDVI statistics by region:\n",
      "   region_1: 241.0 obs, mean=0.461±0.207, range=[0.067, 0.855]\n",
      "   region_2: 499.0 obs, mean=0.504±0.196, range=[0.033, 0.842]\n",
      "\n",
      "📋 Sample multi-region NDVI data:\n",
      "                          datetime  mean_ndvi  crop_fraction region_id\n",
      "0 2020-06-07 16:12:21.944000+00:00   0.711499       0.250901  region_1\n",
      "1 2020-06-09 16:02:30.159000+00:00   0.709464       0.349641  region_1\n",
      "2 2020-06-24 16:02:26.381000+00:00   0.697642       0.747312  region_1\n",
      "3 2020-06-29 16:02:29.019000+00:00   0.662608       0.458102  region_1\n",
      "4 2020-07-14 16:02:25.234000+00:00   0.779889       0.249704  region_1\n",
      "5 2020-07-29 15:45:59.461000+00:00   0.772551       0.561589  region_1\n",
      "6 2020-07-29 16:02:29.575000+00:00   0.622559       0.629181  region_1\n",
      "7 2020-08-26 16:12:23.191000+00:00   0.545916       0.791648  region_1\n",
      "8 2020-09-05 16:12:22.661000+00:00   0.566115       0.376922  region_1\n",
      "9 2020-09-15 16:12:21.628000+00:00   0.596238       0.307074  region_1\n"
     ]
    }
   ],
   "source": [
    "def create_synthetic_ndvi_data():\n",
    "    \"\"\"Create synthetic NDVI data for demonstration if no cache is available\"\"\"\n",
    "    print(\"📝 Creating synthetic NDVI data for demonstration...\")\n",
    "    \n",
    "    # Create 3 years of synthetic data\n",
    "    start_date = datetime(CURRENT_YEAR - 3, 1, 1)\n",
    "    end_date = datetime(CURRENT_YEAR - 1, 12, 31)\n",
    "    \n",
    "    date_range = pd.date_range(start_date, end_date, freq='16D')  # Similar to satellite revisit\n",
    "    \n",
    "    synthetic_data = []\n",
    "    for date in date_range:\n",
    "        # Create seasonal NDVI pattern with some noise\n",
    "        day_of_year = date.timetuple().tm_yday\n",
    "        \n",
    "        # Base seasonal pattern (higher in summer, lower in winter)\n",
    "        seasonal = 0.4 + 0.3 * np.sin(2 * np.pi * (day_of_year - 90) / 365)\n",
    "        \n",
    "        # Add some randomness\n",
    "        noise = np.random.normal(0, 0.05)\n",
    "        \n",
    "        # Add weather influence (synthetic)\n",
    "        temp_effect = np.random.normal(0, 0.02)\n",
    "        \n",
    "        ndvi = np.clip(seasonal + noise + temp_effect, 0, 1)\n",
    "        \n",
    "        synthetic_data.append({\n",
    "            'datetime': date,\n",
    "            'mean_ndvi': ndvi,\n",
    "            'std_ndvi': np.random.uniform(0.02, 0.08),\n",
    "            'valid_pixels': np.random.randint(8000, 12000),\n",
    "            'crop_pixels': int(np.random.uniform(0.3, 0.8) * np.random.randint(8000, 12000)),\n",
    "            'region_id': 'synthetic_region'\n",
    "        })\n",
    "    \n",
    "    return pd.DataFrame(synthetic_data)\n",
    "\n",
    "# Prepare NDVI time series - now multi-region aware\n",
    "if not stac_df.empty:\n",
    "    print(\"🔄 Processing multi-region STAC data for NDVI time series...\")\n",
    "    \n",
    "    # Check if we have actual NDVI values or need to create them\n",
    "    if 'mean_ndvi' in stac_df.columns:\n",
    "        # Use existing NDVI data\n",
    "        ndvi_ts = stac_df[['datetime', 'mean_ndvi', 'region_id']].copy()\n",
    "        \n",
    "        # Add crop fraction if not available\n",
    "        if 'crop_fraction' not in ndvi_ts.columns:\n",
    "            ndvi_ts['crop_fraction'] = np.random.uniform(0.2, 0.8, len(ndvi_ts))\n",
    "            \n",
    "        print(f\"✅ Using cached NDVI data: {len(ndvi_ts)} observations across {ndvi_ts['region_id'].nunique()} regions\")\n",
    "        \n",
    "    else:\n",
    "        # Create synthetic NDVI values distributed across real timestamps and regions\n",
    "        print(\"📝 Creating synthetic NDVI values for multi-region STAC data...\")\n",
    "        \n",
    "        ndvi_ts = stac_df.copy()\n",
    "        \n",
    "        # Generate region-specific NDVI patterns\n",
    "        for region_id in ndvi_ts['region_id'].unique():\n",
    "            region_mask = ndvi_ts['region_id'] == region_id\n",
    "            region_dates = ndvi_ts.loc[region_mask, 'datetime']\n",
    "            \n",
    "            # Create slightly different seasonal patterns per region\n",
    "            region_ndvi = []\n",
    "            for date in region_dates:\n",
    "                day_of_year = date.timetuple().tm_yday\n",
    "                \n",
    "                # Base seasonal pattern with region variation\n",
    "                region_offset = hash(region_id) % 100 / 1000  # Small region-specific offset\n",
    "                seasonal = 0.4 + region_offset + 0.3 * np.sin(2 * np.pi * (day_of_year - 90) / 365)\n",
    "                \n",
    "                # Add noise\n",
    "                noise = np.random.normal(0, 0.05)\n",
    "                \n",
    "                ndvi = np.clip(seasonal + noise, 0, 1)\n",
    "                region_ndvi.append(ndvi)\n",
    "            \n",
    "            ndvi_ts.loc[region_mask, 'mean_ndvi'] = region_ndvi\n",
    "        \n",
    "        # Add crop fraction\n",
    "        ndvi_ts['crop_fraction'] = np.random.uniform(0.2, 0.8, len(ndvi_ts))\n",
    "        \n",
    "        # Keep only relevant columns\n",
    "        ndvi_ts = ndvi_ts[['datetime', 'mean_ndvi', 'crop_fraction', 'region_id']].copy()\n",
    "        \n",
    "        print(f\"✅ Generated synthetic NDVI for {len(ndvi_ts)} observations across {ndvi_ts['region_id'].nunique()} regions\")\n",
    "        \n",
    "else:\n",
    "    print(\"⚠️  No STAC data available, creating fully synthetic multi-region dataset...\")\n",
    "    \n",
    "    # Create synthetic data for multiple mock regions\n",
    "    all_synthetic = []\n",
    "    mock_regions = ['region_1', 'region_2', 'region_3']\n",
    "    \n",
    "    for region_id in mock_regions:\n",
    "        region_data = create_synthetic_ndvi_data()\n",
    "        region_data['region_id'] = region_id\n",
    "        all_synthetic.append(region_data)\n",
    "    \n",
    "    ndvi_ts = pd.concat(all_synthetic, ignore_index=True)\n",
    "    ndvi_ts['crop_fraction'] = ndvi_ts['crop_pixels'] / ndvi_ts['valid_pixels']\n",
    "\n",
    "# Ensure datetime column and sort\n",
    "ndvi_ts['datetime'] = pd.to_datetime(ndvi_ts['datetime'])\n",
    "ndvi_ts = ndvi_ts.sort_values(['region_id', 'datetime']).reset_index(drop=True)\n",
    "\n",
    "print(f\"\\n🌍 Multi-region NDVI time series prepared:\")\n",
    "print(f\"   Total observations: {len(ndvi_ts)}\")\n",
    "print(f\"   Number of regions: {ndvi_ts['region_id'].nunique()}\")\n",
    "print(f\"   Date range: {ndvi_ts['datetime'].min().date()} to {ndvi_ts['datetime'].max().date()}\")\n",
    "print(f\"   NDVI range: {ndvi_ts['mean_ndvi'].min():.3f} to {ndvi_ts['mean_ndvi'].max():.3f}\")\n",
    "\n",
    "# Display per-region statistics\n",
    "print(f\"\\n📊 NDVI statistics by region:\")\n",
    "region_stats = ndvi_ts.groupby('region_id')['mean_ndvi'].agg(['count', 'mean', 'std', 'min', 'max']).round(3)\n",
    "for region_id, stats in region_stats.iterrows():\n",
    "    print(f\"   {region_id}: {stats['count']} obs, mean={stats['mean']:.3f}±{stats['std']:.3f}, range=[{stats['min']:.3f}, {stats['max']:.3f}]\")\n",
    "\n",
    "# Display sample data\n",
    "print(f\"\\n📋 Sample multi-region NDVI data:\")\n",
    "print(ndvi_ts.head(10))"
   ]
  },
  {
   "cell_type": "code",
   "execution_count": 104,
   "id": "452d5e11",
   "metadata": {},
   "outputs": [
    {
     "name": "stdout",
     "output_type": "stream",
     "text": [
      "🔄 Merging multi-region NDVI with weather data...\n",
      "✅ Merged multi-region dataset: 740 rows across 2 regions\n",
      "\n",
      "📊 Merged dataset statistics by region:\n",
      "   region_1: 241 records, temp 14.0±9.6°C, NDVI 0.461±0.207\n",
      "   region_2: 499 records, temp 15.9±10.1°C, NDVI 0.504±0.196\n",
      "\n",
      "🔧 Multi-region feature engineering complete:\n",
      "   Total rows after cleaning: 736\n",
      "   Regions: 2\n",
      "   Features available: ['datetime', 'mean_ndvi', 'crop_fraction', 'region_id', 'date', 'temperature_mean', 'humidity', 'cloudcover_mean', 'wind_speed_mean', 'clarity_index', 'vapor_pressure_deficit', 'growing_degree_days', 'precipitation', 'region_lat', 'region_lon', 'month', 'day_of_year', 'season', 'temp_anomaly', 'cumulative_gdd', 'ndvi_lag_1', 'ndvi_lag_2', 'temp_lag_1', 'region_numeric']\n",
      "\n",
      "🔍 Feature correlations with NDVI by region:\n",
      "\n",
      "   region_1 (239 observations):\n",
      "     temperature_mean: 0.846\n",
      "     humidity: 0.053\n",
      "     growing_degree_days: 0.829\n",
      "     vapor_pressure_deficit: 0.815\n",
      "     precipitation: 0.087\n",
      "\n",
      "   region_2 (497 observations):\n",
      "     temperature_mean: 0.840\n",
      "     humidity: -0.787\n",
      "     growing_degree_days: 0.759\n",
      "     vapor_pressure_deficit: 0.778\n",
      "     precipitation: -0.004\n",
      "\n",
      "   Overall (all regions combined):\n",
      "     temperature_mean: 0.842\n",
      "     humidity: -0.540\n",
      "     growing_degree_days: 0.785\n",
      "     vapor_pressure_deficit: 0.714\n",
      "     precipitation: 0.026\n",
      "\n",
      "🌍 Multi-region dataset ready for Prophet training!\n"
     ]
    }
   ],
   "source": [
    "# Merge multi-region NDVI with weather data\n",
    "if not weather_df.empty:\n",
    "    print(\"🔄 Merging multi-region NDVI with weather data...\")\n",
    "    \n",
    "    # Convert to date for merging\n",
    "    ndvi_ts['date'] = ndvi_ts['datetime'].dt.date\n",
    "    weather_df['date'] = pd.to_datetime(weather_df['date']).dt.date\n",
    "    \n",
    "    # Merge on both date and region_id\n",
    "    merged_df = pd.merge(\n",
    "        ndvi_ts, \n",
    "        weather_df, \n",
    "        on=['date', 'region_id'], \n",
    "        how='left'\n",
    "    )\n",
    "    \n",
    "    # Fill missing weather data with interpolation within each region\n",
    "    weather_cols = ['temperature_mean', 'humidity', 'precipitation', 'growing_degree_days', 'vapor_pressure_deficit']\n",
    "    \n",
    "    for region_id in merged_df['region_id'].unique():\n",
    "        region_mask = merged_df['region_id'] == region_id\n",
    "        \n",
    "        for col in weather_cols:\n",
    "            if col in merged_df.columns:\n",
    "                # Interpolate within region, then fill with region median\n",
    "                region_data = merged_df.loc[region_mask, col]\n",
    "                merged_df.loc[region_mask, col] = (\n",
    "                    region_data.interpolate(method='linear')\n",
    "                    .fillna(region_data.median())\n",
    "                    .fillna(merged_df[col].median())  # Global fallback\n",
    "                )\n",
    "    \n",
    "    print(f\"✅ Merged multi-region dataset: {len(merged_df)} rows across {merged_df['region_id'].nunique()} regions\")\n",
    "    \n",
    "    # Display merge statistics\n",
    "    merge_stats = merged_df.groupby('region_id').agg({\n",
    "        'datetime': 'count',\n",
    "        'temperature_mean': ['mean', 'std'],\n",
    "        'mean_ndvi': ['mean', 'std']\n",
    "    }).round(3)\n",
    "    \n",
    "    print(f\"\\n📊 Merged dataset statistics by region:\")\n",
    "    for region_id in merged_df['region_id'].unique():\n",
    "        region_data = merged_df[merged_df['region_id'] == region_id]\n",
    "        print(f\"   {region_id}: {len(region_data)} records, \"\n",
    "              f\"temp {region_data['temperature_mean'].mean():.1f}±{region_data['temperature_mean'].std():.1f}°C, \"\n",
    "              f\"NDVI {region_data['mean_ndvi'].mean():.3f}±{region_data['mean_ndvi'].std():.3f}\")\n",
    "    \n",
    "else:\n",
    "    print(\"⚠️  No weather data available, creating synthetic weather features for all regions...\")\n",
    "    merged_df = ndvi_ts.copy()\n",
    "    merged_df['date'] = merged_df['datetime'].dt.date\n",
    "    \n",
    "    # Create region-specific synthetic weather features\n",
    "    np.random.seed(42)  # For reproducibility\n",
    "    \n",
    "    for region_id in merged_df['region_id'].unique():\n",
    "        region_mask = merged_df['region_id'] == region_id\n",
    "        region_data = merged_df[region_mask].copy()\n",
    "        \n",
    "        # Create region-specific climate patterns\n",
    "        region_temp_offset = (hash(region_id) % 20 - 10) * 0.5  # ±5°C regional variation\n",
    "        region_humidity_offset = (hash(region_id) % 30 - 15)     # ±15% humidity variation\n",
    "        \n",
    "        # Generate weather with regional characteristics\n",
    "        merged_df.loc[region_mask, 'temperature_mean'] = (\n",
    "            15 + region_temp_offset + \n",
    "            10 * np.sin(2 * np.pi * region_data['datetime'].dt.dayofyear / 365) + \n",
    "            np.random.normal(0, 2, len(region_data))\n",
    "        )\n",
    "        \n",
    "        merged_df.loc[region_mask, 'humidity'] = (\n",
    "            60 + region_humidity_offset + \n",
    "            20 * np.sin(2 * np.pi * (region_data['datetime'].dt.dayofyear - 180) / 365) + \n",
    "            np.random.normal(0, 5, len(region_data))\n",
    "        )\n",
    "        \n",
    "        merged_df.loc[region_mask, 'precipitation'] = np.maximum(\n",
    "            0, np.random.exponential(2, len(region_data))\n",
    "        )\n",
    "        \n",
    "        merged_df.loc[region_mask, 'growing_degree_days'] = np.maximum(\n",
    "            0, merged_df.loc[region_mask, 'temperature_mean'] - 10\n",
    "        )\n",
    "        \n",
    "        merged_df.loc[region_mask, 'vapor_pressure_deficit'] = calculate_vpd(\n",
    "            merged_df.loc[region_mask, 'temperature_mean'], \n",
    "            merged_df.loc[region_mask, 'humidity']\n",
    "        )\n",
    "    \n",
    "    print(f\"✅ Created synthetic weather for {merged_df['region_id'].nunique()} regions\")\n",
    "\n",
    "# Feature engineering - now region-aware\n",
    "merged_df['month'] = merged_df['datetime'].dt.month\n",
    "merged_df['day_of_year'] = merged_df['datetime'].dt.dayofyear\n",
    "merged_df['season'] = merged_df['month'].apply(\n",
    "    lambda x: 'Spring' if x in [3,4,5] else \n",
    "              'Summer' if x in [6,7,8] else \n",
    "              'Fall' if x in [9,10,11] else \n",
    "              'Winter'\n",
    ")\n",
    "\n",
    "# Temperature anomalies calculated within each region\n",
    "merged_df['temp_anomaly'] = (\n",
    "    merged_df['temperature_mean'] - \n",
    "    merged_df.groupby(['region_id', 'month'])['temperature_mean'].transform('mean')\n",
    ")\n",
    "\n",
    "# Cumulative GDD per region per year\n",
    "merged_df['cumulative_gdd'] = merged_df.groupby(['region_id', merged_df['datetime'].dt.year])['growing_degree_days'].cumsum()\n",
    "\n",
    "# Lag features within each region\n",
    "for region_id in merged_df['region_id'].unique():\n",
    "    region_mask = merged_df['region_id'] == region_id\n",
    "    region_data = merged_df[region_mask].sort_values('datetime')\n",
    "    \n",
    "    merged_df.loc[region_mask, 'ndvi_lag_1'] = region_data['mean_ndvi'].shift(1)\n",
    "    merged_df.loc[region_mask, 'ndvi_lag_2'] = region_data['mean_ndvi'].shift(2)\n",
    "    merged_df.loc[region_mask, 'temp_lag_1'] = region_data['temperature_mean'].shift(1)\n",
    "\n",
    "# Add region-specific features\n",
    "merged_df['region_numeric'] = pd.Categorical(merged_df['region_id']).codes\n",
    "\n",
    "# Remove rows with NaN values from lag features\n",
    "modeling_df = merged_df.dropna().reset_index(drop=True)\n",
    "\n",
    "print(f\"\\n🔧 Multi-region feature engineering complete:\")\n",
    "print(f\"   Total rows after cleaning: {len(modeling_df)}\")\n",
    "print(f\"   Regions: {modeling_df['region_id'].nunique()}\")\n",
    "print(f\"   Features available: {list(modeling_df.columns)}\")\n",
    "\n",
    "# Display correlation with NDVI by region\n",
    "weather_features = ['temperature_mean', 'humidity', 'growing_degree_days', 'vapor_pressure_deficit', 'precipitation']\n",
    "available_features = [col for col in weather_features if col in modeling_df.columns]\n",
    "\n",
    "if available_features:\n",
    "    print(f\"\\n🔍 Feature correlations with NDVI by region:\")\n",
    "    \n",
    "    for region_id in modeling_df['region_id'].unique():\n",
    "        region_data = modeling_df[modeling_df['region_id'] == region_id]\n",
    "        if len(region_data) > 1:\n",
    "            correlations = region_data[available_features + ['mean_ndvi']].corr()['mean_ndvi'].drop('mean_ndvi')\n",
    "            print(f\"\\n   {region_id} ({len(region_data)} observations):\")\n",
    "            for feature, corr in correlations.items():\n",
    "                print(f\"     {feature}: {corr:.3f}\")\n",
    "\n",
    "    # Overall correlations across all regions\n",
    "    print(f\"\\n   Overall (all regions combined):\")\n",
    "    overall_correlations = modeling_df[available_features + ['mean_ndvi']].corr()['mean_ndvi'].drop('mean_ndvi')\n",
    "    for feature, corr in overall_correlations.items():\n",
    "        print(f\"     {feature}: {corr:.3f}\")\n",
    "\n",
    "print(f\"\\n🌍 Multi-region dataset ready for Prophet training!\")"
   ]
  },
  {
   "cell_type": "markdown",
   "id": "dc75fe24",
   "metadata": {},
   "source": [
    "## Prepare Data for Prophet Model\n",
    "\n",
    "Format the data according to Prophet's requirements (ds, y columns) and prepare additional regressors."
   ]
  },
  {
   "cell_type": "code",
   "execution_count": 105,
   "id": "94d64307",
   "metadata": {},
   "outputs": [
    {
     "name": "stdout",
     "output_type": "stream",
     "text": [
      "📊 Multi-region Prophet dataset prepared:\n",
      "   Total observations: 736\n",
      "   Total regions: 2\n",
      "   Training set: 643 observations (2020-05-08 to 2025-03-30)\n",
      "   Validation set: 93 observations (2025-04-05 to 2025-10-01)\n",
      "\n",
      "📊 Region distribution:\n",
      "   Training regions: {'region_2': np.int64(422), 'region_1': np.int64(221)}\n",
      "   Validation regions: {'region_2': np.int64(75), 'region_1': np.int64(18)}\n",
      "\n",
      "   Available regressors: ['temperature_mean', 'humidity', 'growing_degree_days', 'vapor_pressure_deficit', 'precipitation', 'region_numeric', 'is_northern_region']\n",
      "\n",
      "📋 Training data summary by region:\n",
      "\n",
      "   region_1 (221 observations):\n",
      "     NDVI: mean=0.446, std=0.206\n",
      "     Temp: mean=13.2°C, std=9.5°C\n",
      "\n",
      "   region_2 (422 observations):\n",
      "     NDVI: mean=0.486, std=0.202\n",
      "     Temp: mean=15.2°C, std=10.5°C\n",
      "\n",
      "🌍 Multi-region dataset ready for Prophet model training!\n"
     ]
    }
   ],
   "source": [
    "# Prepare Prophet dataset - now with multi-region support\n",
    "prophet_df = modeling_df[['datetime', 'mean_ndvi', 'region_id']].copy()\n",
    "prophet_df.columns = ['ds', 'y', 'region_id']  # Prophet requires 'ds' and 'y' columns\n",
    "\n",
    "# Remove timezone from ds column (Prophet doesn't support timezones)\n",
    "prophet_df['ds'] = prophet_df['ds'].dt.tz_localize(None)\n",
    "\n",
    "# Add regressors (weather variables)\n",
    "regressors = ['temperature_mean', 'humidity', 'growing_degree_days', 'vapor_pressure_deficit', 'precipitation']\n",
    "available_regressors = [col for col in regressors if col in modeling_df.columns]\n",
    "\n",
    "for regressor in available_regressors:\n",
    "    prophet_df[regressor] = modeling_df[regressor]\n",
    "\n",
    "# Add region as a categorical regressor\n",
    "prophet_df['region_numeric'] = modeling_df['region_numeric']\n",
    "\n",
    "# Add region-specific seasonal indicators\n",
    "prophet_df['is_northern_region'] = (\n",
    "    modeling_df['region_id'].str.contains('north', case=False, na=False) |\n",
    "    (modeling_df.get('region_center_lat', 0) > 40)  # Latitude-based if available\n",
    ").astype(int)\n",
    "\n",
    "# Split data for training and validation - maintain region distribution\n",
    "split_date = prophet_df['ds'].max() - pd.DateOffset(months=6)\n",
    "\n",
    "# Stratified split to ensure all regions are represented in both sets\n",
    "train_df = prophet_df[prophet_df['ds'] <= split_date].copy()\n",
    "val_df = prophet_df[prophet_df['ds'] > split_date].copy()\n",
    "\n",
    "# Ensure we have data from all regions in training set\n",
    "train_regions = set(train_df['region_id'].unique())\n",
    "all_regions = set(prophet_df['region_id'].unique())\n",
    "\n",
    "if len(train_regions) < len(all_regions):\n",
    "    print(\"⚠️  Some regions missing from training set, adjusting split...\")\n",
    "    # Include at least some data from each region in training\n",
    "    min_train_samples = 5  # Minimum samples per region for training\n",
    "    \n",
    "    adjusted_train_data = []\n",
    "    adjusted_val_data = []\n",
    "    \n",
    "    for region_id in all_regions:\n",
    "        region_data = prophet_df[prophet_df['region_id'] == region_id].sort_values('ds')\n",
    "        \n",
    "        if len(region_data) > min_train_samples:\n",
    "            # Split this region's data\n",
    "            region_split_idx = max(min_train_samples, len(region_data) - len(region_data) // 4)\n",
    "            adjusted_train_data.append(region_data.iloc[:region_split_idx])\n",
    "            if region_split_idx < len(region_data):\n",
    "                adjusted_val_data.append(region_data.iloc[region_split_idx:])\n",
    "        else:\n",
    "            # Too few samples, put all in training\n",
    "            adjusted_train_data.append(region_data)\n",
    "    \n",
    "    train_df = pd.concat(adjusted_train_data, ignore_index=True)\n",
    "    if adjusted_val_data:\n",
    "        val_df = pd.concat(adjusted_val_data, ignore_index=True)\n",
    "    else:\n",
    "        val_df = pd.DataFrame(columns=prophet_df.columns)\n",
    "\n",
    "print(f\"📊 Multi-region Prophet dataset prepared:\")\n",
    "print(f\"   Total observations: {len(prophet_df)}\")\n",
    "print(f\"   Total regions: {prophet_df['region_id'].nunique()}\")\n",
    "print(f\"   Training set: {len(train_df)} observations ({train_df['ds'].min().date()} to {train_df['ds'].max().date()})\")\n",
    "print(f\"   Validation set: {len(val_df)} observations ({val_df['ds'].min().date() if not val_df.empty else 'None'} to {val_df['ds'].max().date() if not val_df.empty else 'None'})\")\n",
    "\n",
    "# Display region distribution\n",
    "print(f\"\\n📊 Region distribution:\")\n",
    "train_region_counts = train_df['region_id'].value_counts()\n",
    "val_region_counts = val_df['region_id'].value_counts() if not val_df.empty else pd.Series()\n",
    "\n",
    "print(f\"   Training regions: {dict(train_region_counts)}\")\n",
    "if not val_region_counts.empty:\n",
    "    print(f\"   Validation regions: {dict(val_region_counts)}\")\n",
    "\n",
    "print(f\"\\n   Available regressors: {available_regressors + ['region_numeric', 'is_northern_region']}\")\n",
    "\n",
    "# Display training data statistics by region\n",
    "print(f\"\\n📋 Training data summary by region:\")\n",
    "for region_id in train_df['region_id'].unique():\n",
    "    region_data = train_df[train_df['region_id'] == region_id]\n",
    "    print(f\"\\n   {region_id} ({len(region_data)} observations):\")\n",
    "    region_summary = region_data[['y'] + available_regressors].describe().round(3)\n",
    "    print(f\"     NDVI: mean={region_summary.loc['mean', 'y']:.3f}, std={region_summary.loc['std', 'y']:.3f}\")\n",
    "    if 'temperature_mean' in available_regressors:\n",
    "        print(f\"     Temp: mean={region_summary.loc['mean', 'temperature_mean']:.1f}°C, std={region_summary.loc['std', 'temperature_mean']:.1f}°C\")\n",
    "\n",
    "print(f\"\\n🌍 Multi-region dataset ready for Prophet model training!\")"
   ]
  },
  {
   "cell_type": "markdown",
   "id": "a68a0c08",
   "metadata": {},
   "source": [
    "## Train Prophet Model with Weather Regressors\n",
    "\n",
    "Initialize the Prophet model with appropriate parameters and fit it to the historical data."
   ]
  },
  {
   "cell_type": "code",
   "execution_count": 111,
   "id": "95a03d0e",
   "metadata": {},
   "outputs": [
    {
     "name": "stdout",
     "output_type": "stream",
     "text": [
      "🔄 Reinitializing Prophet model for coefficient analysis...\n",
      "📊 Adding regressors to fresh model...\n",
      "   Added regressor: temperature_mean\n",
      "   Added regressor: humidity\n",
      "   Added regressor: growing_degree_days\n",
      "   Added regressor: vapor_pressure_deficit\n",
      "   Added regressor: precipitation\n",
      "   Added regressor: region_numeric\n",
      "   Added regressor: is_northern_region\n",
      "✅ Fresh Prophet model initialized with 7 regressors\n"
     ]
    }
   ],
   "source": [
    "# Initialize a fresh Prophet model to properly view regressor coefficients\n",
    "print(\"🔄 Reinitializing Prophet model for coefficient analysis...\")\n",
    "\n",
    "# Create a new Prophet model instance\n",
    "model = Prophet(\n",
    "    yearly_seasonality=True,\n",
    "    weekly_seasonality=False,\n",
    "    daily_seasonality=False,\n",
    "    changepoint_prior_scale=0.05,\n",
    "    seasonality_prior_scale=10.0,\n",
    "    n_changepoints=25\n",
    ")\n",
    "\n",
    "# Add regressors\n",
    "print(\"📊 Adding regressors to fresh model...\")\n",
    "all_regressors = available_regressors + ['region_numeric', 'is_northern_region']\n",
    "for regressor in all_regressors:\n",
    "    model.add_regressor(regressor, prior_scale=10.0, standardize=True)\n",
    "    print(f\"   Added regressor: {regressor}\")\n",
    "\n",
    "print(f\"✅ Fresh Prophet model initialized with {len(all_regressors)} regressors\")"
   ]
  },
  {
   "cell_type": "code",
   "execution_count": 112,
   "id": "9f063fad",
   "metadata": {},
   "outputs": [
    {
     "name": "stderr",
     "output_type": "stream",
     "text": [
      "13:35:07 - cmdstanpy - INFO - Chain [1] start processing\n",
      "13:35:07 - cmdstanpy - INFO - Chain [1] done processing\n"
     ]
    },
    {
     "name": "stdout",
     "output_type": "stream",
     "text": [
      "🔧 Training fresh model with all regressors...\n",
      "✅ Fresh model training completed!\n",
      "\n",
      "📊 Complete Regressor Coefficients:\n",
      "   Beta array shape: (1, 27)\n",
      "   Number of regressors: 7\n",
      "     temperature_mean         :   0.0103 ± 0.0000\n",
      "     humidity                 :  -0.3525 ± 0.0000\n",
      "     growing_degree_days      :  -0.0058 ± 0.0000\n",
      "     vapor_pressure_deficit   :  -0.0026 ± 0.0000\n",
      "     precipitation            :  -0.0068 ± 0.0000\n",
      "     region_numeric           :   0.0031 ± 0.0000\n",
      "     is_northern_region       :  -0.0010 ± 0.0000\n",
      "\n",
      "🎯 Coefficient Analysis:\n",
      "   Regressors by importance (absolute coefficient):\n",
      "     humidity                 : 0.3525\n",
      "     temperature_mean         : 0.0103\n",
      "     precipitation            : 0.0068\n",
      "     growing_degree_days      : 0.0058\n",
      "     region_numeric           : 0.0031\n",
      "     vapor_pressure_deficit   : 0.0026\n",
      "     is_northern_region       : 0.0010\n"
     ]
    }
   ],
   "source": [
    "# Train the fresh model and display ALL regressor coefficients\n",
    "print(\"🔧 Training fresh model with all regressors...\")\n",
    "\n",
    "try:\n",
    "    model.fit(train_df)\n",
    "    print(\"✅ Fresh model training completed!\")\n",
    "    \n",
    "    # Display ALL regressor coefficients properly\n",
    "    if hasattr(model, 'params') and 'beta' in model.params:\n",
    "        print(f\"\\n📊 Complete Regressor Coefficients:\")\n",
    "        \n",
    "        beta_values = model.params['beta']\n",
    "        print(f\"   Beta array shape: {beta_values.shape}\")\n",
    "        print(f\"   Number of regressors: {len(all_regressors)}\")\n",
    "        \n",
    "        # Display each regressor coefficient\n",
    "        for i, regressor in enumerate(all_regressors):\n",
    "            if i < beta_values.shape[1]:\n",
    "                # Extract coefficient for this regressor\n",
    "                coeff_samples = beta_values[:, i]\n",
    "                mean_coeff = coeff_samples.mean()\n",
    "                std_coeff = coeff_samples.std()\n",
    "                \n",
    "                print(f\"     {regressor:25}: {mean_coeff:8.4f} ± {std_coeff:6.4f}\")\n",
    "            else:\n",
    "                print(f\"     {regressor:25}: Index out of range\")\n",
    "        \n",
    "        print(f\"\\n🎯 Coefficient Analysis:\")\n",
    "        \n",
    "        # Sort regressors by absolute coefficient magnitude\n",
    "        regressor_coeffs = []\n",
    "        for i, regressor in enumerate(all_regressors):\n",
    "            if i < beta_values.shape[1]:\n",
    "                coeff = abs(beta_values[:, i].mean())\n",
    "                regressor_coeffs.append((regressor, coeff))\n",
    "        \n",
    "        regressor_coeffs.sort(key=lambda x: x[1], reverse=True)\n",
    "        \n",
    "        print(\"   Regressors by importance (absolute coefficient):\")\n",
    "        for regressor, coeff in regressor_coeffs:\n",
    "            print(f\"     {regressor:25}: {coeff:.4f}\")\n",
    "            \n",
    "    else:\n",
    "        print(\"❌ No beta coefficients found in model parameters\")\n",
    "        \n",
    "except Exception as e:\n",
    "    print(f\"❌ Fresh model training failed: {e}\")\n",
    "    import traceback\n",
    "    traceback.print_exc()"
   ]
  },
  {
   "cell_type": "markdown",
   "id": "9649786b",
   "metadata": {},
   "source": [
    "## Generate Future Predictions\n",
    "\n",
    "Create future dataframe and generate NDVI predictions for the current year."
   ]
  },
  {
   "cell_type": "code",
   "execution_count": 143,
   "id": "a02af7fb",
   "metadata": {},
   "outputs": [
    {
     "name": "stdout",
     "output_type": "stream",
     "text": [
      "📅 Creating predictions from current time: 2025-10-04 14:13:46\n",
      "   Prediction period: 3 months ahead\n",
      "   Prediction dates: 24 dates from 2025-01-01 to 2026-01-04\n",
      "🌡️  Getting weather data for prediction period...\n",
      "   Prediction spans past and future, combining historical + forecast...\n",
      "   Fetching forecast from https://api.open-meteo.com/v1/forecast\n",
      "   Coordinates: (39.0192, -76.8799)\n",
      "   Date range: 2025-10-05 to 2025-10-19 (limited to 15 days)\n",
      "   ✅ Retrieved forecast for 15 days\n",
      "   ⚠️  77 days beyond forecast limit, will use climatology for remainder\n",
      "🔮 Generating predictions with model...\n",
      "   Using region_numeric: 0\n",
      "   Using is_northern_region: 0\n",
      "   Available regressors: ['ds', 'date', 'temperature_mean', 'humidity', 'cloudcover_mean', 'wind_speed_mean', 'clarity_index', 'vapor_pressure_deficit', 'growing_degree_days', 'precipitation', 'region_numeric', 'is_northern_region', 'is_growing_season']\n",
      "✅ Predictions generated for 24 future dates\n",
      "📊 Predicted NDVI range: 0.164 to 0.762\n",
      "\n",
      "📋 Sample future predictions:\n",
      "   2025-01-01: 0.164 (±0.064)\n",
      "   2025-01-17: 0.186 (±0.057)\n",
      "   2025-02-02: 0.214 (±0.062)\n",
      "   2025-02-18: 0.264 (±0.059)\n",
      "   2025-03-06: 0.353 (±0.058)\n",
      "   2025-03-22: 0.427 (±0.057)\n"
     ]
    }
   ],
   "source": [
    "if model is not None:\n",
    "    # Create future dataframe starting from current timestamp\n",
    "    current_time = datetime.now()\n",
    "    prediction_start = datetime(current_time.year, 1, 1)\n",
    "    prediction_end = current_time + pd.DateOffset(months=3)\n",
    "    prediction_year = prediction_end.year\n",
    "    \n",
    "    # Create future dates (every 16 days to match satellite revisit cycle)\n",
    "    future_dates = pd.date_range(\n",
    "        start=prediction_start,\n",
    "        end=prediction_end,\n",
    "        freq='16D'\n",
    "    )\n",
    "    \n",
    "    print(f\"📅 Creating predictions from current time: {current_time.strftime('%Y-%m-%d %H:%M:%S')}\")\n",
    "    print(f\"   Prediction period: 3 months ahead\")\n",
    "    print(f\"   Prediction dates: {len(future_dates)} dates from {future_dates[0].date()} to {future_dates[-1].date()}\")\n",
    "    \n",
    "    # Get weather forecasts/climatology for prediction period\n",
    "    print(\"🌡️  Getting weather data for prediction period...\")\n",
    "    \n",
    "    # Use the primary region's center coordinates for weather data\n",
    "    primary_center_lat = (PRIMARY_BBOX[1] + PRIMARY_BBOX[3]) / 2\n",
    "    primary_center_lon = (PRIMARY_BBOX[0] + PRIMARY_BBOX[2]) / 2\n",
    "    \n",
    "    # Use appropriate API based on date range\n",
    "    today = datetime.now().date()\n",
    "    current_weather = pd.DataFrame()\n",
    "    \n",
    "    if prediction_start.date() > today:\n",
    "        # Future dates: Use forecast API\n",
    "        print(\"   Prediction starts in future, using weather forecast API...\")\n",
    "        current_weather = fetch_weather_forecast_data(\n",
    "            primary_center_lat, primary_center_lon, \n",
    "            prediction_start.date(), \n",
    "            prediction_end.date()\n",
    "        )\n",
    "    else:\n",
    "        # Mixed dates: Get historical data and forecast data separately\n",
    "        if prediction_end.date() > today:\n",
    "            print(\"   Prediction spans past and future, combining historical + forecast...\")\n",
    "            \n",
    "            # Get historical data up to today\n",
    "            historical_weather = fetch_weather_data_for_period(\n",
    "                primary_center_lat, primary_center_lon, \n",
    "                prediction_start.date(), \n",
    "                today\n",
    "            )\n",
    "            \n",
    "            # Get forecast data from tomorrow onwards\n",
    "            future_start = today + pd.DateOffset(days=1)\n",
    "            forecast_weather = fetch_weather_forecast_data(\n",
    "                primary_center_lat, primary_center_lon, \n",
    "                future_start.date(), \n",
    "                prediction_end.date()\n",
    "            )\n",
    "            \n",
    "            # Combine historical and forecast data\n",
    "            if not historical_weather.empty and not forecast_weather.empty:\n",
    "                current_weather = pd.concat([historical_weather, forecast_weather], ignore_index=True)\n",
    "            elif not historical_weather.empty:\n",
    "                current_weather = historical_weather\n",
    "            elif not forecast_weather.empty:\n",
    "                current_weather = forecast_weather\n",
    "        else:\n",
    "            # Only historical dates: Use archive API\n",
    "            print(\"   Using historical weather data...\")\n",
    "            current_weather = fetch_weather_data_for_period(\n",
    "                primary_center_lat, primary_center_lon, \n",
    "                prediction_start.date(), \n",
    "                prediction_end.date()\n",
    "            )\n",
    "    \n",
    "    if current_weather.empty:\n",
    "        print(\"⚠️  No weather data available for prediction period, using climatology...\")\n",
    "        # Create climatological weather data based on historical means\n",
    "        current_weather_list = []\n",
    "        for date in future_dates:\n",
    "            # Use day of year to create climatological values\n",
    "            doy = date.timetuple().tm_yday\n",
    "            \n",
    "            # Seasonal patterns\n",
    "            temp = 15 + 10 * np.sin(2 * np.pi * (doy - 90) / 365)\n",
    "            humidity = 60 + 20 * np.sin(2 * np.pi * (doy - 180) / 365)\n",
    "            \n",
    "            current_weather_list.append({\n",
    "                'date': date,\n",
    "                'temperature_mean': temp,\n",
    "                'humidity': humidity,\n",
    "                'precipitation': 1.0,  # Climatological average\n",
    "                'growing_degree_days': max(0, temp - 10),\n",
    "                'vapor_pressure_deficit': calculate_vpd(temp, humidity)\n",
    "            })\n",
    "        \n",
    "        current_weather = pd.DataFrame(current_weather_list)\n",
    "        current_weather['date'] = pd.to_datetime(current_weather['date'])\n",
    "    \n",
    "    # Create future dataframe\n",
    "    future_df = pd.DataFrame({'ds': future_dates})\n",
    "    \n",
    "    # Merge with weather data\n",
    "    future_df['date'] = future_df['ds'].dt.date\n",
    "    current_weather['date'] = current_weather['date'].dt.date\n",
    "    \n",
    "    future_with_weather = pd.merge(future_df, current_weather, on='date', how='left')\n",
    "    \n",
    "    # Fill missing weather values with interpolation\n",
    "    for regressor in available_regressors:\n",
    "        if regressor in current_weather.columns:\n",
    "            future_with_weather[regressor] = future_with_weather[regressor].interpolate().fillna(\n",
    "                current_weather[regressor].median()\n",
    "            )\n",
    "        else:\n",
    "            # Use climatological values if regressor not available\n",
    "            future_with_weather[regressor] = 0\n",
    "    \n",
    "    # Add region-based regressors that the model expects\n",
    "    # Use the primary region's characteristics for predictions\n",
    "    if len(ALL_BBOXES) > 0:\n",
    "        # Use the first region (region_1) as default for predictions\n",
    "        future_with_weather['region_numeric'] = 0  # First region\n",
    "        \n",
    "        # Check if it's a northern region based on latitude\n",
    "        primary_lat = (PRIMARY_BBOX[1] + PRIMARY_BBOX[3]) / 2\n",
    "        future_with_weather['is_northern_region'] = int(primary_lat > 40)\n",
    "    else:\n",
    "        # Fallback values\n",
    "        future_with_weather['region_numeric'] = 0\n",
    "        future_with_weather['is_northern_region'] = 0\n",
    "    \n",
    "    # Add growing season indicator (Prophet model expects all training columns)\n",
    "    future_with_weather = add_growing_season_indicator(future_with_weather)\n",
    "    \n",
    "    print(\"🔮 Generating predictions with model...\")\n",
    "    print(f\"   Using region_numeric: {future_with_weather['region_numeric'].iloc[0]}\")\n",
    "    print(f\"   Using is_northern_region: {future_with_weather['is_northern_region'].iloc[0]}\")\n",
    "    print(f\"   Available regressors: {list(future_with_weather.columns)}\")\n",
    "    \n",
    "    try:\n",
    "        # Make predictions using the model\n",
    "        forecast = model.predict(future_with_weather)\n",
    "        \n",
    "        # Combine with historical data for complete timeline\n",
    "        historical_forecast = model.predict(train_df)\n",
    "        \n",
    "        print(f\"✅ Predictions generated for {len(forecast)} future dates\")\n",
    "        print(f\"📊 Predicted NDVI range: {forecast['yhat'].min():.3f} to {forecast['yhat'].max():.3f}\")\n",
    "        \n",
    "        # Display sample predictions\n",
    "        print(f\"\\n📋 Sample future predictions:\")\n",
    "        sample_forecast = forecast[['ds', 'yhat', 'yhat_lower', 'yhat_upper']].head(6)\n",
    "        sample_forecast['ds'] = sample_forecast['ds'].dt.strftime('%Y-%m-%d')\n",
    "        for _, row in sample_forecast.iterrows():\n",
    "            print(f\"   {row['ds']}: {row['yhat']:.3f} (±{(row['yhat_upper']-row['yhat_lower'])/2:.3f})\")\n",
    "            \n",
    "    except Exception as e:\n",
    "        print(f\"❌ Prediction failed: {e}\")\n",
    "        print(f\"   Future dataframe columns: {list(future_with_weather.columns)}\")\n",
    "        print(f\"   Model was trained with regressors: {available_regressors + ['region_numeric', 'is_northern_region']}\")\n",
    "        import traceback\n",
    "        traceback.print_exc()\n",
    "        forecast = None\n",
    "        historical_forecast = None\n",
    "        \n",
    "else:\n",
    "    print(\"❌ Cannot generate predictions - model training failed\")\n",
    "    forecast = None\n",
    "    historical_forecast = None"
   ]
  },
  {
   "cell_type": "markdown",
   "id": "310226e1",
   "metadata": {},
   "source": [
    "## Flowering Date Prediction\n",
    "\n",
    "Calculate the predicted flowering start date based on NDVI time series analysis."
   ]
  },
  {
   "cell_type": "code",
   "execution_count": 149,
   "id": "c7f219b8",
   "metadata": {},
   "outputs": [
    {
     "name": "stdout",
     "output_type": "stream",
     "text": [
      "🌸 Calculating flowering start dates...\n",
      "   📅 NDVI Threshold (≥0.65): 2025-05-09 (Confidence: 51.8%)\n",
      "      NDVI at flowering: 0.659\n",
      "   📅 NDVI Acceleration Peak: 2025-03-06 (Confidence: 85.0%)\n",
      "      NDVI at flowering: 0.353\n",
      "   📅 Seasonal Pattern Analysis: 2025-04-23 (Confidence: 79.9%)\n",
      "      NDVI at flowering: 0.594\n",
      "\n",
      "🏆 Best flowering prediction:\n",
      "   Date: 2025-03-06\n",
      "   Method: NDVI Acceleration Peak\n",
      "   Confidence: 85.0%\n",
      "   NDVI at flowering: 0.3526300320218604\n"
     ]
    }
   ],
   "source": [
    "def calculate_flowering_start_date(forecast_data, method='ndvi_threshold'):\n",
    "    \"\"\"\n",
    "    Calculate flowering start date based on NDVI predictions\n",
    "    \n",
    "    Parameters:\n",
    "    forecast_data (pd.DataFrame): Prophet forecast with 'ds' and 'yhat' columns\n",
    "    method (str): Method for calculating flowering start\n",
    "                  - 'ndvi_threshold': When NDVI reaches threshold value\n",
    "                  - 'ndvi_acceleration': When NDVI growth accelerates\n",
    "                  - 'seasonal_pattern': Based on seasonal growth patterns\n",
    "    \n",
    "    Returns:\n",
    "    dict: Flowering prediction results\n",
    "    \"\"\"\n",
    "    if forecast_data is None or len(forecast_data) == 0:\n",
    "        return {'flowering_start_date': None, 'method': method, 'confidence': 0}\n",
    "    \n",
    "    # Create a copy and ensure proper date handling\n",
    "    df = forecast_data.copy()\n",
    "    df['ds'] = pd.to_datetime(df['ds'])\n",
    "    df = df.sort_values('ds')\n",
    "    \n",
    "    flowering_results = {}\n",
    "    \n",
    "    if method == 'ndvi_threshold':\n",
    "        # Method 1: Flowering starts when NDVI reaches 0.6-0.7 (typical vegetation vigor for flowering)\n",
    "        flowering_threshold = 0.65  # Typical NDVI value at flowering onset\n",
    "        \n",
    "        # Find first date when NDVI exceeds threshold (during spring growth)\n",
    "        spring_mask = (df['ds'].dt.month >= 3) & (df['ds'].dt.month <= 6)  # March to June\n",
    "        spring_data = df[spring_mask]\n",
    "        \n",
    "        if len(spring_data) > 0:\n",
    "            flowering_candidates = spring_data[spring_data['yhat'] >= flowering_threshold]\n",
    "            if len(flowering_candidates) > 0:\n",
    "                flowering_date = flowering_candidates['ds'].iloc[0]\n",
    "                confidence = min(0.9, 0.5 + (flowering_candidates['yhat'].iloc[0] - flowering_threshold) * 2)\n",
    "                flowering_results = {\n",
    "                    'flowering_start_date': flowering_date,\n",
    "                    'method': 'NDVI Threshold (≥0.65)',\n",
    "                    'confidence': confidence,\n",
    "                    'ndvi_at_flowering': flowering_candidates['yhat'].iloc[0],\n",
    "                    'threshold_used': flowering_threshold\n",
    "                }\n",
    "    \n",
    "    elif method == 'ndvi_acceleration':\n",
    "        # Method 2: Flowering starts when NDVI growth rate accelerates (second derivative > 0)\n",
    "        if len(df) >= 3:\n",
    "            # Calculate first and second derivatives\n",
    "            df['ndvi_growth'] = df['yhat'].diff()\n",
    "            df['ndvi_acceleration'] = df['ndvi_growth'].diff()\n",
    "            \n",
    "            # Find peak acceleration in spring\n",
    "            spring_mask = (df['ds'].dt.month >= 3) & (df['ds'].dt.month <= 6)\n",
    "            spring_data = df[spring_mask]\n",
    "            \n",
    "            if len(spring_data) > 0:\n",
    "                # Find when acceleration is highest (rapid NDVI increase)\n",
    "                max_accel_idx = spring_data['ndvi_acceleration'].idxmax()\n",
    "                if not pd.isna(max_accel_idx):\n",
    "                    flowering_date = df.loc[max_accel_idx, 'ds']\n",
    "                    confidence = min(0.85, 0.6 + abs(df.loc[max_accel_idx, 'ndvi_acceleration']) * 10)\n",
    "                    flowering_results = {\n",
    "                        'flowering_start_date': flowering_date,\n",
    "                        'method': 'NDVI Acceleration Peak',\n",
    "                        'confidence': confidence,\n",
    "                        'ndvi_at_flowering': df.loc[max_accel_idx, 'yhat'],\n",
    "                        'acceleration_value': df.loc[max_accel_idx, 'ndvi_acceleration']\n",
    "                    }\n",
    "    \n",
    "    elif method == 'seasonal_pattern':\n",
    "        # Method 3: Based on typical seasonal patterns (day of year analysis)\n",
    "        # Flowering typically occurs between day 90-150 (late March to late May)\n",
    "        df['day_of_year'] = df['ds'].dt.dayofyear\n",
    "        flowering_window = df[(df['day_of_year'] >= 90) & (df['day_of_year'] <= 150)].copy()\n",
    "        \n",
    "        if len(flowering_window) > 0:\n",
    "            # Find the steepest NDVI increase in flowering window\n",
    "            flowering_window['ndvi_change'] = flowering_window['yhat'].diff()\n",
    "            max_change_idx = flowering_window['ndvi_change'].idxmax()\n",
    "            \n",
    "            if not pd.isna(max_change_idx):\n",
    "                flowering_date = flowering_window.loc[max_change_idx, 'ds']\n",
    "                confidence = min(0.8, 0.4 + abs(flowering_window.loc[max_change_idx, 'ndvi_change']) * 5)\n",
    "                flowering_results = {\n",
    "                    'flowering_start_date': flowering_date,\n",
    "                    'method': 'Seasonal Pattern Analysis',\n",
    "                    'confidence': confidence,\n",
    "                    'ndvi_at_flowering': flowering_window.loc[max_change_idx, 'yhat'],\n",
    "                    'day_of_year': flowering_window.loc[max_change_idx, 'day_of_year']\n",
    "                }\n",
    "    \n",
    "    # Default return if no method worked\n",
    "    if not flowering_results:\n",
    "        flowering_results = {\n",
    "            'flowering_start_date': None,\n",
    "            'method': method,\n",
    "            'confidence': 0,\n",
    "            'error': 'Unable to determine flowering date with selected method'\n",
    "        }\n",
    "    \n",
    "    return flowering_results\n",
    "\n",
    "# Calculate flowering dates using multiple methods if forecast is available\n",
    "if 'forecast' in globals() and forecast is not None and len(forecast) > 0:\n",
    "    print(\"🌸 Calculating flowering start dates...\")\n",
    "    \n",
    "    # Calculate using all three methods\n",
    "    methods = ['ndvi_threshold', 'ndvi_acceleration', 'seasonal_pattern']\n",
    "    flowering_predictions = {}\n",
    "    \n",
    "    for method in methods:\n",
    "        result = calculate_flowering_start_date(forecast, method)\n",
    "        flowering_predictions[method] = result\n",
    "        \n",
    "        if result['flowering_start_date'] is not None:\n",
    "            print(f\"   📅 {result['method']}: {result['flowering_start_date'].strftime('%Y-%m-%d')} \"\n",
    "                  f\"(Confidence: {result['confidence']:.1%})\")\n",
    "            if 'ndvi_at_flowering' in result:\n",
    "                print(f\"      NDVI at flowering: {result['ndvi_at_flowering']:.3f}\")\n",
    "        else:\n",
    "            print(f\"   ❌ {result['method']}: Could not determine flowering date\")\n",
    "    \n",
    "    # Select best prediction (highest confidence)\n",
    "    best_method = max(flowering_predictions.keys(), \n",
    "                     key=lambda x: flowering_predictions[x]['confidence'])\n",
    "    best_prediction = flowering_predictions[best_method]\n",
    "    \n",
    "    if best_prediction['flowering_start_date'] is not None:\n",
    "        print(f\"\\n🏆 Best flowering prediction:\")\n",
    "        print(f\"   Date: {best_prediction['flowering_start_date'].strftime('%Y-%m-%d')}\")\n",
    "        print(f\"   Method: {best_prediction['method']}\")\n",
    "        print(f\"   Confidence: {best_prediction['confidence']:.1%}\")\n",
    "        print(f\"   NDVI at flowering: {best_prediction.get('ndvi_at_flowering', 'N/A')}\")\n",
    "        \n",
    "        # Calculate days until flowering\n",
    "        if best_prediction['flowering_start_date'] > pd.Timestamp.now():\n",
    "            days_until = (best_prediction['flowering_start_date'] - pd.Timestamp.now()).days\n",
    "            print(f\"   Days until flowering: {days_until}\")\n",
    "        \n",
    "        # Store for future use\n",
    "        flowering_start_date = best_prediction['flowering_start_date']\n",
    "        flowering_confidence = best_prediction['confidence']\n",
    "        flowering_method = best_prediction['method']\n",
    "        \n",
    "    else:\n",
    "        print(\"\\n⚠️  Unable to predict flowering start date with current NDVI data\")\n",
    "        flowering_start_date = None\n",
    "        flowering_confidence = 0\n",
    "        flowering_method = None\n",
    "        \n",
    "else:\n",
    "    print(\"🌸 No forecast data available for flowering prediction\")\n",
    "    print(\"   Please run the NDVI prediction model first\")\n",
    "    flowering_start_date = None\n",
    "    flowering_confidence = 0\n",
    "    flowering_method = None"
   ]
  },
  {
   "cell_type": "code",
   "execution_count": 150,
   "id": "9a90d3fe",
   "metadata": {},
   "outputs": [
    {
     "name": "stdout",
     "output_type": "stream",
     "text": [
      "📊 Creating flowering prediction visualization...\n"
     ]
    },
    {
     "data": {
      "application/vnd.plotly.v1+json": {
       "config": {
        "plotlyServerURL": "https://plot.ly"
       },
       "data": [
        {
         "line": {
          "color": "green",
          "width": 3
         },
         "mode": "lines",
         "name": "NDVI Prediction",
         "type": "scatter",
         "x": [
          "2025-01-01T00:00:00.000000000",
          "2025-01-17T00:00:00.000000000",
          "2025-02-02T00:00:00.000000000",
          "2025-02-18T00:00:00.000000000",
          "2025-03-06T00:00:00.000000000",
          "2025-03-22T00:00:00.000000000",
          "2025-04-07T00:00:00.000000000",
          "2025-04-23T00:00:00.000000000",
          "2025-05-09T00:00:00.000000000",
          "2025-05-25T00:00:00.000000000",
          "2025-06-10T00:00:00.000000000",
          "2025-06-26T00:00:00.000000000",
          "2025-07-12T00:00:00.000000000",
          "2025-07-28T00:00:00.000000000",
          "2025-08-13T00:00:00.000000000",
          "2025-08-29T00:00:00.000000000",
          "2025-09-14T00:00:00.000000000",
          "2025-09-30T00:00:00.000000000",
          "2025-10-16T00:00:00.000000000",
          "2025-11-01T00:00:00.000000000",
          "2025-11-17T00:00:00.000000000",
          "2025-12-03T00:00:00.000000000",
          "2025-12-19T00:00:00.000000000",
          "2026-01-04T00:00:00.000000000"
         ],
         "y": {
          "bdata": "PF1hPTH9xD9PV1mR693HP90TL+TRa8s/Fh2xNcTr0D/Cw8eNfZHWPxUxJLF0UNs/qSjdLtl04D/uMLc48wLjP7ETzzG7FuU/t/lNdoI15z96H8C0VZ/nP5IPqOEQYug/XoNyeuI/6D/yUd/EW3PnP7r/wZ8FJeY/X5ZjkJfb4z8ByK7ZGLPhPyUm4Gn/O94/yABR4vVM2D9g9uSh5HPUPxCg/XBrqdA/kb7nKpRTyz/4LDCyxL3HPyYNBg/BCcU/",
          "dtype": "f8"
         }
        },
        {
         "fill": "tonexty",
         "fillcolor": "rgba(0,128,0,0.2)",
         "line": {
          "color": "rgba(255,255,255,0)"
         },
         "name": "Prediction Uncertainty",
         "showlegend": false,
         "type": "scatter",
         "x": [
          "2025-01-01T00:00:00",
          "2025-01-17T00:00:00",
          "2025-02-02T00:00:00",
          "2025-02-18T00:00:00",
          "2025-03-06T00:00:00",
          "2025-03-22T00:00:00",
          "2025-04-07T00:00:00",
          "2025-04-23T00:00:00",
          "2025-05-09T00:00:00",
          "2025-05-25T00:00:00",
          "2025-06-10T00:00:00",
          "2025-06-26T00:00:00",
          "2025-07-12T00:00:00",
          "2025-07-28T00:00:00",
          "2025-08-13T00:00:00",
          "2025-08-29T00:00:00",
          "2025-09-14T00:00:00",
          "2025-09-30T00:00:00",
          "2025-10-16T00:00:00",
          "2025-11-01T00:00:00",
          "2025-11-17T00:00:00",
          "2025-12-03T00:00:00",
          "2025-12-19T00:00:00",
          "2026-01-04T00:00:00",
          "2026-01-04T00:00:00",
          "2025-12-19T00:00:00",
          "2025-12-03T00:00:00",
          "2025-11-17T00:00:00",
          "2025-11-01T00:00:00",
          "2025-10-16T00:00:00",
          "2025-09-30T00:00:00",
          "2025-09-14T00:00:00",
          "2025-08-29T00:00:00",
          "2025-08-13T00:00:00",
          "2025-07-28T00:00:00",
          "2025-07-12T00:00:00",
          "2025-06-26T00:00:00",
          "2025-06-10T00:00:00",
          "2025-05-25T00:00:00",
          "2025-05-09T00:00:00",
          "2025-04-23T00:00:00",
          "2025-04-07T00:00:00",
          "2025-03-22T00:00:00",
          "2025-03-06T00:00:00",
          "2025-02-18T00:00:00",
          "2025-02-02T00:00:00",
          "2025-01-17T00:00:00",
          "2025-01-01T00:00:00"
         ],
         "y": [
          0.22939002937696498,
          0.24179981268443415,
          0.2744127332402532,
          0.3201834107313132,
          0.4077326467149509,
          0.4823513441979623,
          0.5717597875820736,
          0.6549970554834502,
          0.7168355283461298,
          0.784786797876334,
          0.799839983833156,
          0.8191104182880298,
          0.8169903188899443,
          0.7914685719773089,
          0.7496664403535256,
          0.6787180146408325,
          0.6106216066248811,
          0.5311884736898991,
          0.43881119334902374,
          0.37786124185754394,
          0.31966448292816024,
          0.2718346065519736,
          0.24711026382000498,
          0.22422974631961118,
          0.11082403500142073,
          0.12220138203540033,
          0.1537570126843454,
          0.2026144124770038,
          0.262991165475041,
          0.3207138959986421,
          0.4131396224627132,
          0.4971584765941418,
          0.5589786423497711,
          0.6321184752153275,
          0.6742110306369542,
          0.6982374508943893,
          0.697229286703919,
          0.6832709278389929,
          0.6663566519560762,
          0.5976018516729124,
          0.5331914948361225,
          0.4558366870297464,
          0.36824270656616087,
          0.2926818675095374,
          0.20284085311974298,
          0.15099196859793151,
          0.12732993791389405,
          0.10223446616088704
         ]
        },
        {
         "marker": {
          "color": "red",
          "line": {
           "color": "darkred",
           "width": 2
          },
          "size": 15,
          "symbol": "star"
         },
         "mode": "markers+text",
         "name": "Flowering Start (NDVI Acceleration Peak)",
         "text": [
          "🌸 Flowering Start<br>2025-03-06"
         ],
         "textfont": {
          "color": "darkred",
          "size": 12
         },
         "textposition": "top center",
         "type": "scatter",
         "x": [
          "2025-03-06T00:00:00"
         ],
         "y": [
          0.3526300320218604
         ]
        }
       ],
       "layout": {
        "height": 500,
        "hovermode": "x unified",
        "legend": {
         "orientation": "h",
         "x": 1,
         "xanchor": "right",
         "y": 1.02,
         "yanchor": "bottom"
        },
        "showlegend": true,
        "template": {
         "data": {
          "candlestick": [
           {
            "decreasing": {
             "line": {
              "color": "#000033"
             }
            },
            "increasing": {
             "line": {
              "color": "#000032"
             }
            },
            "type": "candlestick"
           }
          ],
          "contour": [
           {
            "colorscale": [
             [
              0,
              "#000011"
             ],
             [
              0.1111111111111111,
              "#000012"
             ],
             [
              0.2222222222222222,
              "#000013"
             ],
             [
              0.3333333333333333,
              "#000014"
             ],
             [
              0.4444444444444444,
              "#000015"
             ],
             [
              0.5555555555555556,
              "#000016"
             ],
             [
              0.6666666666666666,
              "#000017"
             ],
             [
              0.7777777777777778,
              "#000018"
             ],
             [
              0.8888888888888888,
              "#000019"
             ],
             [
              1,
              "#000020"
             ]
            ],
            "type": "contour"
           }
          ],
          "contourcarpet": [
           {
            "colorscale": [
             [
              0,
              "#000011"
             ],
             [
              0.1111111111111111,
              "#000012"
             ],
             [
              0.2222222222222222,
              "#000013"
             ],
             [
              0.3333333333333333,
              "#000014"
             ],
             [
              0.4444444444444444,
              "#000015"
             ],
             [
              0.5555555555555556,
              "#000016"
             ],
             [
              0.6666666666666666,
              "#000017"
             ],
             [
              0.7777777777777778,
              "#000018"
             ],
             [
              0.8888888888888888,
              "#000019"
             ],
             [
              1,
              "#000020"
             ]
            ],
            "type": "contourcarpet"
           }
          ],
          "heatmap": [
           {
            "colorscale": [
             [
              0,
              "#000011"
             ],
             [
              0.1111111111111111,
              "#000012"
             ],
             [
              0.2222222222222222,
              "#000013"
             ],
             [
              0.3333333333333333,
              "#000014"
             ],
             [
              0.4444444444444444,
              "#000015"
             ],
             [
              0.5555555555555556,
              "#000016"
             ],
             [
              0.6666666666666666,
              "#000017"
             ],
             [
              0.7777777777777778,
              "#000018"
             ],
             [
              0.8888888888888888,
              "#000019"
             ],
             [
              1,
              "#000020"
             ]
            ],
            "type": "heatmap"
           }
          ],
          "histogram2d": [
           {
            "colorscale": [
             [
              0,
              "#000011"
             ],
             [
              0.1111111111111111,
              "#000012"
             ],
             [
              0.2222222222222222,
              "#000013"
             ],
             [
              0.3333333333333333,
              "#000014"
             ],
             [
              0.4444444444444444,
              "#000015"
             ],
             [
              0.5555555555555556,
              "#000016"
             ],
             [
              0.6666666666666666,
              "#000017"
             ],
             [
              0.7777777777777778,
              "#000018"
             ],
             [
              0.8888888888888888,
              "#000019"
             ],
             [
              1,
              "#000020"
             ]
            ],
            "type": "histogram2d"
           }
          ],
          "icicle": [
           {
            "textfont": {
             "color": "white"
            },
            "type": "icicle"
           }
          ],
          "sankey": [
           {
            "textfont": {
             "color": "#000036"
            },
            "type": "sankey"
           }
          ],
          "scatter": [
           {
            "marker": {
             "line": {
              "width": 0
             }
            },
            "type": "scatter"
           }
          ],
          "table": [
           {
            "cells": {
             "fill": {
              "color": "#000038"
             },
             "font": {
              "color": "#000037"
             },
             "line": {
              "color": "#000039"
             }
            },
            "header": {
             "fill": {
              "color": "#000040"
             },
             "font": {
              "color": "#000036"
             },
             "line": {
              "color": "#000039"
             }
            },
            "type": "table"
           }
          ],
          "waterfall": [
           {
            "connector": {
             "line": {
              "color": "#000036",
              "width": 2
             }
            },
            "decreasing": {
             "marker": {
              "color": "#000033"
             }
            },
            "increasing": {
             "marker": {
              "color": "#000032"
             }
            },
            "totals": {
             "marker": {
              "color": "#000034"
             }
            },
            "type": "waterfall"
           }
          ]
         },
         "layout": {
          "coloraxis": {
           "colorscale": [
            [
             0,
             "#000011"
            ],
            [
             0.1111111111111111,
             "#000012"
            ],
            [
             0.2222222222222222,
             "#000013"
            ],
            [
             0.3333333333333333,
             "#000014"
            ],
            [
             0.4444444444444444,
             "#000015"
            ],
            [
             0.5555555555555556,
             "#000016"
            ],
            [
             0.6666666666666666,
             "#000017"
            ],
            [
             0.7777777777777778,
             "#000018"
            ],
            [
             0.8888888888888888,
             "#000019"
            ],
            [
             1,
             "#000020"
            ]
           ]
          },
          "colorscale": {
           "diverging": [
            [
             0,
             "#000021"
            ],
            [
             0.1,
             "#000022"
            ],
            [
             0.2,
             "#000023"
            ],
            [
             0.3,
             "#000024"
            ],
            [
             0.4,
             "#000025"
            ],
            [
             0.5,
             "#000026"
            ],
            [
             0.6,
             "#000027"
            ],
            [
             0.7,
             "#000028"
            ],
            [
             0.8,
             "#000029"
            ],
            [
             0.9,
             "#000030"
            ],
            [
             1,
             "#000031"
            ]
           ],
           "sequential": [
            [
             0,
             "#000011"
            ],
            [
             0.1111111111111111,
             "#000012"
            ],
            [
             0.2222222222222222,
             "#000013"
            ],
            [
             0.3333333333333333,
             "#000014"
            ],
            [
             0.4444444444444444,
             "#000015"
            ],
            [
             0.5555555555555556,
             "#000016"
            ],
            [
             0.6666666666666666,
             "#000017"
            ],
            [
             0.7777777777777778,
             "#000018"
            ],
            [
             0.8888888888888888,
             "#000019"
            ],
            [
             1,
             "#000020"
            ]
           ],
           "sequentialminus": [
            [
             0,
             "#000011"
            ],
            [
             0.1111111111111111,
             "#000012"
            ],
            [
             0.2222222222222222,
             "#000013"
            ],
            [
             0.3333333333333333,
             "#000014"
            ],
            [
             0.4444444444444444,
             "#000015"
            ],
            [
             0.5555555555555556,
             "#000016"
            ],
            [
             0.6666666666666666,
             "#000017"
            ],
            [
             0.7777777777777778,
             "#000018"
            ],
            [
             0.8888888888888888,
             "#000019"
            ],
            [
             1,
             "#000020"
            ]
           ]
          },
          "colorway": [
           "#000001",
           "#000002",
           "#000003",
           "#000004",
           "#000005",
           "#000006",
           "#000007",
           "#000008",
           "#000009",
           "#000010"
          ]
         }
        },
        "title": {
         "font": {
          "size": 16
         },
         "text": "NDVI Predictions with Flowering Start Date<br><sub>Predicted flowering: March 06, 2025 (85% confidence)</sub>"
        },
        "xaxis": {
         "title": {
          "text": "Date"
         }
        },
        "yaxis": {
         "title": {
          "text": "NDVI"
         }
        }
       }
      }
     },
     "metadata": {},
     "output_type": "display_data"
    },
    {
     "name": "stdout",
     "output_type": "stream",
     "text": [
      "\n",
      "📈 Flowering Prediction Summary:\n",
      "   🗓️  Predicted flowering start: March 06, 2025\n",
      "   🎯 Method used: NDVI Acceleration Peak\n",
      "   📊 Confidence level: 85.0%\n",
      "   🌱 NDVI at flowering: 0.353\n",
      "   ⚠️  Flowering date is in the past or has already occurred\n",
      "\n",
      "🔍 Comparison of all methods:\n",
      "   • NDVI Threshold (≥0.65): 2025-05-09 (51.8%)\n",
      "   • NDVI Acceleration Peak: 2025-03-06 (85.0%)\n",
      "   • Seasonal Pattern Analysis: 2025-04-23 (79.9%)\n"
     ]
    }
   ],
   "source": [
    "# Create a visualization of flowering predictions\n",
    "if 'forecast' in globals() and forecast is not None and flowering_start_date is not None:\n",
    "    import plotly.graph_objects as go\n",
    "    from plotly.subplots import make_subplots\n",
    "    \n",
    "    print(\"📊 Creating flowering prediction visualization...\")\n",
    "    \n",
    "    # Prepare data for plotting\n",
    "    plot_df = forecast[['ds', 'yhat', 'yhat_lower', 'yhat_upper']].copy()\n",
    "    plot_df['ds'] = pd.to_datetime(plot_df['ds'])\n",
    "    \n",
    "    # Create the figure\n",
    "    fig_flowering = go.Figure()\n",
    "    \n",
    "    # Add NDVI prediction line\n",
    "    fig_flowering.add_trace(go.Scatter(\n",
    "        x=plot_df['ds'],\n",
    "        y=plot_df['yhat'],\n",
    "        mode='lines',\n",
    "        name='NDVI Prediction',\n",
    "        line=dict(color='green', width=3)\n",
    "    ))\n",
    "    \n",
    "    # Add uncertainty bands\n",
    "    fig_flowering.add_trace(go.Scatter(\n",
    "        x=plot_df['ds'].tolist() + plot_df['ds'].tolist()[::-1],\n",
    "        y=plot_df['yhat_upper'].tolist() + plot_df['yhat_lower'].tolist()[::-1],\n",
    "        fill='tonexty',\n",
    "        fillcolor='rgba(0,128,0,0.2)',\n",
    "        line=dict(color='rgba(255,255,255,0)'),\n",
    "        name='Prediction Uncertainty',\n",
    "        showlegend=False\n",
    "    ))\n",
    "    \n",
    "    # Add flowering date marker\n",
    "    flowering_ndvi = flowering_predictions[best_method]['ndvi_at_flowering']\n",
    "    fig_flowering.add_trace(go.Scatter(\n",
    "        x=[flowering_start_date],\n",
    "        y=[flowering_ndvi],\n",
    "        mode='markers+text',\n",
    "        marker=dict(\n",
    "            color='red',\n",
    "            size=15,\n",
    "            symbol='star',\n",
    "            line=dict(color='darkred', width=2)\n",
    "        ),\n",
    "        text=[f'🌸 Flowering Start<br>{flowering_start_date.strftime(\"%Y-%m-%d\")}'],\n",
    "        textposition='top center',\n",
    "        textfont=dict(size=12, color='darkred'),\n",
    "        name=f'Flowering Start ({flowering_method})'\n",
    "    ))\n",
    "    \n",
    "    # Add NDVI threshold line if applicable\n",
    "    if best_method == 'ndvi_threshold':\n",
    "        threshold = flowering_predictions[best_method]['threshold_used']\n",
    "        fig_flowering.add_hline(\n",
    "            y=threshold, \n",
    "            line_dash=\"dash\", \n",
    "            line_color=\"red\",\n",
    "            annotation_text=f\"Flowering Threshold (NDVI ≥ {threshold})\",\n",
    "            annotation_position=\"bottom right\"\n",
    "        )\n",
    "    \n",
    "    # Update layout\n",
    "    fig_flowering.update_layout(\n",
    "        title=dict(\n",
    "            text=f'NDVI Predictions with Flowering Start Date<br>'\n",
    "                 f'<sub>Predicted flowering: {flowering_start_date.strftime(\"%B %d, %Y\")} '\n",
    "                 f'({flowering_confidence:.0%} confidence)</sub>',\n",
    "            font=dict(size=16)\n",
    "        ),\n",
    "        xaxis_title='Date',\n",
    "        yaxis_title='NDVI',\n",
    "        hovermode='x unified',\n",
    "        legend=dict(\n",
    "            orientation=\"h\",\n",
    "            yanchor=\"bottom\",\n",
    "            y=1.02,\n",
    "            xanchor=\"right\",\n",
    "            x=1\n",
    "        ),\n",
    "        height=500,\n",
    "        showlegend=True\n",
    "    )\n",
    "    \n",
    "    # Show the plot\n",
    "    fig_flowering.show()\n",
    "    \n",
    "    # Print summary statistics\n",
    "    print(f\"\\n📈 Flowering Prediction Summary:\")\n",
    "    print(f\"   🗓️  Predicted flowering start: {flowering_start_date.strftime('%B %d, %Y')}\")\n",
    "    print(f\"   🎯 Method used: {flowering_method}\")\n",
    "    print(f\"   📊 Confidence level: {flowering_confidence:.1%}\")\n",
    "    print(f\"   🌱 NDVI at flowering: {flowering_ndvi:.3f}\")\n",
    "    \n",
    "    if flowering_start_date > pd.Timestamp.now():\n",
    "        days_until = (flowering_start_date - pd.Timestamp.now()).days\n",
    "        print(f\"   ⏳ Days until flowering: {days_until} days\")\n",
    "        \n",
    "        # Calculate weeks until flowering\n",
    "        weeks_until = days_until // 7\n",
    "        remaining_days = days_until % 7\n",
    "        if weeks_until > 0:\n",
    "            print(f\"   📅 Time until flowering: {weeks_until} weeks and {remaining_days} days\")\n",
    "    else:\n",
    "        print(f\"   ⚠️  Flowering date is in the past or has already occurred\")\n",
    "    \n",
    "    # Compare all methods\n",
    "    print(f\"\\n🔍 Comparison of all methods:\")\n",
    "    for method_key, result in flowering_predictions.items():\n",
    "        if result['flowering_start_date'] is not None:\n",
    "            print(f\"   • {result['method']}: {result['flowering_start_date'].strftime('%Y-%m-%d')} \"\n",
    "                  f\"({result['confidence']:.1%})\")\n",
    "        else:\n",
    "            print(f\"   • {result['method']}: No prediction available\")\n",
    "            \n",
    "else:\n",
    "    print(\"📊 No flowering visualization available - missing forecast data or flowering prediction\")"
   ]
  },
  {
   "cell_type": "markdown",
   "id": "ed4fffbb",
   "metadata": {},
   "source": [
    "## Model Evaluation and Cross-Validation\n",
    "\n",
    "Evaluate the model performance using validation data and cross-validation techniques."
   ]
  },
  {
   "cell_type": "code",
   "execution_count": 144,
   "id": "94a98d58",
   "metadata": {},
   "outputs": [
    {
     "name": "stdout",
     "output_type": "stream",
     "text": [
      "📊 Evaluating model performance...\n",
      "✅ Validation metrics:\n",
      "   Mean Absolute Error (MAE): 0.0936\n",
      "   Root Mean Square Error (RMSE): 0.1209\n",
      "   Mean Absolute Percentage Error (MAPE): 16.62%\n",
      "\n",
      "🔄 Performing cross-validation...\n",
      "✅ Cross-validation completed:\n",
      "   Average MAE: 0.0429 ± 0.0109\n",
      "   Average RMSE: 0.0509 ± 0.0119\n",
      "   Average MAPE: 0.23% ± 0.08%\n",
      "\n",
      "🔍 Model component analysis:\n",
      "   Trend component variability: 0.0005\n",
      "   Yearly seasonality variability: 0.0943\n",
      "   temperature_mean contribution: 0.0011\n",
      "   humidity contribution: 0.0038\n",
      "   growing_degree_days contribution: 0.0004\n",
      "   vapor_pressure_deficit contribution: 0.0040\n",
      "   precipitation contribution: 0.0004\n"
     ]
    }
   ],
   "source": [
    "if model is not None and not val_df.empty:\n",
    "    print(\"📊 Evaluating model performance...\")\n",
    "    \n",
    "    # Add growing season indicator to validation data\n",
    "    val_df = add_growing_season_indicator(val_df)\n",
    "    \n",
    "    # Predict on validation data\n",
    "    val_forecast = model.predict(val_df)\n",
    "    \n",
    "    # Calculate evaluation metrics\n",
    "    actual = val_df['y'].values\n",
    "    predicted = val_forecast['yhat'].values\n",
    "    \n",
    "    from sklearn.metrics import mean_absolute_error, mean_squared_error\n",
    "    \n",
    "    mae = mean_absolute_error(actual, predicted)\n",
    "    rmse = np.sqrt(mean_squared_error(actual, predicted))\n",
    "    mape = np.mean(np.abs((actual - predicted) / actual)) * 100\n",
    "    \n",
    "    print(f\"✅ Validation metrics:\")\n",
    "    print(f\"   Mean Absolute Error (MAE): {mae:.4f}\")\n",
    "    print(f\"   Root Mean Square Error (RMSE): {rmse:.4f}\")\n",
    "    print(f\"   Mean Absolute Percentage Error (MAPE): {mape:.2f}%\")\n",
    "    \n",
    "    # Cross-validation (if enough data)\n",
    "    if len(train_df) > 100:  # Only run if sufficient data\n",
    "        print(\"\\n🔄 Performing cross-validation...\")\n",
    "        try:\n",
    "            # Create cutoffs for cross-validation (last 6 months of data, with 60-day horizons)\n",
    "            cutoffs = pd.date_range(\n",
    "                start=train_df['ds'].max() - pd.DateOffset(months=6),\n",
    "                end=train_df['ds'].max() - pd.DateOffset(days=60),\n",
    "                freq='MS'  # Monthly start\n",
    "            )\n",
    "            \n",
    "            if len(cutoffs) > 0:\n",
    "                cv_results = cross_validation(\n",
    "                    model, \n",
    "                    cutoffs=cutoffs[:3],  # Limit to 3 cutoffs to avoid long runtime\n",
    "                    horizon='60 days',\n",
    "                    parallel='processes'\n",
    "                )\n",
    "                \n",
    "                # Performance metrics\n",
    "                cv_metrics = performance_metrics(cv_results)\n",
    "                \n",
    "                print(\"✅ Cross-validation completed:\")\n",
    "                print(f\"   Average MAE: {cv_metrics['mae'].mean():.4f} ± {cv_metrics['mae'].std():.4f}\")\n",
    "                print(f\"   Average RMSE: {cv_metrics['rmse'].mean():.4f} ± {cv_metrics['rmse'].std():.4f}\")\n",
    "                print(f\"   Average MAPE: {cv_metrics['mape'].mean():.2f}% ± {cv_metrics['mape'].std():.2f}%\")\n",
    "                \n",
    "            else:\n",
    "                print(\"⚠️  Insufficient data for cross-validation\")\n",
    "                cv_results = None\n",
    "                cv_metrics = None\n",
    "                \n",
    "        except Exception as e:\n",
    "            print(f\"⚠️  Cross-validation failed: {e}\")\n",
    "            cv_results = None\n",
    "            cv_metrics = None\n",
    "    else:\n",
    "        print(\"⚠️  Skipping cross-validation - insufficient training data\")\n",
    "        cv_results = None\n",
    "        cv_metrics = None\n",
    "    \n",
    "    # Feature importance analysis\n",
    "    print(f\"\\n🔍 Model component analysis:\")\n",
    "    \n",
    "    # Get component contributions on validation data\n",
    "    components = model.predict(val_df)\n",
    "    \n",
    "    if 'trend' in components.columns:\n",
    "        trend_contribution = components['trend'].std()\n",
    "        print(f\"   Trend component variability: {trend_contribution:.4f}\")\n",
    "    \n",
    "    if 'yearly' in components.columns:\n",
    "        yearly_contribution = components['yearly'].std()\n",
    "        print(f\"   Yearly seasonality variability: {yearly_contribution:.4f}\")\n",
    "    \n",
    "    # Regressor contributions\n",
    "    regressor_importance = {}\n",
    "    for regressor in available_regressors:\n",
    "        if regressor in components.columns:\n",
    "            contrib = components[regressor].std()\n",
    "            regressor_importance[regressor] = contrib\n",
    "            print(f\"   {regressor} contribution: {contrib:.4f}\")\n",
    "    \n",
    "    # Store results for later use\n",
    "    evaluation_results = {\n",
    "        'mae': mae,\n",
    "        'rmse': rmse,\n",
    "        'mape': mape,\n",
    "        'regressor_importance': regressor_importance\n",
    "    }\n",
    "    \n",
    "    if cv_metrics is not None:\n",
    "        evaluation_results['cv_mae'] = cv_metrics['mae'].mean()\n",
    "        evaluation_results['cv_rmse'] = cv_metrics['rmse'].mean()\n",
    "        evaluation_results['cv_mape'] = cv_metrics['mape'].mean()\n",
    "        \n",
    "else:\n",
    "    print(\"⚠️  Skipping evaluation - no model or validation data available\")\n",
    "    evaluation_results = None"
   ]
  },
  {
   "cell_type": "markdown",
   "id": "1a29f154",
   "metadata": {},
   "source": [
    "## Visualize Predictions and Components\n",
    "\n",
    "Create comprehensive visualizations of the model predictions, components, and validation results."
   ]
  },
  {
   "cell_type": "code",
   "execution_count": 145,
   "id": "b87909a0",
   "metadata": {},
   "outputs": [
    {
     "name": "stdout",
     "output_type": "stream",
     "text": [
      "📊 Creating visualizations...\n"
     ]
    },
    {
     "data": {
      "application/vnd.plotly.v1+json": {
       "config": {
        "plotlyServerURL": "https://plot.ly"
       },
       "data": [
        {
         "hovertemplate": "Date: %{x}<br>NDVI: %{y:.3f}<extra></extra>",
         "marker": {
          "color": "blue",
          "size": 6
         },
         "mode": "markers",
         "name": "Historical NDVI",
         "type": "scatter",
         "x": [
          "2020-06-24T16:02:26.381000000",
          "2020-06-29T16:02:29.019000000",
          "2020-07-14T16:02:25.234000000",
          "2020-07-29T15:45:59.461000000",
          "2020-07-29T16:02:29.575000000",
          "2020-08-26T16:12:23.191000000",
          "2020-09-05T16:12:22.661000000",
          "2020-09-15T16:12:21.628000000",
          "2020-09-20T16:12:24.709000000",
          "2020-09-22T16:02:26.146000000",
          "2020-10-07T16:02:29.694000000",
          "2020-10-15T16:12:23.556000000",
          "2020-10-17T15:46:23.371000000",
          "2020-10-17T16:02:29.491000000",
          "2020-11-04T16:12:22.103000000",
          "2020-11-06T16:02:28.422000000",
          "2020-11-14T16:12:20.678000000",
          "2020-11-16T16:02:27.012000000",
          "2020-11-24T16:12:20.010000000",
          "2020-11-29T16:12:19.929000000",
          "2020-12-06T16:02:21.700000000",
          "2020-12-11T16:02:20.926000000",
          "2020-12-29T16:12:19.702000000",
          "2021-01-10T16:02:23.216000000",
          "2021-01-13T16:12:19.393000000",
          "2021-01-30T16:02:23.569000000",
          "2021-02-04T16:02:23.434000000",
          "2021-02-24T16:02:23.577000000",
          "2021-03-10T15:45:57.104000000",
          "2021-03-11T16:02:23.187000000",
          "2021-03-14T16:12:19.161000000",
          "2021-03-21T16:02:22.980000000",
          "2021-03-29T16:12:17.433000000",
          "2021-04-03T16:12:17.663000000",
          "2021-04-05T16:02:20.081000000",
          "2021-04-08T16:12:15.373000000",
          "2021-04-23T16:12:14.144000000",
          "2021-04-27T15:45:38.023000000",
          "2021-05-13T15:45:37.141000000",
          "2021-05-20T16:02:23.683000000",
          "2021-06-17T16:12:19.965000000",
          "2021-06-29T16:02:24.897000000",
          "2021-06-30T15:45:56.799000000",
          "2021-07-16T15:45:58.188000000",
          "2021-07-17T16:12:23.088000000",
          "2021-07-27T16:12:23.174000000",
          "2021-08-08T16:02:24.780000000",
          "2021-08-11T16:12:20.373000000",
          "2021-08-26T16:12:21.651000000",
          "2021-09-02T15:46:17.241000000",
          "2021-09-02T16:02:24.903000000",
          "2021-09-07T16:02:20.283000000",
          "2021-09-10T16:12:16.162000000",
          "2021-09-12T16:02:24.639000000",
          "2021-09-27T16:02:22.657000000",
          "2021-10-02T16:02:24.382000000",
          "2021-10-20T15:46:29.102000000",
          "2021-10-22T16:02:29.144000000",
          "2021-10-27T16:02:25.334000000",
          "2021-11-01T16:02:28.152000000",
          "2021-11-05T15:46:27.757000000",
          "2021-11-06T16:02:24.330000000",
          "2021-11-16T16:02:22.161000000",
          "2021-11-19T15:43:12.618000000",
          "2021-11-19T16:12:17.301000000",
          "2021-11-24T15:45:39.806000000",
          "2021-11-24T16:12:19.836000000",
          "2021-12-04T16:12:19.100000000",
          "2021-12-14T16:12:19.538000000",
          "2021-12-23T15:46:21.424000000",
          "2021-12-24T16:12:21.150000000",
          "2021-12-26T16:02:19.289000000",
          "2022-01-08T16:12:15.820000000",
          "2022-01-24T15:46:12.924000000",
          "2022-02-01T15:46:19.467000000",
          "2022-02-09T15:46:09.914000000",
          "2022-02-09T16:02:22.910000000",
          "2022-02-27T16:12:16.040000000",
          "2022-03-04T16:12:23.557000000",
          "2022-03-11T16:02:27.937000000",
          "2022-03-16T16:02:21.984000000",
          "2022-03-21T15:46:02.368000000",
          "2022-03-21T16:02:27.117000000",
          "2022-03-29T15:45:47.410000000",
          "2022-03-29T16:12:16.647000000",
          "2022-04-08T16:12:16.627000000",
          "2022-04-15T16:02:20.013000000",
          "2022-04-20T16:02:28.245000000",
          "2022-04-28T16:12:12.425000000",
          "2022-04-30T16:02:28.992000000",
          "2022-05-10T16:02:27.624000000",
          "2022-05-30T16:02:31.629000000",
          "2022-06-19T16:02:35.577000000",
          "2022-06-25T15:45:56.222000000",
          "2022-06-29T16:02:36.771000000",
          "2022-07-04T16:02:28.963000000",
          "2022-07-11T15:45:52.230000000",
          "2022-07-14T16:02:28.213000000",
          "2022-07-22T16:12:30.806000000",
          "2022-07-24T16:02:28.910000000",
          "2022-08-03T16:02:28.444000000",
          "2022-08-04T15:46:30.514000000",
          "2022-08-12T15:46:13.949000000",
          "2022-08-13T16:02:27.035000000",
          "2022-08-18T16:02:36.483000000",
          "2022-08-20T15:46:35.304000000",
          "2022-09-17T16:02:32.618000000",
          "2022-09-21T15:46:42.134000000",
          "2022-10-07T15:46:38.039000000",
          "2022-10-07T16:02:30.392000000",
          "2022-10-10T16:12:25.582000000",
          "2022-10-15T15:46:29.466000000",
          "2022-10-15T16:12:19.004000000",
          "2022-10-20T16:12:21.299000000",
          "2022-10-22T16:02:23.279000000",
          "2022-10-27T16:02:27.173000000",
          "2022-11-19T16:12:20.886000000",
          "2022-11-21T16:02:23.518000000",
          "2022-11-26T16:02:23.348000000",
          "2022-12-01T16:02:22.068000000",
          "2022-12-09T16:12:20.262000000",
          "2022-12-21T16:02:22.962000000",
          "2022-12-26T15:46:27.177000000",
          "2022-12-26T16:02:22.249000000",
          "2022-12-29T16:12:18.585000000",
          "2023-01-15T16:02:20.479000000",
          "2023-02-04T15:46:33.027000000",
          "2023-02-04T16:02:22.726000000",
          "2023-02-24T16:02:21.439000000",
          "2023-03-08T15:46:12.279000000",
          "2023-03-09T16:12:14.455000000",
          "2023-03-16T16:02:21.435000000",
          "2023-03-26T16:02:22.141000000",
          "2023-04-09T15:45:58.093000000",
          "2023-04-10T16:02:25.541000000",
          "2023-04-13T16:12:20.295000000",
          "2023-04-17T15:45:35.049000000",
          "2023-04-20T16:02:25.829000000",
          "2023-05-10T16:02:26.339000000",
          "2023-05-15T16:02:24.682000000",
          "2023-05-25T16:02:27.340000000",
          "2023-06-29T16:02:28.946000000",
          "2023-07-30T15:45:43.911000000",
          "2023-08-01T16:12:24.818000000",
          "2023-08-31T15:45:59.702000000",
          "2023-09-02T16:02:29.149000000",
          "2023-09-16T15:46:08.022000000",
          "2023-10-02T15:46:07.789000000",
          "2023-10-02T16:02:25.717000000",
          "2023-10-10T15:46:12.749000000",
          "2023-10-12T16:02:21.431000000",
          "2023-10-25T16:12:19.822000000",
          "2023-11-03T15:46:10.512000000",
          "2023-11-11T16:02:23.050000000",
          "2023-11-16T16:02:22.888000000",
          "2023-11-19T15:46:17.245000000",
          "2023-11-19T16:12:17.171000000",
          "2024-01-03T16:12:16.440000000",
          "2024-01-05T16:02:23.701000000",
          "2024-01-22T15:46:16.562000000",
          "2024-02-04T16:02:22.118000000",
          "2024-02-07T15:46:22.027000000",
          "2024-02-07T16:12:19.384000000",
          "2024-02-14T16:02:24.977000000",
          "2024-02-19T16:02:21.834000000",
          "2024-02-29T16:02:23.776000000",
          "2024-03-25T16:02:24.309000000",
          "2024-04-14T16:02:24.726000000",
          "2024-04-29T16:02:26.564000000",
          "2024-05-13T15:45:36.137000000",
          "2024-05-21T15:45:08.927000000",
          "2024-05-22T16:12:19.182000000",
          "2024-06-08T16:02:29.726000000",
          "2024-06-14T15:45:17.486000000",
          "2024-06-18T16:02:29.340000000",
          "2024-06-22T15:45:17.551000000",
          "2024-06-28T16:02:26.739000000",
          "2024-07-03T16:02:27.551000000",
          "2024-07-16T15:45:30.002000000",
          "2024-07-16T16:12:22.959000000",
          "2024-07-28T16:02:26.488000000",
          "2024-08-01T15:45:32.966000000",
          "2024-08-02T16:02:24.713000000",
          "2024-08-05T16:12:22.327000000",
          "2024-08-12T16:02:28.170000000",
          "2024-08-22T16:02:22.928000000",
          "2024-08-25T15:45:48.471000000",
          "2024-08-25T16:12:20.583000000",
          "2024-08-27T16:02:22.051000000",
          "2024-09-09T16:12:18.941000000",
          "2024-09-10T15:45:56.188000000",
          "2024-09-11T16:02:25.163000000",
          "2024-10-06T16:02:23.430000000",
          "2024-10-09T16:12:15.220000000",
          "2024-10-11T16:02:21.862000000",
          "2024-10-19T16:12:19.751000000",
          "2024-10-20T15:46:11.080000000",
          "2024-10-21T16:02:24.773000000",
          "2024-10-28T15:46:02.732000000",
          "2024-10-31T16:02:23.413000000",
          "2024-11-03T16:12:17.147000000",
          "2024-11-05T16:02:20.471000000",
          "2024-11-08T16:12:16.809000000",
          "2024-11-13T16:12:15.474000000",
          "2024-11-21T15:46:16.319000000",
          "2024-11-25T16:02:26.274000000",
          "2024-12-03T16:12:20.474000000",
          "2024-12-23T15:46:14.181000000",
          "2024-12-23T16:12:21.268000000",
          "2024-12-30T16:02:25.004000000",
          "2025-01-09T16:02:23.857000000",
          "2025-01-14T16:02:21.725000000",
          "2025-01-22T16:12:21.129000000",
          "2025-01-24T16:02:52.322000000",
          "2025-01-29T16:02:26.519000000",
          "2025-02-23T16:02:44.509000000",
          "2025-03-10T16:02:26.289000000",
          "2025-03-21T15:45:44.306000000",
          "2025-03-25T16:02:45.378000000",
          "2025-03-27T16:02:31.489000000",
          "2025-03-30T16:02:24.571000000",
          "2020-05-08T18:42:28.151000000",
          "2020-05-09T18:19:09.457000000",
          "2020-05-10T18:32:26.246000000",
          "2020-05-25T18:19:13.022000000",
          "2020-05-28T18:42:29.993000000",
          "2020-06-02T18:42:25.659000000",
          "2020-06-04T18:32:34.139000000",
          "2020-06-10T18:19:22.062000000",
          "2020-06-19T18:13:16.352000000",
          "2020-06-19T18:32:30.341000000",
          "2020-06-22T18:42:26.458000000",
          "2020-06-26T18:19:30.714000000",
          "2020-07-04T18:32:32.467000000",
          "2020-07-05T18:13:23.891000000",
          "2020-07-07T18:42:28.168000000",
          "2020-07-09T18:32:29.669000000",
          "2020-07-12T18:19:37.359000000",
          "2020-07-14T18:32:32.413000000",
          "2020-07-19T18:32:29.441000000",
          "2020-07-21T18:13:29.438000000",
          "2020-07-24T18:32:33.301000000",
          "2020-07-29T18:32:30.493000000",
          "2020-08-03T18:32:33.764000000",
          "2020-08-08T18:32:27.844000000",
          "2020-08-11T18:42:27.330000000",
          "2020-08-13T18:19:45.657000000",
          "2020-08-13T18:32:33.750000000",
          "2020-08-16T18:42:29.732000000",
          "2020-08-21T18:42:27.428000000",
          "2020-08-23T18:32:33.352000000",
          "2020-08-26T18:42:29.181000000",
          "2020-08-28T18:32:31.133000000",
          "2020-08-29T18:19:54.122000000",
          "2020-09-02T18:32:32.514000000",
          "2020-09-05T18:42:28.226000000",
          "2020-09-07T18:13:47.144000000",
          "2020-09-07T18:32:30.491000000",
          "2020-09-10T18:42:26.266000000",
          "2020-09-14T18:20:00.460000000",
          "2020-09-15T18:42:28.260000000",
          "2020-09-20T18:42:25.960000000",
          "2020-09-27T18:32:30.707000000",
          "2020-09-30T18:20:04.620000000",
          "2020-09-30T18:42:27.074000000",
          "2020-10-07T18:32:31.458000000",
          "2020-10-09T18:13:54.966000000",
          "2020-10-16T18:20:06.143000000",
          "2020-10-17T18:32:31.559000000",
          "2020-10-30T18:42:26.813000000",
          "2020-11-01T18:32:32.841000000",
          "2020-11-04T18:42:28.644000000",
          "2020-11-14T18:42:27.364000000",
          "2020-11-21T18:32:29.954000000",
          "2020-11-29T18:42:23.477000000",
          "2020-12-03T18:20:07.093000000",
          "2020-12-04T18:42:22.413000000",
          "2020-12-09T18:42:21.449000000",
          "2020-12-12T18:13:56.127000000",
          "2020-12-24T18:42:23.125000000",
          "2021-01-05T18:32:26.713000000",
          "2021-02-07T18:42:22.956000000",
          "2021-02-22T18:42:23.510000000",
          "2021-03-01T18:32:27.713000000",
          "2021-03-02T18:13:33.502000000",
          "2021-03-04T18:42:23.753000000",
          "2021-03-14T18:42:23.359000000",
          "2021-03-16T18:32:27.154000000",
          "2021-03-29T18:42:22.389000000",
          "2021-03-31T18:32:25.075000000",
          "2021-04-08T18:42:20.983000000",
          "2021-04-10T18:19:29.235000000",
          "2021-04-10T18:32:22.887000000",
          "2021-04-18T18:42:18.996000000",
          "2021-04-20T18:32:23.080000000",
          "2021-04-28T18:42:19.372000000",
          "2021-05-05T18:13:04.561000000",
          "2021-05-05T18:32:25.060000000",
          "2021-05-08T18:42:21.773000000",
          "2021-05-12T18:19:19.286000000",
          "2021-05-13T18:42:23.615000000",
          "2021-05-18T18:42:23.480000000",
          "2021-05-30T18:32:28.665000000",
          "2021-06-02T18:42:24.733000000",
          "2021-06-04T18:32:28.814000000",
          "2021-06-06T18:13:22.203000000",
          "2021-06-07T18:42:24.953000000",
          "2021-06-09T18:32:28.510000000",
          "2021-06-12T18:42:24.434000000",
          "2021-06-13T18:19:35.624000000",
          "2021-06-14T18:32:28.856000000",
          "2021-06-17T18:42:24.797000000",
          "2021-06-19T18:32:28.332000000",
          "2021-06-22T18:13:27.292000000",
          "2021-06-22T18:42:24.891000000",
          "2021-06-27T18:42:24.740000000",
          "2021-06-29T18:19:39.452000000",
          "2021-06-29T18:32:29.674000000",
          "2021-07-02T18:42:26.101000000",
          "2021-07-08T18:13:29.524000000",
          "2021-07-09T18:32:30.706000000",
          "2021-07-12T18:42:26.978000000",
          "2021-07-14T18:32:29.867000000",
          "2021-07-15T18:19:40.443000000",
          "2021-07-22T18:42:27.306000000",
          "2021-07-24T18:13:34.878000000",
          "2021-07-24T18:32:29.850000000",
          "2021-08-03T18:32:29.224000000",
          "2021-08-08T18:32:30.520000000",
          "2021-08-09T18:13:42.004000000",
          "2021-08-11T18:42:26.486000000",
          "2021-08-13T18:32:28.112000000",
          "2021-08-23T18:32:26.483000000",
          "2021-08-25T18:13:46.547000000",
          "2021-08-28T18:32:29.477000000",
          "2021-08-31T18:42:25.190000000",
          "2021-09-01T18:19:59.733000000",
          "2021-09-02T18:32:24.258000000",
          "2021-09-05T18:42:20.362000000",
          "2021-09-12T18:32:24.063000000",
          "2021-09-15T18:42:19.940000000",
          "2021-09-17T18:20:03.320000000",
          "2021-09-17T18:32:29.840000000",
          "2021-09-22T18:32:25.493000000",
          "2021-09-25T18:42:22.289000000",
          "2021-09-26T18:13:54.738000000",
          "2021-09-27T18:32:31.781000000",
          "2021-09-30T18:42:28.266000000",
          "2021-10-02T18:32:27.632000000",
          "2021-10-03T18:20:08.394000000",
          "2021-10-15T18:42:25.233000000",
          "2021-10-28T18:14:01.055000000",
          "2021-11-03T18:12:22.425000000",
          "2021-11-16T18:32:28.482000000",
          "2021-11-21T18:32:24.724000000",
          "2021-11-29T18:13:56.761000000",
          "2021-11-29T18:42:23.670000000",
          "2021-12-21T18:32:22.559000000",
          "2022-01-08T18:13:50.513000000",
          "2022-01-10T18:32:23.784000000",
          "2022-01-30T18:32:21.909000000",
          "2022-01-31T18:20:02.321000000",
          "2022-02-19T18:32:21.975000000",
          "2022-03-11T18:32:25.859000000",
          "2022-03-12T18:19:43.437000000",
          "2022-03-24T18:42:21.471000000",
          "2022-03-31T18:32:24.244000000",
          "2022-04-03T18:42:20.643000000",
          "2022-04-06T18:13:21.987000000",
          "2022-04-18T18:42:27.933000000",
          "2022-05-15T18:19:41.822000000",
          "2022-05-15T18:32:32.477000000",
          "2022-05-16T18:13:09.135000000",
          "2022-05-25T18:32:35.126000000",
          "2022-06-02T18:42:23.469000000",
          "2022-06-07T18:42:32.240000000",
          "2022-06-16T18:19:57.071000000",
          "2022-06-17T18:13:14.147000000",
          "2022-06-17T18:42:35.227000000",
          "2022-06-22T18:42:28.635000000",
          "2022-06-24T18:19:39.025000000",
          "2022-06-24T18:32:40.308000000",
          "2022-06-25T18:13:49.160000000",
          "2022-06-27T18:42:36.659000000",
          "2022-07-02T18:20:00.644000000",
          "2022-07-02T18:42:29.051000000",
          "2022-07-03T18:13:26.993000000",
          "2022-07-04T18:32:40.923000000",
          "2022-07-07T18:42:36.930000000",
          "2022-07-10T18:19:35.419000000",
          "2022-07-11T18:13:48.950000000",
          "2022-07-12T18:42:28.319000000",
          "2022-07-14T18:32:40.377000000",
          "2022-07-18T18:20:01.710000000",
          "2022-07-22T18:42:28.935000000",
          "2022-07-24T18:32:38.289000000",
          "2022-07-26T18:19:45.689000000",
          "2022-07-29T18:32:32.775000000",
          "2022-08-01T18:42:28.658000000",
          "2022-08-03T18:20:12.827000000",
          "2022-08-03T18:32:38.581000000",
          "2022-08-08T18:32:31.840000000",
          "2022-08-11T18:19:56.337000000",
          "2022-08-11T18:42:27.447000000",
          "2022-08-12T18:14:05.823000000",
          "2022-08-16T18:42:36.430000000",
          "2022-08-21T18:42:25.029000000",
          "2022-08-23T18:32:40.493000000",
          "2022-08-26T18:42:36.471000000",
          "2022-08-28T18:14:07.202000000",
          "2022-08-28T18:32:28.308000000",
          "2022-08-31T18:42:24.922000000",
          "2022-09-02T18:32:39.894000000",
          "2022-09-04T18:20:18.678000000",
          "2022-09-05T18:13:48.675000000",
          "2022-09-05T18:42:35.539000000",
          "2022-09-10T18:42:25.889000000",
          "2022-09-20T18:42:25.284000000",
          "2022-09-21T18:13:55.302000000",
          "2022-09-25T18:42:31.069000000",
          "2022-09-27T18:32:27.968000000",
          "2022-10-02T18:32:35.010000000",
          "2022-10-05T18:42:30.749000000",
          "2022-10-06T18:20:21.432000000",
          "2022-10-07T18:13:56.558000000",
          "2022-10-07T18:32:25.331000000",
          "2022-10-10T18:42:22.280000000",
          "2022-10-12T18:32:32.926000000",
          "2022-10-14T18:20:11.917000000",
          "2022-10-15T18:14:06.181000000",
          "2022-10-15T18:42:27.790000000",
          "2022-10-17T18:32:27.187000000",
          "2022-10-20T18:42:23.347000000",
          "2022-10-30T18:20:11.889000000",
          "2022-10-30T18:42:22.442000000",
          "2022-11-06T18:32:26.290000000",
          "2022-11-15T18:20:14.368000000",
          "2022-11-19T18:42:23.634000000",
          "2022-11-24T18:14:02.331000000",
          "2022-11-24T18:42:23.001000000",
          "2022-12-02T18:14:08.918000000",
          "2022-12-18T18:14:01.343000000",
          "2022-12-21T18:32:25.769000000",
          "2023-01-11T18:14:00.569000000",
          "2023-01-30T18:32:26.083000000",
          "2023-02-02T18:42:22.596000000",
          "2023-02-04T18:32:25.181000000",
          "2023-02-09T18:32:26.560000000",
          "2023-02-12T18:14:04.636000000",
          "2023-02-17T18:42:22.235000000",
          "2023-02-24T18:32:28.241000000",
          "2023-03-11T18:32:23.552000000",
          "2023-03-16T18:13:43.947000000",
          "2023-03-16T18:32:31.870000000",
          "2023-04-08T18:19:41.434000000",
          "2023-04-08T18:42:26.181000000",
          "2023-04-09T18:13:10.490000000",
          "2023-04-10T18:32:27.995000000",
          "2023-04-15T18:32:28.930000000",
          "2023-04-25T18:13:05.969000000",
          "2023-04-25T18:32:29.654000000",
          "2023-04-28T18:42:25.658000000",
          "2023-04-30T18:32:28.178000000",
          "2023-05-11T18:12:53.124000000",
          "2023-05-19T18:13:08.582000000",
          "2023-05-20T18:32:30.383000000",
          "2023-06-04T18:13:02.317000000",
          "2023-06-22T18:42:21.565000000",
          "2023-06-24T18:32:32.120000000",
          "2023-06-28T18:13:09.561000000",
          "2023-06-29T18:32:32.116000000",
          "2023-07-02T18:42:28.694000000",
          "2023-07-04T18:32:33.230000000",
          "2023-07-05T18:19:25.463000000",
          "2023-07-09T18:32:33.106000000",
          "2023-07-12T18:42:29.045000000",
          "2023-07-13T18:19:21.849000000",
          "2023-07-14T18:13:17.456000000",
          "2023-07-14T18:32:32.727000000",
          "2023-07-19T18:32:31.897000000",
          "2023-07-21T18:19:28.673000000",
          "2023-07-22T18:13:10.457000000",
          "2023-07-22T18:42:28.250000000",
          "2023-07-29T18:19:25.846000000",
          "2023-07-29T18:32:33.110000000",
          "2023-07-30T18:13:24.943000000",
          "2023-08-06T18:42:29.022000000",
          "2023-08-11T18:42:28.668000000",
          "2023-08-13T18:32:33.447000000",
          "2023-08-14T18:19:32.240000000",
          "2023-08-15T18:13:30.516000000",
          "2023-08-16T18:42:29.378000000",
          "2023-08-23T18:13:26.794000000",
          "2023-08-23T18:32:32.058000000",
          "2023-08-26T18:42:28.218000000",
          "2023-08-28T18:32:33.494000000",
          "2023-08-30T18:19:42.115000000",
          "2023-08-31T18:13:34.820000000",
          "2023-08-31T18:42:29.028000000",
          "2023-09-07T18:19:44.356000000",
          "2023-09-07T18:32:33.116000000",
          "2023-09-08T18:13:37.050000000",
          "2023-09-10T18:42:28.857000000",
          "2023-09-12T18:32:31.173000000",
          "2023-09-15T18:19:50.723000000",
          "2023-09-15T18:42:26.913000000",
          "2023-09-16T18:13:39.014000000",
          "2023-09-23T18:19:50.622000000",
          "2023-09-25T18:42:27.197000000",
          "2023-10-05T18:42:23.659000000",
          "2023-10-09T18:19:55.171000000",
          "2023-10-17T18:20:00.625000000",
          "2023-10-17T18:32:27.163000000",
          "2023-10-18T18:13:43.695000000",
          "2023-10-20T18:42:23.764000000",
          "2023-10-27T18:32:27.730000000",
          "2023-10-30T18:42:23.274000000",
          "2023-11-09T18:42:23.293000000",
          "2023-11-11T18:13:45.837000000",
          "2023-11-11T18:32:29.062000000",
          "2023-11-14T18:42:23.871000000",
          "2023-11-21T18:32:23.899000000",
          "2023-11-27T18:13:53.854000000",
          "2023-11-29T18:42:15.650000000",
          "2023-12-21T18:13:48.289000000",
          "2023-12-21T18:32:28.741000000",
          "2023-12-29T18:13:53.988000000",
          "2023-12-29T18:42:20.973000000",
          "2023-12-31T18:32:28.792000000",
          "2024-01-30T18:13:52.303000000",
          "2024-01-30T18:32:25.250000000",
          "2024-02-04T18:32:23.726000000",
          "2024-02-17T18:42:21.876000000",
          "2024-02-24T18:32:26.406000000",
          "2024-03-09T18:19:56.880000000",
          "2024-03-17T18:19:33.894000000",
          "2024-03-18T18:13:44.380000000",
          "2024-03-18T18:42:24.593000000",
          "2024-03-20T18:32:27.776000000",
          "2024-04-02T18:19:22.743000000",
          "2024-04-02T18:42:22.385000000",
          "2024-04-03T18:13:35.432000000",
          "2024-04-10T18:19:43.074000000",
          "2024-04-11T18:13:09.610000000",
          "2024-04-17T18:42:27.027000000",
          "2024-04-18T18:19:13.978000000",
          "2024-04-19T18:13:21.708000000",
          "2024-04-22T18:42:23.758000000",
          "2024-05-12T18:19:20.050000000",
          "2024-05-12T18:42:23.825000000",
          "2024-05-17T18:42:25.986000000",
          "2024-05-19T18:32:26.764000000",
          "2024-05-21T18:13:02.581000000",
          "2024-05-24T18:32:27.286000000",
          "2024-05-27T18:42:25.207000000",
          "2024-05-28T18:19:07.293000000",
          "2024-05-29T18:32:27.592000000",
          "2024-06-06T18:12:56.416000000",
          "2024-06-06T18:42:29.377000000",
          "2024-06-08T18:32:23.378000000",
          "2024-06-11T18:42:27.111000000",
          "2024-06-13T18:19:01.352000000",
          "2024-06-13T18:32:33.910000000",
          "2024-06-14T18:12:41.815000000",
          "2024-06-16T18:42:29.677000000",
          "2024-06-18T18:32:30.263000000",
          "2024-06-21T18:18:59.677000000",
          "2024-06-21T18:42:26.257000000",
          "2024-06-22T18:12:36.885000000",
          "2024-06-23T18:32:31.999000000",
          "2024-06-29T18:18:53.644000000",
          "2024-06-30T18:12:52.474000000",
          "2024-07-01T18:42:27.746000000",
          "2024-07-03T18:32:31.382000000",
          "2024-07-07T18:19:07.734000000",
          "2024-07-08T18:12:56.114000000",
          "2024-07-11T18:42:25.688000000",
          "2024-07-15T18:19:12.436000000",
          "2024-07-16T18:13:05.936000000",
          "2024-07-16T18:42:25.146000000",
          "2024-07-18T18:32:31.259000000",
          "2024-07-21T18:42:27.335000000",
          "2024-07-23T18:19:22.460000000",
          "2024-07-23T18:32:29.905000000",
          "2024-07-28T18:32:29.683000000",
          "2024-07-31T18:19:15.268000000",
          "2024-07-31T18:42:24.574000000",
          "2024-08-01T18:13:11.488000000",
          "2024-08-02T18:32:30.458000000",
          "2024-08-16T18:19:22.870000000",
          "2024-08-17T18:13:18.134000000",
          "2024-08-17T18:32:30.366000000",
          "2024-08-22T18:32:24.970000000",
          "2024-08-25T18:13:21.351000000",
          "2024-08-25T18:42:21.836000000",
          "2024-08-27T18:32:29.549000000",
          "2024-08-30T18:42:26.506000000",
          "2024-09-01T18:19:31.070000000",
          "2024-09-01T18:32:27.431000000",
          "2024-09-04T18:42:23.977000000",
          "2024-09-06T18:32:30.334000000",
          "2024-09-09T18:19:39.487000000",
          "2024-09-09T18:42:25.910000000",
          "2024-09-10T18:13:23.175000000",
          "2024-09-14T18:42:22.732000000",
          "2024-09-19T18:42:18.881000000",
          "2024-09-24T18:42:25.623000000",
          "2024-09-25T18:19:38.128000000",
          "2024-09-26T18:13:25.521000000",
          "2024-09-29T18:42:24.642000000",
          "2024-10-09T18:42:22.070000000",
          "2024-10-11T18:19:45.392000000",
          "2024-10-11T18:32:25.851000000",
          "2024-10-12T18:13:33.598000000",
          "2024-10-14T18:42:23.040000000",
          "2024-10-16T18:32:28.013000000",
          "2024-10-19T18:19:53.094000000",
          "2024-10-19T18:42:24.695000000",
          "2024-10-20T18:13:39.882000000",
          "2024-10-21T18:32:27.713000000",
          "2024-11-08T18:42:17.444000000",
          "2024-11-12T18:19:45.301000000",
          "2024-11-29T18:13:50.990000000",
          "2024-12-03T18:42:24.472000000",
          "2024-12-06T18:19:54.780000000",
          "2024-12-15T18:13:43.946000000",
          "2024-12-15T18:32:29.010000000",
          "2024-12-20T18:32:27.472000000",
          "2024-12-30T18:19:48.880000000",
          "2024-12-30T18:32:28.565000000",
          "2024-12-31T18:13:42.095000000",
          "2025-01-07T18:19:52.552000000",
          "2025-01-07T18:42:24.115000000",
          "2025-01-15T18:19:51.062000000",
          "2025-01-16T18:13:47.119000000",
          "2025-01-19T18:32:26.628000000",
          "2025-01-22T18:42:52.462000000",
          "2025-01-27T18:42:26.437000000",
          "2025-02-09T18:13:37.190000000",
          "2025-02-26T18:42:27.091000000",
          "2025-02-28T18:32:52.223000000",
          "2025-03-08T18:42:26.702000000",
          "2025-03-10T18:32:51.137000000"
         ],
         "y": {
          "bdata": "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",
          "dtype": "f8"
         }
        },
        {
         "hovertemplate": "Date: %{x}<br>Predicted: %{y:.3f}<extra></extra>",
         "line": {
          "color": "lightblue",
          "width": 2
         },
         "mode": "lines",
         "name": "Historical Fit",
         "type": "scatter",
         "x": [
          "2020-05-08T18:42:28.151000000",
          "2020-05-09T18:19:09.457000000",
          "2020-05-10T18:32:26.246000000",
          "2020-05-25T18:19:13.022000000",
          "2020-05-28T18:42:29.993000000",
          "2020-06-02T18:42:25.659000000",
          "2020-06-04T18:32:34.139000000",
          "2020-06-10T18:19:22.062000000",
          "2020-06-19T18:13:16.352000000",
          "2020-06-19T18:32:30.341000000",
          "2020-06-22T18:42:26.458000000",
          "2020-06-24T16:02:26.381000000",
          "2020-06-26T18:19:30.714000000",
          "2020-06-29T16:02:29.019000000",
          "2020-07-04T18:32:32.467000000",
          "2020-07-05T18:13:23.891000000",
          "2020-07-07T18:42:28.168000000",
          "2020-07-09T18:32:29.669000000",
          "2020-07-12T18:19:37.359000000",
          "2020-07-14T16:02:25.234000000",
          "2020-07-14T18:32:32.413000000",
          "2020-07-19T18:32:29.441000000",
          "2020-07-21T18:13:29.438000000",
          "2020-07-24T18:32:33.301000000",
          "2020-07-29T15:45:59.461000000",
          "2020-07-29T16:02:29.575000000",
          "2020-07-29T18:32:30.493000000",
          "2020-08-03T18:32:33.764000000",
          "2020-08-08T18:32:27.844000000",
          "2020-08-11T18:42:27.330000000",
          "2020-08-13T18:19:45.657000000",
          "2020-08-13T18:32:33.750000000",
          "2020-08-16T18:42:29.732000000",
          "2020-08-21T18:42:27.428000000",
          "2020-08-23T18:32:33.352000000",
          "2020-08-26T16:12:23.191000000",
          "2020-08-26T18:42:29.181000000",
          "2020-08-28T18:32:31.133000000",
          "2020-08-29T18:19:54.122000000",
          "2020-09-02T18:32:32.514000000",
          "2020-09-05T16:12:22.661000000",
          "2020-09-05T18:42:28.226000000",
          "2020-09-07T18:13:47.144000000",
          "2020-09-07T18:32:30.491000000",
          "2020-09-10T18:42:26.266000000",
          "2020-09-14T18:20:00.460000000",
          "2020-09-15T16:12:21.628000000",
          "2020-09-15T18:42:28.260000000",
          "2020-09-20T16:12:24.709000000",
          "2020-09-20T18:42:25.960000000",
          "2020-09-22T16:02:26.146000000",
          "2020-09-27T18:32:30.707000000",
          "2020-09-30T18:20:04.620000000",
          "2020-09-30T18:42:27.074000000",
          "2020-10-07T16:02:29.694000000",
          "2020-10-07T18:32:31.458000000",
          "2020-10-09T18:13:54.966000000",
          "2020-10-15T16:12:23.556000000",
          "2020-10-16T18:20:06.143000000",
          "2020-10-17T15:46:23.371000000",
          "2020-10-17T16:02:29.491000000",
          "2020-10-17T18:32:31.559000000",
          "2020-10-30T18:42:26.813000000",
          "2020-11-01T18:32:32.841000000",
          "2020-11-04T16:12:22.103000000",
          "2020-11-04T18:42:28.644000000",
          "2020-11-06T16:02:28.422000000",
          "2020-11-14T16:12:20.678000000",
          "2020-11-14T18:42:27.364000000",
          "2020-11-16T16:02:27.012000000",
          "2020-11-21T18:32:29.954000000",
          "2020-11-24T16:12:20.010000000",
          "2020-11-29T16:12:19.929000000",
          "2020-11-29T18:42:23.477000000",
          "2020-12-03T18:20:07.093000000",
          "2020-12-04T18:42:22.413000000",
          "2020-12-06T16:02:21.700000000",
          "2020-12-09T18:42:21.449000000",
          "2020-12-11T16:02:20.926000000",
          "2020-12-12T18:13:56.127000000",
          "2020-12-24T18:42:23.125000000",
          "2020-12-29T16:12:19.702000000",
          "2021-01-05T18:32:26.713000000",
          "2021-01-10T16:02:23.216000000",
          "2021-01-13T16:12:19.393000000",
          "2021-01-30T16:02:23.569000000",
          "2021-02-04T16:02:23.434000000",
          "2021-02-07T18:42:22.956000000",
          "2021-02-22T18:42:23.510000000",
          "2021-02-24T16:02:23.577000000",
          "2021-03-01T18:32:27.713000000",
          "2021-03-02T18:13:33.502000000",
          "2021-03-04T18:42:23.753000000",
          "2021-03-10T15:45:57.104000000",
          "2021-03-11T16:02:23.187000000",
          "2021-03-14T16:12:19.161000000",
          "2021-03-14T18:42:23.359000000",
          "2021-03-16T18:32:27.154000000",
          "2021-03-21T16:02:22.980000000",
          "2021-03-29T16:12:17.433000000",
          "2021-03-29T18:42:22.389000000",
          "2021-03-31T18:32:25.075000000",
          "2021-04-03T16:12:17.663000000",
          "2021-04-05T16:02:20.081000000",
          "2021-04-08T16:12:15.373000000",
          "2021-04-08T18:42:20.983000000",
          "2021-04-10T18:19:29.235000000",
          "2021-04-10T18:32:22.887000000",
          "2021-04-18T18:42:18.996000000",
          "2021-04-20T18:32:23.080000000",
          "2021-04-23T16:12:14.144000000",
          "2021-04-27T15:45:38.023000000",
          "2021-04-28T18:42:19.372000000",
          "2021-05-05T18:13:04.561000000",
          "2021-05-05T18:32:25.060000000",
          "2021-05-08T18:42:21.773000000",
          "2021-05-12T18:19:19.286000000",
          "2021-05-13T15:45:37.141000000",
          "2021-05-13T18:42:23.615000000",
          "2021-05-18T18:42:23.480000000",
          "2021-05-20T16:02:23.683000000",
          "2021-05-30T18:32:28.665000000",
          "2021-06-02T18:42:24.733000000",
          "2021-06-04T18:32:28.814000000",
          "2021-06-06T18:13:22.203000000",
          "2021-06-07T18:42:24.953000000",
          "2021-06-09T18:32:28.510000000",
          "2021-06-12T18:42:24.434000000",
          "2021-06-13T18:19:35.624000000",
          "2021-06-14T18:32:28.856000000",
          "2021-06-17T16:12:19.965000000",
          "2021-06-17T18:42:24.797000000",
          "2021-06-19T18:32:28.332000000",
          "2021-06-22T18:13:27.292000000",
          "2021-06-22T18:42:24.891000000",
          "2021-06-27T18:42:24.740000000",
          "2021-06-29T16:02:24.897000000",
          "2021-06-29T18:19:39.452000000",
          "2021-06-29T18:32:29.674000000",
          "2021-06-30T15:45:56.799000000",
          "2021-07-02T18:42:26.101000000",
          "2021-07-08T18:13:29.524000000",
          "2021-07-09T18:32:30.706000000",
          "2021-07-12T18:42:26.978000000",
          "2021-07-14T18:32:29.867000000",
          "2021-07-15T18:19:40.443000000",
          "2021-07-16T15:45:58.188000000",
          "2021-07-17T16:12:23.088000000",
          "2021-07-22T18:42:27.306000000",
          "2021-07-24T18:13:34.878000000",
          "2021-07-24T18:32:29.850000000",
          "2021-07-27T16:12:23.174000000",
          "2021-08-03T18:32:29.224000000",
          "2021-08-08T16:02:24.780000000",
          "2021-08-08T18:32:30.520000000",
          "2021-08-09T18:13:42.004000000",
          "2021-08-11T16:12:20.373000000",
          "2021-08-11T18:42:26.486000000",
          "2021-08-13T18:32:28.112000000",
          "2021-08-23T18:32:26.483000000",
          "2021-08-25T18:13:46.547000000",
          "2021-08-26T16:12:21.651000000",
          "2021-08-28T18:32:29.477000000",
          "2021-08-31T18:42:25.190000000",
          "2021-09-01T18:19:59.733000000",
          "2021-09-02T15:46:17.241000000",
          "2021-09-02T16:02:24.903000000",
          "2021-09-02T18:32:24.258000000",
          "2021-09-05T18:42:20.362000000",
          "2021-09-07T16:02:20.283000000",
          "2021-09-10T16:12:16.162000000",
          "2021-09-12T16:02:24.639000000",
          "2021-09-12T18:32:24.063000000",
          "2021-09-15T18:42:19.940000000",
          "2021-09-17T18:20:03.320000000",
          "2021-09-17T18:32:29.840000000",
          "2021-09-22T18:32:25.493000000",
          "2021-09-25T18:42:22.289000000",
          "2021-09-26T18:13:54.738000000",
          "2021-09-27T16:02:22.657000000",
          "2021-09-27T18:32:31.781000000",
          "2021-09-30T18:42:28.266000000",
          "2021-10-02T16:02:24.382000000",
          "2021-10-02T18:32:27.632000000",
          "2021-10-03T18:20:08.394000000",
          "2021-10-15T18:42:25.233000000",
          "2021-10-20T15:46:29.102000000",
          "2021-10-22T16:02:29.144000000",
          "2021-10-27T16:02:25.334000000",
          "2021-10-28T18:14:01.055000000",
          "2021-11-01T16:02:28.152000000",
          "2021-11-03T18:12:22.425000000",
          "2021-11-05T15:46:27.757000000",
          "2021-11-06T16:02:24.330000000",
          "2021-11-16T16:02:22.161000000",
          "2021-11-16T18:32:28.482000000",
          "2021-11-19T15:43:12.618000000",
          "2021-11-19T16:12:17.301000000",
          "2021-11-21T18:32:24.724000000",
          "2021-11-24T15:45:39.806000000",
          "2021-11-24T16:12:19.836000000",
          "2021-11-29T18:13:56.761000000",
          "2021-11-29T18:42:23.670000000",
          "2021-12-04T16:12:19.100000000",
          "2021-12-14T16:12:19.538000000",
          "2021-12-21T18:32:22.559000000",
          "2021-12-23T15:46:21.424000000",
          "2021-12-24T16:12:21.150000000",
          "2021-12-26T16:02:19.289000000",
          "2022-01-08T16:12:15.820000000",
          "2022-01-08T18:13:50.513000000",
          "2022-01-10T18:32:23.784000000",
          "2022-01-24T15:46:12.924000000",
          "2022-01-30T18:32:21.909000000",
          "2022-01-31T18:20:02.321000000",
          "2022-02-01T15:46:19.467000000",
          "2022-02-09T15:46:09.914000000",
          "2022-02-09T16:02:22.910000000",
          "2022-02-19T18:32:21.975000000",
          "2022-02-27T16:12:16.040000000",
          "2022-03-04T16:12:23.557000000",
          "2022-03-11T16:02:27.937000000",
          "2022-03-11T18:32:25.859000000",
          "2022-03-12T18:19:43.437000000",
          "2022-03-16T16:02:21.984000000",
          "2022-03-21T15:46:02.368000000",
          "2022-03-21T16:02:27.117000000",
          "2022-03-24T18:42:21.471000000",
          "2022-03-29T15:45:47.410000000",
          "2022-03-29T16:12:16.647000000",
          "2022-03-31T18:32:24.244000000",
          "2022-04-03T18:42:20.643000000",
          "2022-04-06T18:13:21.987000000",
          "2022-04-08T16:12:16.627000000",
          "2022-04-15T16:02:20.013000000",
          "2022-04-18T18:42:27.933000000",
          "2022-04-20T16:02:28.245000000",
          "2022-04-28T16:12:12.425000000",
          "2022-04-30T16:02:28.992000000",
          "2022-05-10T16:02:27.624000000",
          "2022-05-15T18:19:41.822000000",
          "2022-05-15T18:32:32.477000000",
          "2022-05-16T18:13:09.135000000",
          "2022-05-25T18:32:35.126000000",
          "2022-05-30T16:02:31.629000000",
          "2022-06-02T18:42:23.469000000",
          "2022-06-07T18:42:32.240000000",
          "2022-06-16T18:19:57.071000000",
          "2022-06-17T18:13:14.147000000",
          "2022-06-17T18:42:35.227000000",
          "2022-06-19T16:02:35.577000000",
          "2022-06-22T18:42:28.635000000",
          "2022-06-24T18:19:39.025000000",
          "2022-06-24T18:32:40.308000000",
          "2022-06-25T15:45:56.222000000",
          "2022-06-25T18:13:49.160000000",
          "2022-06-27T18:42:36.659000000",
          "2022-06-29T16:02:36.771000000",
          "2022-07-02T18:20:00.644000000",
          "2022-07-02T18:42:29.051000000",
          "2022-07-03T18:13:26.993000000",
          "2022-07-04T16:02:28.963000000",
          "2022-07-04T18:32:40.923000000",
          "2022-07-07T18:42:36.930000000",
          "2022-07-10T18:19:35.419000000",
          "2022-07-11T15:45:52.230000000",
          "2022-07-11T18:13:48.950000000",
          "2022-07-12T18:42:28.319000000",
          "2022-07-14T16:02:28.213000000",
          "2022-07-14T18:32:40.377000000",
          "2022-07-18T18:20:01.710000000",
          "2022-07-22T16:12:30.806000000",
          "2022-07-22T18:42:28.935000000",
          "2022-07-24T16:02:28.910000000",
          "2022-07-24T18:32:38.289000000",
          "2022-07-26T18:19:45.689000000",
          "2022-07-29T18:32:32.775000000",
          "2022-08-01T18:42:28.658000000",
          "2022-08-03T16:02:28.444000000",
          "2022-08-03T18:20:12.827000000",
          "2022-08-03T18:32:38.581000000",
          "2022-08-04T15:46:30.514000000",
          "2022-08-08T18:32:31.840000000",
          "2022-08-11T18:19:56.337000000",
          "2022-08-11T18:42:27.447000000",
          "2022-08-12T15:46:13.949000000",
          "2022-08-12T18:14:05.823000000",
          "2022-08-13T16:02:27.035000000",
          "2022-08-16T18:42:36.430000000",
          "2022-08-18T16:02:36.483000000",
          "2022-08-20T15:46:35.304000000",
          "2022-08-21T18:42:25.029000000",
          "2022-08-23T18:32:40.493000000",
          "2022-08-26T18:42:36.471000000",
          "2022-08-28T18:14:07.202000000",
          "2022-08-28T18:32:28.308000000",
          "2022-08-31T18:42:24.922000000",
          "2022-09-02T18:32:39.894000000",
          "2022-09-04T18:20:18.678000000",
          "2022-09-05T18:13:48.675000000",
          "2022-09-05T18:42:35.539000000",
          "2022-09-10T18:42:25.889000000",
          "2022-09-17T16:02:32.618000000",
          "2022-09-20T18:42:25.284000000",
          "2022-09-21T15:46:42.134000000",
          "2022-09-21T18:13:55.302000000",
          "2022-09-25T18:42:31.069000000",
          "2022-09-27T18:32:27.968000000",
          "2022-10-02T18:32:35.010000000",
          "2022-10-05T18:42:30.749000000",
          "2022-10-06T18:20:21.432000000",
          "2022-10-07T15:46:38.039000000",
          "2022-10-07T16:02:30.392000000",
          "2022-10-07T18:13:56.558000000",
          "2022-10-07T18:32:25.331000000",
          "2022-10-10T16:12:25.582000000",
          "2022-10-10T18:42:22.280000000",
          "2022-10-12T18:32:32.926000000",
          "2022-10-14T18:20:11.917000000",
          "2022-10-15T15:46:29.466000000",
          "2022-10-15T16:12:19.004000000",
          "2022-10-15T18:14:06.181000000",
          "2022-10-15T18:42:27.790000000",
          "2022-10-17T18:32:27.187000000",
          "2022-10-20T16:12:21.299000000",
          "2022-10-20T18:42:23.347000000",
          "2022-10-22T16:02:23.279000000",
          "2022-10-27T16:02:27.173000000",
          "2022-10-30T18:20:11.889000000",
          "2022-10-30T18:42:22.442000000",
          "2022-11-06T18:32:26.290000000",
          "2022-11-15T18:20:14.368000000",
          "2022-11-19T16:12:20.886000000",
          "2022-11-19T18:42:23.634000000",
          "2022-11-21T16:02:23.518000000",
          "2022-11-24T18:14:02.331000000",
          "2022-11-24T18:42:23.001000000",
          "2022-11-26T16:02:23.348000000",
          "2022-12-01T16:02:22.068000000",
          "2022-12-02T18:14:08.918000000",
          "2022-12-09T16:12:20.262000000",
          "2022-12-18T18:14:01.343000000",
          "2022-12-21T16:02:22.962000000",
          "2022-12-21T18:32:25.769000000",
          "2022-12-26T15:46:27.177000000",
          "2022-12-26T16:02:22.249000000",
          "2022-12-29T16:12:18.585000000",
          "2023-01-11T18:14:00.569000000",
          "2023-01-15T16:02:20.479000000",
          "2023-01-30T18:32:26.083000000",
          "2023-02-02T18:42:22.596000000",
          "2023-02-04T15:46:33.027000000",
          "2023-02-04T16:02:22.726000000",
          "2023-02-04T18:32:25.181000000",
          "2023-02-09T18:32:26.560000000",
          "2023-02-12T18:14:04.636000000",
          "2023-02-17T18:42:22.235000000",
          "2023-02-24T16:02:21.439000000",
          "2023-02-24T18:32:28.241000000",
          "2023-03-08T15:46:12.279000000",
          "2023-03-09T16:12:14.455000000",
          "2023-03-11T18:32:23.552000000",
          "2023-03-16T16:02:21.435000000",
          "2023-03-16T18:13:43.947000000",
          "2023-03-16T18:32:31.870000000",
          "2023-03-26T16:02:22.141000000",
          "2023-04-08T18:19:41.434000000",
          "2023-04-08T18:42:26.181000000",
          "2023-04-09T15:45:58.093000000",
          "2023-04-09T18:13:10.490000000",
          "2023-04-10T16:02:25.541000000",
          "2023-04-10T18:32:27.995000000",
          "2023-04-13T16:12:20.295000000",
          "2023-04-15T18:32:28.930000000",
          "2023-04-17T15:45:35.049000000",
          "2023-04-20T16:02:25.829000000",
          "2023-04-25T18:13:05.969000000",
          "2023-04-25T18:32:29.654000000",
          "2023-04-28T18:42:25.658000000",
          "2023-04-30T18:32:28.178000000",
          "2023-05-10T16:02:26.339000000",
          "2023-05-11T18:12:53.124000000",
          "2023-05-15T16:02:24.682000000",
          "2023-05-19T18:13:08.582000000",
          "2023-05-20T18:32:30.383000000",
          "2023-05-25T16:02:27.340000000",
          "2023-06-04T18:13:02.317000000",
          "2023-06-22T18:42:21.565000000",
          "2023-06-24T18:32:32.120000000",
          "2023-06-28T18:13:09.561000000",
          "2023-06-29T16:02:28.946000000",
          "2023-06-29T18:32:32.116000000",
          "2023-07-02T18:42:28.694000000",
          "2023-07-04T18:32:33.230000000",
          "2023-07-05T18:19:25.463000000",
          "2023-07-09T18:32:33.106000000",
          "2023-07-12T18:42:29.045000000",
          "2023-07-13T18:19:21.849000000",
          "2023-07-14T18:13:17.456000000",
          "2023-07-14T18:32:32.727000000",
          "2023-07-19T18:32:31.897000000",
          "2023-07-21T18:19:28.673000000",
          "2023-07-22T18:13:10.457000000",
          "2023-07-22T18:42:28.250000000",
          "2023-07-29T18:19:25.846000000",
          "2023-07-29T18:32:33.110000000",
          "2023-07-30T15:45:43.911000000",
          "2023-07-30T18:13:24.943000000",
          "2023-08-01T16:12:24.818000000",
          "2023-08-06T18:42:29.022000000",
          "2023-08-11T18:42:28.668000000",
          "2023-08-13T18:32:33.447000000",
          "2023-08-14T18:19:32.240000000",
          "2023-08-15T18:13:30.516000000",
          "2023-08-16T18:42:29.378000000",
          "2023-08-23T18:13:26.794000000",
          "2023-08-23T18:32:32.058000000",
          "2023-08-26T18:42:28.218000000",
          "2023-08-28T18:32:33.494000000",
          "2023-08-30T18:19:42.115000000",
          "2023-08-31T15:45:59.702000000",
          "2023-08-31T18:13:34.820000000",
          "2023-08-31T18:42:29.028000000",
          "2023-09-02T16:02:29.149000000",
          "2023-09-07T18:19:44.356000000",
          "2023-09-07T18:32:33.116000000",
          "2023-09-08T18:13:37.050000000",
          "2023-09-10T18:42:28.857000000",
          "2023-09-12T18:32:31.173000000",
          "2023-09-15T18:19:50.723000000",
          "2023-09-15T18:42:26.913000000",
          "2023-09-16T15:46:08.022000000",
          "2023-09-16T18:13:39.014000000",
          "2023-09-23T18:19:50.622000000",
          "2023-09-25T18:42:27.197000000",
          "2023-10-02T15:46:07.789000000",
          "2023-10-02T16:02:25.717000000",
          "2023-10-05T18:42:23.659000000",
          "2023-10-09T18:19:55.171000000",
          "2023-10-10T15:46:12.749000000",
          "2023-10-12T16:02:21.431000000",
          "2023-10-17T18:20:00.625000000",
          "2023-10-17T18:32:27.163000000",
          "2023-10-18T18:13:43.695000000",
          "2023-10-20T18:42:23.764000000",
          "2023-10-25T16:12:19.822000000",
          "2023-10-27T18:32:27.730000000",
          "2023-10-30T18:42:23.274000000",
          "2023-11-03T15:46:10.512000000",
          "2023-11-09T18:42:23.293000000",
          "2023-11-11T16:02:23.050000000",
          "2023-11-11T18:13:45.837000000",
          "2023-11-11T18:32:29.062000000",
          "2023-11-14T18:42:23.871000000",
          "2023-11-16T16:02:22.888000000",
          "2023-11-19T15:46:17.245000000",
          "2023-11-19T16:12:17.171000000",
          "2023-11-21T18:32:23.899000000",
          "2023-11-27T18:13:53.854000000",
          "2023-11-29T18:42:15.650000000",
          "2023-12-21T18:13:48.289000000",
          "2023-12-21T18:32:28.741000000",
          "2023-12-29T18:13:53.988000000",
          "2023-12-29T18:42:20.973000000",
          "2023-12-31T18:32:28.792000000",
          "2024-01-03T16:12:16.440000000",
          "2024-01-05T16:02:23.701000000",
          "2024-01-22T15:46:16.562000000",
          "2024-01-30T18:13:52.303000000",
          "2024-01-30T18:32:25.250000000",
          "2024-02-04T16:02:22.118000000",
          "2024-02-04T18:32:23.726000000",
          "2024-02-07T15:46:22.027000000",
          "2024-02-07T16:12:19.384000000",
          "2024-02-14T16:02:24.977000000",
          "2024-02-17T18:42:21.876000000",
          "2024-02-19T16:02:21.834000000",
          "2024-02-24T18:32:26.406000000",
          "2024-02-29T16:02:23.776000000",
          "2024-03-09T18:19:56.880000000",
          "2024-03-17T18:19:33.894000000",
          "2024-03-18T18:13:44.380000000",
          "2024-03-18T18:42:24.593000000",
          "2024-03-20T18:32:27.776000000",
          "2024-03-25T16:02:24.309000000",
          "2024-04-02T18:19:22.743000000",
          "2024-04-02T18:42:22.385000000",
          "2024-04-03T18:13:35.432000000",
          "2024-04-10T18:19:43.074000000",
          "2024-04-11T18:13:09.610000000",
          "2024-04-14T16:02:24.726000000",
          "2024-04-17T18:42:27.027000000",
          "2024-04-18T18:19:13.978000000",
          "2024-04-19T18:13:21.708000000",
          "2024-04-22T18:42:23.758000000",
          "2024-04-29T16:02:26.564000000",
          "2024-05-12T18:19:20.050000000",
          "2024-05-12T18:42:23.825000000",
          "2024-05-13T15:45:36.137000000",
          "2024-05-17T18:42:25.986000000",
          "2024-05-19T18:32:26.764000000",
          "2024-05-21T15:45:08.927000000",
          "2024-05-21T18:13:02.581000000",
          "2024-05-22T16:12:19.182000000",
          "2024-05-24T18:32:27.286000000",
          "2024-05-27T18:42:25.207000000",
          "2024-05-28T18:19:07.293000000",
          "2024-05-29T18:32:27.592000000",
          "2024-06-06T18:12:56.416000000",
          "2024-06-06T18:42:29.377000000",
          "2024-06-08T16:02:29.726000000",
          "2024-06-08T18:32:23.378000000",
          "2024-06-11T18:42:27.111000000",
          "2024-06-13T18:19:01.352000000",
          "2024-06-13T18:32:33.910000000",
          "2024-06-14T15:45:17.486000000",
          "2024-06-14T18:12:41.815000000",
          "2024-06-16T18:42:29.677000000",
          "2024-06-18T16:02:29.340000000",
          "2024-06-18T18:32:30.263000000",
          "2024-06-21T18:18:59.677000000",
          "2024-06-21T18:42:26.257000000",
          "2024-06-22T15:45:17.551000000",
          "2024-06-22T18:12:36.885000000",
          "2024-06-23T18:32:31.999000000",
          "2024-06-28T16:02:26.739000000",
          "2024-06-29T18:18:53.644000000",
          "2024-06-30T18:12:52.474000000",
          "2024-07-01T18:42:27.746000000",
          "2024-07-03T16:02:27.551000000",
          "2024-07-03T18:32:31.382000000",
          "2024-07-07T18:19:07.734000000",
          "2024-07-08T18:12:56.114000000",
          "2024-07-11T18:42:25.688000000",
          "2024-07-15T18:19:12.436000000",
          "2024-07-16T15:45:30.002000000",
          "2024-07-16T16:12:22.959000000",
          "2024-07-16T18:13:05.936000000",
          "2024-07-16T18:42:25.146000000",
          "2024-07-18T18:32:31.259000000",
          "2024-07-21T18:42:27.335000000",
          "2024-07-23T18:19:22.460000000",
          "2024-07-23T18:32:29.905000000",
          "2024-07-28T16:02:26.488000000",
          "2024-07-28T18:32:29.683000000",
          "2024-07-31T18:19:15.268000000",
          "2024-07-31T18:42:24.574000000",
          "2024-08-01T15:45:32.966000000",
          "2024-08-01T18:13:11.488000000",
          "2024-08-02T16:02:24.713000000",
          "2024-08-02T18:32:30.458000000",
          "2024-08-05T16:12:22.327000000",
          "2024-08-12T16:02:28.170000000",
          "2024-08-16T18:19:22.870000000",
          "2024-08-17T18:13:18.134000000",
          "2024-08-17T18:32:30.366000000",
          "2024-08-22T16:02:22.928000000",
          "2024-08-22T18:32:24.970000000",
          "2024-08-25T15:45:48.471000000",
          "2024-08-25T16:12:20.583000000",
          "2024-08-25T18:13:21.351000000",
          "2024-08-25T18:42:21.836000000",
          "2024-08-27T16:02:22.051000000",
          "2024-08-27T18:32:29.549000000",
          "2024-08-30T18:42:26.506000000",
          "2024-09-01T18:19:31.070000000",
          "2024-09-01T18:32:27.431000000",
          "2024-09-04T18:42:23.977000000",
          "2024-09-06T18:32:30.334000000",
          "2024-09-09T16:12:18.941000000",
          "2024-09-09T18:19:39.487000000",
          "2024-09-09T18:42:25.910000000",
          "2024-09-10T15:45:56.188000000",
          "2024-09-10T18:13:23.175000000",
          "2024-09-11T16:02:25.163000000",
          "2024-09-14T18:42:22.732000000",
          "2024-09-19T18:42:18.881000000",
          "2024-09-24T18:42:25.623000000",
          "2024-09-25T18:19:38.128000000",
          "2024-09-26T18:13:25.521000000",
          "2024-09-29T18:42:24.642000000",
          "2024-10-06T16:02:23.430000000",
          "2024-10-09T16:12:15.220000000",
          "2024-10-09T18:42:22.070000000",
          "2024-10-11T16:02:21.862000000",
          "2024-10-11T18:19:45.392000000",
          "2024-10-11T18:32:25.851000000",
          "2024-10-12T18:13:33.598000000",
          "2024-10-14T18:42:23.040000000",
          "2024-10-16T18:32:28.013000000",
          "2024-10-19T16:12:19.751000000",
          "2024-10-19T18:19:53.094000000",
          "2024-10-19T18:42:24.695000000",
          "2024-10-20T15:46:11.080000000",
          "2024-10-20T18:13:39.882000000",
          "2024-10-21T16:02:24.773000000",
          "2024-10-21T18:32:27.713000000",
          "2024-10-28T15:46:02.732000000",
          "2024-10-31T16:02:23.413000000",
          "2024-11-03T16:12:17.147000000",
          "2024-11-05T16:02:20.471000000",
          "2024-11-08T16:12:16.809000000",
          "2024-11-08T18:42:17.444000000",
          "2024-11-12T18:19:45.301000000",
          "2024-11-13T16:12:15.474000000",
          "2024-11-21T15:46:16.319000000",
          "2024-11-25T16:02:26.274000000",
          "2024-11-29T18:13:50.990000000",
          "2024-12-03T16:12:20.474000000",
          "2024-12-03T18:42:24.472000000",
          "2024-12-06T18:19:54.780000000",
          "2024-12-15T18:13:43.946000000",
          "2024-12-15T18:32:29.010000000",
          "2024-12-20T18:32:27.472000000",
          "2024-12-23T15:46:14.181000000",
          "2024-12-23T16:12:21.268000000",
          "2024-12-30T16:02:25.004000000",
          "2024-12-30T18:19:48.880000000",
          "2024-12-30T18:32:28.565000000",
          "2024-12-31T18:13:42.095000000",
          "2025-01-07T18:19:52.552000000",
          "2025-01-07T18:42:24.115000000",
          "2025-01-09T16:02:23.857000000",
          "2025-01-14T16:02:21.725000000",
          "2025-01-15T18:19:51.062000000",
          "2025-01-16T18:13:47.119000000",
          "2025-01-19T18:32:26.628000000",
          "2025-01-22T16:12:21.129000000",
          "2025-01-22T18:42:52.462000000",
          "2025-01-24T16:02:52.322000000",
          "2025-01-27T18:42:26.437000000",
          "2025-01-29T16:02:26.519000000",
          "2025-02-09T18:13:37.190000000",
          "2025-02-23T16:02:44.509000000",
          "2025-02-26T18:42:27.091000000",
          "2025-02-28T18:32:52.223000000",
          "2025-03-08T18:42:26.702000000",
          "2025-03-10T16:02:26.289000000",
          "2025-03-10T18:32:51.137000000",
          "2025-03-21T15:45:44.306000000",
          "2025-03-25T16:02:45.378000000",
          "2025-03-27T16:02:31.489000000",
          "2025-03-30T16:02:24.571000000"
         ],
         "y": {
          "bdata": "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",
          "dtype": "f8"
         }
        },
        {
         "hovertemplate": "Date: %{x}<br>Predicted NDVI: %{y:.3f}<extra></extra>",
         "line": {
          "color": "red",
          "width": 3
         },
         "marker": {
          "size": 8
         },
         "mode": "lines+markers",
         "name": "2025 Predictions",
         "type": "scatter",
         "x": [
          "2025-01-01T00:00:00.000000000",
          "2025-01-17T00:00:00.000000000",
          "2025-02-02T00:00:00.000000000",
          "2025-02-18T00:00:00.000000000",
          "2025-03-06T00:00:00.000000000",
          "2025-03-22T00:00:00.000000000",
          "2025-04-07T00:00:00.000000000",
          "2025-04-23T00:00:00.000000000",
          "2025-05-09T00:00:00.000000000",
          "2025-05-25T00:00:00.000000000",
          "2025-06-10T00:00:00.000000000",
          "2025-06-26T00:00:00.000000000",
          "2025-07-12T00:00:00.000000000",
          "2025-07-28T00:00:00.000000000",
          "2025-08-13T00:00:00.000000000",
          "2025-08-29T00:00:00.000000000",
          "2025-09-14T00:00:00.000000000",
          "2025-09-30T00:00:00.000000000",
          "2025-10-16T00:00:00.000000000",
          "2025-11-01T00:00:00.000000000",
          "2025-11-17T00:00:00.000000000",
          "2025-12-03T00:00:00.000000000",
          "2025-12-19T00:00:00.000000000",
          "2026-01-04T00:00:00.000000000"
         ],
         "y": {
          "bdata": "PF1hPTH9xD9PV1mR693HP90TL+TRa8s/Fh2xNcTr0D/Cw8eNfZHWPxUxJLF0UNs/qSjdLtl04D/uMLc48wLjP7ETzzG7FuU/t/lNdoI15z96H8C0VZ/nP5IPqOEQYug/XoNyeuI/6D/yUd/EW3PnP7r/wZ8FJeY/X5ZjkJfb4z8ByK7ZGLPhPyUm4Gn/O94/yABR4vVM2D9g9uSh5HPUPxCg/XBrqdA/kb7nKpRTyz/4LDCyxL3HPyYNBg/BCcU/",
          "dtype": "f8"
         }
        },
        {
         "hoverinfo": "skip",
         "line": {
          "width": 0
         },
         "mode": "lines",
         "showlegend": false,
         "type": "scatter",
         "x": [
          "2025-01-01T00:00:00.000000000",
          "2025-01-17T00:00:00.000000000",
          "2025-02-02T00:00:00.000000000",
          "2025-02-18T00:00:00.000000000",
          "2025-03-06T00:00:00.000000000",
          "2025-03-22T00:00:00.000000000",
          "2025-04-07T00:00:00.000000000",
          "2025-04-23T00:00:00.000000000",
          "2025-05-09T00:00:00.000000000",
          "2025-05-25T00:00:00.000000000",
          "2025-06-10T00:00:00.000000000",
          "2025-06-26T00:00:00.000000000",
          "2025-07-12T00:00:00.000000000",
          "2025-07-28T00:00:00.000000000",
          "2025-08-13T00:00:00.000000000",
          "2025-08-29T00:00:00.000000000",
          "2025-09-14T00:00:00.000000000",
          "2025-09-30T00:00:00.000000000",
          "2025-10-16T00:00:00.000000000",
          "2025-11-01T00:00:00.000000000",
          "2025-11-17T00:00:00.000000000",
          "2025-12-03T00:00:00.000000000",
          "2025-12-19T00:00:00.000000000",
          "2026-01-04T00:00:00.000000000"
         ],
         "y": {
          "bdata": "9ewZCadczT8LTNTXS/POP+/ct2z6j9E/sgN0j+J91D88vsmrShjaP8PCICzY3t4/OaeaLttL4j8N44hivPXkP7Zw2w9R8OY/7cPmM/kc6T8iF5MFSpjpP9yESw0nNuo/UP2Y4cgk6j8mig7mtVPpP6BEh3lE/ec/YNSC1w645T846tVSNorjPyhUUPh+/+A/6GAji3sV3D/vDw3r4C7YP/Og9wRiddQ/x/ND+rxl0T/7cc4iT6HPP27WnXGPs8w/",
          "dtype": "f8"
         }
        },
        {
         "fill": "tonexty",
         "fillcolor": "rgba(255,0,0,0.1)",
         "hovertemplate": "Date: %{x}<br>CI: %{y:.3f}<extra></extra>",
         "line": {
          "width": 0
         },
         "mode": "lines",
         "name": "Confidence Interval",
         "type": "scatter",
         "x": [
          "2025-01-01T00:00:00.000000000",
          "2025-01-17T00:00:00.000000000",
          "2025-02-02T00:00:00.000000000",
          "2025-02-18T00:00:00.000000000",
          "2025-03-06T00:00:00.000000000",
          "2025-03-22T00:00:00.000000000",
          "2025-04-07T00:00:00.000000000",
          "2025-04-23T00:00:00.000000000",
          "2025-05-09T00:00:00.000000000",
          "2025-05-25T00:00:00.000000000",
          "2025-06-10T00:00:00.000000000",
          "2025-06-26T00:00:00.000000000",
          "2025-07-12T00:00:00.000000000",
          "2025-07-28T00:00:00.000000000",
          "2025-08-13T00:00:00.000000000",
          "2025-08-29T00:00:00.000000000",
          "2025-09-14T00:00:00.000000000",
          "2025-09-30T00:00:00.000000000",
          "2025-10-16T00:00:00.000000000",
          "2025-11-01T00:00:00.000000000",
          "2025-11-17T00:00:00.000000000",
          "2025-12-03T00:00:00.000000000",
          "2025-12-19T00:00:00.000000000",
          "2026-01-04T00:00:00.000000000"
         ],
         "y": {
          "bdata": "B16vuAksuj9NKZLvWEzAP3Abi2+0U8M/oJQ4Z7D2yT+We0W6TLvSP8RMbNtJkdc/HQbHo20s3T+uchqc5w/hP73aHuuNH+M/6PJzL8tS5T+bCCz+Wt3lP52dBsuzT+Y/weENEfZX5j+CBeYCI5PlPzbpR4ZQOuQ/fsCBLSfj4T9SqnnJcdHfP1ovyivhcNo/Yvark5OG1D/cirbl2NTQP/K7pOFE78k/FUWBTk+uwz9JOF77lki/P9Md8cX2Xrw/",
          "dtype": "f8"
         }
        },
        {
         "hovertemplate": "Date: %{x}<br>Actual: %{y:.3f}<extra></extra>",
         "marker": {
          "color": "orange",
          "size": 8,
          "symbol": "diamond"
         },
         "mode": "markers",
         "name": "Validation Data",
         "type": "scatter",
         "x": [
          "2025-04-09T16:02:25.936000000",
          "2025-05-17T16:12:36.837000000",
          "2025-06-03T16:02:44.463000000",
          "2025-06-11T16:12:17.963000000",
          "2025-06-25T15:45:47.041000000",
          "2025-07-03T15:45:46.371000000",
          "2025-07-05T16:02:42.128000000",
          "2025-07-08T16:02:27.449000000",
          "2025-08-04T15:45:59.913000000",
          "2025-08-10T16:12:21.834000000",
          "2025-08-22T16:02:43.436000000",
          "2025-08-27T16:02:25.363000000",
          "2025-08-30T16:12:20.620000000",
          "2025-09-05T15:46:15.076000000",
          "2025-09-09T16:12:18.708000000",
          "2025-09-13T15:46:12.647000000",
          "2025-09-19T16:12:17.693000000",
          "2025-10-01T16:02:39.397000000",
          "2025-04-05T18:19:24.531000000",
          "2025-04-06T18:13:26.317000000",
          "2025-04-09T18:32:50.532000000",
          "2025-04-13T18:19:38.428000000",
          "2025-04-14T18:13:08.438000000",
          "2025-04-19T18:32:48.996000000",
          "2025-04-21T18:19:11.825000000",
          "2025-04-21T18:32:41.587000000",
          "2025-04-22T18:13:20.903000000",
          "2025-04-22T18:42:45.679000000",
          "2025-04-29T18:19:29.806000000",
          "2025-04-29T18:32:53.170000000",
          "2025-05-02T18:42:45.316000000",
          "2025-05-07T18:19:08.714000000",
          "2025-05-08T18:13:14.192000000",
          "2025-05-09T18:32:46.926000000",
          "2025-05-19T18:32:45.641000000",
          "2025-05-23T18:19:13.595000000",
          "2025-05-24T18:13:04.423000000",
          "2025-05-27T18:42:25.199000000",
          "2025-05-31T18:19:12.361000000",
          "2025-05-31T18:32:44.961000000",
          "2025-06-06T18:42:23.626000000",
          "2025-06-08T18:19:17.866000000",
          "2025-06-08T18:32:48.187000000",
          "2025-06-09T18:13:04.215000000",
          "2025-06-13T18:32:26.113000000",
          "2025-06-16T18:19:21.646000000",
          "2025-06-16T18:42:23.406000000",
          "2025-06-17T18:13:14.911000000",
          "2025-06-18T18:32:46.230000000",
          "2025-06-23T18:32:32.678000000",
          "2025-06-23T18:42:38.753000000",
          "2025-06-24T18:19:29.457000000",
          "2025-06-25T18:13:16.135000000",
          "2025-06-28T18:32:48.982000000",
          "2025-07-06T18:42:27.415000000",
          "2025-07-08T18:32:50.792000000",
          "2025-07-10T18:19:32.246000000",
          "2025-07-10T18:32:46.869000000",
          "2025-07-11T18:13:19.036000000",
          "2025-07-11T18:42:47.082000000",
          "2025-07-13T18:42:43.189000000",
          "2025-07-16T18:42:27.220000000",
          "2025-07-27T18:13:27.661000000",
          "2025-07-28T18:32:49.752000000",
          "2025-07-30T18:32:45.680000000",
          "2025-07-31T18:42:44.991000000",
          "2025-08-02T18:32:28.277000000",
          "2025-08-02T18:42:40.868000000",
          "2025-08-03T18:19:41.784000000",
          "2025-08-05T18:42:25.083000000",
          "2025-08-11T18:19:47.275000000",
          "2025-08-12T18:13:38.370000000",
          "2025-08-12T18:32:30.057000000",
          "2025-08-15T18:42:26.259000000",
          "2025-08-19T18:19:52.205000000",
          "2025-08-19T18:32:41.596000000",
          "2025-08-22T18:32:29.981000000",
          "2025-08-22T18:42:38.098000000",
          "2025-08-30T18:42:42.566000000",
          "2025-09-01T18:32:22.352000000",
          "2025-09-05T18:13:42.390000000",
          "2025-09-08T18:32:40.229000000",
          "2025-09-11T18:32:26.507000000",
          "2025-09-11T18:42:36.040000000",
          "2025-09-12T18:19:54.747000000",
          "2025-09-13T18:13:48.425000000",
          "2025-09-16T18:32:40.827000000",
          "2025-09-20T18:20:00.185000000",
          "2025-09-24T18:42:23.581000000",
          "2025-09-26T18:32:43.138000000",
          "2025-09-29T18:13:51.672000000",
          "2025-10-01T18:32:28.130000000",
          "2025-10-01T18:42:39.581000000"
         ],
         "y": {
          "bdata": "Pioyx8yG3z+TH/ow0X3jP/3t8v5iB+c/oXG5acYw6j8ZbPlFctfmP6PaI+iK+uU/oN6QQIKn5j+X8/ahFXTqP3A6poEf/+Q/zAIa1Ka84j8b/F39qADlPzEoA8uCv+U/3xoYOBra4z/bUu0y0ifjP+uM28s2l+E/ug0Exfp03j+0tOQYfbbePxhdrt9OF9M/CLWYS4Th3j8yXieLtljfP1IZAOG91t4/kZ2koFLa2z/pQTXmkpPhP4CYZ1Xgadg/s9HLIs/14j96YuViTmDiP1ydna6Nj94/hZjKNqon4T9q1zAF4GvhPyUVU3iXp+I/jrPK1ep14z97KiFiLszgPwUewDsB8uI/u0dHh/nR4T+F85KXTXjhPw20xGqEPOY/YkyiuZqv5D868vKIvcTiP7YLU73lv+Y/hFcIou2T6D8oPaiWb+voP6mRwfjGhOY/CmLCUolK5j+TS3TIEYHiPwomrMeBduc/qxi07SlW6D/KllKWeyjkP7aOI3WAe+M/g1Hm5ovS5j8wwhMgXyblPykZAJYvHuk/0R4TysOW5T8UAiZjNyPoP/qZO7reh+Y/AhW+inGC5z/XKE3KjULnP351qI2p5OU/19hy0ByJ5j+NDi3kNk7oPxqaKMC6Eec/kUGlT9XR5z+4nD+U6+nlP5b1CJSb5uU/C4NHZS0n6D8LWacWyeviP5DYu6KXHuc/41sInX7c5D+Oghtu40flP07oKe2rnuI/XzcPuF0e4z8q68HBc1HlP9rcWk8J2uM/FehLXxCH5j/Ngg6UkVDjP3Sfy8vs4uc/F2X6ofPi4z99wazuECzjP1kRrzsz8+E/Vd+m2yIW4j9QfN3ChyPkPwxEtR2dyd8/BDuF0cwA5D+U7mfhDevhP2BYmPcu/9g/pL7dRn6D4j+7dE0fq9vfPyyhdmdFveA/X6nPCQR42z89Y2Tql5fcPyx/yCKo79k/dP/VWlBO2j96mN03FdzXP3aRXV6559o/",
          "dtype": "f8"
         }
        }
       ],
       "layout": {
        "annotations": [
         {
          "showarrow": false,
          "text": "Stress threshold",
          "x": 1,
          "xanchor": "right",
          "xref": "x domain",
          "y": 0.2,
          "yanchor": "bottom",
          "yref": "y"
         },
         {
          "showarrow": false,
          "text": "Crop threshold",
          "x": 1,
          "xanchor": "right",
          "xref": "x domain",
          "y": 0.35,
          "yanchor": "bottom",
          "yref": "y"
         },
         {
          "showarrow": false,
          "text": "Healthy canopy",
          "x": 1,
          "xanchor": "right",
          "xref": "x domain",
          "y": 0.6,
          "yanchor": "bottom",
          "yref": "y"
         }
        ],
        "height": 600,
        "hovermode": "x unified",
        "legend": {
         "orientation": "h",
         "x": 1,
         "xanchor": "right",
         "y": 1.02,
         "yanchor": "bottom"
        },
        "shapes": [
         {
          "line": {
           "color": "red",
           "dash": "dash"
          },
          "type": "line",
          "x0": 0,
          "x1": 1,
          "xref": "x domain",
          "y0": 0.2,
          "y1": 0.2,
          "yref": "y"
         },
         {
          "line": {
           "color": "orange",
           "dash": "dash"
          },
          "type": "line",
          "x0": 0,
          "x1": 1,
          "xref": "x domain",
          "y0": 0.35,
          "y1": 0.35,
          "yref": "y"
         },
         {
          "line": {
           "color": "green",
           "dash": "dash"
          },
          "type": "line",
          "x0": 0,
          "x1": 1,
          "xref": "x domain",
          "y0": 0.6,
          "y1": 0.6,
          "yref": "y"
         }
        ],
        "template": {
         "data": {
          "candlestick": [
           {
            "decreasing": {
             "line": {
              "color": "#000033"
             }
            },
            "increasing": {
             "line": {
              "color": "#000032"
             }
            },
            "type": "candlestick"
           }
          ],
          "contour": [
           {
            "colorscale": [
             [
              0,
              "#000011"
             ],
             [
              0.1111111111111111,
              "#000012"
             ],
             [
              0.2222222222222222,
              "#000013"
             ],
             [
              0.3333333333333333,
              "#000014"
             ],
             [
              0.4444444444444444,
              "#000015"
             ],
             [
              0.5555555555555556,
              "#000016"
             ],
             [
              0.6666666666666666,
              "#000017"
             ],
             [
              0.7777777777777778,
              "#000018"
             ],
             [
              0.8888888888888888,
              "#000019"
             ],
             [
              1,
              "#000020"
             ]
            ],
            "type": "contour"
           }
          ],
          "contourcarpet": [
           {
            "colorscale": [
             [
              0,
              "#000011"
             ],
             [
              0.1111111111111111,
              "#000012"
             ],
             [
              0.2222222222222222,
              "#000013"
             ],
             [
              0.3333333333333333,
              "#000014"
             ],
             [
              0.4444444444444444,
              "#000015"
             ],
             [
              0.5555555555555556,
              "#000016"
             ],
             [
              0.6666666666666666,
              "#000017"
             ],
             [
              0.7777777777777778,
              "#000018"
             ],
             [
              0.8888888888888888,
              "#000019"
             ],
             [
              1,
              "#000020"
             ]
            ],
            "type": "contourcarpet"
           }
          ],
          "heatmap": [
           {
            "colorscale": [
             [
              0,
              "#000011"
             ],
             [
              0.1111111111111111,
              "#000012"
             ],
             [
              0.2222222222222222,
              "#000013"
             ],
             [
              0.3333333333333333,
              "#000014"
             ],
             [
              0.4444444444444444,
              "#000015"
             ],
             [
              0.5555555555555556,
              "#000016"
             ],
             [
              0.6666666666666666,
              "#000017"
             ],
             [
              0.7777777777777778,
              "#000018"
             ],
             [
              0.8888888888888888,
              "#000019"
             ],
             [
              1,
              "#000020"
             ]
            ],
            "type": "heatmap"
           }
          ],
          "histogram2d": [
           {
            "colorscale": [
             [
              0,
              "#000011"
             ],
             [
              0.1111111111111111,
              "#000012"
             ],
             [
              0.2222222222222222,
              "#000013"
             ],
             [
              0.3333333333333333,
              "#000014"
             ],
             [
              0.4444444444444444,
              "#000015"
             ],
             [
              0.5555555555555556,
              "#000016"
             ],
             [
              0.6666666666666666,
              "#000017"
             ],
             [
              0.7777777777777778,
              "#000018"
             ],
             [
              0.8888888888888888,
              "#000019"
             ],
             [
              1,
              "#000020"
             ]
            ],
            "type": "histogram2d"
           }
          ],
          "icicle": [
           {
            "textfont": {
             "color": "white"
            },
            "type": "icicle"
           }
          ],
          "sankey": [
           {
            "textfont": {
             "color": "#000036"
            },
            "type": "sankey"
           }
          ],
          "scatter": [
           {
            "marker": {
             "line": {
              "width": 0
             }
            },
            "type": "scatter"
           }
          ],
          "table": [
           {
            "cells": {
             "fill": {
              "color": "#000038"
             },
             "font": {
              "color": "#000037"
             },
             "line": {
              "color": "#000039"
             }
            },
            "header": {
             "fill": {
              "color": "#000040"
             },
             "font": {
              "color": "#000036"
             },
             "line": {
              "color": "#000039"
             }
            },
            "type": "table"
           }
          ],
          "waterfall": [
           {
            "connector": {
             "line": {
              "color": "#000036",
              "width": 2
             }
            },
            "decreasing": {
             "marker": {
              "color": "#000033"
             }
            },
            "increasing": {
             "marker": {
              "color": "#000032"
             }
            },
            "totals": {
             "marker": {
              "color": "#000034"
             }
            },
            "type": "waterfall"
           }
          ]
         },
         "layout": {
          "coloraxis": {
           "colorscale": [
            [
             0,
             "#000011"
            ],
            [
             0.1111111111111111,
             "#000012"
            ],
            [
             0.2222222222222222,
             "#000013"
            ],
            [
             0.3333333333333333,
             "#000014"
            ],
            [
             0.4444444444444444,
             "#000015"
            ],
            [
             0.5555555555555556,
             "#000016"
            ],
            [
             0.6666666666666666,
             "#000017"
            ],
            [
             0.7777777777777778,
             "#000018"
            ],
            [
             0.8888888888888888,
             "#000019"
            ],
            [
             1,
             "#000020"
            ]
           ]
          },
          "colorscale": {
           "diverging": [
            [
             0,
             "#000021"
            ],
            [
             0.1,
             "#000022"
            ],
            [
             0.2,
             "#000023"
            ],
            [
             0.3,
             "#000024"
            ],
            [
             0.4,
             "#000025"
            ],
            [
             0.5,
             "#000026"
            ],
            [
             0.6,
             "#000027"
            ],
            [
             0.7,
             "#000028"
            ],
            [
             0.8,
             "#000029"
            ],
            [
             0.9,
             "#000030"
            ],
            [
             1,
             "#000031"
            ]
           ],
           "sequential": [
            [
             0,
             "#000011"
            ],
            [
             0.1111111111111111,
             "#000012"
            ],
            [
             0.2222222222222222,
             "#000013"
            ],
            [
             0.3333333333333333,
             "#000014"
            ],
            [
             0.4444444444444444,
             "#000015"
            ],
            [
             0.5555555555555556,
             "#000016"
            ],
            [
             0.6666666666666666,
             "#000017"
            ],
            [
             0.7777777777777778,
             "#000018"
            ],
            [
             0.8888888888888888,
             "#000019"
            ],
            [
             1,
             "#000020"
            ]
           ],
           "sequentialminus": [
            [
             0,
             "#000011"
            ],
            [
             0.1111111111111111,
             "#000012"
            ],
            [
             0.2222222222222222,
             "#000013"
            ],
            [
             0.3333333333333333,
             "#000014"
            ],
            [
             0.4444444444444444,
             "#000015"
            ],
            [
             0.5555555555555556,
             "#000016"
            ],
            [
             0.6666666666666666,
             "#000017"
            ],
            [
             0.7777777777777778,
             "#000018"
            ],
            [
             0.8888888888888888,
             "#000019"
            ],
            [
             1,
             "#000020"
            ]
           ]
          },
          "colorway": [
           "#000001",
           "#000002",
           "#000003",
           "#000004",
           "#000005",
           "#000006",
           "#000007",
           "#000008",
           "#000009",
           "#000010"
          ]
         }
        },
        "title": {
         "text": "NDVI Predictions for 2025 - Prophet Model"
        },
        "xaxis": {
         "title": {
          "text": "Date"
         }
        },
        "yaxis": {
         "title": {
          "text": "NDVI"
         }
        }
       }
      }
     },
     "metadata": {},
     "output_type": "display_data"
    },
    {
     "name": "stdout",
     "output_type": "stream",
     "text": [
      "📊 Creating component analysis...\n"
     ]
    },
    {
     "data": {
      "application/vnd.plotly.v1+json": {
       "config": {
        "plotlyServerURL": "https://plot.ly"
       },
       "data": [
        {
         "line": {
          "color": "blue"
         },
         "name": "Trend",
         "type": "scatter",
         "x": [
          "2025-01-01T00:00:00.000000000",
          "2025-01-17T00:00:00.000000000",
          "2025-02-02T00:00:00.000000000",
          "2025-02-18T00:00:00.000000000",
          "2025-03-06T00:00:00.000000000",
          "2025-03-22T00:00:00.000000000",
          "2025-04-07T00:00:00.000000000",
          "2025-04-23T00:00:00.000000000",
          "2025-05-09T00:00:00.000000000",
          "2025-05-25T00:00:00.000000000",
          "2025-06-10T00:00:00.000000000",
          "2025-06-26T00:00:00.000000000",
          "2025-07-12T00:00:00.000000000",
          "2025-07-28T00:00:00.000000000",
          "2025-08-13T00:00:00.000000000",
          "2025-08-29T00:00:00.000000000",
          "2025-09-14T00:00:00.000000000",
          "2025-09-30T00:00:00.000000000",
          "2025-10-16T00:00:00.000000000",
          "2025-11-01T00:00:00.000000000",
          "2025-11-17T00:00:00.000000000",
          "2025-12-03T00:00:00.000000000",
          "2025-12-19T00:00:00.000000000",
          "2026-01-04T00:00:00.000000000"
         ],
         "xaxis": "x",
         "y": {
          "bdata": "7A5sBXLd2z9JupcXAeDbP6ZlwymQ4ts/AxHvOx/l2z9gvBpOrufbP71nRmA96ts/GhNycszs2z91vp2EW+/bP9JpyZbq8ds/LxX1qHn02z+MwCC7CPfbP+lrTM2X+ds/Rhd43yb82z+jwqPxtf7bP/5tzwNFAdw/Wxn7FdQD3D+4xCYoYwbcPxVwUjryCNw/cht+TIEL3D/PxqleEA7cPyty1XCfENw/hx0Bgy4T3D/kyCyVvRXcP0F0WKdMGNw/",
          "dtype": "f8"
         },
         "yaxis": "y"
        },
        {
         "line": {
          "color": "green"
         },
         "name": "Yearly",
         "type": "scatter",
         "x": [
          "2025-01-01T00:00:00.000000000",
          "2025-01-17T00:00:00.000000000",
          "2025-02-02T00:00:00.000000000",
          "2025-02-18T00:00:00.000000000",
          "2025-03-06T00:00:00.000000000",
          "2025-03-22T00:00:00.000000000",
          "2025-04-07T00:00:00.000000000",
          "2025-04-23T00:00:00.000000000",
          "2025-05-09T00:00:00.000000000",
          "2025-05-25T00:00:00.000000000",
          "2025-06-10T00:00:00.000000000",
          "2025-06-26T00:00:00.000000000",
          "2025-07-12T00:00:00.000000000",
          "2025-07-28T00:00:00.000000000",
          "2025-08-13T00:00:00.000000000",
          "2025-08-29T00:00:00.000000000",
          "2025-09-14T00:00:00.000000000",
          "2025-09-30T00:00:00.000000000",
          "2025-10-16T00:00:00.000000000",
          "2025-11-01T00:00:00.000000000",
          "2025-11-17T00:00:00.000000000",
          "2025-12-03T00:00:00.000000000",
          "2025-12-19T00:00:00.000000000",
          "2026-01-04T00:00:00.000000000"
         ],
         "xaxis": "x2",
         "y": {
          "bdata": "YUDVk0HD0798RKYE9WPSvwJ4MQtMz9C/w32kG8Kwy79mUbpeDCi/v5vw5F8dfKi/FI5NOzpMpz9CeZgNGt2+PzJyVBPPRMg//kGxM0kn0D9ggQ82f1zRP1I6wbh6/9I/SiJZ4uau0j+IANKlLybRP5ev+/pqBs0//fqK7gQgwz9j+bihQGK1PzmMR7lpimc/sXxO4N/Ht7/gqVaVMJvDvzqtfBtBNcu/wcJz+9Cc0L/qNvvJR2rSvzDyu63YxtO/",
          "dtype": "f8"
         },
         "yaxis": "y2"
        },
        {
         "line": {
          "color": "orange"
         },
         "name": "Weather Effects",
         "type": "scatter",
         "x": [
          "2025-01-01T00:00:00.000000000",
          "2025-01-17T00:00:00.000000000",
          "2025-02-02T00:00:00.000000000",
          "2025-02-18T00:00:00.000000000",
          "2025-03-06T00:00:00.000000000",
          "2025-03-22T00:00:00.000000000",
          "2025-04-07T00:00:00.000000000",
          "2025-04-23T00:00:00.000000000",
          "2025-05-09T00:00:00.000000000",
          "2025-05-25T00:00:00.000000000",
          "2025-06-10T00:00:00.000000000",
          "2025-06-26T00:00:00.000000000",
          "2025-07-12T00:00:00.000000000",
          "2025-07-28T00:00:00.000000000",
          "2025-08-13T00:00:00.000000000",
          "2025-08-29T00:00:00.000000000",
          "2025-09-14T00:00:00.000000000",
          "2025-09-30T00:00:00.000000000",
          "2025-10-16T00:00:00.000000000",
          "2025-11-01T00:00:00.000000000",
          "2025-11-17T00:00:00.000000000",
          "2025-12-03T00:00:00.000000000",
          "2025-12-19T00:00:00.000000000",
          "2026-01-04T00:00:00.000000000"
         ],
         "xaxis": "x3",
         "y": {
          "bdata": "xv+F6MHiQz8sx5iV6XJYP+HN/9eBC3I/MrzVbeeRgD+Hp/41i1tZP2dYyrQwRFs/mSfEEQrGcb+/DKATdTYzPxMnxj6iVHC/qqUBYHhpRr9IA2j11NR7v3aFZNzx7IG/vfw5IvO3gL8ai5c7mxSDv0Ft3L3BnIK/apeDTxyPa7+gCERXGs50v/aGnQKcn3W/s0iMHx+FY7+zSIwfH4Vjv7NIjB8fhWO/s0iMHx+FY7+zSIwfH4Vjv7NIjB8fhWO/",
          "dtype": "f8"
         },
         "yaxis": "y3"
        },
        {
         "line": {
          "color": "red"
         },
         "name": "Predictions",
         "type": "scatter",
         "x": [
          "2025-01-01T00:00:00.000000000",
          "2025-01-17T00:00:00.000000000",
          "2025-02-02T00:00:00.000000000",
          "2025-02-18T00:00:00.000000000",
          "2025-03-06T00:00:00.000000000",
          "2025-03-22T00:00:00.000000000",
          "2025-04-07T00:00:00.000000000",
          "2025-04-23T00:00:00.000000000",
          "2025-05-09T00:00:00.000000000",
          "2025-05-25T00:00:00.000000000",
          "2025-06-10T00:00:00.000000000",
          "2025-06-26T00:00:00.000000000",
          "2025-07-12T00:00:00.000000000",
          "2025-07-28T00:00:00.000000000",
          "2025-08-13T00:00:00.000000000",
          "2025-08-29T00:00:00.000000000",
          "2025-09-14T00:00:00.000000000",
          "2025-09-30T00:00:00.000000000",
          "2025-10-16T00:00:00.000000000",
          "2025-11-01T00:00:00.000000000",
          "2025-11-17T00:00:00.000000000",
          "2025-12-03T00:00:00.000000000",
          "2025-12-19T00:00:00.000000000",
          "2026-01-04T00:00:00.000000000"
         ],
         "xaxis": "x4",
         "y": {
          "bdata": "PF1hPTH9xD9PV1mR693HP90TL+TRa8s/Fh2xNcTr0D/Cw8eNfZHWPxUxJLF0UNs/qSjdLtl04D/uMLc48wLjP7ETzzG7FuU/t/lNdoI15z96H8C0VZ/nP5IPqOEQYug/XoNyeuI/6D/yUd/EW3PnP7r/wZ8FJeY/X5ZjkJfb4z8ByK7ZGLPhPyUm4Gn/O94/yABR4vVM2D9g9uSh5HPUPxCg/XBrqdA/kb7nKpRTyz/4LDCyxL3HPyYNBg/BCcU/",
          "dtype": "f8"
         },
         "yaxis": "y4"
        },
        {
         "marker": {
          "color": "blue"
         },
         "mode": "markers",
         "name": "Actual",
         "type": "scatter",
         "x": [
          "2025-04-09T16:02:25.936000000",
          "2025-05-17T16:12:36.837000000",
          "2025-06-03T16:02:44.463000000",
          "2025-06-11T16:12:17.963000000",
          "2025-06-25T15:45:47.041000000",
          "2025-07-03T15:45:46.371000000",
          "2025-07-05T16:02:42.128000000",
          "2025-07-08T16:02:27.449000000",
          "2025-08-04T15:45:59.913000000",
          "2025-08-10T16:12:21.834000000",
          "2025-08-22T16:02:43.436000000",
          "2025-08-27T16:02:25.363000000",
          "2025-08-30T16:12:20.620000000",
          "2025-09-05T15:46:15.076000000",
          "2025-09-09T16:12:18.708000000",
          "2025-09-13T15:46:12.647000000",
          "2025-09-19T16:12:17.693000000",
          "2025-10-01T16:02:39.397000000",
          "2025-04-05T18:19:24.531000000",
          "2025-04-06T18:13:26.317000000",
          "2025-04-09T18:32:50.532000000",
          "2025-04-13T18:19:38.428000000",
          "2025-04-14T18:13:08.438000000",
          "2025-04-19T18:32:48.996000000",
          "2025-04-21T18:19:11.825000000",
          "2025-04-21T18:32:41.587000000",
          "2025-04-22T18:13:20.903000000",
          "2025-04-22T18:42:45.679000000",
          "2025-04-29T18:19:29.806000000",
          "2025-04-29T18:32:53.170000000",
          "2025-05-02T18:42:45.316000000",
          "2025-05-07T18:19:08.714000000",
          "2025-05-08T18:13:14.192000000",
          "2025-05-09T18:32:46.926000000",
          "2025-05-19T18:32:45.641000000",
          "2025-05-23T18:19:13.595000000",
          "2025-05-24T18:13:04.423000000",
          "2025-05-27T18:42:25.199000000",
          "2025-05-31T18:19:12.361000000",
          "2025-05-31T18:32:44.961000000",
          "2025-06-06T18:42:23.626000000",
          "2025-06-08T18:19:17.866000000",
          "2025-06-08T18:32:48.187000000",
          "2025-06-09T18:13:04.215000000",
          "2025-06-13T18:32:26.113000000",
          "2025-06-16T18:19:21.646000000",
          "2025-06-16T18:42:23.406000000",
          "2025-06-17T18:13:14.911000000",
          "2025-06-18T18:32:46.230000000",
          "2025-06-23T18:32:32.678000000",
          "2025-06-23T18:42:38.753000000",
          "2025-06-24T18:19:29.457000000",
          "2025-06-25T18:13:16.135000000",
          "2025-06-28T18:32:48.982000000",
          "2025-07-06T18:42:27.415000000",
          "2025-07-08T18:32:50.792000000",
          "2025-07-10T18:19:32.246000000",
          "2025-07-10T18:32:46.869000000",
          "2025-07-11T18:13:19.036000000",
          "2025-07-11T18:42:47.082000000",
          "2025-07-13T18:42:43.189000000",
          "2025-07-16T18:42:27.220000000",
          "2025-07-27T18:13:27.661000000",
          "2025-07-28T18:32:49.752000000",
          "2025-07-30T18:32:45.680000000",
          "2025-07-31T18:42:44.991000000",
          "2025-08-02T18:32:28.277000000",
          "2025-08-02T18:42:40.868000000",
          "2025-08-03T18:19:41.784000000",
          "2025-08-05T18:42:25.083000000",
          "2025-08-11T18:19:47.275000000",
          "2025-08-12T18:13:38.370000000",
          "2025-08-12T18:32:30.057000000",
          "2025-08-15T18:42:26.259000000",
          "2025-08-19T18:19:52.205000000",
          "2025-08-19T18:32:41.596000000",
          "2025-08-22T18:32:29.981000000",
          "2025-08-22T18:42:38.098000000",
          "2025-08-30T18:42:42.566000000",
          "2025-09-01T18:32:22.352000000",
          "2025-09-05T18:13:42.390000000",
          "2025-09-08T18:32:40.229000000",
          "2025-09-11T18:32:26.507000000",
          "2025-09-11T18:42:36.040000000",
          "2025-09-12T18:19:54.747000000",
          "2025-09-13T18:13:48.425000000",
          "2025-09-16T18:32:40.827000000",
          "2025-09-20T18:20:00.185000000",
          "2025-09-24T18:42:23.581000000",
          "2025-09-26T18:32:43.138000000",
          "2025-09-29T18:13:51.672000000",
          "2025-10-01T18:32:28.130000000",
          "2025-10-01T18:42:39.581000000"
         ],
         "xaxis": "x4",
         "y": {
          "bdata": "Pioyx8yG3z+TH/ow0X3jP/3t8v5iB+c/oXG5acYw6j8ZbPlFctfmP6PaI+iK+uU/oN6QQIKn5j+X8/ahFXTqP3A6poEf/+Q/zAIa1Ka84j8b/F39qADlPzEoA8uCv+U/3xoYOBra4z/bUu0y0ifjP+uM28s2l+E/ug0Exfp03j+0tOQYfbbePxhdrt9OF9M/CLWYS4Th3j8yXieLtljfP1IZAOG91t4/kZ2koFLa2z/pQTXmkpPhP4CYZ1Xgadg/s9HLIs/14j96YuViTmDiP1ydna6Nj94/hZjKNqon4T9q1zAF4GvhPyUVU3iXp+I/jrPK1ep14z97KiFiLszgPwUewDsB8uI/u0dHh/nR4T+F85KXTXjhPw20xGqEPOY/YkyiuZqv5D868vKIvcTiP7YLU73lv+Y/hFcIou2T6D8oPaiWb+voP6mRwfjGhOY/CmLCUolK5j+TS3TIEYHiPwomrMeBduc/qxi07SlW6D/KllKWeyjkP7aOI3WAe+M/g1Hm5ovS5j8wwhMgXyblPykZAJYvHuk/0R4TysOW5T8UAiZjNyPoP/qZO7reh+Y/AhW+inGC5z/XKE3KjULnP351qI2p5OU/19hy0ByJ5j+NDi3kNk7oPxqaKMC6Eec/kUGlT9XR5z+4nD+U6+nlP5b1CJSb5uU/C4NHZS0n6D8LWacWyeviP5DYu6KXHuc/41sInX7c5D+Oghtu40flP07oKe2rnuI/XzcPuF0e4z8q68HBc1HlP9rcWk8J2uM/FehLXxCH5j/Ngg6UkVDjP3Sfy8vs4uc/F2X6ofPi4z99wazuECzjP1kRrzsz8+E/Vd+m2yIW4j9QfN3ChyPkPwxEtR2dyd8/BDuF0cwA5D+U7mfhDevhP2BYmPcu/9g/pL7dRn6D4j+7dE0fq9vfPyyhdmdFveA/X6nPCQR42z89Y2Tql5fcPyx/yCKo79k/dP/VWlBO2j96mN03FdzXP3aRXV6559o/",
          "dtype": "f8"
         },
         "yaxis": "y4"
        }
       ],
       "layout": {
        "annotations": [
         {
          "font": {
           "size": 16
          },
          "showarrow": false,
          "text": "Trend",
          "x": 0.5,
          "xanchor": "center",
          "xref": "paper",
          "y": 1,
          "yanchor": "bottom",
          "yref": "paper"
         },
         {
          "font": {
           "size": 16
          },
          "showarrow": false,
          "text": "Yearly Seasonality",
          "x": 0.5,
          "xanchor": "center",
          "xref": "paper",
          "y": 0.73,
          "yanchor": "bottom",
          "yref": "paper"
         },
         {
          "font": {
           "size": 16
          },
          "showarrow": false,
          "text": "Weather Effects",
          "x": 0.5,
          "xanchor": "center",
          "xref": "paper",
          "y": 0.46,
          "yanchor": "bottom",
          "yref": "paper"
         },
         {
          "font": {
           "size": 16
          },
          "showarrow": false,
          "text": "Predictions vs Actual",
          "x": 0.5,
          "xanchor": "center",
          "xref": "paper",
          "y": 0.19,
          "yanchor": "bottom",
          "yref": "paper"
         }
        ],
        "height": 800,
        "showlegend": true,
        "template": {
         "data": {
          "candlestick": [
           {
            "decreasing": {
             "line": {
              "color": "#000033"
             }
            },
            "increasing": {
             "line": {
              "color": "#000032"
             }
            },
            "type": "candlestick"
           }
          ],
          "contour": [
           {
            "colorscale": [
             [
              0,
              "#000011"
             ],
             [
              0.1111111111111111,
              "#000012"
             ],
             [
              0.2222222222222222,
              "#000013"
             ],
             [
              0.3333333333333333,
              "#000014"
             ],
             [
              0.4444444444444444,
              "#000015"
             ],
             [
              0.5555555555555556,
              "#000016"
             ],
             [
              0.6666666666666666,
              "#000017"
             ],
             [
              0.7777777777777778,
              "#000018"
             ],
             [
              0.8888888888888888,
              "#000019"
             ],
             [
              1,
              "#000020"
             ]
            ],
            "type": "contour"
           }
          ],
          "contourcarpet": [
           {
            "colorscale": [
             [
              0,
              "#000011"
             ],
             [
              0.1111111111111111,
              "#000012"
             ],
             [
              0.2222222222222222,
              "#000013"
             ],
             [
              0.3333333333333333,
              "#000014"
             ],
             [
              0.4444444444444444,
              "#000015"
             ],
             [
              0.5555555555555556,
              "#000016"
             ],
             [
              0.6666666666666666,
              "#000017"
             ],
             [
              0.7777777777777778,
              "#000018"
             ],
             [
              0.8888888888888888,
              "#000019"
             ],
             [
              1,
              "#000020"
             ]
            ],
            "type": "contourcarpet"
           }
          ],
          "heatmap": [
           {
            "colorscale": [
             [
              0,
              "#000011"
             ],
             [
              0.1111111111111111,
              "#000012"
             ],
             [
              0.2222222222222222,
              "#000013"
             ],
             [
              0.3333333333333333,
              "#000014"
             ],
             [
              0.4444444444444444,
              "#000015"
             ],
             [
              0.5555555555555556,
              "#000016"
             ],
             [
              0.6666666666666666,
              "#000017"
             ],
             [
              0.7777777777777778,
              "#000018"
             ],
             [
              0.8888888888888888,
              "#000019"
             ],
             [
              1,
              "#000020"
             ]
            ],
            "type": "heatmap"
           }
          ],
          "histogram2d": [
           {
            "colorscale": [
             [
              0,
              "#000011"
             ],
             [
              0.1111111111111111,
              "#000012"
             ],
             [
              0.2222222222222222,
              "#000013"
             ],
             [
              0.3333333333333333,
              "#000014"
             ],
             [
              0.4444444444444444,
              "#000015"
             ],
             [
              0.5555555555555556,
              "#000016"
             ],
             [
              0.6666666666666666,
              "#000017"
             ],
             [
              0.7777777777777778,
              "#000018"
             ],
             [
              0.8888888888888888,
              "#000019"
             ],
             [
              1,
              "#000020"
             ]
            ],
            "type": "histogram2d"
           }
          ],
          "icicle": [
           {
            "textfont": {
             "color": "white"
            },
            "type": "icicle"
           }
          ],
          "sankey": [
           {
            "textfont": {
             "color": "#000036"
            },
            "type": "sankey"
           }
          ],
          "scatter": [
           {
            "marker": {
             "line": {
              "width": 0
             }
            },
            "type": "scatter"
           }
          ],
          "table": [
           {
            "cells": {
             "fill": {
              "color": "#000038"
             },
             "font": {
              "color": "#000037"
             },
             "line": {
              "color": "#000039"
             }
            },
            "header": {
             "fill": {
              "color": "#000040"
             },
             "font": {
              "color": "#000036"
             },
             "line": {
              "color": "#000039"
             }
            },
            "type": "table"
           }
          ],
          "waterfall": [
           {
            "connector": {
             "line": {
              "color": "#000036",
              "width": 2
             }
            },
            "decreasing": {
             "marker": {
              "color": "#000033"
             }
            },
            "increasing": {
             "marker": {
              "color": "#000032"
             }
            },
            "totals": {
             "marker": {
              "color": "#000034"
             }
            },
            "type": "waterfall"
           }
          ]
         },
         "layout": {
          "coloraxis": {
           "colorscale": [
            [
             0,
             "#000011"
            ],
            [
             0.1111111111111111,
             "#000012"
            ],
            [
             0.2222222222222222,
             "#000013"
            ],
            [
             0.3333333333333333,
             "#000014"
            ],
            [
             0.4444444444444444,
             "#000015"
            ],
            [
             0.5555555555555556,
             "#000016"
            ],
            [
             0.6666666666666666,
             "#000017"
            ],
            [
             0.7777777777777778,
             "#000018"
            ],
            [
             0.8888888888888888,
             "#000019"
            ],
            [
             1,
             "#000020"
            ]
           ]
          },
          "colorscale": {
           "diverging": [
            [
             0,
             "#000021"
            ],
            [
             0.1,
             "#000022"
            ],
            [
             0.2,
             "#000023"
            ],
            [
             0.3,
             "#000024"
            ],
            [
             0.4,
             "#000025"
            ],
            [
             0.5,
             "#000026"
            ],
            [
             0.6,
             "#000027"
            ],
            [
             0.7,
             "#000028"
            ],
            [
             0.8,
             "#000029"
            ],
            [
             0.9,
             "#000030"
            ],
            [
             1,
             "#000031"
            ]
           ],
           "sequential": [
            [
             0,
             "#000011"
            ],
            [
             0.1111111111111111,
             "#000012"
            ],
            [
             0.2222222222222222,
             "#000013"
            ],
            [
             0.3333333333333333,
             "#000014"
            ],
            [
             0.4444444444444444,
             "#000015"
            ],
            [
             0.5555555555555556,
             "#000016"
            ],
            [
             0.6666666666666666,
             "#000017"
            ],
            [
             0.7777777777777778,
             "#000018"
            ],
            [
             0.8888888888888888,
             "#000019"
            ],
            [
             1,
             "#000020"
            ]
           ],
           "sequentialminus": [
            [
             0,
             "#000011"
            ],
            [
             0.1111111111111111,
             "#000012"
            ],
            [
             0.2222222222222222,
             "#000013"
            ],
            [
             0.3333333333333333,
             "#000014"
            ],
            [
             0.4444444444444444,
             "#000015"
            ],
            [
             0.5555555555555556,
             "#000016"
            ],
            [
             0.6666666666666666,
             "#000017"
            ],
            [
             0.7777777777777778,
             "#000018"
            ],
            [
             0.8888888888888888,
             "#000019"
            ],
            [
             1,
             "#000020"
            ]
           ]
          },
          "colorway": [
           "#000001",
           "#000002",
           "#000003",
           "#000004",
           "#000005",
           "#000006",
           "#000007",
           "#000008",
           "#000009",
           "#000010"
          ]
         }
        },
        "title": {
         "text": "Prophet Model Components Analysis"
        },
        "xaxis": {
         "anchor": "y",
         "domain": [
          0,
          1
         ],
         "matches": "x4",
         "showticklabels": false
        },
        "xaxis2": {
         "anchor": "y2",
         "domain": [
          0,
          1
         ],
         "matches": "x4",
         "showticklabels": false
        },
        "xaxis3": {
         "anchor": "y3",
         "domain": [
          0,
          1
         ],
         "matches": "x4",
         "showticklabels": false
        },
        "xaxis4": {
         "anchor": "y4",
         "domain": [
          0,
          1
         ]
        },
        "yaxis": {
         "anchor": "x",
         "domain": [
          0.81,
          1
         ]
        },
        "yaxis2": {
         "anchor": "x2",
         "domain": [
          0.54,
          0.73
         ]
        },
        "yaxis3": {
         "anchor": "x3",
         "domain": [
          0.27,
          0.46
         ]
        },
        "yaxis4": {
         "anchor": "x4",
         "domain": [
          0,
          0.19
         ]
        }
       }
      }
     },
     "metadata": {},
     "output_type": "display_data"
    },
    {
     "name": "stdout",
     "output_type": "stream",
     "text": [
      "📊 Creating weather effects visualization...\n"
     ]
    },
    {
     "data": {
      "application/vnd.plotly.v1+json": {
       "config": {
        "plotlyServerURL": "https://plot.ly"
       },
       "data": [
        {
         "line": {
          "width": 2
         },
         "name": "Temperature Mean",
         "type": "scatter",
         "x": [
          "2025-01-01T00:00:00.000000000",
          "2025-01-17T00:00:00.000000000",
          "2025-02-02T00:00:00.000000000",
          "2025-02-18T00:00:00.000000000",
          "2025-03-06T00:00:00.000000000",
          "2025-03-22T00:00:00.000000000",
          "2025-04-07T00:00:00.000000000",
          "2025-04-23T00:00:00.000000000",
          "2025-05-09T00:00:00.000000000",
          "2025-05-25T00:00:00.000000000",
          "2025-06-10T00:00:00.000000000",
          "2025-06-26T00:00:00.000000000",
          "2025-07-12T00:00:00.000000000",
          "2025-07-28T00:00:00.000000000",
          "2025-08-13T00:00:00.000000000",
          "2025-08-29T00:00:00.000000000",
          "2025-09-14T00:00:00.000000000",
          "2025-09-30T00:00:00.000000000",
          "2025-10-16T00:00:00.000000000",
          "2025-11-01T00:00:00.000000000",
          "2025-11-17T00:00:00.000000000",
          "2025-12-03T00:00:00.000000000",
          "2025-12-19T00:00:00.000000000",
          "2026-01-04T00:00:00.000000000"
         ],
         "xaxis": "x",
         "y": {
          "bdata": "UwQuQ56YWD8+1jSkgwRmPx8v39xB8mc/VbkNokKtaz+a6aQpBVVZP6tl/RuXBEg/acE0ycXOUT9ySFOXXKBBv5jyyMdzcA8/CQZHvF4LKr/pcwv9EmFcv1N/lrCTZWW/pkdv5TeFYb+U42mtfvNmvzYbGslYjmC/Hs+qMykZVr9Btwm3+05Zv1vEVHQ+mVO/fs7Urso7O79+ztSuyjs7v37O1K7KOzu/fs7Urso7O79+ztSuyjs7v37O1K7KOzu/",
          "dtype": "f8"
         },
         "yaxis": "y"
        },
        {
         "line": {
          "width": 2
         },
         "name": "Humidity",
         "type": "scatter",
         "x": [
          "2025-01-01T00:00:00.000000000",
          "2025-01-17T00:00:00.000000000",
          "2025-02-02T00:00:00.000000000",
          "2025-02-18T00:00:00.000000000",
          "2025-03-06T00:00:00.000000000",
          "2025-03-22T00:00:00.000000000",
          "2025-04-07T00:00:00.000000000",
          "2025-04-23T00:00:00.000000000",
          "2025-05-09T00:00:00.000000000",
          "2025-05-25T00:00:00.000000000",
          "2025-06-10T00:00:00.000000000",
          "2025-06-26T00:00:00.000000000",
          "2025-07-12T00:00:00.000000000",
          "2025-07-28T00:00:00.000000000",
          "2025-08-13T00:00:00.000000000",
          "2025-08-29T00:00:00.000000000",
          "2025-09-14T00:00:00.000000000",
          "2025-09-30T00:00:00.000000000",
          "2025-10-16T00:00:00.000000000",
          "2025-11-01T00:00:00.000000000",
          "2025-11-17T00:00:00.000000000",
          "2025-12-03T00:00:00.000000000",
          "2025-12-19T00:00:00.000000000",
          "2026-01-04T00:00:00.000000000"
         ],
         "xaxis": "x2",
         "y": {
          "bdata": "ioQN0LpEdr+H0d4Vlmd4v+cicK7bUnG/YpFN7p4BVj9x47RXEahqv4ern9MgF1e/AiX53ualhL/G7B9oIxUjP3wDIHpIhYO/USgA2Z/HZr/GK4RW72F6v/4DCGZ123q/nKlBq9IQg7/nInCu21JxvzDB+5PST4S/z92dG0M+Sr8zsmXaLKtyv2rzfuwXDnu/3DrxCL8XdL/cOvEIvxd0v9w68Qi/F3S/3DrxCL8XdL/cOvEIvxd0v9w68Qi/F3S/",
          "dtype": "f8"
         },
         "yaxis": "y2"
        },
        {
         "line": {
          "width": 2
         },
         "name": "Growing Degree Days",
         "type": "scatter",
         "x": [
          "2025-01-01T00:00:00.000000000",
          "2025-01-17T00:00:00.000000000",
          "2025-02-02T00:00:00.000000000",
          "2025-02-18T00:00:00.000000000",
          "2025-03-06T00:00:00.000000000",
          "2025-03-22T00:00:00.000000000",
          "2025-04-07T00:00:00.000000000",
          "2025-04-23T00:00:00.000000000",
          "2025-05-09T00:00:00.000000000",
          "2025-05-25T00:00:00.000000000",
          "2025-06-10T00:00:00.000000000",
          "2025-06-26T00:00:00.000000000",
          "2025-07-12T00:00:00.000000000",
          "2025-07-28T00:00:00.000000000",
          "2025-08-13T00:00:00.000000000",
          "2025-08-29T00:00:00.000000000",
          "2025-09-14T00:00:00.000000000",
          "2025-09-30T00:00:00.000000000",
          "2025-10-16T00:00:00.000000000",
          "2025-11-01T00:00:00.000000000",
          "2025-11-17T00:00:00.000000000",
          "2025-12-03T00:00:00.000000000",
          "2025-12-19T00:00:00.000000000",
          "2026-01-04T00:00:00.000000000"
         ],
         "xaxis": "x3",
         "y": {
          "bdata": "/P3aUA6NPT/8/dpQDo09P/z92lAOjT0//P3aUA6NPT/8/dpQDo09P/tFGqwAMTs//P3aUA6NPT/8CCMyjSbxvhswhOHncig/KbA1jTDjGT/YUA3fUKE7v7/xL9kNmUe/Cs/OMA9WQr/5Nuu7LLVJv4oL8M32BkG/n6F2nskaM7/O72JTTXY3vzNbhetebC+/ApQ6Y8Zj+j4ClDpjxmP6PgKUOmPGY/o+ApQ6Y8Zj+j4ClDpjxmP6PgKUOmPGY/o+",
          "dtype": "f8"
         },
         "yaxis": "y3"
        },
        {
         "line": {
          "width": 2
         },
         "name": "Vapor Pressure Deficit",
         "type": "scatter",
         "x": [
          "2025-01-01T00:00:00.000000000",
          "2025-01-17T00:00:00.000000000",
          "2025-02-02T00:00:00.000000000",
          "2025-02-18T00:00:00.000000000",
          "2025-03-06T00:00:00.000000000",
          "2025-03-22T00:00:00.000000000",
          "2025-04-07T00:00:00.000000000",
          "2025-04-23T00:00:00.000000000",
          "2025-05-09T00:00:00.000000000",
          "2025-05-25T00:00:00.000000000",
          "2025-06-10T00:00:00.000000000",
          "2025-06-26T00:00:00.000000000",
          "2025-07-12T00:00:00.000000000",
          "2025-07-28T00:00:00.000000000",
          "2025-08-13T00:00:00.000000000",
          "2025-08-29T00:00:00.000000000",
          "2025-09-14T00:00:00.000000000",
          "2025-09-30T00:00:00.000000000",
          "2025-10-16T00:00:00.000000000",
          "2025-11-01T00:00:00.000000000",
          "2025-11-17T00:00:00.000000000",
          "2025-12-03T00:00:00.000000000",
          "2025-12-19T00:00:00.000000000",
          "2026-01-04T00:00:00.000000000"
         ],
         "xaxis": "x4",
         "y": {
          "bdata": "ZUx1WlBlcj8XVFSDC/B0P0MzLCtqY3Q/v4Gy7UW+cj8/rW61W6FwPwenAak1gWc/6JvafIgVdj+UgtWlVZ88PzsxBDIOLHQ/SvJBkr3uYT8Y1K/vIpFgP8cZL/0LfUs//CHA6j11bT8cYeCwATpav9HXsIh533A/C6Cp1LSgSL+NqEZ/jBNSPzwPrI0zi2Y/NxCSHQjWZj83EJIdCNZmPzcQkh0I1mY/NxCSHQjWZj83EJIdCNZmPzcQkh0I1mY/",
          "dtype": "f8"
         },
         "yaxis": "y4"
        },
        {
         "line": {
          "width": 2
         },
         "name": "Precipitation",
         "type": "scatter",
         "x": [
          "2025-01-01T00:00:00.000000000",
          "2025-01-17T00:00:00.000000000",
          "2025-02-02T00:00:00.000000000",
          "2025-02-18T00:00:00.000000000",
          "2025-03-06T00:00:00.000000000",
          "2025-03-22T00:00:00.000000000",
          "2025-04-07T00:00:00.000000000",
          "2025-04-23T00:00:00.000000000",
          "2025-05-09T00:00:00.000000000",
          "2025-05-25T00:00:00.000000000",
          "2025-06-10T00:00:00.000000000",
          "2025-06-26T00:00:00.000000000",
          "2025-07-12T00:00:00.000000000",
          "2025-07-28T00:00:00.000000000",
          "2025-08-13T00:00:00.000000000",
          "2025-08-29T00:00:00.000000000",
          "2025-09-14T00:00:00.000000000",
          "2025-09-30T00:00:00.000000000",
          "2025-10-16T00:00:00.000000000",
          "2025-11-01T00:00:00.000000000",
          "2025-11-17T00:00:00.000000000",
          "2025-12-03T00:00:00.000000000",
          "2025-12-19T00:00:00.000000000",
          "2026-01-04T00:00:00.000000000"
         ],
         "xaxis": "x5",
         "y": {
          "bdata": "dI0DM1wzOr8hXrv5bTZKv2JhZ3wYkDI/+Oi7DkQpW7+t7y2uCZJUv+ocPQVL606/22YdoBxxU788VYO7r18xP0K0n82Fdjg/hnyPGJYg4D648AExqSMtv8k7pRC8fTM/aWcMWN9HMD/GaN9qpCIaPywHOfFkiki/AcPXXAh3Jr/Ow4lkMjUyP26LgfluKeU+WReE3YlwID9ZF4TdiXAgP1kXhN2JcCA/WReE3YlwID9ZF4TdiXAgP1kXhN2JcCA/",
          "dtype": "f8"
         },
         "yaxis": "y5"
        }
       ],
       "layout": {
        "annotations": [
         {
          "font": {
           "size": 16
          },
          "showarrow": false,
          "text": "Temperature Mean Effect",
          "x": 0.5,
          "xanchor": "center",
          "xref": "paper",
          "y": 1,
          "yanchor": "bottom",
          "yref": "paper"
         },
         {
          "font": {
           "size": 16
          },
          "showarrow": false,
          "text": "Humidity Effect",
          "x": 0.5,
          "xanchor": "center",
          "xref": "paper",
          "y": 0.79,
          "yanchor": "bottom",
          "yref": "paper"
         },
         {
          "font": {
           "size": 16
          },
          "showarrow": false,
          "text": "Growing Degree Days Effect",
          "x": 0.5,
          "xanchor": "center",
          "xref": "paper",
          "y": 0.5800000000000001,
          "yanchor": "bottom",
          "yref": "paper"
         },
         {
          "font": {
           "size": 16
          },
          "showarrow": false,
          "text": "Vapor Pressure Deficit Effect",
          "x": 0.5,
          "xanchor": "center",
          "xref": "paper",
          "y": 0.37,
          "yanchor": "bottom",
          "yref": "paper"
         },
         {
          "font": {
           "size": 16
          },
          "showarrow": false,
          "text": "Precipitation Effect",
          "x": 0.5,
          "xanchor": "center",
          "xref": "paper",
          "y": 0.16,
          "yanchor": "bottom",
          "yref": "paper"
         }
        ],
        "height": 750,
        "showlegend": false,
        "template": {
         "data": {
          "candlestick": [
           {
            "decreasing": {
             "line": {
              "color": "#000033"
             }
            },
            "increasing": {
             "line": {
              "color": "#000032"
             }
            },
            "type": "candlestick"
           }
          ],
          "contour": [
           {
            "colorscale": [
             [
              0,
              "#000011"
             ],
             [
              0.1111111111111111,
              "#000012"
             ],
             [
              0.2222222222222222,
              "#000013"
             ],
             [
              0.3333333333333333,
              "#000014"
             ],
             [
              0.4444444444444444,
              "#000015"
             ],
             [
              0.5555555555555556,
              "#000016"
             ],
             [
              0.6666666666666666,
              "#000017"
             ],
             [
              0.7777777777777778,
              "#000018"
             ],
             [
              0.8888888888888888,
              "#000019"
             ],
             [
              1,
              "#000020"
             ]
            ],
            "type": "contour"
           }
          ],
          "contourcarpet": [
           {
            "colorscale": [
             [
              0,
              "#000011"
             ],
             [
              0.1111111111111111,
              "#000012"
             ],
             [
              0.2222222222222222,
              "#000013"
             ],
             [
              0.3333333333333333,
              "#000014"
             ],
             [
              0.4444444444444444,
              "#000015"
             ],
             [
              0.5555555555555556,
              "#000016"
             ],
             [
              0.6666666666666666,
              "#000017"
             ],
             [
              0.7777777777777778,
              "#000018"
             ],
             [
              0.8888888888888888,
              "#000019"
             ],
             [
              1,
              "#000020"
             ]
            ],
            "type": "contourcarpet"
           }
          ],
          "heatmap": [
           {
            "colorscale": [
             [
              0,
              "#000011"
             ],
             [
              0.1111111111111111,
              "#000012"
             ],
             [
              0.2222222222222222,
              "#000013"
             ],
             [
              0.3333333333333333,
              "#000014"
             ],
             [
              0.4444444444444444,
              "#000015"
             ],
             [
              0.5555555555555556,
              "#000016"
             ],
             [
              0.6666666666666666,
              "#000017"
             ],
             [
              0.7777777777777778,
              "#000018"
             ],
             [
              0.8888888888888888,
              "#000019"
             ],
             [
              1,
              "#000020"
             ]
            ],
            "type": "heatmap"
           }
          ],
          "histogram2d": [
           {
            "colorscale": [
             [
              0,
              "#000011"
             ],
             [
              0.1111111111111111,
              "#000012"
             ],
             [
              0.2222222222222222,
              "#000013"
             ],
             [
              0.3333333333333333,
              "#000014"
             ],
             [
              0.4444444444444444,
              "#000015"
             ],
             [
              0.5555555555555556,
              "#000016"
             ],
             [
              0.6666666666666666,
              "#000017"
             ],
             [
              0.7777777777777778,
              "#000018"
             ],
             [
              0.8888888888888888,
              "#000019"
             ],
             [
              1,
              "#000020"
             ]
            ],
            "type": "histogram2d"
           }
          ],
          "icicle": [
           {
            "textfont": {
             "color": "white"
            },
            "type": "icicle"
           }
          ],
          "sankey": [
           {
            "textfont": {
             "color": "#000036"
            },
            "type": "sankey"
           }
          ],
          "scatter": [
           {
            "marker": {
             "line": {
              "width": 0
             }
            },
            "type": "scatter"
           }
          ],
          "table": [
           {
            "cells": {
             "fill": {
              "color": "#000038"
             },
             "font": {
              "color": "#000037"
             },
             "line": {
              "color": "#000039"
             }
            },
            "header": {
             "fill": {
              "color": "#000040"
             },
             "font": {
              "color": "#000036"
             },
             "line": {
              "color": "#000039"
             }
            },
            "type": "table"
           }
          ],
          "waterfall": [
           {
            "connector": {
             "line": {
              "color": "#000036",
              "width": 2
             }
            },
            "decreasing": {
             "marker": {
              "color": "#000033"
             }
            },
            "increasing": {
             "marker": {
              "color": "#000032"
             }
            },
            "totals": {
             "marker": {
              "color": "#000034"
             }
            },
            "type": "waterfall"
           }
          ]
         },
         "layout": {
          "coloraxis": {
           "colorscale": [
            [
             0,
             "#000011"
            ],
            [
             0.1111111111111111,
             "#000012"
            ],
            [
             0.2222222222222222,
             "#000013"
            ],
            [
             0.3333333333333333,
             "#000014"
            ],
            [
             0.4444444444444444,
             "#000015"
            ],
            [
             0.5555555555555556,
             "#000016"
            ],
            [
             0.6666666666666666,
             "#000017"
            ],
            [
             0.7777777777777778,
             "#000018"
            ],
            [
             0.8888888888888888,
             "#000019"
            ],
            [
             1,
             "#000020"
            ]
           ]
          },
          "colorscale": {
           "diverging": [
            [
             0,
             "#000021"
            ],
            [
             0.1,
             "#000022"
            ],
            [
             0.2,
             "#000023"
            ],
            [
             0.3,
             "#000024"
            ],
            [
             0.4,
             "#000025"
            ],
            [
             0.5,
             "#000026"
            ],
            [
             0.6,
             "#000027"
            ],
            [
             0.7,
             "#000028"
            ],
            [
             0.8,
             "#000029"
            ],
            [
             0.9,
             "#000030"
            ],
            [
             1,
             "#000031"
            ]
           ],
           "sequential": [
            [
             0,
             "#000011"
            ],
            [
             0.1111111111111111,
             "#000012"
            ],
            [
             0.2222222222222222,
             "#000013"
            ],
            [
             0.3333333333333333,
             "#000014"
            ],
            [
             0.4444444444444444,
             "#000015"
            ],
            [
             0.5555555555555556,
             "#000016"
            ],
            [
             0.6666666666666666,
             "#000017"
            ],
            [
             0.7777777777777778,
             "#000018"
            ],
            [
             0.8888888888888888,
             "#000019"
            ],
            [
             1,
             "#000020"
            ]
           ],
           "sequentialminus": [
            [
             0,
             "#000011"
            ],
            [
             0.1111111111111111,
             "#000012"
            ],
            [
             0.2222222222222222,
             "#000013"
            ],
            [
             0.3333333333333333,
             "#000014"
            ],
            [
             0.4444444444444444,
             "#000015"
            ],
            [
             0.5555555555555556,
             "#000016"
            ],
            [
             0.6666666666666666,
             "#000017"
            ],
            [
             0.7777777777777778,
             "#000018"
            ],
            [
             0.8888888888888888,
             "#000019"
            ],
            [
             1,
             "#000020"
            ]
           ]
          },
          "colorway": [
           "#000001",
           "#000002",
           "#000003",
           "#000004",
           "#000005",
           "#000006",
           "#000007",
           "#000008",
           "#000009",
           "#000010"
          ]
         }
        },
        "title": {
         "text": "Weather Regressor Effects on NDVI Predictions"
        },
        "xaxis": {
         "anchor": "y",
         "domain": [
          0,
          1
         ],
         "matches": "x5",
         "showticklabels": false
        },
        "xaxis2": {
         "anchor": "y2",
         "domain": [
          0,
          1
         ],
         "matches": "x5",
         "showticklabels": false
        },
        "xaxis3": {
         "anchor": "y3",
         "domain": [
          0,
          1
         ],
         "matches": "x5",
         "showticklabels": false
        },
        "xaxis4": {
         "anchor": "y4",
         "domain": [
          0,
          1
         ],
         "matches": "x5",
         "showticklabels": false
        },
        "xaxis5": {
         "anchor": "y5",
         "domain": [
          0,
          1
         ]
        },
        "yaxis": {
         "anchor": "x",
         "domain": [
          0.8400000000000001,
          1
         ]
        },
        "yaxis2": {
         "anchor": "x2",
         "domain": [
          0.63,
          0.79
         ]
        },
        "yaxis3": {
         "anchor": "x3",
         "domain": [
          0.42000000000000004,
          0.5800000000000001
         ]
        },
        "yaxis4": {
         "anchor": "x4",
         "domain": [
          0.21000000000000002,
          0.37
         ]
        },
        "yaxis5": {
         "anchor": "x5",
         "domain": [
          0,
          0.16
         ]
        }
       }
      }
     },
     "metadata": {},
     "output_type": "display_data"
    },
    {
     "name": "stdout",
     "output_type": "stream",
     "text": [
      "📊 Creating performance metrics visualization...\n"
     ]
    },
    {
     "data": {
      "application/vnd.plotly.v1+json": {
       "config": {
        "plotlyServerURL": "https://plot.ly"
       },
       "data": [
        {
         "marker": {
          "color": [
           "lightblue",
           "lightgreen",
           "lightcoral"
          ]
         },
         "type": "bar",
         "x": [
          "MAE",
          "RMSE",
          "MAPE (%)"
         ],
         "y": [
          0.09363108054085403,
          0.12090024481834132,
          16.61567308107672
         ]
        }
       ],
       "layout": {
        "height": 400,
        "template": {
         "data": {
          "candlestick": [
           {
            "decreasing": {
             "line": {
              "color": "#000033"
             }
            },
            "increasing": {
             "line": {
              "color": "#000032"
             }
            },
            "type": "candlestick"
           }
          ],
          "contour": [
           {
            "colorscale": [
             [
              0,
              "#000011"
             ],
             [
              0.1111111111111111,
              "#000012"
             ],
             [
              0.2222222222222222,
              "#000013"
             ],
             [
              0.3333333333333333,
              "#000014"
             ],
             [
              0.4444444444444444,
              "#000015"
             ],
             [
              0.5555555555555556,
              "#000016"
             ],
             [
              0.6666666666666666,
              "#000017"
             ],
             [
              0.7777777777777778,
              "#000018"
             ],
             [
              0.8888888888888888,
              "#000019"
             ],
             [
              1,
              "#000020"
             ]
            ],
            "type": "contour"
           }
          ],
          "contourcarpet": [
           {
            "colorscale": [
             [
              0,
              "#000011"
             ],
             [
              0.1111111111111111,
              "#000012"
             ],
             [
              0.2222222222222222,
              "#000013"
             ],
             [
              0.3333333333333333,
              "#000014"
             ],
             [
              0.4444444444444444,
              "#000015"
             ],
             [
              0.5555555555555556,
              "#000016"
             ],
             [
              0.6666666666666666,
              "#000017"
             ],
             [
              0.7777777777777778,
              "#000018"
             ],
             [
              0.8888888888888888,
              "#000019"
             ],
             [
              1,
              "#000020"
             ]
            ],
            "type": "contourcarpet"
           }
          ],
          "heatmap": [
           {
            "colorscale": [
             [
              0,
              "#000011"
             ],
             [
              0.1111111111111111,
              "#000012"
             ],
             [
              0.2222222222222222,
              "#000013"
             ],
             [
              0.3333333333333333,
              "#000014"
             ],
             [
              0.4444444444444444,
              "#000015"
             ],
             [
              0.5555555555555556,
              "#000016"
             ],
             [
              0.6666666666666666,
              "#000017"
             ],
             [
              0.7777777777777778,
              "#000018"
             ],
             [
              0.8888888888888888,
              "#000019"
             ],
             [
              1,
              "#000020"
             ]
            ],
            "type": "heatmap"
           }
          ],
          "histogram2d": [
           {
            "colorscale": [
             [
              0,
              "#000011"
             ],
             [
              0.1111111111111111,
              "#000012"
             ],
             [
              0.2222222222222222,
              "#000013"
             ],
             [
              0.3333333333333333,
              "#000014"
             ],
             [
              0.4444444444444444,
              "#000015"
             ],
             [
              0.5555555555555556,
              "#000016"
             ],
             [
              0.6666666666666666,
              "#000017"
             ],
             [
              0.7777777777777778,
              "#000018"
             ],
             [
              0.8888888888888888,
              "#000019"
             ],
             [
              1,
              "#000020"
             ]
            ],
            "type": "histogram2d"
           }
          ],
          "icicle": [
           {
            "textfont": {
             "color": "white"
            },
            "type": "icicle"
           }
          ],
          "sankey": [
           {
            "textfont": {
             "color": "#000036"
            },
            "type": "sankey"
           }
          ],
          "scatter": [
           {
            "marker": {
             "line": {
              "width": 0
             }
            },
            "type": "scatter"
           }
          ],
          "table": [
           {
            "cells": {
             "fill": {
              "color": "#000038"
             },
             "font": {
              "color": "#000037"
             },
             "line": {
              "color": "#000039"
             }
            },
            "header": {
             "fill": {
              "color": "#000040"
             },
             "font": {
              "color": "#000036"
             },
             "line": {
              "color": "#000039"
             }
            },
            "type": "table"
           }
          ],
          "waterfall": [
           {
            "connector": {
             "line": {
              "color": "#000036",
              "width": 2
             }
            },
            "decreasing": {
             "marker": {
              "color": "#000033"
             }
            },
            "increasing": {
             "marker": {
              "color": "#000032"
             }
            },
            "totals": {
             "marker": {
              "color": "#000034"
             }
            },
            "type": "waterfall"
           }
          ]
         },
         "layout": {
          "coloraxis": {
           "colorscale": [
            [
             0,
             "#000011"
            ],
            [
             0.1111111111111111,
             "#000012"
            ],
            [
             0.2222222222222222,
             "#000013"
            ],
            [
             0.3333333333333333,
             "#000014"
            ],
            [
             0.4444444444444444,
             "#000015"
            ],
            [
             0.5555555555555556,
             "#000016"
            ],
            [
             0.6666666666666666,
             "#000017"
            ],
            [
             0.7777777777777778,
             "#000018"
            ],
            [
             0.8888888888888888,
             "#000019"
            ],
            [
             1,
             "#000020"
            ]
           ]
          },
          "colorscale": {
           "diverging": [
            [
             0,
             "#000021"
            ],
            [
             0.1,
             "#000022"
            ],
            [
             0.2,
             "#000023"
            ],
            [
             0.3,
             "#000024"
            ],
            [
             0.4,
             "#000025"
            ],
            [
             0.5,
             "#000026"
            ],
            [
             0.6,
             "#000027"
            ],
            [
             0.7,
             "#000028"
            ],
            [
             0.8,
             "#000029"
            ],
            [
             0.9,
             "#000030"
            ],
            [
             1,
             "#000031"
            ]
           ],
           "sequential": [
            [
             0,
             "#000011"
            ],
            [
             0.1111111111111111,
             "#000012"
            ],
            [
             0.2222222222222222,
             "#000013"
            ],
            [
             0.3333333333333333,
             "#000014"
            ],
            [
             0.4444444444444444,
             "#000015"
            ],
            [
             0.5555555555555556,
             "#000016"
            ],
            [
             0.6666666666666666,
             "#000017"
            ],
            [
             0.7777777777777778,
             "#000018"
            ],
            [
             0.8888888888888888,
             "#000019"
            ],
            [
             1,
             "#000020"
            ]
           ],
           "sequentialminus": [
            [
             0,
             "#000011"
            ],
            [
             0.1111111111111111,
             "#000012"
            ],
            [
             0.2222222222222222,
             "#000013"
            ],
            [
             0.3333333333333333,
             "#000014"
            ],
            [
             0.4444444444444444,
             "#000015"
            ],
            [
             0.5555555555555556,
             "#000016"
            ],
            [
             0.6666666666666666,
             "#000017"
            ],
            [
             0.7777777777777778,
             "#000018"
            ],
            [
             0.8888888888888888,
             "#000019"
            ],
            [
             1,
             "#000020"
            ]
           ]
          },
          "colorway": [
           "#000001",
           "#000002",
           "#000003",
           "#000004",
           "#000005",
           "#000006",
           "#000007",
           "#000008",
           "#000009",
           "#000010"
          ]
         }
        },
        "title": {
         "text": "Model Performance Metrics"
        },
        "yaxis": {
         "title": {
          "text": "Error Value"
         }
        }
       }
      }
     },
     "metadata": {},
     "output_type": "display_data"
    },
    {
     "name": "stdout",
     "output_type": "stream",
     "text": [
      "✅ All visualizations created successfully!\n"
     ]
    }
   ],
   "source": [
    "if model is not None and forecast is not None:\n",
    "    print(\"📊 Creating visualizations...\")\n",
    "    \n",
    "    # 1. Main prediction plot with Plotly\n",
    "    fig_main = go.Figure()\n",
    "    \n",
    "    # Historical data\n",
    "    fig_main.add_trace(go.Scatter(\n",
    "        x=train_df['ds'],\n",
    "        y=train_df['y'],\n",
    "        mode='markers',\n",
    "        name='Historical NDVI',\n",
    "        marker=dict(color='blue', size=6),\n",
    "        hovertemplate='Date: %{x}<br>NDVI: %{y:.3f}<extra></extra>'\n",
    "    ))\n",
    "    \n",
    "    # Historical predictions\n",
    "    if historical_forecast is not None:\n",
    "        fig_main.add_trace(go.Scatter(\n",
    "            x=historical_forecast['ds'],\n",
    "            y=historical_forecast['yhat'],\n",
    "            mode='lines',\n",
    "            name='Historical Fit',\n",
    "            line=dict(color='lightblue', width=2),\n",
    "            hovertemplate='Date: %{x}<br>Predicted: %{y:.3f}<extra></extra>'\n",
    "        ))\n",
    "    \n",
    "    # Future predictions\n",
    "    fig_main.add_trace(go.Scatter(\n",
    "        x=forecast['ds'],\n",
    "        y=forecast['yhat'],\n",
    "        mode='lines+markers',\n",
    "        name=f'{CURRENT_YEAR} Predictions',\n",
    "        line=dict(color='red', width=3),\n",
    "        marker=dict(size=8),\n",
    "        hovertemplate='Date: %{x}<br>Predicted NDVI: %{y:.3f}<extra></extra>'\n",
    "    ))\n",
    "    \n",
    "    # Confidence intervals\n",
    "    fig_main.add_trace(go.Scatter(\n",
    "        x=forecast['ds'],\n",
    "        y=forecast['yhat_upper'],\n",
    "        mode='lines',\n",
    "        line=dict(width=0),\n",
    "        showlegend=False,\n",
    "        hoverinfo='skip'\n",
    "    ))\n",
    "    \n",
    "    fig_main.add_trace(go.Scatter(\n",
    "        x=forecast['ds'],\n",
    "        y=forecast['yhat_lower'],\n",
    "        mode='lines',\n",
    "        fill='tonexty',\n",
    "        fillcolor='rgba(255,0,0,0.1)',\n",
    "        line=dict(width=0),\n",
    "        name='Confidence Interval',\n",
    "        hovertemplate='Date: %{x}<br>CI: %{y:.3f}<extra></extra>'\n",
    "    ))\n",
    "    \n",
    "    # Validation data if available\n",
    "    if not val_df.empty:\n",
    "        fig_main.add_trace(go.Scatter(\n",
    "            x=val_df['ds'],\n",
    "            y=val_df['y'],\n",
    "            mode='markers',\n",
    "            name='Validation Data',\n",
    "            marker=dict(color='orange', size=8, symbol='diamond'),\n",
    "            hovertemplate='Date: %{x}<br>Actual: %{y:.3f}<extra></extra>'\n",
    "        ))\n",
    "    \n",
    "    fig_main.update_layout(\n",
    "        title=f'NDVI Predictions for {CURRENT_YEAR} - Prophet Model',\n",
    "        xaxis_title='Date',\n",
    "        yaxis_title='NDVI',\n",
    "        height=600,\n",
    "        hovermode='x unified',\n",
    "        legend=dict(orientation='h', yanchor='bottom', y=1.02, xanchor='right', x=1)\n",
    "    )\n",
    "    \n",
    "    # Add NDVI interpretation lines\n",
    "    fig_main.add_hline(y=0.2, line_dash=\"dash\", line_color=\"red\", \n",
    "                      annotation_text=\"Stress threshold\")\n",
    "    fig_main.add_hline(y=0.35, line_dash=\"dash\", line_color=\"orange\", \n",
    "                      annotation_text=\"Crop threshold\")\n",
    "    fig_main.add_hline(y=0.6, line_dash=\"dash\", line_color=\"green\", \n",
    "                      annotation_text=\"Healthy canopy\")\n",
    "    \n",
    "    fig_main.show()\n",
    "    \n",
    "    # 2. Seasonal decomposition plot\n",
    "    print(\"📊 Creating component analysis...\")\n",
    "    \n",
    "    if len(forecast) > 0:\n",
    "        fig_components = make_subplots(\n",
    "            rows=4, cols=1,\n",
    "            subplot_titles=['Trend', 'Yearly Seasonality', 'Weather Effects', 'Predictions vs Actual'],\n",
    "            vertical_spacing=0.08,\n",
    "            shared_xaxes=True\n",
    "        )\n",
    "        \n",
    "        # Trend\n",
    "        if 'trend' in forecast.columns:\n",
    "            fig_components.add_trace(\n",
    "                go.Scatter(x=forecast['ds'], y=forecast['trend'], \n",
    "                          name='Trend', line=dict(color='blue')),\n",
    "                row=1, col=1\n",
    "            )\n",
    "        \n",
    "        # Seasonality\n",
    "        if 'yearly' in forecast.columns:\n",
    "            fig_components.add_trace(\n",
    "                go.Scatter(x=forecast['ds'], y=forecast['yearly'], \n",
    "                          name='Yearly', line=dict(color='green')),\n",
    "                row=2, col=1\n",
    "            )\n",
    "        \n",
    "        # Weather effects (sum of regressor contributions)\n",
    "        weather_effect = np.zeros(len(forecast))\n",
    "        for regressor in available_regressors:\n",
    "            if regressor in forecast.columns:\n",
    "                weather_effect += forecast[regressor].values\n",
    "        \n",
    "        fig_components.add_trace(\n",
    "            go.Scatter(x=forecast['ds'], y=weather_effect, \n",
    "                      name='Weather Effects', line=dict(color='orange')),\n",
    "            row=3, col=1\n",
    "        )\n",
    "        \n",
    "        # Predictions vs actual (if validation data available)\n",
    "        fig_components.add_trace(\n",
    "            go.Scatter(x=forecast['ds'], y=forecast['yhat'], \n",
    "                      name='Predictions', line=dict(color='red')),\n",
    "            row=4, col=1\n",
    "        )\n",
    "        \n",
    "        if not val_df.empty and len(val_forecast) > 0:\n",
    "            fig_components.add_trace(\n",
    "                go.Scatter(x=val_df['ds'], y=val_df['y'], \n",
    "                          mode='markers', name='Actual', marker=dict(color='blue')),\n",
    "                row=4, col=1\n",
    "            )\n",
    "        \n",
    "        fig_components.update_layout(\n",
    "            height=800,\n",
    "            title_text=\"Prophet Model Components Analysis\",\n",
    "            showlegend=True\n",
    "        )\n",
    "        \n",
    "        fig_components.show()\n",
    "    \n",
    "    # 3. Weather regressor effects\n",
    "    if len(available_regressors) > 0:\n",
    "        print(\"📊 Creating weather effects visualization...\")\n",
    "        \n",
    "        fig_weather = make_subplots(\n",
    "            rows=len(available_regressors), cols=1,\n",
    "            subplot_titles=[f'{reg.replace(\"_\", \" \").title()} Effect' for reg in available_regressors],\n",
    "            vertical_spacing=0.05,\n",
    "            shared_xaxes=True\n",
    "        )\n",
    "        \n",
    "        for i, regressor in enumerate(available_regressors):\n",
    "            if regressor in forecast.columns:\n",
    "                fig_weather.add_trace(\n",
    "                    go.Scatter(\n",
    "                        x=forecast['ds'], \n",
    "                        y=forecast[regressor], \n",
    "                        name=regressor.replace('_', ' ').title(),\n",
    "                        line=dict(width=2)\n",
    "                    ),\n",
    "                    row=i+1, col=1\n",
    "                )\n",
    "        \n",
    "        fig_weather.update_layout(\n",
    "            height=150*len(available_regressors),\n",
    "            title_text=\"Weather Regressor Effects on NDVI Predictions\",\n",
    "            showlegend=False\n",
    "        )\n",
    "        \n",
    "        fig_weather.show()\n",
    "    \n",
    "    # 4. Model performance visualization (if validation data available)\n",
    "    if evaluation_results is not None:\n",
    "        print(\"📊 Creating performance metrics visualization...\")\n",
    "        \n",
    "        # Create a simple bar chart of metrics\n",
    "        metrics_fig = go.Figure(data=[\n",
    "            go.Bar(\n",
    "                x=['MAE', 'RMSE', 'MAPE (%)'],\n",
    "                y=[evaluation_results['mae'], evaluation_results['rmse'], evaluation_results['mape']],\n",
    "                marker_color=['lightblue', 'lightgreen', 'lightcoral']\n",
    "            )\n",
    "        ])\n",
    "        \n",
    "        metrics_fig.update_layout(\n",
    "            title='Model Performance Metrics',\n",
    "            yaxis_title='Error Value',\n",
    "            height=400\n",
    "        )\n",
    "        \n",
    "        metrics_fig.show()\n",
    "    \n",
    "    print(\"✅ All visualizations created successfully!\")\n",
    "    \n",
    "else:\n",
    "    print(\"❌ Cannot create visualizations - no model or predictions available\")"
   ]
  },
  {
   "cell_type": "markdown",
   "id": "24bf9a75",
   "metadata": {},
   "source": [
    "## Export Trained Model and Results\n",
    "\n",
    "Save the trained model and export prediction results for use in crop monitoring applications."
   ]
  },
  {
   "cell_type": "code",
   "execution_count": 147,
   "id": "d45f9184",
   "metadata": {},
   "outputs": [
    {
     "name": "stdout",
     "output_type": "stream",
     "text": [
      "💾 Saving trained model and results...\n",
      "✅ Model saved to: models\\ndvi_prophet_model_20251004_141455.pkl\n",
      "✅ Metadata saved to: models\\model_metadata_20251004_141455.json\n",
      "✅ Predictions exported to: models\\ndvi_predictions_2025.csv\n",
      "   Contains 24 predictions for 2025\n",
      "✅ Summary report saved to: models\\model_summary_20251004.md\n",
      "\n",
      "🎉 Model export completed! Check the 'models' directory for all files.\n",
      "📋 Growth stage estimation function defined\n"
     ]
    }
   ],
   "source": [
    "def estimate_growth_stage(day_of_year, ndvi):\n",
    "    \"\"\"Simple growth stage estimation based on day of year and NDVI\"\"\"\n",
    "    if day_of_year < 90 or day_of_year > 300:  # Winter\n",
    "        return 'Dormant'\n",
    "    elif day_of_year < 120:  # Early spring\n",
    "        if ndvi < 0.3:\n",
    "            return 'Planting/Emergence'\n",
    "        else:\n",
    "            return 'Early Growth'\n",
    "    elif day_of_year < 180:  # Late spring/Early summer\n",
    "        if ndvi < 0.4:\n",
    "            return 'Vegetative Growth'\n",
    "        elif ndvi < 0.6:\n",
    "            return 'Rapid Growth'\n",
    "        else:\n",
    "            return 'Canopy Development'\n",
    "    elif day_of_year < 240:  # Mid-summer\n",
    "        if ndvi > 0.6:\n",
    "            return 'Peak Biomass'\n",
    "        else:\n",
    "            return 'Reproduction'\n",
    "    elif day_of_year < 300:  # Fall\n",
    "        if ndvi > 0.5:\n",
    "            return 'Maturation'\n",
    "        else:\n",
    "            return 'Senescence'\n",
    "    else:\n",
    "        return 'Harvest/Dormancy'\n",
    "\n",
    "if model is not None:\n",
    "    print(\"💾 Saving trained model and results...\")\n",
    "    \n",
    "    # 1. Save the trained Prophet model\n",
    "    model_filename = MODEL_OUTPUT_DIR / f\"ndvi_prophet_model_{datetime.now().strftime('%Y%m%d_%H%M%S')}.pkl\"\n",
    "    \n",
    "    try:\n",
    "        with open(model_filename, 'wb') as f:\n",
    "            pickle.dump(model, f)\n",
    "        print(f\"✅ Model saved to: {model_filename}\")\n",
    "    except Exception as e:\n",
    "        print(f\"❌ Failed to save model: {e}\")\n",
    "    \n",
    "    # 2. Save model metadata\n",
    "    metadata = {\n",
    "        'model_type': 'Prophet',\n",
    "        'training_period': {\n",
    "            'start': train_df['ds'].min().isoformat(),\n",
    "            'end': train_df['ds'].max().isoformat(),\n",
    "            'n_observations': len(train_df)\n",
    "        },\n",
    "        'regressors': available_regressors,\n",
    "        'target_variable': 'NDVI',\n",
    "        'prediction_year': CURRENT_YEAR,\n",
    "        'created_at': datetime.now().isoformat(),\n",
    "        'model_parameters': {\n",
    "            'yearly_seasonality': True,\n",
    "            'changepoint_prior_scale': 0.05,\n",
    "            'seasonality_prior_scale': 10.0,\n",
    "            'n_changepoints': 25\n",
    "        }\n",
    "    }\n",
    "    \n",
    "    if evaluation_results:\n",
    "        metadata['performance'] = evaluation_results\n",
    "    \n",
    "    metadata_filename = MODEL_OUTPUT_DIR / f\"model_metadata_{datetime.now().strftime('%Y%m%d_%H%M%S')}.json\"\n",
    "    \n",
    "    try:\n",
    "        with open(metadata_filename, 'w') as f:\n",
    "            json.dump(metadata, f, indent=2, default=str)\n",
    "        print(f\"✅ Metadata saved to: {metadata_filename}\")\n",
    "    except Exception as e:\n",
    "        print(f\"❌ Failed to save metadata: {e}\")\n",
    "    \n",
    "    # 3. Export predictions to CSV\n",
    "    if forecast is not None:\n",
    "        predictions_df = forecast[['ds', 'yhat', 'yhat_lower', 'yhat_upper']].copy()\n",
    "        predictions_df['ds'] = predictions_df['ds'].dt.strftime('%Y-%m-%d')\n",
    "        predictions_df.columns = ['date', 'predicted_ndvi', 'lower_bound', 'upper_bound']\n",
    "        \n",
    "        # Add weather variables\n",
    "        for regressor in available_regressors:\n",
    "            if regressor in forecast.columns:\n",
    "                predictions_df[regressor] = forecast[regressor]\n",
    "        \n",
    "        # Add crop status interpretation\n",
    "        predictions_df['crop_status'] = predictions_df['predicted_ndvi'].apply(\n",
    "            lambda x: 'Stressed' if x < 0.2 else\n",
    "                     'Emerging' if x < 0.35 else\n",
    "                     'Developing' if x < 0.5 else\n",
    "                     'Healthy' if x < 0.7 else\n",
    "                     'Peak'\n",
    "        )\n",
    "        \n",
    "        # Add growth stage estimates (simplified)\n",
    "        predictions_df['estimated_growth_stage'] = predictions_df.apply(\n",
    "            lambda row: estimate_growth_stage(\n",
    "                pd.to_datetime(row['date']).timetuple().tm_yday, \n",
    "                row['predicted_ndvi']\n",
    "            ), axis=1\n",
    "        )\n",
    "        \n",
    "        predictions_filename = MODEL_OUTPUT_DIR / f\"ndvi_predictions_{CURRENT_YEAR}.csv\"\n",
    "        \n",
    "        try:\n",
    "            predictions_df.to_csv(predictions_filename, index=False)\n",
    "            print(f\"✅ Predictions exported to: {predictions_filename}\")\n",
    "            print(f\"   Contains {len(predictions_df)} predictions for {CURRENT_YEAR}\")\n",
    "        except Exception as e:\n",
    "            print(f\"❌ Failed to export predictions: {e}\")\n",
    "    \n",
    "    # 4. Create summary report\n",
    "    summary_report = f\"\"\"\n",
    "# NDVI Prophet Model Summary Report\n",
    "Generated: {datetime.now().strftime('%Y-%m-%d %H:%M:%S')}\n",
    "\n",
    "## Model Configuration\n",
    "- Target Variable: NDVI\n",
    "- Training Period: {train_df['ds'].min().date()} to {train_df['ds'].max().date()}\n",
    "- Training Observations: {len(train_df)}\n",
    "- Prediction Year: {CURRENT_YEAR}\n",
    "- Weather Regressors: {', '.join(available_regressors) if available_regressors else 'None'}\n",
    "\n",
    "## Model Performance\n",
    "\"\"\"\n",
    "    \n",
    "    if evaluation_results:\n",
    "        summary_report += f\"\"\"- Mean Absolute Error (MAE): {evaluation_results['mae']:.4f}\n",
    "- Root Mean Square Error (RMSE): {evaluation_results['rmse']:.4f}\n",
    "- Mean Absolute Percentage Error (MAPE): {evaluation_results['mape']:.2f}%\n",
    "\"\"\"\n",
    "        \n",
    "        if 'cv_mae' in evaluation_results:\n",
    "            summary_report += f\"\"\"\n",
    "## Cross-Validation Results\n",
    "- CV MAE: {evaluation_results['cv_mae']:.4f}\n",
    "- CV RMSE: {evaluation_results['cv_rmse']:.4f}\n",
    "- CV MAPE: {evaluation_results['cv_mape']:.2f}%\n",
    "\"\"\"\n",
    "    \n",
    "    if forecast is not None:\n",
    "        summary_report += f\"\"\"\n",
    "## Predictions Summary\n",
    "- Prediction Dates: {len(predictions_df)}\n",
    "- NDVI Range: {forecast['yhat'].min():.3f} to {forecast['yhat'].max():.3f}\n",
    "- Peak NDVI Expected: {forecast.loc[forecast['yhat'].idxmax(), 'ds'].strftime('%Y-%m-%d')}\n",
    "- Minimum NDVI Expected: {forecast.loc[forecast['yhat'].idxmin(), 'ds'].strftime('%Y-%m-%d')}\n",
    "\n",
    "## Growing Season Analysis\n",
    "- Growing season months (Apr-Oct): {len(forecast[(forecast['ds'].dt.month >= 4) & (forecast['ds'].dt.month <= 10)])} predictions\n",
    "- Expected peak canopy period: {forecast[forecast['yhat'] > 0.6]['ds'].min().strftime('%Y-%m-%d') if len(forecast[forecast['yhat'] > 0.6]) > 0 else 'Not expected'}\n",
    "\n",
    "## Crop Monitoring Insights\n",
    "\"\"\"\n",
    "        \n",
    "        # Seasonal insights\n",
    "        monthly_means = forecast.groupby(forecast['ds'].dt.month)['yhat'].mean()\n",
    "        peak_month = monthly_means.idxmax()\n",
    "        month_names = ['Jan', 'Feb', 'Mar', 'Apr', 'May', 'Jun', \n",
    "                      'Jul', 'Aug', 'Sep', 'Oct', 'Nov', 'Dec']\n",
    "        \n",
    "        summary_report += f\"\"\"- Predicted peak growth month: {month_names[peak_month-1]} (NDVI: {monthly_means[peak_month]:.3f})\n",
    "- Early season average (Mar-May): {monthly_means[[3,4,5]].mean():.3f}\n",
    "- Late season average (Sep-Nov): {monthly_means[[9,10,11]].mean():.3f}\n",
    "\n",
    "## Files Generated\n",
    "- Model: {model_filename.name}\n",
    "- Metadata: {metadata_filename.name}\n",
    "- Predictions: {predictions_filename.name}\n",
    "- Summary: model_summary_{datetime.now().strftime('%Y%m%d')}.md\n",
    "\"\"\"\n",
    "    \n",
    "    summary_filename = MODEL_OUTPUT_DIR / f\"model_summary_{datetime.now().strftime('%Y%m%d')}.md\"\n",
    "    \n",
    "    try:\n",
    "        with open(summary_filename, 'w') as f:\n",
    "            f.write(summary_report)\n",
    "        print(f\"✅ Summary report saved to: {summary_filename}\")\n",
    "    except Exception as e:\n",
    "        print(f\"❌ Failed to save summary: {e}\")\n",
    "    \n",
    "    print(f\"\\n🎉 Model export completed! Check the '{MODEL_OUTPUT_DIR}' directory for all files.\")\n",
    "\n",
    "else:\n",
    "    print(\"❌ Cannot export - no trained model available\")\n",
    "\n",
    "print(\"📋 Growth stage estimation function defined\")"
   ]
  },
  {
   "cell_type": "markdown",
   "id": "607883aa",
   "metadata": {},
   "source": [
    "## Summary and Next Steps\n",
    "\n",
    "This notebook has demonstrated how to train a Prophet model for NDVI prediction using cached data from the HLS Crop Monitor project.\n",
    "\n",
    "### Key Accomplishments:\n",
    "1. ✅ **Data Loading**: Successfully loaded cached NDVI and weather data\n",
    "2. ✅ **Feature Engineering**: Created weather-based regressors and seasonal features  \n",
    "3. ✅ **Model Training**: Trained Prophet model with external regressors\n",
    "4. ✅ **Prediction Generation**: Created NDVI forecasts for the current year\n",
    "5. ✅ **Model Evaluation**: Assessed performance using validation metrics\n",
    "6. ✅ **Visualization**: Generated comprehensive plots and analysis\n",
    "7. ✅ **Export**: Saved model, predictions, and summary reports\n",
    "\n",
    "### Usage in Production:\n",
    "- The saved model can be loaded and used to generate updated predictions\n",
    "- Predictions include confidence intervals for uncertainty quantification\n",
    "- Weather regressors enable more accurate forecasting\n",
    "- Growth stage estimates support agricultural decision making\n",
    "\n",
    "### Potential Improvements:\n",
    "- **More Weather Variables**: Add soil moisture, solar radiation, wind speed\n",
    "- **Spatial Modeling**: Extend to multiple field locations\n",
    "- **Crop-Specific Models**: Train separate models for different crop types\n",
    "- **Real-time Updates**: Implement automated model retraining\n",
    "- **Anomaly Detection**: Add alerts for unusual NDVI patterns\n",
    "\n",
    "### Integration with HLS Crop Monitor:\n",
    "The predictions from this model can be integrated back into the main Streamlit application to provide:\n",
    "- Forward-looking crop health forecasts\n",
    "- Early warning systems for stress conditions\n",
    "- Seasonal planning support for farmers\n",
    "- Yield estimation improvements"
   ]
  },
  {
   "cell_type": "markdown",
   "id": "654ad81e",
   "metadata": {},
   "source": [
    "## Export Model for API Integration\n",
    "\n",
    "Save the trained Prophet model and metadata for use in the API."
   ]
  },
  {
   "cell_type": "code",
   "execution_count": 152,
   "id": "7290cfdb",
   "metadata": {},
   "outputs": [
    {
     "name": "stdout",
     "output_type": "stream",
     "text": [
      "📦 Exporting trained model for API integration...\n",
      "✅ Model saved to: models\\ndvi_prophet_model.pkl\n",
      "✅ Metadata saved to: models\\model_metadata.json\n",
      "✅ Sample predictions saved to: models\\sample_predictions.csv\n",
      "✅ Flowering predictions saved to: models\\flowering_prediction_sample.json\n",
      "\n",
      "🎉 Model export complete!\n",
      "   📁 Model files location: models\n",
      "   🔧 The API can now use your trained ML model\n",
      "   🌸 Includes flowering date predictions\n",
      "   📊 Model performance metrics included\n",
      "\n",
      "📋 API Integration Instructions:\n",
      "   1. The API will automatically load the model from models\\ndvi_prophet_model.pkl\n",
      "   2. ML predictions will replace heuristic NDVI peak calculations\n",
      "   3. Flowering dates will be included in API responses\n",
      "   4. The API will fall back to heuristic method if ML fails\n"
     ]
    }
   ],
   "source": [
    "# Export the trained model for API integration\n",
    "if 'model' in globals() and model is not None:\n",
    "    import pickle\n",
    "    \n",
    "    # Ensure model output directory exists\n",
    "    MODEL_OUTPUT_DIR.mkdir(exist_ok=True)\n",
    "    \n",
    "    print(\"📦 Exporting trained model for API integration...\")\n",
    "    \n",
    "    # Save the Prophet model\n",
    "    model_filename = MODEL_OUTPUT_DIR / \"ndvi_prophet_model.pkl\"\n",
    "    \n",
    "    try:\n",
    "        with open(model_filename, 'wb') as f:\n",
    "            pickle.dump(model, f)\n",
    "        print(f\"✅ Model saved to: {model_filename}\")\n",
    "        \n",
    "        # Save model metadata\n",
    "        metadata = {\n",
    "            'model_type': 'Prophet',\n",
    "            'training_date': datetime.now().isoformat(),\n",
    "            'regions_trained': list(all_regions),\n",
    "            'regressors': available_regressors + ['region_numeric', 'is_northern_region', 'is_growing_season'],\n",
    "            'training_data_shape': list(modeling_df.shape) if 'modeling_df' in globals() else None,\n",
    "            'cv_metrics': {\n",
    "                'mae': float(mae) if 'mae' in globals() else None,\n",
    "                'rmse': float(rmse) if 'rmse' in globals() else None,\n",
    "                'mape': float(mape) if 'mape' in globals() else None\n",
    "            } if any(var in globals() for var in ['mae', 'rmse', 'mape']) else None,\n",
    "            'flowering_prediction_available': True,\n",
    "            'weather_forecast_integration': True\n",
    "        }\n",
    "        \n",
    "        metadata_filename = MODEL_OUTPUT_DIR / \"model_metadata.json\"\n",
    "        with open(metadata_filename, 'w') as f:\n",
    "            import json\n",
    "            json.dump(metadata, f, indent=2)\n",
    "        print(f\"✅ Metadata saved to: {metadata_filename}\")\n",
    "        \n",
    "        # Save example predictions for verification\n",
    "        if 'forecast' in globals() and forecast is not None:\n",
    "            predictions_sample = forecast[['ds', 'yhat', 'yhat_lower', 'yhat_upper']].head(10)\n",
    "            predictions_filename = MODEL_OUTPUT_DIR / \"sample_predictions.csv\"\n",
    "            predictions_sample.to_csv(predictions_filename, index=False)\n",
    "            print(f\"✅ Sample predictions saved to: {predictions_filename}\")\n",
    "        \n",
    "        # Save flowering prediction results if available\n",
    "        if 'flowering_start_date' in globals() and flowering_start_date is not None:\n",
    "            flowering_info = {\n",
    "                'flowering_start_date': flowering_start_date.isoformat(),\n",
    "                'flowering_confidence': float(flowering_confidence),\n",
    "                'flowering_method': flowering_method,\n",
    "                'ndvi_at_flowering': float(flowering_ndvi) if 'flowering_ndvi' in globals() else None\n",
    "            }\n",
    "            \n",
    "            flowering_filename = MODEL_OUTPUT_DIR / \"flowering_prediction_sample.json\"\n",
    "            with open(flowering_filename, 'w') as f:\n",
    "                # Convert all numeric types to Python native types for JSON serialization\n",
    "                def convert_for_json(obj):\n",
    "                    if isinstance(obj, pd.Timestamp):\n",
    "                        return obj.isoformat()\n",
    "                    elif isinstance(obj, (np.integer, np.int32, np.int64)):\n",
    "                        return int(obj)\n",
    "                    elif isinstance(obj, (np.floating, np.float32, np.float64)):\n",
    "                        return float(obj)\n",
    "                    elif isinstance(obj, dict):\n",
    "                        return {k: convert_for_json(v) for k, v in obj.items()}\n",
    "                    elif isinstance(obj, list):\n",
    "                        return [convert_for_json(item) for item in obj]\n",
    "                    return obj\n",
    "                \n",
    "                json.dump(convert_for_json(flowering_info), f, indent=2)\n",
    "            print(f\"✅ Flowering predictions saved to: {flowering_filename}\")\n",
    "        \n",
    "        print(f\"\\n🎉 Model export complete!\")\n",
    "        print(f\"   📁 Model files location: {MODEL_OUTPUT_DIR}\")\n",
    "        print(f\"   🔧 The API can now use your trained ML model\")\n",
    "        print(f\"   🌸 Includes flowering date predictions\")\n",
    "        print(f\"   📊 Model performance metrics included\")\n",
    "        \n",
    "        # Display integration instructions\n",
    "        print(f\"\\n📋 API Integration Instructions:\")\n",
    "        print(f\"   1. The API will automatically load the model from {model_filename}\")\n",
    "        print(f\"   2. ML predictions will replace heuristic NDVI peak calculations\")\n",
    "        print(f\"   3. Flowering dates will be included in API responses\")\n",
    "        print(f\"   4. The API will fall back to heuristic method if ML fails\")\n",
    "        \n",
    "    except Exception as e:\n",
    "        print(f\"❌ Error exporting model: {e}\")\n",
    "        import traceback\n",
    "        traceback.print_exc()\n",
    "        \n",
    "else:\n",
    "    print(\"⚠️  No trained model available for export\")\n",
    "    print(\"   Please run the model training cells first\")"
   ]
  }
 ],
 "metadata": {
  "language_info": {
   "name": "python"
  }
 },
 "nbformat": 4,
 "nbformat_minor": 5
}
