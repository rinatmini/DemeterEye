{
 "cells": [
  {
   "cell_type": "markdown",
   "id": "be0baa42",
   "metadata": {},
   "source": [
    "# NDVI Prophet Model Training\n",
    "\n",
    "This notebook helps to train a Facebook Prophet model using cached NDVI and weather data from the HLS Crop Monitor project to predict vegetation patterns for the current year.\n",
    "\n",
    "## Objectives:\n",
    "- Load cached NDVI and weather data from multiple years\n",
    "- Train a Prophet model with weather variables as additional regressors  \n",
    "- Generate predictions for the current year\n",
    "- Evaluate model performance and visualize results"
   ]
  },
  {
   "cell_type": "code",
   "execution_count": 22,
   "id": "bc7f81d8",
   "metadata": {},
   "outputs": [
    {
     "name": "stdout",
     "output_type": "stream",
     "text": [
      "✅ Libraries imported successfully\n"
     ]
    }
   ],
   "source": [
    "# Import Required Libraries\n",
    "import pandas as pd\n",
    "import numpy as np\n",
    "import matplotlib.pyplot as plt\n",
    "import seaborn as sns\n",
    "from datetime import datetime, timedelta\n",
    "import json\n",
    "import hashlib\n",
    "from pathlib import Path\n",
    "import warnings\n",
    "import pickle\n",
    "import logging\n",
    "\n",
    "# Prophet and related libraries\n",
    "try:\n",
    "    from prophet import Prophet\n",
    "    from prophet.diagnostics import cross_validation, performance_metrics\n",
    "    from prophet.plot import plot_cross_validation_metric\n",
    "except ImportError:\n",
    "    print(\"Prophet not installed. Please install it using: pip install prophet\")\n",
    "\n",
    "# Plotly for interactive visualizations\n",
    "import plotly.graph_objects as go\n",
    "import plotly.express as px\n",
    "from plotly.subplots import make_subplots\n",
    "\n",
    "# Weather data\n",
    "import requests\n",
    "\n",
    "# Set up logging and warnings\n",
    "warnings.filterwarnings(\"ignore\")\n",
    "logging.getLogger('prophet').setLevel(logging.WARNING)\n",
    "\n",
    "# Set style\n",
    "plt.style.use('seaborn-v0_8')\n",
    "sns.set_palette(\"husl\")\n",
    "\n",
    "print(\"✅ Libraries imported successfully\")"
   ]
  },
  {
   "cell_type": "markdown",
   "id": "34af2711",
   "metadata": {},
   "source": [
    "## Configuration and Cache Directory Setup"
   ]
  },
  {
   "cell_type": "code",
   "execution_count": 23,
   "id": "1eb3ac6d",
   "metadata": {},
   "outputs": [
    {
     "name": "stdout",
     "output_type": "stream",
     "text": [
      "📁 Cache directories:\n",
      "   STAC cache: .cache\\stac\n",
      "   NDVI cache: .cache\\NDVI\n",
      "   EVI cache: .cache\\EVI\n",
      "🤖 Model output: models\n",
      "📅 Current year: 2025\n"
     ]
    }
   ],
   "source": [
    "# Configuration from chipnik_monitor.py\n",
    "CACHE_ROOT = Path(\".cache\")\n",
    "STAC_CACHE_DIR = CACHE_ROOT / \"stac\"\n",
    "NDVI_CACHE_DIR = CACHE_ROOT / \"NDVI\"\n",
    "EVI_CACHE_DIR = CACHE_ROOT / \"EVI\"\n",
    "\n",
    "# Model output directory\n",
    "MODEL_OUTPUT_DIR = Path(\"models\")\n",
    "MODEL_OUTPUT_DIR.mkdir(exist_ok=True)\n",
    "\n",
    "# Current year for predictions\n",
    "CURRENT_YEAR = datetime.now().year\n",
    "\n",
    "# Area of Interest (example - can be modified)\n",
    "DEFAULT_BBOX = [-112.8480 - 0.1, 42.7730 - 0.1, -112.8480 + 0.1, 42.7730 + 0.1]  # Snake River Plain\n",
    "\n",
    "print(f\"📁 Cache directories:\")\n",
    "print(f\"   STAC cache: {STAC_CACHE_DIR}\")\n",
    "print(f\"   NDVI cache: {NDVI_CACHE_DIR}\")\n",
    "print(f\"   EVI cache: {EVI_CACHE_DIR}\")\n",
    "print(f\"🤖 Model output: {MODEL_OUTPUT_DIR}\")\n",
    "print(f\"📅 Current year: {CURRENT_YEAR}\")"
   ]
  },
  {
   "cell_type": "code",
   "execution_count": 24,
   "id": "1fa772ca",
   "metadata": {},
   "outputs": [
    {
     "name": "stdout",
     "output_type": "stream",
     "text": [
      "🗺️  Loading data from 4 regions...\n",
      "   ✅ Region 1 (53dc11e66dc23dff069f3e80716ccd7d0fc4d0836241e8ff753ad6ca2664048f.json): 241 records\n",
      "      Center: (-76.8799, 39.0192)\n",
      "      Area: 0.2 km²\n",
      "   ✅ Region 2 (8c210d4a0d2ba8d3baadefd61f2d468d27500725b024bba68ad5e3691ede7f8c.json): 175 records\n",
      "      Center: (31.1629, 36.8382)\n",
      "      Area: 0.0 km²\n",
      "   ✅ Region 3 (bafc2299e1379f32c12f9da1acd9a1e42f74c4872e306d410e04af5e1d859202.json): 155 records\n",
      "      Center: (39.8385, 44.9317)\n",
      "      Area: 4.7 km²\n",
      "   ✅ Region 4 (c405874584da6e3b8d9bd4fbdc02984bccc68e4a89b790afdca3205a6e184124.json): 499 records\n",
      "      Center: (-113.7456, 42.7059)\n",
      "      Area: 778.8 km²\n",
      "\n",
      "🌍 Multi-region dataset summary:\n",
      "   Total regions: 4\n",
      "   Total records: 1070\n",
      "   Date range: 2020-04-20 to 2025-10-03\n",
      "   Regions: 53dc11e66dc23dff069f3e80716ccd7d0fc4d0836241e8ff753ad6ca2664048f, 8c210d4a0d2ba8d3baadefd61f2d468d27500725b024bba68ad5e3691ede7f8c, bafc2299e1379f32c12f9da1acd9a1e42f74c4872e306d410e04af5e1d859202, c405874584da6e3b8d9bd4fbdc02984bccc68e4a89b790afdca3205a6e184124\n",
      "\n",
      "📊 Per-region statistics:\n",
      "   region_4: 499 records, center (42.7059, -113.7456)\n",
      "   region_1: 241 records, center (39.0192, -76.8799)\n",
      "   region_2: 175 records, center (36.8382, 31.1629)\n",
      "   region_3: 155 records, center (44.9317, 39.8385)\n",
      "\n",
      "🎯 Multi-region training enabled with 4 regions\n",
      "\n",
      "🗺️  Primary region coordinates for weather fallback:\n",
      "   Bounding box: [-76.882163, 39.016557, -76.877539, 39.021769]\n",
      "   Center: (-76.8799, 39.0192)\n"
     ]
    }
   ],
   "source": [
    "from chipnik_monitor import load_cached_data_with_region, list_stac_cache_files, fetch_weather_history\n",
    "\n",
    "def calculate_vpd(temperature_c, relative_humidity_pct):\n",
    "    \"\"\"\n",
    "    Calculate Vapor Pressure Deficit (VPD) from temperature and humidity.\n",
    "    \n",
    "    Parameters:\n",
    "    temperature_c (float): Temperature in Celsius\n",
    "    relative_humidity_pct (float): Relative humidity percentage (0-100)\n",
    "    \n",
    "    Returns:\n",
    "    float: VPD in kPa\n",
    "    \"\"\"\n",
    "    # Saturated vapor pressure (kPa) using Tetens equation\n",
    "    es = 0.6108 * np.exp(17.27 * temperature_c / (temperature_c + 237.3))\n",
    "    \n",
    "    # Actual vapor pressure (kPa)\n",
    "    ea = es * (relative_humidity_pct / 100.0)\n",
    "    \n",
    "    # VPD is the difference\n",
    "    vpd = es - ea\n",
    "    \n",
    "    return np.maximum(vpd, 0)  # Ensure non-negative\n",
    "\n",
    "def fetch_weather_data_for_period(lat, lon, start_date, end_date):\n",
    "    \"\"\"\n",
    "    Wrapper function to fetch weather data with additional derived variables.\n",
    "    \n",
    "    Parameters:\n",
    "    lat (float): Latitude\n",
    "    lon (float): Longitude  \n",
    "    start_date (datetime.date): Start date\n",
    "    end_date (datetime.date): End date\n",
    "    \n",
    "    Returns:\n",
    "    pd.DataFrame: Weather data with derived variables\n",
    "    \"\"\"\n",
    "    # Convert dates to datetime objects if they're date objects\n",
    "    if hasattr(start_date, 'strftime') and not hasattr(start_date, 'hour'):\n",
    "        start_date = datetime.combine(start_date, datetime.min.time())\n",
    "    if hasattr(end_date, 'strftime') and not hasattr(end_date, 'hour'):\n",
    "        end_date = datetime.combine(end_date, datetime.min.time())\n",
    "    \n",
    "    # Fetch base weather data\n",
    "    weather_df = fetch_weather_history(lat, lon, start_date, end_date)\n",
    "    \n",
    "    if weather_df.empty:\n",
    "        return weather_df\n",
    "    \n",
    "    # Add derived variables expected by the Prophet model\n",
    "    if 'temperature_mean' in weather_df.columns and 'humidity_mean' in weather_df.columns:\n",
    "        # Rename humidity column to match expected name\n",
    "        weather_df = weather_df.rename(columns={'humidity_mean': 'humidity'})\n",
    "        \n",
    "        # Calculate VPD\n",
    "        weather_df['vapor_pressure_deficit'] = calculate_vpd(\n",
    "            weather_df['temperature_mean'], \n",
    "            weather_df['humidity']\n",
    "        )\n",
    "        \n",
    "        # Calculate growing degree days (base temperature 10°C)\n",
    "        weather_df['growing_degree_days'] = np.maximum(\n",
    "            weather_df['temperature_mean'] - 10, 0\n",
    "        )\n",
    "        \n",
    "        # Add precipitation (synthetic for now since not in original data)\n",
    "        weather_df['precipitation'] = np.random.exponential(1.5, len(weather_df))\n",
    "    \n",
    "    return weather_df\n",
    "\n",
    "def load_all_regions_data():\n",
    "    \"\"\"\n",
    "    Load data from all STAC cache files representing different regions.\n",
    "    Returns combined dataset with region information for multi-region training.\n",
    "    \"\"\"\n",
    "    cache_files = list_stac_cache_files()\n",
    "    \n",
    "    if not cache_files:\n",
    "        print(\"⚠️  No STAC cache files found, using DEFAULT_BBOX\")\n",
    "        return pd.DataFrame(), [DEFAULT_BBOX], [\"default_region\"]\n",
    "    \n",
    "    all_regions_data = []\n",
    "    all_bboxes = []\n",
    "    region_names = []\n",
    "    \n",
    "    print(f\"🗺️  Loading data from {len(cache_files)} regions...\")\n",
    "    \n",
    "    for i, cache_file in enumerate(cache_files):\n",
    "        try:\n",
    "            # Load cached data with region info\n",
    "            cached_df, region_info, bbox = load_cached_data_with_region(cache_file)\n",
    "            \n",
    "            if not cached_df.empty and bbox and len(bbox) == 4:\n",
    "                # Add region identifier to the data\n",
    "                cached_df = cached_df.copy()\n",
    "                cached_df['region_id'] = f\"region_{i+1}\"\n",
    "                cached_df['region_file'] = cache_file.name\n",
    "                cached_df['bbox_min_lon'] = bbox[0]\n",
    "                cached_df['bbox_min_lat'] = bbox[1]\n",
    "                cached_df['bbox_max_lon'] = bbox[2]\n",
    "                cached_df['bbox_max_lat'] = bbox[3]\n",
    "                \n",
    "                # Calculate region center for weather data\n",
    "                cached_df['region_center_lat'] = (bbox[1] + bbox[3]) / 2\n",
    "                cached_df['region_center_lon'] = (bbox[0] + bbox[2]) / 2\n",
    "                \n",
    "                # Add region info if available\n",
    "                if region_info:\n",
    "                    cached_df['region_area_km2'] = region_info.get('area_km2', 0)\n",
    "                    cached_df['region_width_deg'] = region_info.get('width_deg', 0)\n",
    "                    cached_df['region_height_deg'] = region_info.get('height_deg', 0)\n",
    "                \n",
    "                all_regions_data.append(cached_df)\n",
    "                all_bboxes.append(bbox)\n",
    "                region_names.append(cache_file.stem)\n",
    "                \n",
    "                print(f\"   ✅ Region {i+1} ({cache_file.name}): {len(cached_df)} records\")\n",
    "                print(f\"      Center: ({(bbox[0] + bbox[2])/2:.4f}, {(bbox[1] + bbox[3])/2:.4f})\")\n",
    "                \n",
    "                if region_info:\n",
    "                    print(f\"      Area: {region_info.get('area_km2', 0):.1f} km²\")\n",
    "                    \n",
    "            else:\n",
    "                print(f\"   ❌ Skipping {cache_file.name}: Invalid data or bbox\")\n",
    "                \n",
    "        except Exception as e:\n",
    "            print(f\"   ⚠️  Error loading {cache_file.name}: {e}\")\n",
    "    \n",
    "    if all_regions_data:\n",
    "        # Combine all regions into single DataFrame\n",
    "        combined_df = pd.concat(all_regions_data, ignore_index=True)\n",
    "        combined_df = combined_df.sort_values('datetime').reset_index(drop=True)\n",
    "        \n",
    "        print(f\"\\n🌍 Multi-region dataset summary:\")\n",
    "        print(f\"   Total regions: {len(all_bboxes)}\")\n",
    "        print(f\"   Total records: {len(combined_df)}\")\n",
    "        print(f\"   Date range: {combined_df['datetime'].min().date()} to {combined_df['datetime'].max().date()}\")\n",
    "        print(f\"   Regions: {', '.join(region_names)}\")\n",
    "        \n",
    "        # Display region statistics\n",
    "        region_stats = combined_df.groupby('region_id').agg({\n",
    "            'datetime': ['count', 'min', 'max'],\n",
    "            'region_center_lat': 'first',\n",
    "            'region_center_lon': 'first',\n",
    "            'region_area_km2': 'first'\n",
    "        }).round(4)\n",
    "        \n",
    "        print(f\"\\n📊 Per-region statistics:\")\n",
    "        for region_id in combined_df['region_id'].unique():\n",
    "            region_data = combined_df[combined_df['region_id'] == region_id]\n",
    "            print(f\"   {region_id}: {len(region_data)} records, \"\n",
    "                  f\"center ({region_data['region_center_lat'].iloc[0]:.4f}, \"\n",
    "                  f\"{region_data['region_center_lon'].iloc[0]:.4f})\")\n",
    "        \n",
    "        return combined_df, all_bboxes, region_names\n",
    "    else:\n",
    "        print(\"❌ No valid regions found, using default bbox\")\n",
    "        return pd.DataFrame(), [DEFAULT_BBOX], [\"default_region\"]\n",
    "\n",
    "# Load multi-region data\n",
    "try:\n",
    "    MULTI_REGION_DATA, ALL_BBOXES, REGION_NAMES = load_all_regions_data()\n",
    "\n",
    "    if not MULTI_REGION_DATA.empty:\n",
    "        print(f\"\\n🎯 Multi-region training enabled with {len(ALL_BBOXES)} regions\")\n",
    "        # Use the first region's center as primary coordinates for fallback weather data\n",
    "        PRIMARY_BBOX = ALL_BBOXES[0] if ALL_BBOXES else DEFAULT_BBOX\n",
    "    else:\n",
    "        print(f\"\\n⚠️  Falling back to single region mode\")\n",
    "        PRIMARY_BBOX = DEFAULT_BBOX\n",
    "\n",
    "    print(f\"\\n🗺️  Primary region coordinates for weather fallback:\")\n",
    "    print(f\"   Bounding box: {PRIMARY_BBOX}\")\n",
    "    print(f\"   Center: ({(PRIMARY_BBOX[0] + PRIMARY_BBOX[2])/2:.4f}, {(PRIMARY_BBOX[1] + PRIMARY_BBOX[3])/2:.4f})\")\n",
    "    \n",
    "except Exception as e:\n",
    "    print(f\"❌ Error in load_all_regions_data: {e}\")\n",
    "    print(\"   Using fallback values...\")\n",
    "    MULTI_REGION_DATA = pd.DataFrame()\n",
    "    ALL_BBOXES = [DEFAULT_BBOX]\n",
    "    REGION_NAMES = [\"default_region\"]\n",
    "    PRIMARY_BBOX = DEFAULT_BBOX"
   ]
  },
  {
   "cell_type": "code",
   "execution_count": 25,
   "id": "1bae7e5e",
   "metadata": {},
   "outputs": [
    {
     "name": "stdout",
     "output_type": "stream",
     "text": [
      "✅ Growing season utility functions defined\n"
     ]
    }
   ],
   "source": [
    "# Shared utility functions for growing season analysis\n",
    "def add_growing_season_indicator(df, date_column='ds'):\n",
    "    \"\"\"\n",
    "    Add growing season indicator to dataframe.\n",
    "    Growing season is defined as April through October (months 4-10) for Northern Hemisphere.\n",
    "    \n",
    "    Parameters:\n",
    "    df (pd.DataFrame): DataFrame with datetime column\n",
    "    date_column (str): Name of the datetime column (default: 'ds')\n",
    "    \n",
    "    Returns:\n",
    "    pd.DataFrame: DataFrame with added 'is_growing_season' column\n",
    "    \"\"\"\n",
    "    df = df.copy()\n",
    "    df['is_growing_season'] = (\n",
    "        (df[date_column].dt.month >= 4) & \n",
    "        (df[date_column].dt.month <= 10)\n",
    "    )\n",
    "    return df\n",
    "\n",
    "def is_growing_season_mask(dates):\n",
    "    \"\"\"\n",
    "    Create a boolean mask for growing season dates.\n",
    "    \n",
    "    Parameters:\n",
    "    dates (pd.Series or pd.DatetimeIndex): Datetime series/index\n",
    "    \n",
    "    Returns:\n",
    "    pd.Series: Boolean mask where True indicates growing season\n",
    "    \"\"\"\n",
    "    return (dates.dt.month >= 4) & (dates.dt.month <= 10)\n",
    "\n",
    "print(\"✅ Growing season utility functions defined\")"
   ]
  },
  {
   "cell_type": "code",
   "execution_count": 26,
   "id": "4756a601",
   "metadata": {},
   "outputs": [],
   "source": [
    "def fetch_weather_forecast_data(lat, lon, start_date, end_date):\n",
    "    \"\"\"\n",
    "    Fetch weather forecast data from Open-Meteo forecast API for future dates\n",
    "    \n",
    "    Parameters:\n",
    "    lat (float): Latitude\n",
    "    lon (float): Longitude \n",
    "    start_date (datetime.date): Start date for forecast\n",
    "    end_date (datetime.date): End date for forecast\n",
    "    \n",
    "    Returns:\n",
    "    pd.DataFrame: Weather forecast data\n",
    "    \"\"\"\n",
    "    try:\n",
    "        import requests\n",
    "        \n",
    "        # Open-Meteo forecast API (free, no API key required)\n",
    "        # Note: Free API typically provides 7-16 days of forecast\n",
    "        forecast_url = \"https://api.open-meteo.com/v1/forecast\"\n",
    "        \n",
    "        # Limit forecast period to maximum available (15 days to be safe)\n",
    "        today = datetime.now().date()\n",
    "        max_forecast_end = today + timedelta(days=15)  # More conservative limit\n",
    "        limited_end_date = min(end_date, max_forecast_end)\n",
    "        \n",
    "        # Only proceed if there are forecast days available\n",
    "        if start_date > limited_end_date:\n",
    "            print(f\"   Forecast period beyond API limit (15 days), using climatology...\")\n",
    "            return pd.DataFrame()\n",
    "        \n",
    "        # Parameters for forecast API - using correct Open-Meteo parameter names\n",
    "        params = {\n",
    "            'latitude': lat,\n",
    "            'longitude': lon,\n",
    "            'start_date': start_date.strftime('%Y-%m-%d'),\n",
    "            'end_date': limited_end_date.strftime('%Y-%m-%d'),\n",
    "            'daily': 'temperature_2m_max,temperature_2m_min,relative_humidity_2m_mean,precipitation_sum,wind_speed_10m_max',\n",
    "            'timezone': 'auto'\n",
    "        }\n",
    "        \n",
    "        print(f\"   Fetching forecast from {forecast_url}\")\n",
    "        print(f\"   Coordinates: ({lat:.4f}, {lon:.4f})\")\n",
    "        print(f\"   Date range: {start_date} to {limited_end_date} (limited to 15 days)\")\n",
    "        \n",
    "        response = requests.get(forecast_url, params=params, timeout=30)\n",
    "        response.raise_for_status()\n",
    "        \n",
    "        data = response.json()\n",
    "        \n",
    "        if 'daily' not in data:\n",
    "            print(\"   No daily forecast data available\")\n",
    "            return pd.DataFrame()\n",
    "        \n",
    "        # Parse forecast data\n",
    "        daily_data = data['daily']\n",
    "        \n",
    "        # Calculate mean temperature from max and min\n",
    "        temp_max = daily_data.get('temperature_2m_max', [])\n",
    "        temp_min = daily_data.get('temperature_2m_min', [])\n",
    "        temp_mean = [(tmax + tmin) / 2 if tmax is not None and tmin is not None else None \n",
    "                     for tmax, tmin in zip(temp_max, temp_min)]\n",
    "        \n",
    "        forecast_df = pd.DataFrame({\n",
    "            'date': pd.to_datetime(daily_data['time']),\n",
    "            'temperature_mean': temp_mean,\n",
    "            'humidity': daily_data.get('relative_humidity_2m_mean', []),\n",
    "            'precipitation': daily_data.get('precipitation_sum', []),\n",
    "            'wind_speed_mean': daily_data.get('wind_speed_10m_max', [])  # Use max as proxy for mean\n",
    "        })\n",
    "        \n",
    "        # Calculate derived weather variables\n",
    "        if not forecast_df.empty:\n",
    "            # Growing Degree Days (base 10°C)\n",
    "            forecast_df['growing_degree_days'] = forecast_df['temperature_mean'].apply(\n",
    "                lambda x: max(0, x - 10) if pd.notna(x) else 0\n",
    "            )\n",
    "            \n",
    "            # Vapor Pressure Deficit (simplified calculation)\n",
    "            forecast_df['vapor_pressure_deficit'] = forecast_df.apply(\n",
    "                lambda row: calculate_vpd(row['temperature_mean'], row['humidity']) \n",
    "                if pd.notna(row['temperature_mean']) and pd.notna(row['humidity']) else 0,\n",
    "                axis=1\n",
    "            )\n",
    "            \n",
    "            # Add cloudcover and clarity index (estimates based on precipitation)\n",
    "            forecast_df['cloudcover_mean'] = forecast_df['precipitation'].apply(\n",
    "                lambda x: min(80, 30 + x * 10) if pd.notna(x) else 50  # More precip = more clouds\n",
    "            )\n",
    "            \n",
    "            forecast_df['clarity_index'] = forecast_df['cloudcover_mean'].apply(\n",
    "                lambda x: max(0.2, 1 - x/100) if pd.notna(x) else 0.6\n",
    "            )\n",
    "        \n",
    "        print(f\"   ✅ Retrieved forecast for {len(forecast_df)} days\")\n",
    "        \n",
    "        # If the original request was for longer than available forecast, note this\n",
    "        if end_date > limited_end_date:\n",
    "            remaining_days = (end_date - limited_end_date).days\n",
    "            print(f\"   ⚠️  {remaining_days} days beyond forecast limit, will use climatology for remainder\")\n",
    "            \n",
    "        return forecast_df\n",
    "        \n",
    "    except requests.exceptions.RequestException as e:\n",
    "        print(f\"   ❌ Forecast API request failed: {e}\")\n",
    "        return pd.DataFrame()\n",
    "    except Exception as e:\n",
    "        print(f\"   ❌ Error processing forecast data: {e}\")\n",
    "        return pd.DataFrame()"
   ]
  },
  {
   "cell_type": "markdown",
   "id": "53136b87",
   "metadata": {},
   "source": [
    "## Load Cached NDVI and Weather Data\n",
    "\n",
    "This section loads historical NDVI data from the cache directory and aggregates it across multiple years for training."
   ]
  },
  {
   "cell_type": "code",
   "execution_count": 27,
   "id": "d1f53767",
   "metadata": {},
   "outputs": [
    {
     "name": "stdout",
     "output_type": "stream",
     "text": [
      "🌍 Using multi-region cached data: 1070 total records\n",
      "📊 Multi-region STAC dataset loaded:\n",
      "   Date range: 2020-04-20 to 2025-10-03\n",
      "   Collections: {'HLSS30_2.0': 675, 'HLSL30_2.0': 395}\n",
      "   Records per region: {'region_4': 499, 'region_1': 241, 'region_2': 175, 'region_3': 155}\n",
      "   Total regions: 4\n"
     ]
    }
   ],
   "source": [
    "def load_stac_cache_data():\n",
    "    \"\"\"Load all STAC cache files to get datetime information - now supports multi-region\"\"\"\n",
    "    \n",
    "    # Use the multi-region data if available\n",
    "    if not MULTI_REGION_DATA.empty:\n",
    "        print(f\"🌍 Using multi-region cached data: {len(MULTI_REGION_DATA)} total records\")\n",
    "        stac_df = MULTI_REGION_DATA.copy()\n",
    "        \n",
    "        # Ensure proper column naming for compatibility\n",
    "        if 'id' not in stac_df.columns and 'scene_id' in stac_df.columns:\n",
    "            stac_df['id'] = stac_df['scene_id']\n",
    "        \n",
    "        return stac_df\n",
    "    \n",
    "    # Fallback to original single-region loading\n",
    "    stac_data = []\n",
    "    \n",
    "    if not STAC_CACHE_DIR.exists():\n",
    "        print(\"❌ STAC cache directory not found. Run the main app first to generate cache.\")\n",
    "        return pd.DataFrame()\n",
    "    \n",
    "    cache_files = list(STAC_CACHE_DIR.glob(\"*.json\"))\n",
    "    print(f\"📁 Found {len(cache_files)} STAC cache files\")\n",
    "    \n",
    "    for cache_file in cache_files:\n",
    "        try:\n",
    "            with open(cache_file, 'r') as f:\n",
    "                data = json.load(f)\n",
    "            \n",
    "            records = data.get('records', [])\n",
    "            for record in records:\n",
    "                if record.get('datetime'):\n",
    "                    stac_data.append({\n",
    "                        'datetime': pd.to_datetime(record['datetime']),\n",
    "                        'id': record.get('id'),\n",
    "                        'cloud_cover': record.get('cloud_cover'),\n",
    "                        'collection': record.get('collection'),\n",
    "                        'cache_file': cache_file.name,\n",
    "                        'region_id': 'single_region',\n",
    "                        'region_file': cache_file.name\n",
    "                    })\n",
    "        except Exception as e:\n",
    "            print(f\"⚠️  Error loading {cache_file.name}: {e}\")\n",
    "    \n",
    "    if stac_data:\n",
    "        df = pd.DataFrame(stac_data)\n",
    "        df = df.sort_values('datetime').reset_index(drop=True)\n",
    "        print(f\"✅ Loaded {len(df)} STAC records from {df['datetime'].min().date()} to {df['datetime'].max().date()}\")\n",
    "        return df\n",
    "    else:\n",
    "        print(\"❌ No valid STAC data found\")\n",
    "        return pd.DataFrame()\n",
    "\n",
    "# Load STAC cache data (now multi-region aware)\n",
    "stac_df = load_stac_cache_data()\n",
    "\n",
    "if not stac_df.empty:\n",
    "    print(f\"📊 Multi-region STAC dataset loaded:\")\n",
    "    print(f\"   Date range: {stac_df['datetime'].min().strftime('%Y-%m-%d')} to {stac_df['datetime'].max().strftime('%Y-%m-%d')}\")\n",
    "    \n",
    "    if 'collection' in stac_df.columns:\n",
    "        print(f\"   Collections: {stac_df['collection'].value_counts().to_dict()}\")\n",
    "    \n",
    "    if 'region_id' in stac_df.columns:\n",
    "        region_counts = stac_df['region_id'].value_counts()\n",
    "        print(f\"   Records per region: {region_counts.to_dict()}\")\n",
    "        print(f\"   Total regions: {len(region_counts)}\")\n",
    "    \n",
    "else:\n",
    "    print(\"❌ No STAC data available. Please run the main application first to generate cache data.\")"
   ]
  },
  {
   "cell_type": "code",
   "execution_count": 28,
   "id": "e357c7bf",
   "metadata": {},
   "outputs": [
    {
     "name": "stdout",
     "output_type": "stream",
     "text": [
      "📁 Found 1178 NDVI cache files\n"
     ]
    },
    {
     "name": "stdout",
     "output_type": "stream",
     "text": [
      "✅ Loaded 1178 NDVI cache files\n",
      "📊 Mean NDVI range: -0.070 to 0.873\n"
     ]
    }
   ],
   "source": [
    "def load_ndvi_cache_data():\n",
    "    \"\"\"Load cached NDVI data from .npz files\"\"\"\n",
    "    ndvi_data = []\n",
    "    \n",
    "    if not NDVI_CACHE_DIR.exists():\n",
    "        print(\"❌ NDVI cache directory not found.\")\n",
    "        return pd.DataFrame()\n",
    "    \n",
    "    cache_files = list(NDVI_CACHE_DIR.glob(\"*.npz\"))\n",
    "    print(f\"📁 Found {len(cache_files)} NDVI cache files\")\n",
    "    \n",
    "    for cache_file in cache_files:\n",
    "        try:\n",
    "            with np.load(cache_file, allow_pickle=False) as data:\n",
    "                ndvi_array = data['NDVI']\n",
    "                mask = data['mask']\n",
    "                mean_ndvi = float(data['mean'].item())\n",
    "                \n",
    "                # Create masked array and compute statistics\n",
    "                masked_ndvi = np.ma.array(ndvi_array, mask=mask)\n",
    "                \n",
    "                if masked_ndvi.count() > 0:\n",
    "                    ndvi_data.append({\n",
    "                        'cache_file': cache_file.name,\n",
    "                        'mean_ndvi': mean_ndvi,\n",
    "                        'std_ndvi': float(masked_ndvi.std()) if masked_ndvi.count() > 1 else 0,\n",
    "                        'min_ndvi': float(masked_ndvi.min()),\n",
    "                        'max_ndvi': float(masked_ndvi.max()),\n",
    "                        'valid_pixels': int(masked_ndvi.count()),\n",
    "                        'crop_pixels': int(np.sum(masked_ndvi.compressed() >= 0.35)),  # CROP_NDVI_THRESHOLD\n",
    "                    })\n",
    "        except Exception as e:\n",
    "            print(f\"⚠️  Error loading {cache_file.name}: {e}\")\n",
    "    \n",
    "    if ndvi_data:\n",
    "        df = pd.DataFrame(ndvi_data)\n",
    "        print(f\"✅ Loaded {len(df)} NDVI cache files\")\n",
    "        print(f\"📊 Mean NDVI range: {df['mean_ndvi'].min():.3f} to {df['mean_ndvi'].max():.3f}\")\n",
    "        return df\n",
    "    else:\n",
    "        print(\"❌ No valid NDVI cache data found\")\n",
    "        return pd.DataFrame()\n",
    "\n",
    "# Load NDVI cache data\n",
    "ndvi_cache_df = load_ndvi_cache_data()"
   ]
  },
  {
   "cell_type": "code",
   "execution_count": 29,
   "id": "d7174e5e",
   "metadata": {},
   "outputs": [
    {
     "name": "stdout",
     "output_type": "stream",
     "text": [
      "🌡️  Fetching weather data for 4 regions...\n",
      "   🌍 region_4: (42.7059, -113.7456)\n",
      "      ✅ Loaded 1993 weather records\n",
      "   🌍 region_1: (39.0192, -76.8799)\n",
      "      ✅ Loaded 1993 weather records\n",
      "   🌍 region_2: (36.8382, 31.1629)\n",
      "      ✅ Loaded 1993 weather records\n",
      "   🌍 region_3: (44.9317, 39.8385)\n",
      "      ✅ Loaded 1993 weather records\n",
      "✅ Combined weather dataset: 7972 records\n",
      "   Date range: 2020-04-20 00:00:00 to 2025-10-03 00:00:00\n",
      "   Regions with weather data: 4\n",
      "   Weather features: ['temperature_mean', 'humidity', 'cloudcover_mean', 'wind_speed_mean', 'clarity_index', 'vapor_pressure_deficit', 'growing_degree_days', 'precipitation']\n",
      "\n",
      "📊 Weather data summary by region:\n",
      "   region_4: 1993 records, temp range -15.0°C to 31.7°C\n",
      "   region_1: 1993 records, temp range -10.7°C to 32.5°C\n",
      "   region_2: 1993 records, temp range 2.7°C to 35.8°C\n",
      "   region_3: 1993 records, temp range -14.7°C to 32.6°C\n"
     ]
    }
   ],
   "source": [
    "# Load weather data for all regions\n",
    "def load_weather_for_all_regions(stac_df):\n",
    "    \"\"\"Load weather data for each region in the dataset\"\"\"\n",
    "    if stac_df.empty:\n",
    "        return pd.DataFrame()\n",
    "    \n",
    "    all_weather_data = []\n",
    "    \n",
    "    # Get unique regions and their coordinates\n",
    "    if 'region_center_lat' in stac_df.columns and 'region_center_lon' in stac_df.columns:\n",
    "        # Multi-region mode\n",
    "        unique_regions = stac_df[['region_id', 'region_center_lat', 'region_center_lon']].drop_duplicates()\n",
    "        \n",
    "        print(f\"🌡️  Fetching weather data for {len(unique_regions)} regions...\")\n",
    "        \n",
    "        start_date = stac_df['datetime'].min().date()\n",
    "        end_date = min(stac_df['datetime'].max().date(), datetime.now().date())\n",
    "        \n",
    "        for _, region in unique_regions.iterrows():\n",
    "            region_id = region['region_id']\n",
    "            lat = region['region_center_lat']\n",
    "            lon = region['region_center_lon']\n",
    "            \n",
    "            print(f\"   🌍 {region_id}: ({lat:.4f}, {lon:.4f})\")\n",
    "            \n",
    "            try:\n",
    "                weather_df = fetch_weather_data_for_period(lat, lon, start_date, end_date)\n",
    "                \n",
    "                if not weather_df.empty:\n",
    "                    weather_df['region_id'] = region_id\n",
    "                    weather_df['region_lat'] = lat\n",
    "                    weather_df['region_lon'] = lon\n",
    "                    all_weather_data.append(weather_df)\n",
    "                    \n",
    "                    print(f\"      ✅ Loaded {len(weather_df)} weather records\")\n",
    "                else:\n",
    "                    print(f\"      ❌ No weather data available\")\n",
    "                    \n",
    "            except Exception as e:\n",
    "                print(f\"      ⚠️  Weather fetch failed: {e}\")\n",
    "    \n",
    "    else:\n",
    "        # Single region fallback\n",
    "        center_lat = (PRIMARY_BBOX[1] + PRIMARY_BBOX[3]) / 2\n",
    "        center_lon = (PRIMARY_BBOX[0] + PRIMARY_BBOX[2]) / 2\n",
    "        \n",
    "        print(f\"🌡️  Fetching weather data for primary region: {center_lat:.4f}, {center_lon:.4f}\")\n",
    "        \n",
    "        start_date = stac_df['datetime'].min().date()\n",
    "        end_date = min(stac_df['datetime'].max().date(), datetime.now().date())\n",
    "        \n",
    "        weather_df = fetch_weather_data_for_period(center_lat, center_lon, start_date, end_date)\n",
    "        \n",
    "        if not weather_df.empty:\n",
    "            weather_df['region_id'] = 'single_region'\n",
    "            weather_df['region_lat'] = center_lat\n",
    "            weather_df['region_lon'] = center_lon\n",
    "            all_weather_data.append(weather_df)\n",
    "    \n",
    "    if all_weather_data:\n",
    "        combined_weather = pd.concat(all_weather_data, ignore_index=True)\n",
    "        \n",
    "        print(f\"✅ Combined weather dataset: {len(combined_weather)} records\")\n",
    "        print(f\"   Date range: {combined_weather['date'].min()} to {combined_weather['date'].max()}\")\n",
    "        print(f\"   Regions with weather data: {combined_weather['region_id'].nunique()}\")\n",
    "        print(f\"   Weather features: {list(combined_weather.columns[~combined_weather.columns.isin(['date', 'region_id', 'region_lat', 'region_lon'])])}\")\n",
    "        \n",
    "        return combined_weather\n",
    "    else:\n",
    "        print(\"❌ No weather data loaded for any region\")\n",
    "        return pd.DataFrame()\n",
    "\n",
    "# Load weather data for all regions\n",
    "weather_df = load_weather_for_all_regions(stac_df)\n",
    "\n",
    "if not weather_df.empty:\n",
    "    # Display weather summary by region\n",
    "    print(f\"\\n📊 Weather data summary by region:\")\n",
    "    for region_id in weather_df['region_id'].unique():\n",
    "        region_weather = weather_df[weather_df['region_id'] == region_id]\n",
    "        print(f\"   {region_id}: {len(region_weather)} records, \"\n",
    "              f\"temp range {region_weather['temperature_mean'].min():.1f}°C to {region_weather['temperature_mean'].max():.1f}°C\")\n",
    "else:\n",
    "    print(\"⚠️  No weather data available - will use synthetic data during preprocessing\")"
   ]
  },
  {
   "cell_type": "markdown",
   "id": "85288800",
   "metadata": {},
   "source": [
    "## Data Preprocessing and Feature Engineering\n",
    "\n",
    "Now we'll combine the NDVI and weather data, handle missing values, and create features for the Prophet model."
   ]
  },
  {
   "cell_type": "code",
   "execution_count": 30,
   "id": "ff0897b6",
   "metadata": {},
   "outputs": [
    {
     "name": "stdout",
     "output_type": "stream",
     "text": [
      "🔄 Processing multi-region STAC data for NDVI time series...\n",
      "📝 Creating synthetic NDVI values for multi-region STAC data...\n",
      "✅ Generated synthetic NDVI for 1070 observations across 4 regions\n",
      "\n",
      "🌍 Multi-region NDVI time series prepared:\n",
      "   Total observations: 1070\n",
      "   Number of regions: 4\n",
      "   Date range: 2020-04-20 to 2025-10-03\n",
      "   NDVI range: 0.058 to 0.873\n",
      "\n",
      "📊 NDVI statistics by region:\n",
      "   region_1: 241.0 obs, mean=0.470±0.211, range=[0.063, 0.838]\n",
      "   region_2: 175.0 obs, mean=0.486±0.204, range=[0.058, 0.832]\n",
      "   region_3: 155.0 obs, mean=0.530±0.206, range=[0.073, 0.873]\n",
      "   region_4: 499.0 obs, mean=0.526±0.196, range=[0.065, 0.859]\n",
      "\n",
      "📋 Sample multi-region NDVI data:\n",
      "                          datetime  mean_ndvi  crop_fraction region_id\n",
      "0 2020-06-07 16:12:21.944000+00:00   0.755169       0.610878  region_1\n",
      "1 2020-06-09 16:02:30.159000+00:00   0.763070       0.317581  region_1\n",
      "2 2020-06-24 16:02:26.381000+00:00   0.837310       0.721335  region_1\n",
      "3 2020-06-29 16:02:29.019000+00:00   0.797164       0.302009  region_1\n",
      "4 2020-07-14 16:02:25.234000+00:00   0.777928       0.672315  region_1\n",
      "5 2020-07-29 15:45:59.461000+00:00   0.837877       0.525220  region_1\n",
      "6 2020-07-29 16:02:29.575000+00:00   0.692186       0.655820  region_1\n",
      "7 2020-08-26 16:12:23.191000+00:00   0.622823       0.552911  region_1\n",
      "8 2020-09-05 16:12:22.661000+00:00   0.571034       0.695165  region_1\n",
      "9 2020-09-15 16:12:21.628000+00:00   0.608942       0.692712  region_1\n"
     ]
    }
   ],
   "source": [
    "def create_synthetic_ndvi_data():\n",
    "    \"\"\"Create synthetic NDVI data for demonstration if no cache is available\"\"\"\n",
    "    print(\"📝 Creating synthetic NDVI data for demonstration...\")\n",
    "    \n",
    "    # Create 3 years of synthetic data\n",
    "    start_date = datetime(CURRENT_YEAR - 3, 1, 1)\n",
    "    end_date = datetime(CURRENT_YEAR - 1, 12, 31)\n",
    "    \n",
    "    date_range = pd.date_range(start_date, end_date, freq='16D')  # Similar to satellite revisit\n",
    "    \n",
    "    synthetic_data = []\n",
    "    for date in date_range:\n",
    "        # Create seasonal NDVI pattern with some noise\n",
    "        day_of_year = date.timetuple().tm_yday\n",
    "        \n",
    "        # Base seasonal pattern (higher in summer, lower in winter)\n",
    "        seasonal = 0.4 + 0.3 * np.sin(2 * np.pi * (day_of_year - 90) / 365)\n",
    "        \n",
    "        # Add some randomness\n",
    "        noise = np.random.normal(0, 0.05)\n",
    "        \n",
    "        # Add weather influence (synthetic)\n",
    "        temp_effect = np.random.normal(0, 0.02)\n",
    "        \n",
    "        ndvi = np.clip(seasonal + noise + temp_effect, 0, 1)\n",
    "        \n",
    "        synthetic_data.append({\n",
    "            'datetime': date,\n",
    "            'mean_ndvi': ndvi,\n",
    "            'std_ndvi': np.random.uniform(0.02, 0.08),\n",
    "            'valid_pixels': np.random.randint(8000, 12000),\n",
    "            'crop_pixels': int(np.random.uniform(0.3, 0.8) * np.random.randint(8000, 12000)),\n",
    "            'region_id': 'synthetic_region'\n",
    "        })\n",
    "    \n",
    "    return pd.DataFrame(synthetic_data)\n",
    "\n",
    "# Prepare NDVI time series - now multi-region aware\n",
    "if not stac_df.empty:\n",
    "    print(\"🔄 Processing multi-region STAC data for NDVI time series...\")\n",
    "    \n",
    "    # Check if we have actual NDVI values or need to create them\n",
    "    if 'mean_ndvi' in stac_df.columns:\n",
    "        # Use existing NDVI data\n",
    "        ndvi_ts = stac_df[['datetime', 'mean_ndvi', 'region_id']].copy()\n",
    "        \n",
    "        # Add crop fraction if not available\n",
    "        if 'crop_fraction' not in ndvi_ts.columns:\n",
    "            ndvi_ts['crop_fraction'] = np.random.uniform(0.2, 0.8, len(ndvi_ts))\n",
    "            \n",
    "        print(f\"✅ Using cached NDVI data: {len(ndvi_ts)} observations across {ndvi_ts['region_id'].nunique()} regions\")\n",
    "        \n",
    "    else:\n",
    "        # Create synthetic NDVI values distributed across real timestamps and regions\n",
    "        print(\"📝 Creating synthetic NDVI values for multi-region STAC data...\")\n",
    "        \n",
    "        ndvi_ts = stac_df.copy()\n",
    "        \n",
    "        # Generate region-specific NDVI patterns\n",
    "        for region_id in ndvi_ts['region_id'].unique():\n",
    "            region_mask = ndvi_ts['region_id'] == region_id\n",
    "            region_dates = ndvi_ts.loc[region_mask, 'datetime']\n",
    "            \n",
    "            # Create slightly different seasonal patterns per region\n",
    "            region_ndvi = []\n",
    "            for date in region_dates:\n",
    "                day_of_year = date.timetuple().tm_yday\n",
    "                \n",
    "                # Base seasonal pattern with region variation\n",
    "                region_offset = hash(region_id) % 100 / 1000  # Small region-specific offset\n",
    "                seasonal = 0.4 + region_offset + 0.3 * np.sin(2 * np.pi * (day_of_year - 90) / 365)\n",
    "                \n",
    "                # Add noise\n",
    "                noise = np.random.normal(0, 0.05)\n",
    "                \n",
    "                ndvi = np.clip(seasonal + noise, 0, 1)\n",
    "                region_ndvi.append(ndvi)\n",
    "            \n",
    "            ndvi_ts.loc[region_mask, 'mean_ndvi'] = region_ndvi\n",
    "        \n",
    "        # Add crop fraction\n",
    "        ndvi_ts['crop_fraction'] = np.random.uniform(0.2, 0.8, len(ndvi_ts))\n",
    "        \n",
    "        # Keep only relevant columns\n",
    "        ndvi_ts = ndvi_ts[['datetime', 'mean_ndvi', 'crop_fraction', 'region_id']].copy()\n",
    "        \n",
    "        print(f\"✅ Generated synthetic NDVI for {len(ndvi_ts)} observations across {ndvi_ts['region_id'].nunique()} regions\")\n",
    "        \n",
    "else:\n",
    "    print(\"⚠️  No STAC data available, creating fully synthetic multi-region dataset...\")\n",
    "    \n",
    "    # Create synthetic data for multiple mock regions\n",
    "    all_synthetic = []\n",
    "    mock_regions = ['region_1', 'region_2', 'region_3']\n",
    "    \n",
    "    for region_id in mock_regions:\n",
    "        region_data = create_synthetic_ndvi_data()\n",
    "        region_data['region_id'] = region_id\n",
    "        all_synthetic.append(region_data)\n",
    "    \n",
    "    ndvi_ts = pd.concat(all_synthetic, ignore_index=True)\n",
    "    ndvi_ts['crop_fraction'] = ndvi_ts['crop_pixels'] / ndvi_ts['valid_pixels']\n",
    "\n",
    "# Ensure datetime column and sort\n",
    "ndvi_ts['datetime'] = pd.to_datetime(ndvi_ts['datetime'])\n",
    "ndvi_ts = ndvi_ts.sort_values(['region_id', 'datetime']).reset_index(drop=True)\n",
    "\n",
    "print(f\"\\n🌍 Multi-region NDVI time series prepared:\")\n",
    "print(f\"   Total observations: {len(ndvi_ts)}\")\n",
    "print(f\"   Number of regions: {ndvi_ts['region_id'].nunique()}\")\n",
    "print(f\"   Date range: {ndvi_ts['datetime'].min().date()} to {ndvi_ts['datetime'].max().date()}\")\n",
    "print(f\"   NDVI range: {ndvi_ts['mean_ndvi'].min():.3f} to {ndvi_ts['mean_ndvi'].max():.3f}\")\n",
    "\n",
    "# Display per-region statistics\n",
    "print(f\"\\n📊 NDVI statistics by region:\")\n",
    "region_stats = ndvi_ts.groupby('region_id')['mean_ndvi'].agg(['count', 'mean', 'std', 'min', 'max']).round(3)\n",
    "for region_id, stats in region_stats.iterrows():\n",
    "    print(f\"   {region_id}: {stats['count']} obs, mean={stats['mean']:.3f}±{stats['std']:.3f}, range=[{stats['min']:.3f}, {stats['max']:.3f}]\")\n",
    "\n",
    "# Display sample data\n",
    "print(f\"\\n📋 Sample multi-region NDVI data:\")\n",
    "print(ndvi_ts.head(10))"
   ]
  },
  {
   "cell_type": "code",
   "execution_count": 31,
   "id": "452d5e11",
   "metadata": {},
   "outputs": [
    {
     "name": "stdout",
     "output_type": "stream",
     "text": [
      "🔄 Merging multi-region NDVI with weather data...\n",
      "✅ Merged multi-region dataset: 1070 rows across 4 regions\n",
      "\n",
      "📊 Merged dataset statistics by region:\n",
      "   region_1: 241 records, temp 14.0±9.6°C, NDVI 0.470±0.211\n",
      "   region_2: 175 records, temp 21.2±7.7°C, NDVI 0.486±0.204\n",
      "   region_3: 155 records, temp 18.4±10.1°C, NDVI 0.530±0.206\n",
      "   region_4: 499 records, temp 15.9±10.1°C, NDVI 0.526±0.196\n",
      "\n",
      "🔧 Multi-region feature engineering complete:\n",
      "   Total rows after cleaning: 1062\n",
      "   Regions: 4\n",
      "   Features available: ['datetime', 'mean_ndvi', 'crop_fraction', 'region_id', 'date', 'temperature_mean', 'humidity', 'cloudcover_mean', 'wind_speed_mean', 'clarity_index', 'vapor_pressure_deficit', 'growing_degree_days', 'precipitation', 'region_lat', 'region_lon', 'month', 'day_of_year', 'season', 'temp_anomaly', 'cumulative_gdd', 'ndvi_lag_1', 'ndvi_lag_2', 'temp_lag_1', 'region_numeric']\n",
      "\n",
      "🔍 Feature correlations with NDVI by region:\n",
      "\n",
      "   region_1 (239 observations):\n",
      "     temperature_mean: 0.842\n",
      "     humidity: 0.059\n",
      "     growing_degree_days: 0.824\n",
      "     vapor_pressure_deficit: 0.818\n",
      "     precipitation: -0.080\n",
      "\n",
      "   region_2 (173 observations):\n",
      "     temperature_mean: 0.826\n",
      "     humidity: -0.068\n",
      "     growing_degree_days: 0.835\n",
      "     vapor_pressure_deficit: 0.562\n",
      "     precipitation: -0.063\n",
      "\n",
      "   region_3 (153 observations):\n",
      "     temperature_mean: 0.808\n",
      "     humidity: -0.463\n",
      "     growing_degree_days: 0.812\n",
      "     vapor_pressure_deficit: 0.650\n",
      "     precipitation: 0.112\n",
      "\n",
      "   region_4 (497 observations):\n",
      "     temperature_mean: 0.842\n",
      "     humidity: -0.786\n",
      "     growing_degree_days: 0.770\n",
      "     vapor_pressure_deficit: 0.788\n",
      "     precipitation: -0.022\n",
      "\n",
      "   Overall (all regions combined):\n",
      "     temperature_mean: 0.804\n",
      "     humidity: -0.438\n",
      "     growing_degree_days: 0.779\n",
      "     vapor_pressure_deficit: 0.690\n",
      "     precipitation: -0.024\n",
      "\n",
      "🌍 Multi-region dataset ready for Prophet training!\n"
     ]
    }
   ],
   "source": [
    "# Merge multi-region NDVI with weather data\n",
    "if not weather_df.empty:\n",
    "    print(\"🔄 Merging multi-region NDVI with weather data...\")\n",
    "    \n",
    "    # Convert to date for merging\n",
    "    ndvi_ts['date'] = ndvi_ts['datetime'].dt.date\n",
    "    weather_df['date'] = pd.to_datetime(weather_df['date']).dt.date\n",
    "    \n",
    "    # Merge on both date and region_id\n",
    "    merged_df = pd.merge(\n",
    "        ndvi_ts, \n",
    "        weather_df, \n",
    "        on=['date', 'region_id'], \n",
    "        how='left'\n",
    "    )\n",
    "    \n",
    "    # Fill missing weather data with interpolation within each region\n",
    "    weather_cols = ['temperature_mean', 'humidity', 'precipitation', 'growing_degree_days', 'vapor_pressure_deficit']\n",
    "    \n",
    "    for region_id in merged_df['region_id'].unique():\n",
    "        region_mask = merged_df['region_id'] == region_id\n",
    "        \n",
    "        for col in weather_cols:\n",
    "            if col in merged_df.columns:\n",
    "                # Interpolate within region, then fill with region median\n",
    "                region_data = merged_df.loc[region_mask, col]\n",
    "                merged_df.loc[region_mask, col] = (\n",
    "                    region_data.interpolate(method='linear')\n",
    "                    .fillna(region_data.median())\n",
    "                    .fillna(merged_df[col].median())  # Global fallback\n",
    "                )\n",
    "    \n",
    "    print(f\"✅ Merged multi-region dataset: {len(merged_df)} rows across {merged_df['region_id'].nunique()} regions\")\n",
    "    \n",
    "    # Display merge statistics\n",
    "    merge_stats = merged_df.groupby('region_id').agg({\n",
    "        'datetime': 'count',\n",
    "        'temperature_mean': ['mean', 'std'],\n",
    "        'mean_ndvi': ['mean', 'std']\n",
    "    }).round(3)\n",
    "    \n",
    "    print(f\"\\n📊 Merged dataset statistics by region:\")\n",
    "    for region_id in merged_df['region_id'].unique():\n",
    "        region_data = merged_df[merged_df['region_id'] == region_id]\n",
    "        print(f\"   {region_id}: {len(region_data)} records, \"\n",
    "              f\"temp {region_data['temperature_mean'].mean():.1f}±{region_data['temperature_mean'].std():.1f}°C, \"\n",
    "              f\"NDVI {region_data['mean_ndvi'].mean():.3f}±{region_data['mean_ndvi'].std():.3f}\")\n",
    "    \n",
    "else:\n",
    "    print(\"⚠️  No weather data available, creating synthetic weather features for all regions...\")\n",
    "    merged_df = ndvi_ts.copy()\n",
    "    merged_df['date'] = merged_df['datetime'].dt.date\n",
    "    \n",
    "    # Create region-specific synthetic weather features\n",
    "    np.random.seed(42)  # For reproducibility\n",
    "    \n",
    "    for region_id in merged_df['region_id'].unique():\n",
    "        region_mask = merged_df['region_id'] == region_id\n",
    "        region_data = merged_df[region_mask].copy()\n",
    "        \n",
    "        # Create region-specific climate patterns\n",
    "        region_temp_offset = (hash(region_id) % 20 - 10) * 0.5  # ±5°C regional variation\n",
    "        region_humidity_offset = (hash(region_id) % 30 - 15)     # ±15% humidity variation\n",
    "        \n",
    "        # Generate weather with regional characteristics\n",
    "        merged_df.loc[region_mask, 'temperature_mean'] = (\n",
    "            15 + region_temp_offset + \n",
    "            10 * np.sin(2 * np.pi * region_data['datetime'].dt.dayofyear / 365) + \n",
    "            np.random.normal(0, 2, len(region_data))\n",
    "        )\n",
    "        \n",
    "        merged_df.loc[region_mask, 'humidity'] = (\n",
    "            60 + region_humidity_offset + \n",
    "            20 * np.sin(2 * np.pi * (region_data['datetime'].dt.dayofyear - 180) / 365) + \n",
    "            np.random.normal(0, 5, len(region_data))\n",
    "        )\n",
    "        \n",
    "        merged_df.loc[region_mask, 'precipitation'] = np.maximum(\n",
    "            0, np.random.exponential(2, len(region_data))\n",
    "        )\n",
    "        \n",
    "        merged_df.loc[region_mask, 'growing_degree_days'] = np.maximum(\n",
    "            0, merged_df.loc[region_mask, 'temperature_mean'] - 10\n",
    "        )\n",
    "        \n",
    "        merged_df.loc[region_mask, 'vapor_pressure_deficit'] = calculate_vpd(\n",
    "            merged_df.loc[region_mask, 'temperature_mean'], \n",
    "            merged_df.loc[region_mask, 'humidity']\n",
    "        )\n",
    "    \n",
    "    print(f\"✅ Created synthetic weather for {merged_df['region_id'].nunique()} regions\")\n",
    "\n",
    "# Feature engineering - now region-aware\n",
    "merged_df['month'] = merged_df['datetime'].dt.month\n",
    "merged_df['day_of_year'] = merged_df['datetime'].dt.dayofyear\n",
    "merged_df['season'] = merged_df['month'].apply(\n",
    "    lambda x: 'Spring' if x in [3,4,5] else \n",
    "              'Summer' if x in [6,7,8] else \n",
    "              'Fall' if x in [9,10,11] else \n",
    "              'Winter'\n",
    ")\n",
    "\n",
    "# Temperature anomalies calculated within each region\n",
    "merged_df['temp_anomaly'] = (\n",
    "    merged_df['temperature_mean'] - \n",
    "    merged_df.groupby(['region_id', 'month'])['temperature_mean'].transform('mean')\n",
    ")\n",
    "\n",
    "# Cumulative GDD per region per year\n",
    "merged_df['cumulative_gdd'] = merged_df.groupby(['region_id', merged_df['datetime'].dt.year])['growing_degree_days'].cumsum()\n",
    "\n",
    "# Lag features within each region\n",
    "for region_id in merged_df['region_id'].unique():\n",
    "    region_mask = merged_df['region_id'] == region_id\n",
    "    region_data = merged_df[region_mask].sort_values('datetime')\n",
    "    \n",
    "    merged_df.loc[region_mask, 'ndvi_lag_1'] = region_data['mean_ndvi'].shift(1)\n",
    "    merged_df.loc[region_mask, 'ndvi_lag_2'] = region_data['mean_ndvi'].shift(2)\n",
    "    merged_df.loc[region_mask, 'temp_lag_1'] = region_data['temperature_mean'].shift(1)\n",
    "\n",
    "# Add region-specific features\n",
    "merged_df['region_numeric'] = pd.Categorical(merged_df['region_id']).codes\n",
    "\n",
    "# Remove rows with NaN values from lag features\n",
    "modeling_df = merged_df.dropna().reset_index(drop=True)\n",
    "\n",
    "print(f\"\\n🔧 Multi-region feature engineering complete:\")\n",
    "print(f\"   Total rows after cleaning: {len(modeling_df)}\")\n",
    "print(f\"   Regions: {modeling_df['region_id'].nunique()}\")\n",
    "print(f\"   Features available: {list(modeling_df.columns)}\")\n",
    "\n",
    "# Display correlation with NDVI by region\n",
    "weather_features = ['temperature_mean', 'humidity', 'growing_degree_days', 'vapor_pressure_deficit', 'precipitation']\n",
    "available_features = [col for col in weather_features if col in modeling_df.columns]\n",
    "\n",
    "if available_features:\n",
    "    print(f\"\\n🔍 Feature correlations with NDVI by region:\")\n",
    "    \n",
    "    for region_id in modeling_df['region_id'].unique():\n",
    "        region_data = modeling_df[modeling_df['region_id'] == region_id]\n",
    "        if len(region_data) > 1:\n",
    "            correlations = region_data[available_features + ['mean_ndvi']].corr()['mean_ndvi'].drop('mean_ndvi')\n",
    "            print(f\"\\n   {region_id} ({len(region_data)} observations):\")\n",
    "            for feature, corr in correlations.items():\n",
    "                print(f\"     {feature}: {corr:.3f}\")\n",
    "\n",
    "    # Overall correlations across all regions\n",
    "    print(f\"\\n   Overall (all regions combined):\")\n",
    "    overall_correlations = modeling_df[available_features + ['mean_ndvi']].corr()['mean_ndvi'].drop('mean_ndvi')\n",
    "    for feature, corr in overall_correlations.items():\n",
    "        print(f\"     {feature}: {corr:.3f}\")\n",
    "\n",
    "print(f\"\\n🌍 Multi-region dataset ready for Prophet training!\")"
   ]
  },
  {
   "cell_type": "markdown",
   "id": "dc75fe24",
   "metadata": {},
   "source": [
    "## Prepare Data for Prophet Model\n",
    "\n",
    "Format the data according to Prophet's requirements (ds, y columns) and prepare additional regressors."
   ]
  },
  {
   "cell_type": "code",
   "execution_count": 32,
   "id": "94d64307",
   "metadata": {},
   "outputs": [
    {
     "name": "stdout",
     "output_type": "stream",
     "text": [
      "📊 Multi-region Prophet dataset prepared:\n",
      "   Total observations: 1062\n",
      "   Total regions: 4\n",
      "   Training set: 840 observations (2020-05-08 to 2025-03-30)\n",
      "   Validation set: 222 observations (2025-04-05 to 2025-10-03)\n",
      "\n",
      "📊 Region distribution:\n",
      "   Training regions: {'region_4': np.int64(422), 'region_1': np.int64(221), 'region_2': np.int64(116), 'region_3': np.int64(81)}\n",
      "   Validation regions: {'region_4': np.int64(75), 'region_3': np.int64(72), 'region_2': np.int64(57), 'region_1': np.int64(18)}\n",
      "\n",
      "   Available regressors: ['temperature_mean', 'humidity', 'growing_degree_days', 'vapor_pressure_deficit', 'precipitation', 'region_numeric', 'is_northern_region']\n",
      "\n",
      "📋 Training data summary by region:\n",
      "\n",
      "   region_1 (221 observations):\n",
      "     NDVI: mean=0.452, std=0.210\n",
      "     Temp: mean=13.2°C, std=9.5°C\n",
      "\n",
      "   region_2 (116 observations):\n",
      "     NDVI: mean=0.420, std=0.208\n",
      "     Temp: mean=19.0°C, std=8.0°C\n",
      "\n",
      "   region_3 (81 observations):\n",
      "     NDVI: mean=0.433, std=0.219\n",
      "     Temp: mean=14.3°C, std=11.8°C\n",
      "\n",
      "   region_4 (422 observations):\n",
      "     NDVI: mean=0.509, std=0.203\n",
      "     Temp: mean=15.2°C, std=10.5°C\n",
      "\n",
      "🌍 Multi-region dataset ready for Prophet model training!\n"
     ]
    }
   ],
   "source": [
    "# Prepare Prophet dataset - now with multi-region support\n",
    "prophet_df = modeling_df[['datetime', 'mean_ndvi', 'region_id']].copy()\n",
    "prophet_df.columns = ['ds', 'y', 'region_id']  # Prophet requires 'ds' and 'y' columns\n",
    "\n",
    "# Remove timezone from ds column (Prophet doesn't support timezones)\n",
    "prophet_df['ds'] = prophet_df['ds'].dt.tz_localize(None)\n",
    "\n",
    "# Add regressors (weather variables)\n",
    "regressors = ['temperature_mean', 'humidity', 'growing_degree_days', 'vapor_pressure_deficit', 'precipitation']\n",
    "available_regressors = [col for col in regressors if col in modeling_df.columns]\n",
    "\n",
    "for regressor in available_regressors:\n",
    "    prophet_df[regressor] = modeling_df[regressor]\n",
    "\n",
    "# Add region as a categorical regressor\n",
    "prophet_df['region_numeric'] = modeling_df['region_numeric']\n",
    "\n",
    "# Add region-specific seasonal indicators\n",
    "prophet_df['is_northern_region'] = (\n",
    "    modeling_df['region_id'].str.contains('north', case=False, na=False) |\n",
    "    (modeling_df.get('region_center_lat', 0) > 40)  # Latitude-based if available\n",
    ").astype(int)\n",
    "\n",
    "# Split data for training and validation - maintain region distribution\n",
    "split_date = prophet_df['ds'].max() - pd.DateOffset(months=6)\n",
    "\n",
    "# Stratified split to ensure all regions are represented in both sets\n",
    "train_df = prophet_df[prophet_df['ds'] <= split_date].copy()\n",
    "val_df = prophet_df[prophet_df['ds'] > split_date].copy()\n",
    "\n",
    "# Ensure we have data from all regions in training set\n",
    "train_regions = set(train_df['region_id'].unique())\n",
    "all_regions = set(prophet_df['region_id'].unique())\n",
    "\n",
    "if len(train_regions) < len(all_regions):\n",
    "    print(\"⚠️  Some regions missing from training set, adjusting split...\")\n",
    "    # Include at least some data from each region in training\n",
    "    min_train_samples = 5  # Minimum samples per region for training\n",
    "    \n",
    "    adjusted_train_data = []\n",
    "    adjusted_val_data = []\n",
    "    \n",
    "    for region_id in all_regions:\n",
    "        region_data = prophet_df[prophet_df['region_id'] == region_id].sort_values('ds')\n",
    "        \n",
    "        if len(region_data) > min_train_samples:\n",
    "            # Split this region's data\n",
    "            region_split_idx = max(min_train_samples, len(region_data) - len(region_data) // 4)\n",
    "            adjusted_train_data.append(region_data.iloc[:region_split_idx])\n",
    "            if region_split_idx < len(region_data):\n",
    "                adjusted_val_data.append(region_data.iloc[region_split_idx:])\n",
    "        else:\n",
    "            # Too few samples, put all in training\n",
    "            adjusted_train_data.append(region_data)\n",
    "    \n",
    "    train_df = pd.concat(adjusted_train_data, ignore_index=True)\n",
    "    if adjusted_val_data:\n",
    "        val_df = pd.concat(adjusted_val_data, ignore_index=True)\n",
    "    else:\n",
    "        val_df = pd.DataFrame(columns=prophet_df.columns)\n",
    "\n",
    "print(f\"📊 Multi-region Prophet dataset prepared:\")\n",
    "print(f\"   Total observations: {len(prophet_df)}\")\n",
    "print(f\"   Total regions: {prophet_df['region_id'].nunique()}\")\n",
    "print(f\"   Training set: {len(train_df)} observations ({train_df['ds'].min().date()} to {train_df['ds'].max().date()})\")\n",
    "print(f\"   Validation set: {len(val_df)} observations ({val_df['ds'].min().date() if not val_df.empty else 'None'} to {val_df['ds'].max().date() if not val_df.empty else 'None'})\")\n",
    "\n",
    "# Display region distribution\n",
    "print(f\"\\n📊 Region distribution:\")\n",
    "train_region_counts = train_df['region_id'].value_counts()\n",
    "val_region_counts = val_df['region_id'].value_counts() if not val_df.empty else pd.Series()\n",
    "\n",
    "print(f\"   Training regions: {dict(train_region_counts)}\")\n",
    "if not val_region_counts.empty:\n",
    "    print(f\"   Validation regions: {dict(val_region_counts)}\")\n",
    "\n",
    "print(f\"\\n   Available regressors: {available_regressors + ['region_numeric', 'is_northern_region']}\")\n",
    "\n",
    "# Display training data statistics by region\n",
    "print(f\"\\n📋 Training data summary by region:\")\n",
    "for region_id in train_df['region_id'].unique():\n",
    "    region_data = train_df[train_df['region_id'] == region_id]\n",
    "    print(f\"\\n   {region_id} ({len(region_data)} observations):\")\n",
    "    region_summary = region_data[['y'] + available_regressors].describe().round(3)\n",
    "    print(f\"     NDVI: mean={region_summary.loc['mean', 'y']:.3f}, std={region_summary.loc['std', 'y']:.3f}\")\n",
    "    if 'temperature_mean' in available_regressors:\n",
    "        print(f\"     Temp: mean={region_summary.loc['mean', 'temperature_mean']:.1f}°C, std={region_summary.loc['std', 'temperature_mean']:.1f}°C\")\n",
    "\n",
    "print(f\"\\n🌍 Multi-region dataset ready for Prophet model training!\")"
   ]
  },
  {
   "cell_type": "markdown",
   "id": "a68a0c08",
   "metadata": {},
   "source": [
    "## Train Prophet Model with Weather Regressors\n",
    "\n",
    "Initialize the Prophet model with appropriate parameters and fit it to the historical data."
   ]
  },
  {
   "cell_type": "code",
   "execution_count": 33,
   "id": "95a03d0e",
   "metadata": {},
   "outputs": [
    {
     "name": "stdout",
     "output_type": "stream",
     "text": [
      "🔄 Reinitializing Prophet model for coefficient analysis...\n",
      "📊 Adding regressors to model...\n",
      "   Added regressor: temperature_mean\n",
      "   Added regressor: humidity\n",
      "   Added regressor: growing_degree_days\n",
      "   Added regressor: vapor_pressure_deficit\n",
      "   Added regressor: precipitation\n",
      "   Added regressor: region_numeric\n",
      "   Added regressor: is_northern_region\n",
      "✅ Prophet model initialized with 7 regressors\n"
     ]
    }
   ],
   "source": [
    "# Initialize a Prophet model to properly view regressor coefficients\n",
    "print(\"🔄 Reinitializing Prophet model for coefficient analysis...\")\n",
    "\n",
    "# Create a new Prophet model instance\n",
    "model = Prophet(\n",
    "    yearly_seasonality=True,\n",
    "    weekly_seasonality=False,\n",
    "    daily_seasonality=False,\n",
    "    changepoint_prior_scale=0.05,\n",
    "    seasonality_prior_scale=10.0,\n",
    "    n_changepoints=25\n",
    ")\n",
    "\n",
    "# Add regressors\n",
    "print(\"📊 Adding regressors to model...\")\n",
    "all_regressors = available_regressors + ['region_numeric', 'is_northern_region']\n",
    "for regressor in all_regressors:\n",
    "    model.add_regressor(regressor, prior_scale=10.0, standardize=True)\n",
    "    print(f\"   Added regressor: {regressor}\")\n",
    "\n",
    "print(f\"✅ Prophet model initialized with {len(all_regressors)} regressors\")"
   ]
  },
  {
   "cell_type": "code",
   "execution_count": 34,
   "id": "9f063fad",
   "metadata": {},
   "outputs": [
    {
     "name": "stderr",
     "output_type": "stream",
     "text": [
      "10:10:39 - cmdstanpy - INFO - Chain [1] start processing\n"
     ]
    },
    {
     "name": "stdout",
     "output_type": "stream",
     "text": [
      "🔧 Training model with all regressors...\n"
     ]
    },
    {
     "name": "stderr",
     "output_type": "stream",
     "text": [
      "10:10:39 - cmdstanpy - INFO - Chain [1] done processing\n"
     ]
    },
    {
     "name": "stdout",
     "output_type": "stream",
     "text": [
      "✅ Model training completed!\n",
      "\n",
      "📊 Complete Regressor Coefficients:\n",
      "   Beta array shape: (1, 27)\n",
      "   Number of regressors: 7\n",
      "     temperature_mean         :   0.0205 ± 0.0000\n",
      "     humidity                 :  -0.3409 ± 0.0000\n",
      "     growing_degree_days      :  -0.0013 ± 0.0000\n",
      "     vapor_pressure_deficit   :  -0.0006 ± 0.0000\n",
      "     precipitation            :   0.0020 ± 0.0000\n",
      "     region_numeric           :   0.0052 ± 0.0000\n",
      "     is_northern_region       :   0.0026 ± 0.0000\n",
      "\n",
      "🎯 Coefficient Analysis:\n",
      "   Regressors by importance (absolute coefficient):\n",
      "     humidity                 : 0.3409\n",
      "     temperature_mean         : 0.0205\n",
      "     region_numeric           : 0.0052\n",
      "     is_northern_region       : 0.0026\n",
      "     precipitation            : 0.0020\n",
      "     growing_degree_days      : 0.0013\n",
      "     vapor_pressure_deficit   : 0.0006\n"
     ]
    }
   ],
   "source": [
    "# Train the model and display ALL regressor coefficients\n",
    "print(\"🔧 Training model with all regressors...\")\n",
    "\n",
    "try:\n",
    "    model.fit(train_df)\n",
    "    print(\"✅ Model training completed!\")\n",
    "    \n",
    "    # Display ALL regressor coefficients properly\n",
    "    if hasattr(model, 'params') and 'beta' in model.params:\n",
    "        print(f\"\\n📊 Complete Regressor Coefficients:\")\n",
    "        \n",
    "        beta_values = model.params['beta']\n",
    "        print(f\"   Beta array shape: {beta_values.shape}\")\n",
    "        print(f\"   Number of regressors: {len(all_regressors)}\")\n",
    "        \n",
    "        # Display each regressor coefficient\n",
    "        for i, regressor in enumerate(all_regressors):\n",
    "            if i < beta_values.shape[1]:\n",
    "                # Extract coefficient for this regressor\n",
    "                coeff_samples = beta_values[:, i]\n",
    "                mean_coeff = coeff_samples.mean()\n",
    "                std_coeff = coeff_samples.std()\n",
    "                \n",
    "                print(f\"     {regressor:25}: {mean_coeff:8.4f} ± {std_coeff:6.4f}\")\n",
    "            else:\n",
    "                print(f\"     {regressor:25}: Index out of range\")\n",
    "        \n",
    "        print(f\"\\n🎯 Coefficient Analysis:\")\n",
    "        \n",
    "        # Sort regressors by absolute coefficient magnitude\n",
    "        regressor_coeffs = []\n",
    "        for i, regressor in enumerate(all_regressors):\n",
    "            if i < beta_values.shape[1]:\n",
    "                coeff = abs(beta_values[:, i].mean())\n",
    "                regressor_coeffs.append((regressor, coeff))\n",
    "        \n",
    "        regressor_coeffs.sort(key=lambda x: x[1], reverse=True)\n",
    "        \n",
    "        print(\"   Regressors by importance (absolute coefficient):\")\n",
    "        for regressor, coeff in regressor_coeffs:\n",
    "            print(f\"     {regressor:25}: {coeff:.4f}\")\n",
    "            \n",
    "    else:\n",
    "        print(\"❌ No beta coefficients found in model parameters\")\n",
    "        \n",
    "except Exception as e:\n",
    "    print(f\"❌ Model training failed: {e}\")\n",
    "    import traceback\n",
    "    traceback.print_exc()"
   ]
  },
  {
   "cell_type": "markdown",
   "id": "9649786b",
   "metadata": {},
   "source": [
    "## Generate Future Predictions\n",
    "\n",
    "Create future dataframe and generate NDVI predictions for the current year."
   ]
  },
  {
   "cell_type": "code",
   "execution_count": 35,
   "id": "a02af7fb",
   "metadata": {},
   "outputs": [
    {
     "name": "stdout",
     "output_type": "stream",
     "text": [
      "📅 Creating predictions from current time: 2025-10-05 10:10:39\n",
      "   Prediction period: 3 months ahead\n",
      "   Prediction dates: 24 dates from 2025-01-01 to 2026-01-04\n",
      "🌡️  Getting weather data for prediction period...\n",
      "   Prediction spans past and future, combining historical + forecast...\n",
      "   Fetching forecast from https://api.open-meteo.com/v1/forecast\n",
      "   Coordinates: (39.0192, -76.8799)\n",
      "   Date range: 2025-10-06 to 2025-10-20 (limited to 15 days)\n",
      "   ✅ Retrieved forecast for 15 days\n",
      "   ⚠️  77 days beyond forecast limit, will use climatology for remainder\n",
      "🔮 Generating predictions with model...\n",
      "   Using region_numeric: 0\n",
      "   Using is_northern_region: 0\n",
      "   Available regressors: ['ds', 'date', 'temperature_mean', 'humidity', 'cloudcover_mean', 'wind_speed_mean', 'clarity_index', 'vapor_pressure_deficit', 'growing_degree_days', 'precipitation', 'region_numeric', 'is_northern_region', 'is_growing_season']\n",
      "✅ Predictions generated for 24 future dates\n",
      "📊 Predicted NDVI range: 0.167 to 0.751\n",
      "\n",
      "📋 Sample future predictions:\n",
      "   2025-01-01: 0.174 (±0.061)\n",
      "   2025-01-17: 0.186 (±0.066)\n",
      "   2025-02-02: 0.226 (±0.062)\n",
      "   2025-02-18: 0.267 (±0.060)\n",
      "   2025-03-06: 0.341 (±0.065)\n",
      "   2025-03-22: 0.415 (±0.064)\n"
     ]
    }
   ],
   "source": [
    "if model is not None:\n",
    "    # Create future dataframe starting from current timestamp\n",
    "    current_time = datetime.now()\n",
    "    prediction_start = datetime(current_time.year, 1, 1)\n",
    "    prediction_end = current_time + pd.DateOffset(months=3)\n",
    "    prediction_year = prediction_end.year\n",
    "    \n",
    "    # Create future dates (every 16 days to match satellite revisit cycle)\n",
    "    future_dates = pd.date_range(\n",
    "        start=prediction_start,\n",
    "        end=prediction_end,\n",
    "        freq='16D'\n",
    "    )\n",
    "    \n",
    "    print(f\"📅 Creating predictions from current time: {current_time.strftime('%Y-%m-%d %H:%M:%S')}\")\n",
    "    print(f\"   Prediction period: 3 months ahead\")\n",
    "    print(f\"   Prediction dates: {len(future_dates)} dates from {future_dates[0].date()} to {future_dates[-1].date()}\")\n",
    "    \n",
    "    # Get weather forecasts/climatology for prediction period\n",
    "    print(\"🌡️  Getting weather data for prediction period...\")\n",
    "    \n",
    "    # Use the primary region's center coordinates for weather data\n",
    "    primary_center_lat = (PRIMARY_BBOX[1] + PRIMARY_BBOX[3]) / 2\n",
    "    primary_center_lon = (PRIMARY_BBOX[0] + PRIMARY_BBOX[2]) / 2\n",
    "    \n",
    "    # Use appropriate API based on date range\n",
    "    today = datetime.now().date()\n",
    "    current_weather = pd.DataFrame()\n",
    "    \n",
    "    if prediction_start.date() > today:\n",
    "        # Future dates: Use forecast API\n",
    "        print(\"   Prediction starts in future, using weather forecast API...\")\n",
    "        current_weather = fetch_weather_forecast_data(\n",
    "            primary_center_lat, primary_center_lon, \n",
    "            prediction_start.date(), \n",
    "            prediction_end.date()\n",
    "        )\n",
    "    else:\n",
    "        # Mixed dates: Get historical data and forecast data separately\n",
    "        if prediction_end.date() > today:\n",
    "            print(\"   Prediction spans past and future, combining historical + forecast...\")\n",
    "            \n",
    "            # Get historical data up to today\n",
    "            historical_weather = fetch_weather_data_for_period(\n",
    "                primary_center_lat, primary_center_lon, \n",
    "                prediction_start.date(), \n",
    "                today\n",
    "            )\n",
    "            \n",
    "            # Get forecast data from tomorrow onwards\n",
    "            future_start = today + pd.DateOffset(days=1)\n",
    "            forecast_weather = fetch_weather_forecast_data(\n",
    "                primary_center_lat, primary_center_lon, \n",
    "                future_start.date(), \n",
    "                prediction_end.date()\n",
    "            )\n",
    "            \n",
    "            # Combine historical and forecast data\n",
    "            if not historical_weather.empty and not forecast_weather.empty:\n",
    "                current_weather = pd.concat([historical_weather, forecast_weather], ignore_index=True)\n",
    "            elif not historical_weather.empty:\n",
    "                current_weather = historical_weather\n",
    "            elif not forecast_weather.empty:\n",
    "                current_weather = forecast_weather\n",
    "        else:\n",
    "            # Only historical dates: Use archive API\n",
    "            print(\"   Using historical weather data...\")\n",
    "            current_weather = fetch_weather_data_for_period(\n",
    "                primary_center_lat, primary_center_lon, \n",
    "                prediction_start.date(), \n",
    "                prediction_end.date()\n",
    "            )\n",
    "    \n",
    "    if current_weather.empty:\n",
    "        print(\"⚠️  No weather data available for prediction period, using climatology...\")\n",
    "        # Create climatological weather data based on historical means\n",
    "        current_weather_list = []\n",
    "        for date in future_dates:\n",
    "            # Use day of year to create climatological values\n",
    "            doy = date.timetuple().tm_yday\n",
    "            \n",
    "            # Seasonal patterns\n",
    "            temp = 15 + 10 * np.sin(2 * np.pi * (doy - 90) / 365)\n",
    "            humidity = 60 + 20 * np.sin(2 * np.pi * (doy - 180) / 365)\n",
    "            \n",
    "            current_weather_list.append({\n",
    "                'date': date,\n",
    "                'temperature_mean': temp,\n",
    "                'humidity': humidity,\n",
    "                'precipitation': 1.0,  # Climatological average\n",
    "                'growing_degree_days': max(0, temp - 10),\n",
    "                'vapor_pressure_deficit': calculate_vpd(temp, humidity)\n",
    "            })\n",
    "        \n",
    "        current_weather = pd.DataFrame(current_weather_list)\n",
    "        current_weather['date'] = pd.to_datetime(current_weather['date'])\n",
    "    \n",
    "    # Create future dataframe\n",
    "    future_df = pd.DataFrame({'ds': future_dates})\n",
    "    \n",
    "    # Merge with weather data\n",
    "    future_df['date'] = future_df['ds'].dt.date\n",
    "    current_weather['date'] = current_weather['date'].dt.date\n",
    "    \n",
    "    future_with_weather = pd.merge(future_df, current_weather, on='date', how='left')\n",
    "    \n",
    "    # Fill missing weather values with interpolation\n",
    "    for regressor in available_regressors:\n",
    "        if regressor in current_weather.columns:\n",
    "            future_with_weather[regressor] = future_with_weather[regressor].interpolate().fillna(\n",
    "                current_weather[regressor].median()\n",
    "            )\n",
    "        else:\n",
    "            # Use climatological values if regressor not available\n",
    "            future_with_weather[regressor] = 0\n",
    "    \n",
    "    # Add region-based regressors that the model expects\n",
    "    # Use the primary region's characteristics for predictions\n",
    "    if len(ALL_BBOXES) > 0:\n",
    "        # Use the first region (region_1) as default for predictions\n",
    "        future_with_weather['region_numeric'] = 0  # First region\n",
    "        \n",
    "        # Check if it's a northern region based on latitude\n",
    "        primary_lat = (PRIMARY_BBOX[1] + PRIMARY_BBOX[3]) / 2\n",
    "        future_with_weather['is_northern_region'] = int(primary_lat > 40)\n",
    "    else:\n",
    "        # Fallback values\n",
    "        future_with_weather['region_numeric'] = 0\n",
    "        future_with_weather['is_northern_region'] = 0\n",
    "    \n",
    "    # Add growing season indicator (Prophet model expects all training columns)\n",
    "    future_with_weather = add_growing_season_indicator(future_with_weather)\n",
    "    \n",
    "    print(\"🔮 Generating predictions with model...\")\n",
    "    print(f\"   Using region_numeric: {future_with_weather['region_numeric'].iloc[0]}\")\n",
    "    print(f\"   Using is_northern_region: {future_with_weather['is_northern_region'].iloc[0]}\")\n",
    "    print(f\"   Available regressors: {list(future_with_weather.columns)}\")\n",
    "    \n",
    "    try:\n",
    "        # Make predictions using the model\n",
    "        forecast = model.predict(future_with_weather)\n",
    "        \n",
    "        # Combine with historical data for complete timeline\n",
    "        historical_forecast = model.predict(train_df)\n",
    "        \n",
    "        print(f\"✅ Predictions generated for {len(forecast)} future dates\")\n",
    "        print(f\"📊 Predicted NDVI range: {forecast['yhat'].min():.3f} to {forecast['yhat'].max():.3f}\")\n",
    "        \n",
    "        # Display sample predictions\n",
    "        print(f\"\\n📋 Sample future predictions:\")\n",
    "        sample_forecast = forecast[['ds', 'yhat', 'yhat_lower', 'yhat_upper']].head(6)\n",
    "        sample_forecast['ds'] = sample_forecast['ds'].dt.strftime('%Y-%m-%d')\n",
    "        for _, row in sample_forecast.iterrows():\n",
    "            print(f\"   {row['ds']}: {row['yhat']:.3f} (±{(row['yhat_upper']-row['yhat_lower'])/2:.3f})\")\n",
    "            \n",
    "    except Exception as e:\n",
    "        print(f\"❌ Prediction failed: {e}\")\n",
    "        print(f\"   Future dataframe columns: {list(future_with_weather.columns)}\")\n",
    "        print(f\"   Model was trained with regressors: {available_regressors + ['region_numeric', 'is_northern_region']}\")\n",
    "        import traceback\n",
    "        traceback.print_exc()\n",
    "        forecast = None\n",
    "        historical_forecast = None\n",
    "        \n",
    "else:\n",
    "    print(\"❌ Cannot generate predictions - model training failed\")\n",
    "    forecast = None\n",
    "    historical_forecast = None"
   ]
  },
  {
   "cell_type": "markdown",
   "id": "310226e1",
   "metadata": {},
   "source": [
    "## Blooming Date Prediction\n",
    "\n",
    "Calculate the predicted blooming start date based on NDVI time series analysis."
   ]
  },
  {
   "cell_type": "code",
   "execution_count": 36,
   "id": "c7f219b8",
   "metadata": {},
   "outputs": [
    {
     "name": "stdout",
     "output_type": "stream",
     "text": [
      "🌸 Calculating blooming start dates...\n",
      "   📅 NDVI Threshold (≥0.65): 2025-05-09 (Confidence: 50.9%)\n",
      "      NDVI at blooming: 0.655\n",
      "   📅 NDVI Acceleration Peak: 2025-03-06 (Confidence: 85.0%)\n",
      "      NDVI at blooming: 0.341\n",
      "   📅 Seasonal Pattern Analysis: 2025-04-23 (Confidence: 80.0%)\n",
      "      NDVI at blooming: 0.595\n",
      "\n",
      "🏆 Best blooming prediction:\n",
      "   Date: 2025-03-06\n",
      "   Method: NDVI Acceleration Peak\n",
      "   Confidence: 85.0%\n",
      "   NDVI at blooming: 0.3410231601123148\n"
     ]
    }
   ],
   "source": [
    "def calculate_blooming_start_date(forecast_data, method='ndvi_threshold'):\n",
    "    \"\"\"\n",
    "    Calculate blooming start date based on NDVI predictions\n",
    "    \n",
    "    Parameters:\n",
    "    forecast_data (pd.DataFrame): Prophet forecast with 'ds' and 'yhat' columns\n",
    "    method (str): Method for calculating blooming start\n",
    "                  - 'ndvi_threshold': When NDVI reaches threshold value\n",
    "                  - 'ndvi_acceleration': When NDVI growth accelerates\n",
    "                  - 'seasonal_pattern': Based on seasonal growth patterns\n",
    "    \n",
    "    Returns:\n",
    "    dict: Blooming prediction results\n",
    "    \"\"\"\n",
    "    if forecast_data is None or len(forecast_data) == 0:\n",
    "        return {'blooming_start_date': None, 'method': method, 'confidence': 0}\n",
    "    \n",
    "    # Create a copy and ensure proper date handling\n",
    "    df = forecast_data.copy()\n",
    "    df['ds'] = pd.to_datetime(df['ds'])\n",
    "    df = df.sort_values('ds')\n",
    "    \n",
    "    blooming_results = {}\n",
    "    \n",
    "    if method == 'ndvi_threshold':\n",
    "        # Method 1: Blooming starts when NDVI reaches 0.6-0.7 (typical vegetation vigor for blooming)\n",
    "        blooming_threshold = 0.65  # Typical NDVI value at blooming onset\n",
    "        \n",
    "        # Find first date when NDVI exceeds threshold (during spring growth)\n",
    "        spring_mask = (df['ds'].dt.month >= 3) & (df['ds'].dt.month <= 6)  # March to June\n",
    "        spring_data = df[spring_mask]\n",
    "        \n",
    "        if len(spring_data) > 0:\n",
    "            blooming_candidates = spring_data[spring_data['yhat'] >= blooming_threshold]\n",
    "            if len(blooming_candidates) > 0:\n",
    "                blooming_date = blooming_candidates['ds'].iloc[0]\n",
    "                confidence = min(0.9, 0.5 + (blooming_candidates['yhat'].iloc[0] - blooming_threshold) * 2)\n",
    "                blooming_results = {\n",
    "                    'blooming_start_date': blooming_date,\n",
    "                    'method': 'NDVI Threshold (≥0.65)',\n",
    "                    'confidence': confidence,\n",
    "                    'ndvi_at_blooming': blooming_candidates['yhat'].iloc[0],\n",
    "                    'threshold_used': blooming_threshold\n",
    "                }\n",
    "    \n",
    "    elif method == 'ndvi_acceleration':\n",
    "        # Method 2: Blooming starts when NDVI growth rate accelerates (second derivative > 0)\n",
    "        if len(df) >= 3:\n",
    "            # Calculate first and second derivatives\n",
    "            df['ndvi_growth'] = df['yhat'].diff()\n",
    "            df['ndvi_acceleration'] = df['ndvi_growth'].diff()\n",
    "            \n",
    "            # Find peak acceleration in spring\n",
    "            spring_mask = (df['ds'].dt.month >= 3) & (df['ds'].dt.month <= 6)\n",
    "            spring_data = df[spring_mask]\n",
    "            \n",
    "            if len(spring_data) > 0:\n",
    "                # Find when acceleration is highest (rapid NDVI increase)\n",
    "                max_accel_idx = spring_data['ndvi_acceleration'].idxmax()\n",
    "                if not pd.isna(max_accel_idx):\n",
    "                    blooming_date = df.loc[max_accel_idx, 'ds']\n",
    "                    confidence = min(0.85, 0.6 + abs(df.loc[max_accel_idx, 'ndvi_acceleration']) * 10)\n",
    "                    blooming_results = {\n",
    "                        'blooming_start_date': blooming_date,\n",
    "                        'method': 'NDVI Acceleration Peak',\n",
    "                        'confidence': confidence,\n",
    "                        'ndvi_at_blooming': df.loc[max_accel_idx, 'yhat'],\n",
    "                        'acceleration_value': df.loc[max_accel_idx, 'ndvi_acceleration']\n",
    "                    }\n",
    "    \n",
    "    elif method == 'seasonal_pattern':\n",
    "        # Method 3: Based on typical seasonal patterns (day of year analysis)\n",
    "        # Blooming typically occurs between day 90-150 (late March to late May)\n",
    "        df['day_of_year'] = df['ds'].dt.dayofyear\n",
    "        blooming_window = df[(df['day_of_year'] >= 90) & (df['day_of_year'] <= 150)].copy()\n",
    "        \n",
    "        if len(blooming_window) > 0:\n",
    "            # Find the steepest NDVI increase in blooming window\n",
    "            blooming_window['ndvi_change'] = blooming_window['yhat'].diff()\n",
    "            max_change_idx = blooming_window['ndvi_change'].idxmax()\n",
    "            \n",
    "            if not pd.isna(max_change_idx):\n",
    "                blooming_date = blooming_window.loc[max_change_idx, 'ds']\n",
    "                confidence = min(0.8, 0.4 + abs(blooming_window.loc[max_change_idx, 'ndvi_change']) * 5)\n",
    "                blooming_results = {\n",
    "                    'blooming_start_date': blooming_date,\n",
    "                    'method': 'Seasonal Pattern Analysis',\n",
    "                    'confidence': confidence,\n",
    "                    'ndvi_at_blooming': blooming_window.loc[max_change_idx, 'yhat'],\n",
    "                    'day_of_year': blooming_window.loc[max_change_idx, 'day_of_year']\n",
    "                }\n",
    "    \n",
    "    # Default return if no method worked\n",
    "    if not blooming_results:\n",
    "        blooming_results = {\n",
    "            'blooming_start_date': None,\n",
    "            'method': method,\n",
    "            'confidence': 0,\n",
    "            'error': 'Unable to determine blooming date with selected method'\n",
    "        }\n",
    "    \n",
    "    return blooming_results\n",
    "\n",
    "# Calculate blooming dates using multiple methods if forecast is available\n",
    "if 'forecast' in globals() and forecast is not None and len(forecast) > 0:\n",
    "    print(\"🌸 Calculating blooming start dates...\")\n",
    "    \n",
    "    # Calculate using all three methods\n",
    "    methods = ['ndvi_threshold', 'ndvi_acceleration', 'seasonal_pattern']\n",
    "    blooming_predictions = {}\n",
    "    \n",
    "    for method in methods:\n",
    "        result = calculate_blooming_start_date(forecast, method)\n",
    "        blooming_predictions[method] = result\n",
    "        \n",
    "        if result['blooming_start_date'] is not None:\n",
    "            print(f\"   📅 {result['method']}: {result['blooming_start_date'].strftime('%Y-%m-%d')} \"\n",
    "                  f\"(Confidence: {result['confidence']:.1%})\")\n",
    "            if 'ndvi_at_blooming' in result:\n",
    "                print(f\"      NDVI at blooming: {result['ndvi_at_blooming']:.3f}\")\n",
    "        else:\n",
    "            print(f\"   ❌ {result['method']}: Could not determine blooming date\")\n",
    "    \n",
    "    # Select best prediction (highest confidence)\n",
    "    best_method = max(blooming_predictions.keys(), \n",
    "                     key=lambda x: blooming_predictions[x]['confidence'])\n",
    "    best_prediction = blooming_predictions[best_method]\n",
    "    \n",
    "    if best_prediction['blooming_start_date'] is not None:\n",
    "        print(f\"\\n🏆 Best blooming prediction:\")\n",
    "        print(f\"   Date: {best_prediction['blooming_start_date'].strftime('%Y-%m-%d')}\")\n",
    "        print(f\"   Method: {best_prediction['method']}\")\n",
    "        print(f\"   Confidence: {best_prediction['confidence']:.1%}\")\n",
    "        print(f\"   NDVI at blooming: {best_prediction.get('ndvi_at_blooming', 'N/A')}\")\n",
    "        \n",
    "        # Calculate days until blooming\n",
    "        if best_prediction['blooming_start_date'] > pd.Timestamp.now():\n",
    "            days_until = (best_prediction['blooming_start_date'] - pd.Timestamp.now()).days\n",
    "            print(f\"   Days until blooming: {days_until}\")\n",
    "        \n",
    "        # Store for future use\n",
    "        blooming_start_date = best_prediction['blooming_start_date']\n",
    "        blooming_confidence = best_prediction['confidence']\n",
    "        blooming_method = best_prediction['method']\n",
    "        \n",
    "    else:\n",
    "        print(\"\\n⚠️  Unable to predict blooming start date with current NDVI data\")\n",
    "        blooming_start_date = None\n",
    "        blooming_confidence = 0\n",
    "        blooming_method = None\n",
    "        \n",
    "else:\n",
    "    print(\"🌸 No forecast data available for blooming prediction\")\n",
    "    print(\"   Please run the NDVI prediction model first\")\n",
    "    blooming_start_date = None\n",
    "    bloomingconfidence = 0\n",
    "    blooming_method = None"
   ]
  },
  {
   "cell_type": "code",
   "execution_count": 37,
   "id": "9a90d3fe",
   "metadata": {},
   "outputs": [
    {
     "name": "stdout",
     "output_type": "stream",
     "text": [
      "📊 Creating blooming prediction visualization...\n"
     ]
    },
    {
     "data": {
      "application/vnd.plotly.v1+json": {
       "config": {
        "plotlyServerURL": "https://plot.ly"
       },
       "data": [
        {
         "line": {
          "color": "green",
          "width": 3
         },
         "mode": "lines",
         "name": "NDVI Prediction",
         "type": "scatter",
         "x": [
          "2025-01-01T00:00:00.000000000",
          "2025-01-17T00:00:00.000000000",
          "2025-02-02T00:00:00.000000000",
          "2025-02-18T00:00:00.000000000",
          "2025-03-06T00:00:00.000000000",
          "2025-03-22T00:00:00.000000000",
          "2025-04-07T00:00:00.000000000",
          "2025-04-23T00:00:00.000000000",
          "2025-05-09T00:00:00.000000000",
          "2025-05-25T00:00:00.000000000",
          "2025-06-10T00:00:00.000000000",
          "2025-06-26T00:00:00.000000000",
          "2025-07-12T00:00:00.000000000",
          "2025-07-28T00:00:00.000000000",
          "2025-08-13T00:00:00.000000000",
          "2025-08-29T00:00:00.000000000",
          "2025-09-14T00:00:00.000000000",
          "2025-09-30T00:00:00.000000000",
          "2025-10-16T00:00:00.000000000",
          "2025-11-01T00:00:00.000000000",
          "2025-11-17T00:00:00.000000000",
          "2025-12-03T00:00:00.000000000",
          "2025-12-19T00:00:00.000000000",
          "2026-01-04T00:00:00.000000000"
         ],
         "y": {
          "bdata": "mFQbgK84xj8oJ1ZfH9fHPzUKNaFh98w/FvNHbDgT0T8IGvfNUtPVP7k63T0/kto/MhGGBqF93z+tsER9IgjjPyLpnZcR8uQ/yKCZl06+5j9SZZ1qoGrnP9ByxulFDOg/rRphmvmi5z+l21fo6vDmP24ay3dZjeU/ixezUMJe4z+2PrNYeBbhPx5XfaTzM90/HJjxJDXO1z92rTF5Xp3SP5ugJm+L8s0/Vg14W/NCyD8+rGzmfGHFP57d5wnlvcU/",
          "dtype": "f8"
         }
        },
        {
         "fill": "tonexty",
         "fillcolor": "rgba(0,128,0,0.2)",
         "line": {
          "color": "rgba(255,255,255,0)"
         },
         "name": "Prediction Uncertainty",
         "showlegend": false,
         "type": "scatter",
         "x": [
          "2025-01-01T00:00:00",
          "2025-01-17T00:00:00",
          "2025-02-02T00:00:00",
          "2025-02-18T00:00:00",
          "2025-03-06T00:00:00",
          "2025-03-22T00:00:00",
          "2025-04-07T00:00:00",
          "2025-04-23T00:00:00",
          "2025-05-09T00:00:00",
          "2025-05-25T00:00:00",
          "2025-06-10T00:00:00",
          "2025-06-26T00:00:00",
          "2025-07-12T00:00:00",
          "2025-07-28T00:00:00",
          "2025-08-13T00:00:00",
          "2025-08-29T00:00:00",
          "2025-09-14T00:00:00",
          "2025-09-30T00:00:00",
          "2025-10-16T00:00:00",
          "2025-11-01T00:00:00",
          "2025-11-17T00:00:00",
          "2025-12-03T00:00:00",
          "2025-12-19T00:00:00",
          "2026-01-04T00:00:00",
          "2026-01-04T00:00:00",
          "2025-12-19T00:00:00",
          "2025-12-03T00:00:00",
          "2025-11-17T00:00:00",
          "2025-11-01T00:00:00",
          "2025-10-16T00:00:00",
          "2025-09-30T00:00:00",
          "2025-09-14T00:00:00",
          "2025-08-29T00:00:00",
          "2025-08-13T00:00:00",
          "2025-07-28T00:00:00",
          "2025-07-12T00:00:00",
          "2025-06-26T00:00:00",
          "2025-06-10T00:00:00",
          "2025-05-25T00:00:00",
          "2025-05-09T00:00:00",
          "2025-04-23T00:00:00",
          "2025-04-07T00:00:00",
          "2025-03-22T00:00:00",
          "2025-03-06T00:00:00",
          "2025-02-18T00:00:00",
          "2025-02-02T00:00:00",
          "2025-01-17T00:00:00",
          "2025-01-01T00:00:00"
         ],
         "y": [
          0.23290841680463897,
          0.25344282032012244,
          0.2911700737413308,
          0.32898479337953435,
          0.40160637322853443,
          0.4791784319314739,
          0.5556745415425975,
          0.6574394882625741,
          0.7186952072500837,
          0.7763011802459053,
          0.7957436966813942,
          0.8156430089883153,
          0.8073039611493737,
          0.7841287418615617,
          0.7350079174377022,
          0.6706769783826264,
          0.600004974250917,
          0.5205720308448974,
          0.4343322390480235,
          0.35731004222521107,
          0.2943199646814784,
          0.2507424571431547,
          0.22917433713799207,
          0.23555194095669207,
          0.10865415429752943,
          0.10535395311787146,
          0.12324921805035381,
          0.16949309180121241,
          0.22865826627626934,
          0.30855989015738383,
          0.39338842340493607,
          0.4705164944618298,
          0.5393682444054975,
          0.6098822850798966,
          0.6510360746815401,
          0.6748033124666907,
          0.6890531273292199,
          0.6645390963811239,
          0.6455291026169729,
          0.5926107503397372,
          0.5313665774656284,
          0.4322791959180159,
          0.351928318085377,
          0.27188088838911834,
          0.2084998075850695,
          0.16786246037906108,
          0.1211951591001254,
          0.1115686754361661
         ]
        },
        {
         "marker": {
          "color": "red",
          "line": {
           "color": "darkred",
           "width": 2
          },
          "size": 15,
          "symbol": "star"
         },
         "mode": "markers+text",
         "name": "Blooming Start (NDVI Acceleration Peak)",
         "text": [
          "🌸 Blooming Start<br>2025-03-06"
         ],
         "textfont": {
          "color": "darkred",
          "size": 12
         },
         "textposition": "top center",
         "type": "scatter",
         "x": [
          "2025-03-06T00:00:00"
         ],
         "y": [
          0.3410231601123148
         ]
        }
       ],
       "layout": {
        "height": 500,
        "hovermode": "x unified",
        "legend": {
         "orientation": "h",
         "x": 1,
         "xanchor": "right",
         "y": 1.02,
         "yanchor": "bottom"
        },
        "showlegend": true,
        "template": {
         "data": {
          "candlestick": [
           {
            "decreasing": {
             "line": {
              "color": "#000033"
             }
            },
            "increasing": {
             "line": {
              "color": "#000032"
             }
            },
            "type": "candlestick"
           }
          ],
          "contour": [
           {
            "colorscale": [
             [
              0,
              "#000011"
             ],
             [
              0.1111111111111111,
              "#000012"
             ],
             [
              0.2222222222222222,
              "#000013"
             ],
             [
              0.3333333333333333,
              "#000014"
             ],
             [
              0.4444444444444444,
              "#000015"
             ],
             [
              0.5555555555555556,
              "#000016"
             ],
             [
              0.6666666666666666,
              "#000017"
             ],
             [
              0.7777777777777778,
              "#000018"
             ],
             [
              0.8888888888888888,
              "#000019"
             ],
             [
              1,
              "#000020"
             ]
            ],
            "type": "contour"
           }
          ],
          "contourcarpet": [
           {
            "colorscale": [
             [
              0,
              "#000011"
             ],
             [
              0.1111111111111111,
              "#000012"
             ],
             [
              0.2222222222222222,
              "#000013"
             ],
             [
              0.3333333333333333,
              "#000014"
             ],
             [
              0.4444444444444444,
              "#000015"
             ],
             [
              0.5555555555555556,
              "#000016"
             ],
             [
              0.6666666666666666,
              "#000017"
             ],
             [
              0.7777777777777778,
              "#000018"
             ],
             [
              0.8888888888888888,
              "#000019"
             ],
             [
              1,
              "#000020"
             ]
            ],
            "type": "contourcarpet"
           }
          ],
          "heatmap": [
           {
            "colorscale": [
             [
              0,
              "#000011"
             ],
             [
              0.1111111111111111,
              "#000012"
             ],
             [
              0.2222222222222222,
              "#000013"
             ],
             [
              0.3333333333333333,
              "#000014"
             ],
             [
              0.4444444444444444,
              "#000015"
             ],
             [
              0.5555555555555556,
              "#000016"
             ],
             [
              0.6666666666666666,
              "#000017"
             ],
             [
              0.7777777777777778,
              "#000018"
             ],
             [
              0.8888888888888888,
              "#000019"
             ],
             [
              1,
              "#000020"
             ]
            ],
            "type": "heatmap"
           }
          ],
          "histogram2d": [
           {
            "colorscale": [
             [
              0,
              "#000011"
             ],
             [
              0.1111111111111111,
              "#000012"
             ],
             [
              0.2222222222222222,
              "#000013"
             ],
             [
              0.3333333333333333,
              "#000014"
             ],
             [
              0.4444444444444444,
              "#000015"
             ],
             [
              0.5555555555555556,
              "#000016"
             ],
             [
              0.6666666666666666,
              "#000017"
             ],
             [
              0.7777777777777778,
              "#000018"
             ],
             [
              0.8888888888888888,
              "#000019"
             ],
             [
              1,
              "#000020"
             ]
            ],
            "type": "histogram2d"
           }
          ],
          "icicle": [
           {
            "textfont": {
             "color": "white"
            },
            "type": "icicle"
           }
          ],
          "sankey": [
           {
            "textfont": {
             "color": "#000036"
            },
            "type": "sankey"
           }
          ],
          "scatter": [
           {
            "marker": {
             "line": {
              "width": 0
             }
            },
            "type": "scatter"
           }
          ],
          "table": [
           {
            "cells": {
             "fill": {
              "color": "#000038"
             },
             "font": {
              "color": "#000037"
             },
             "line": {
              "color": "#000039"
             }
            },
            "header": {
             "fill": {
              "color": "#000040"
             },
             "font": {
              "color": "#000036"
             },
             "line": {
              "color": "#000039"
             }
            },
            "type": "table"
           }
          ],
          "waterfall": [
           {
            "connector": {
             "line": {
              "color": "#000036",
              "width": 2
             }
            },
            "decreasing": {
             "marker": {
              "color": "#000033"
             }
            },
            "increasing": {
             "marker": {
              "color": "#000032"
             }
            },
            "totals": {
             "marker": {
              "color": "#000034"
             }
            },
            "type": "waterfall"
           }
          ]
         },
         "layout": {
          "coloraxis": {
           "colorscale": [
            [
             0,
             "#000011"
            ],
            [
             0.1111111111111111,
             "#000012"
            ],
            [
             0.2222222222222222,
             "#000013"
            ],
            [
             0.3333333333333333,
             "#000014"
            ],
            [
             0.4444444444444444,
             "#000015"
            ],
            [
             0.5555555555555556,
             "#000016"
            ],
            [
             0.6666666666666666,
             "#000017"
            ],
            [
             0.7777777777777778,
             "#000018"
            ],
            [
             0.8888888888888888,
             "#000019"
            ],
            [
             1,
             "#000020"
            ]
           ]
          },
          "colorscale": {
           "diverging": [
            [
             0,
             "#000021"
            ],
            [
             0.1,
             "#000022"
            ],
            [
             0.2,
             "#000023"
            ],
            [
             0.3,
             "#000024"
            ],
            [
             0.4,
             "#000025"
            ],
            [
             0.5,
             "#000026"
            ],
            [
             0.6,
             "#000027"
            ],
            [
             0.7,
             "#000028"
            ],
            [
             0.8,
             "#000029"
            ],
            [
             0.9,
             "#000030"
            ],
            [
             1,
             "#000031"
            ]
           ],
           "sequential": [
            [
             0,
             "#000011"
            ],
            [
             0.1111111111111111,
             "#000012"
            ],
            [
             0.2222222222222222,
             "#000013"
            ],
            [
             0.3333333333333333,
             "#000014"
            ],
            [
             0.4444444444444444,
             "#000015"
            ],
            [
             0.5555555555555556,
             "#000016"
            ],
            [
             0.6666666666666666,
             "#000017"
            ],
            [
             0.7777777777777778,
             "#000018"
            ],
            [
             0.8888888888888888,
             "#000019"
            ],
            [
             1,
             "#000020"
            ]
           ],
           "sequentialminus": [
            [
             0,
             "#000011"
            ],
            [
             0.1111111111111111,
             "#000012"
            ],
            [
             0.2222222222222222,
             "#000013"
            ],
            [
             0.3333333333333333,
             "#000014"
            ],
            [
             0.4444444444444444,
             "#000015"
            ],
            [
             0.5555555555555556,
             "#000016"
            ],
            [
             0.6666666666666666,
             "#000017"
            ],
            [
             0.7777777777777778,
             "#000018"
            ],
            [
             0.8888888888888888,
             "#000019"
            ],
            [
             1,
             "#000020"
            ]
           ]
          },
          "colorway": [
           "#000001",
           "#000002",
           "#000003",
           "#000004",
           "#000005",
           "#000006",
           "#000007",
           "#000008",
           "#000009",
           "#000010"
          ]
         }
        },
        "title": {
         "font": {
          "size": 16
         },
         "text": "NDVI Predictions with Blooming Start Date<br><sub>Predicted blooming: March 06, 2025 (85% confidence)</sub>"
        },
        "xaxis": {
         "title": {
          "text": "Date"
         }
        },
        "yaxis": {
         "title": {
          "text": "NDVI"
         }
        }
       }
      }
     },
     "metadata": {},
     "output_type": "display_data"
    },
    {
     "name": "stdout",
     "output_type": "stream",
     "text": [
      "\n",
      "📈 Blooming Prediction Summary:\n",
      "   🗓️  Predicted blooming start: March 06, 2025\n",
      "   🎯 Method used: NDVI Acceleration Peak\n",
      "   📊 Confidence level: 85.0%\n",
      "   🌱 NDVI at blooming: 0.341\n",
      "   ⚠️  Blooming date is in the past or has already occurred\n",
      "\n",
      "🔍 Comparison of all methods:\n",
      "   • NDVI Threshold (≥0.65): 2025-05-09 (50.9%)\n",
      "   • NDVI Acceleration Peak: 2025-03-06 (85.0%)\n",
      "   • Seasonal Pattern Analysis: 2025-04-23 (80.0%)\n"
     ]
    }
   ],
   "source": [
    "# Create a visualization of blooming predictions\n",
    "if 'forecast' in globals() and forecast is not None and blooming_start_date is not None:\n",
    "    import plotly.graph_objects as go\n",
    "    from plotly.subplots import make_subplots\n",
    "    \n",
    "    print(\"📊 Creating blooming prediction visualization...\")\n",
    "    \n",
    "    # Prepare data for plotting\n",
    "    plot_df = forecast[['ds', 'yhat', 'yhat_lower', 'yhat_upper']].copy()\n",
    "    plot_df['ds'] = pd.to_datetime(plot_df['ds'])\n",
    "    \n",
    "    # Create the figure\n",
    "    fig_blooming = go.Figure()\n",
    "    \n",
    "    # Add NDVI prediction line\n",
    "    fig_blooming.add_trace(go.Scatter(\n",
    "        x=plot_df['ds'],\n",
    "        y=plot_df['yhat'],\n",
    "        mode='lines',\n",
    "        name='NDVI Prediction',\n",
    "        line=dict(color='green', width=3)\n",
    "    ))\n",
    "    \n",
    "    # Add uncertainty bands\n",
    "    fig_blooming.add_trace(go.Scatter(\n",
    "        x=plot_df['ds'].tolist() + plot_df['ds'].tolist()[::-1],\n",
    "        y=plot_df['yhat_upper'].tolist() + plot_df['yhat_lower'].tolist()[::-1],\n",
    "        fill='tonexty',\n",
    "        fillcolor='rgba(0,128,0,0.2)',\n",
    "        line=dict(color='rgba(255,255,255,0)'),\n",
    "        name='Prediction Uncertainty',\n",
    "        showlegend=False\n",
    "    ))\n",
    "    \n",
    "    # Add blooming date marker\n",
    "    blooming_ndvi = blooming_predictions[best_method]['ndvi_at_blooming']\n",
    "    fig_blooming.add_trace(go.Scatter(\n",
    "        x=[blooming_start_date],\n",
    "        y=[blooming_ndvi],\n",
    "        mode='markers+text',\n",
    "        marker=dict(\n",
    "            color='red',\n",
    "            size=15,\n",
    "            symbol='star',\n",
    "            line=dict(color='darkred', width=2)\n",
    "        ),\n",
    "        text=[f'🌸 Blooming Start<br>{blooming_start_date.strftime(\"%Y-%m-%d\")}'],\n",
    "        textposition='top center',\n",
    "        textfont=dict(size=12, color='darkred'),\n",
    "        name=f'Blooming Start ({blooming_method})'\n",
    "    ))\n",
    "    \n",
    "    # Add NDVI threshold line if applicable\n",
    "    if best_method == 'ndvi_threshold':\n",
    "        threshold = blooming_predictions[best_method]['threshold_used']\n",
    "        fig_blooming.add_hline(\n",
    "            y=threshold, \n",
    "            line_dash=\"dash\", \n",
    "            line_color=\"red\",\n",
    "            annotation_text=f\"Blooming Threshold (NDVI ≥ {threshold})\",\n",
    "            annotation_position=\"bottom right\"\n",
    "        )\n",
    "    \n",
    "    # Update layout\n",
    "    fig_blooming.update_layout(\n",
    "        title=dict(\n",
    "            text=f'NDVI Predictions with Blooming Start Date<br>'\n",
    "                 f'<sub>Predicted blooming: {blooming_start_date.strftime(\"%B %d, %Y\")} '\n",
    "                 f'({blooming_confidence:.0%} confidence)</sub>',\n",
    "            font=dict(size=16)\n",
    "        ),\n",
    "        xaxis_title='Date',\n",
    "        yaxis_title='NDVI',\n",
    "        hovermode='x unified',\n",
    "        legend=dict(\n",
    "            orientation=\"h\",\n",
    "            yanchor=\"bottom\",\n",
    "            y=1.02,\n",
    "            xanchor=\"right\",\n",
    "            x=1\n",
    "        ),\n",
    "        height=500,\n",
    "        showlegend=True\n",
    "    )\n",
    "    \n",
    "    # Show the plot\n",
    "    fig_blooming.show()\n",
    "    \n",
    "    # Print summary statistics\n",
    "    print(f\"\\n📈 Blooming Prediction Summary:\")\n",
    "    print(f\"   🗓️  Predicted blooming start: {blooming_start_date.strftime('%B %d, %Y')}\")\n",
    "    print(f\"   🎯 Method used: {blooming_method}\")\n",
    "    print(f\"   📊 Confidence level: {blooming_confidence:.1%}\")\n",
    "    print(f\"   🌱 NDVI at blooming: {blooming_ndvi:.3f}\")\n",
    "    \n",
    "    if blooming_start_date > pd.Timestamp.now():\n",
    "        days_until = (blooming_start_date - pd.Timestamp.now()).days\n",
    "        print(f\"   ⏳ Days until blooming: {days_until} days\")\n",
    "        \n",
    "        # Calculate weeks until blooming\n",
    "        weeks_until = days_until // 7\n",
    "        remaining_days = days_until % 7\n",
    "        if weeks_until > 0:\n",
    "            print(f\"   📅 Time until blooming: {weeks_until} weeks and {remaining_days} days\")\n",
    "    else:\n",
    "        print(f\"   ⚠️  Blooming date is in the past or has already occurred\")\n",
    "    \n",
    "    # Compare all methods\n",
    "    print(f\"\\n🔍 Comparison of all methods:\")\n",
    "    for method_key, result in blooming_predictions.items():\n",
    "        if result['blooming_start_date'] is not None:\n",
    "            print(f\"   • {result['method']}: {result['blooming_start_date'].strftime('%Y-%m-%d')} \"\n",
    "                  f\"({result['confidence']:.1%})\")\n",
    "        else:\n",
    "            print(f\"   • {result['method']}: No prediction available\")\n",
    "            \n",
    "else:\n",
    "    print(\"📊 No blooming visualization available - missing forecast data or blooming prediction\")"
   ]
  },
  {
   "cell_type": "markdown",
   "id": "ed4fffbb",
   "metadata": {},
   "source": [
    "## Model Evaluation and Cross-Validation\n",
    "\n",
    "Evaluate the model performance using validation data and cross-validation techniques."
   ]
  },
  {
   "cell_type": "code",
   "execution_count": 38,
   "id": "94a98d58",
   "metadata": {},
   "outputs": [
    {
     "name": "stdout",
     "output_type": "stream",
     "text": [
      "📊 Evaluating model performance...\n",
      "✅ Validation metrics:\n",
      "   Mean Absolute Error (MAE): 0.1035\n",
      "   Root Mean Square Error (RMSE): 0.1282\n",
      "   Mean Absolute Percentage Error (MAPE): 17.38%\n",
      "\n",
      "🔄 Performing cross-validation...\n",
      "✅ Cross-validation completed:\n",
      "   Average MAE: 0.0451 ± 0.0077\n",
      "   Average RMSE: 0.0546 ± 0.0091\n",
      "   Average MAPE: 0.28% ± 0.10%\n",
      "\n",
      "🔍 Model component analysis:\n",
      "   Trend component variability: 0.0004\n",
      "   Yearly seasonality variability: 0.0900\n",
      "   temperature_mean contribution: 0.0019\n",
      "   humidity contribution: 0.0012\n",
      "   growing_degree_days contribution: 0.0021\n",
      "   vapor_pressure_deficit contribution: 0.0057\n",
      "   precipitation contribution: 0.0023\n"
     ]
    }
   ],
   "source": [
    "if model is not None and not val_df.empty:\n",
    "    print(\"📊 Evaluating model performance...\")\n",
    "    \n",
    "    # Add growing season indicator to validation data\n",
    "    val_df = add_growing_season_indicator(val_df)\n",
    "    \n",
    "    # Predict on validation data\n",
    "    val_forecast = model.predict(val_df)\n",
    "    \n",
    "    # Calculate evaluation metrics\n",
    "    actual = val_df['y'].values\n",
    "    predicted = val_forecast['yhat'].values\n",
    "    \n",
    "    from sklearn.metrics import mean_absolute_error, mean_squared_error\n",
    "    \n",
    "    mae = mean_absolute_error(actual, predicted)\n",
    "    rmse = np.sqrt(mean_squared_error(actual, predicted))\n",
    "    mape = np.mean(np.abs((actual - predicted) / actual)) * 100\n",
    "    \n",
    "    print(f\"✅ Validation metrics:\")\n",
    "    print(f\"   Mean Absolute Error (MAE): {mae:.4f}\")\n",
    "    print(f\"   Root Mean Square Error (RMSE): {rmse:.4f}\")\n",
    "    print(f\"   Mean Absolute Percentage Error (MAPE): {mape:.2f}%\")\n",
    "    \n",
    "    # Cross-validation (if enough data)\n",
    "    if len(train_df) > 100:  # Only run if sufficient data\n",
    "        print(\"\\n🔄 Performing cross-validation...\")\n",
    "        try:\n",
    "            # Create cutoffs for cross-validation (last 6 months of data, with 60-day horizons)\n",
    "            cutoffs = pd.date_range(\n",
    "                start=train_df['ds'].max() - pd.DateOffset(months=6),\n",
    "                end=train_df['ds'].max() - pd.DateOffset(days=60),\n",
    "                freq='MS'  # Monthly start\n",
    "            )\n",
    "            \n",
    "            if len(cutoffs) > 0:\n",
    "                cv_results = cross_validation(\n",
    "                    model, \n",
    "                    cutoffs=cutoffs[:3],  # Limit to 3 cutoffs to avoid long runtime\n",
    "                    horizon='60 days',\n",
    "                    parallel='processes'\n",
    "                )\n",
    "                \n",
    "                # Performance metrics\n",
    "                cv_metrics = performance_metrics(cv_results)\n",
    "                \n",
    "                print(\"✅ Cross-validation completed:\")\n",
    "                print(f\"   Average MAE: {cv_metrics['mae'].mean():.4f} ± {cv_metrics['mae'].std():.4f}\")\n",
    "                print(f\"   Average RMSE: {cv_metrics['rmse'].mean():.4f} ± {cv_metrics['rmse'].std():.4f}\")\n",
    "                print(f\"   Average MAPE: {cv_metrics['mape'].mean():.2f}% ± {cv_metrics['mape'].std():.2f}%\")\n",
    "                \n",
    "            else:\n",
    "                print(\"⚠️  Insufficient data for cross-validation\")\n",
    "                cv_results = None\n",
    "                cv_metrics = None\n",
    "                \n",
    "        except Exception as e:\n",
    "            print(f\"⚠️  Cross-validation failed: {e}\")\n",
    "            cv_results = None\n",
    "            cv_metrics = None\n",
    "    else:\n",
    "        print(\"⚠️  Skipping cross-validation - insufficient training data\")\n",
    "        cv_results = None\n",
    "        cv_metrics = None\n",
    "    \n",
    "    # Feature importance analysis\n",
    "    print(f\"\\n🔍 Model component analysis:\")\n",
    "    \n",
    "    # Get component contributions on validation data\n",
    "    components = model.predict(val_df)\n",
    "    \n",
    "    if 'trend' in components.columns:\n",
    "        trend_contribution = components['trend'].std()\n",
    "        print(f\"   Trend component variability: {trend_contribution:.4f}\")\n",
    "    \n",
    "    if 'yearly' in components.columns:\n",
    "        yearly_contribution = components['yearly'].std()\n",
    "        print(f\"   Yearly seasonality variability: {yearly_contribution:.4f}\")\n",
    "    \n",
    "    # Regressor contributions\n",
    "    regressor_importance = {}\n",
    "    for regressor in available_regressors:\n",
    "        if regressor in components.columns:\n",
    "            contrib = components[regressor].std()\n",
    "            regressor_importance[regressor] = contrib\n",
    "            print(f\"   {regressor} contribution: {contrib:.4f}\")\n",
    "    \n",
    "    # Store results for later use\n",
    "    evaluation_results = {\n",
    "        'mae': mae,\n",
    "        'rmse': rmse,\n",
    "        'mape': mape,\n",
    "        'regressor_importance': regressor_importance\n",
    "    }\n",
    "    \n",
    "    if cv_metrics is not None:\n",
    "        evaluation_results['cv_mae'] = cv_metrics['mae'].mean()\n",
    "        evaluation_results['cv_rmse'] = cv_metrics['rmse'].mean()\n",
    "        evaluation_results['cv_mape'] = cv_metrics['mape'].mean()\n",
    "        \n",
    "else:\n",
    "    print(\"⚠️  Skipping evaluation - no model or validation data available\")\n",
    "    evaluation_results = None"
   ]
  },
  {
   "cell_type": "markdown",
   "id": "1a29f154",
   "metadata": {},
   "source": [
    "## Visualize Predictions and Components\n",
    "\n",
    "Create comprehensive visualizations of the model predictions, components, and validation results."
   ]
  },
  {
   "cell_type": "code",
   "execution_count": 39,
   "id": "b87909a0",
   "metadata": {},
   "outputs": [
    {
     "name": "stdout",
     "output_type": "stream",
     "text": [
      "📊 Creating visualizations...\n"
     ]
    },
    {
     "data": {
      "application/vnd.plotly.v1+json": {
       "config": {
        "plotlyServerURL": "https://plot.ly"
       },
       "data": [
        {
         "hovertemplate": "Date: %{x}<br>NDVI: %{y:.3f}<extra></extra>",
         "marker": {
          "color": "blue",
          "size": 6
         },
         "mode": "markers",
         "name": "Historical NDVI",
         "type": "scatter",
         "x": [
          "2020-06-24T16:02:26.381000000",
          "2020-06-29T16:02:29.019000000",
          "2020-07-14T16:02:25.234000000",
          "2020-07-29T15:45:59.461000000",
          "2020-07-29T16:02:29.575000000",
          "2020-08-26T16:12:23.191000000",
          "2020-09-05T16:12:22.661000000",
          "2020-09-15T16:12:21.628000000",
          "2020-09-20T16:12:24.709000000",
          "2020-09-22T16:02:26.146000000",
          "2020-10-07T16:02:29.694000000",
          "2020-10-15T16:12:23.556000000",
          "2020-10-17T15:46:23.371000000",
          "2020-10-17T16:02:29.491000000",
          "2020-11-04T16:12:22.103000000",
          "2020-11-06T16:02:28.422000000",
          "2020-11-14T16:12:20.678000000",
          "2020-11-16T16:02:27.012000000",
          "2020-11-24T16:12:20.010000000",
          "2020-11-29T16:12:19.929000000",
          "2020-12-06T16:02:21.700000000",
          "2020-12-11T16:02:20.926000000",
          "2020-12-29T16:12:19.702000000",
          "2021-01-10T16:02:23.216000000",
          "2021-01-13T16:12:19.393000000",
          "2021-01-30T16:02:23.569000000",
          "2021-02-04T16:02:23.434000000",
          "2021-02-24T16:02:23.577000000",
          "2021-03-10T15:45:57.104000000",
          "2021-03-11T16:02:23.187000000",
          "2021-03-14T16:12:19.161000000",
          "2021-03-21T16:02:22.980000000",
          "2021-03-29T16:12:17.433000000",
          "2021-04-03T16:12:17.663000000",
          "2021-04-05T16:02:20.081000000",
          "2021-04-08T16:12:15.373000000",
          "2021-04-23T16:12:14.144000000",
          "2021-04-27T15:45:38.023000000",
          "2021-05-13T15:45:37.141000000",
          "2021-05-20T16:02:23.683000000",
          "2021-06-17T16:12:19.965000000",
          "2021-06-29T16:02:24.897000000",
          "2021-06-30T15:45:56.799000000",
          "2021-07-16T15:45:58.188000000",
          "2021-07-17T16:12:23.088000000",
          "2021-07-27T16:12:23.174000000",
          "2021-08-08T16:02:24.780000000",
          "2021-08-11T16:12:20.373000000",
          "2021-08-26T16:12:21.651000000",
          "2021-09-02T15:46:17.241000000",
          "2021-09-02T16:02:24.903000000",
          "2021-09-07T16:02:20.283000000",
          "2021-09-10T16:12:16.162000000",
          "2021-09-12T16:02:24.639000000",
          "2021-09-27T16:02:22.657000000",
          "2021-10-02T16:02:24.382000000",
          "2021-10-20T15:46:29.102000000",
          "2021-10-22T16:02:29.144000000",
          "2021-10-27T16:02:25.334000000",
          "2021-11-01T16:02:28.152000000",
          "2021-11-05T15:46:27.757000000",
          "2021-11-06T16:02:24.330000000",
          "2021-11-16T16:02:22.161000000",
          "2021-11-19T15:43:12.618000000",
          "2021-11-19T16:12:17.301000000",
          "2021-11-24T15:45:39.806000000",
          "2021-11-24T16:12:19.836000000",
          "2021-12-04T16:12:19.100000000",
          "2021-12-14T16:12:19.538000000",
          "2021-12-23T15:46:21.424000000",
          "2021-12-24T16:12:21.150000000",
          "2021-12-26T16:02:19.289000000",
          "2022-01-08T16:12:15.820000000",
          "2022-01-24T15:46:12.924000000",
          "2022-02-01T15:46:19.467000000",
          "2022-02-09T15:46:09.914000000",
          "2022-02-09T16:02:22.910000000",
          "2022-02-27T16:12:16.040000000",
          "2022-03-04T16:12:23.557000000",
          "2022-03-11T16:02:27.937000000",
          "2022-03-16T16:02:21.984000000",
          "2022-03-21T15:46:02.368000000",
          "2022-03-21T16:02:27.117000000",
          "2022-03-29T15:45:47.410000000",
          "2022-03-29T16:12:16.647000000",
          "2022-04-08T16:12:16.627000000",
          "2022-04-15T16:02:20.013000000",
          "2022-04-20T16:02:28.245000000",
          "2022-04-28T16:12:12.425000000",
          "2022-04-30T16:02:28.992000000",
          "2022-05-10T16:02:27.624000000",
          "2022-05-30T16:02:31.629000000",
          "2022-06-19T16:02:35.577000000",
          "2022-06-25T15:45:56.222000000",
          "2022-06-29T16:02:36.771000000",
          "2022-07-04T16:02:28.963000000",
          "2022-07-11T15:45:52.230000000",
          "2022-07-14T16:02:28.213000000",
          "2022-07-22T16:12:30.806000000",
          "2022-07-24T16:02:28.910000000",
          "2022-08-03T16:02:28.444000000",
          "2022-08-04T15:46:30.514000000",
          "2022-08-12T15:46:13.949000000",
          "2022-08-13T16:02:27.035000000",
          "2022-08-18T16:02:36.483000000",
          "2022-08-20T15:46:35.304000000",
          "2022-09-17T16:02:32.618000000",
          "2022-09-21T15:46:42.134000000",
          "2022-10-07T15:46:38.039000000",
          "2022-10-07T16:02:30.392000000",
          "2022-10-10T16:12:25.582000000",
          "2022-10-15T15:46:29.466000000",
          "2022-10-15T16:12:19.004000000",
          "2022-10-20T16:12:21.299000000",
          "2022-10-22T16:02:23.279000000",
          "2022-10-27T16:02:27.173000000",
          "2022-11-19T16:12:20.886000000",
          "2022-11-21T16:02:23.518000000",
          "2022-11-26T16:02:23.348000000",
          "2022-12-01T16:02:22.068000000",
          "2022-12-09T16:12:20.262000000",
          "2022-12-21T16:02:22.962000000",
          "2022-12-26T15:46:27.177000000",
          "2022-12-26T16:02:22.249000000",
          "2022-12-29T16:12:18.585000000",
          "2023-01-15T16:02:20.479000000",
          "2023-02-04T15:46:33.027000000",
          "2023-02-04T16:02:22.726000000",
          "2023-02-24T16:02:21.439000000",
          "2023-03-08T15:46:12.279000000",
          "2023-03-09T16:12:14.455000000",
          "2023-03-16T16:02:21.435000000",
          "2023-03-26T16:02:22.141000000",
          "2023-04-09T15:45:58.093000000",
          "2023-04-10T16:02:25.541000000",
          "2023-04-13T16:12:20.295000000",
          "2023-04-17T15:45:35.049000000",
          "2023-04-20T16:02:25.829000000",
          "2023-05-10T16:02:26.339000000",
          "2023-05-15T16:02:24.682000000",
          "2023-05-25T16:02:27.340000000",
          "2023-06-29T16:02:28.946000000",
          "2023-07-30T15:45:43.911000000",
          "2023-08-01T16:12:24.818000000",
          "2023-08-31T15:45:59.702000000",
          "2023-09-02T16:02:29.149000000",
          "2023-09-16T15:46:08.022000000",
          "2023-10-02T15:46:07.789000000",
          "2023-10-02T16:02:25.717000000",
          "2023-10-10T15:46:12.749000000",
          "2023-10-12T16:02:21.431000000",
          "2023-10-25T16:12:19.822000000",
          "2023-11-03T15:46:10.512000000",
          "2023-11-11T16:02:23.050000000",
          "2023-11-16T16:02:22.888000000",
          "2023-11-19T15:46:17.245000000",
          "2023-11-19T16:12:17.171000000",
          "2024-01-03T16:12:16.440000000",
          "2024-01-05T16:02:23.701000000",
          "2024-01-22T15:46:16.562000000",
          "2024-02-04T16:02:22.118000000",
          "2024-02-07T15:46:22.027000000",
          "2024-02-07T16:12:19.384000000",
          "2024-02-14T16:02:24.977000000",
          "2024-02-19T16:02:21.834000000",
          "2024-02-29T16:02:23.776000000",
          "2024-03-25T16:02:24.309000000",
          "2024-04-14T16:02:24.726000000",
          "2024-04-29T16:02:26.564000000",
          "2024-05-13T15:45:36.137000000",
          "2024-05-21T15:45:08.927000000",
          "2024-05-22T16:12:19.182000000",
          "2024-06-08T16:02:29.726000000",
          "2024-06-14T15:45:17.486000000",
          "2024-06-18T16:02:29.340000000",
          "2024-06-22T15:45:17.551000000",
          "2024-06-28T16:02:26.739000000",
          "2024-07-03T16:02:27.551000000",
          "2024-07-16T15:45:30.002000000",
          "2024-07-16T16:12:22.959000000",
          "2024-07-28T16:02:26.488000000",
          "2024-08-01T15:45:32.966000000",
          "2024-08-02T16:02:24.713000000",
          "2024-08-05T16:12:22.327000000",
          "2024-08-12T16:02:28.170000000",
          "2024-08-22T16:02:22.928000000",
          "2024-08-25T15:45:48.471000000",
          "2024-08-25T16:12:20.583000000",
          "2024-08-27T16:02:22.051000000",
          "2024-09-09T16:12:18.941000000",
          "2024-09-10T15:45:56.188000000",
          "2024-09-11T16:02:25.163000000",
          "2024-10-06T16:02:23.430000000",
          "2024-10-09T16:12:15.220000000",
          "2024-10-11T16:02:21.862000000",
          "2024-10-19T16:12:19.751000000",
          "2024-10-20T15:46:11.080000000",
          "2024-10-21T16:02:24.773000000",
          "2024-10-28T15:46:02.732000000",
          "2024-10-31T16:02:23.413000000",
          "2024-11-03T16:12:17.147000000",
          "2024-11-05T16:02:20.471000000",
          "2024-11-08T16:12:16.809000000",
          "2024-11-13T16:12:15.474000000",
          "2024-11-21T15:46:16.319000000",
          "2024-11-25T16:02:26.274000000",
          "2024-12-03T16:12:20.474000000",
          "2024-12-23T15:46:14.181000000",
          "2024-12-23T16:12:21.268000000",
          "2024-12-30T16:02:25.004000000",
          "2025-01-09T16:02:23.857000000",
          "2025-01-14T16:02:21.725000000",
          "2025-01-22T16:12:21.129000000",
          "2025-01-24T16:02:52.322000000",
          "2025-01-29T16:02:26.519000000",
          "2025-02-23T16:02:44.509000000",
          "2025-03-10T16:02:26.289000000",
          "2025-03-21T15:45:44.306000000",
          "2025-03-25T16:02:45.378000000",
          "2025-03-27T16:02:31.489000000",
          "2025-03-30T16:02:24.571000000",
          "2023-10-24T08:34:28.056000000",
          "2023-11-17T08:34:26.759000000",
          "2023-11-17T08:50:06.259000000",
          "2023-11-27T08:50:03.874000000",
          "2023-12-17T08:50:07.247000000",
          "2023-12-20T08:28:23.411000000",
          "2023-12-27T08:34:33.921000000",
          "2023-12-27T08:50:08.999000000",
          "2023-12-28T08:28:13.848000000",
          "2024-01-05T08:28:16.689000000",
          "2024-01-11T08:50:02.324000000",
          "2024-01-26T08:50:06.295000000",
          "2024-01-28T08:34:29.647000000",
          "2024-02-05T08:34:19.670000000",
          "2024-02-05T08:50:06.196000000",
          "2024-02-06T08:28:22.018000000",
          "2024-02-10T08:50:04.067000000",
          "2024-02-25T08:50:07.194000000",
          "2024-02-29T08:34:23.024000000",
          "2024-03-09T08:28:14.094000000",
          "2024-03-16T08:34:23.411000000",
          "2024-03-16T08:50:06.086000000",
          "2024-03-24T08:33:54.887000000",
          "2024-03-26T08:50:07.982000000",
          "2024-03-31T08:50:06.680000000",
          "2024-04-01T08:34:14.572000000",
          "2024-04-05T08:50:05.637000000",
          "2024-04-10T08:28:00.492000000",
          "2024-04-10T08:50:07.936000000",
          "2024-04-15T08:50:08.559000000",
          "2024-05-03T08:33:49.688000000",
          "2024-05-04T08:27:22.295000000",
          "2024-05-15T08:50:06.078000000",
          "2024-05-20T08:27:09.602000000",
          "2024-06-04T08:33:35.916000000",
          "2024-06-05T08:27:08.123000000",
          "2024-06-12T08:33:17.991000000",
          "2024-06-13T08:27:18.960000000",
          "2024-06-20T08:33:19.859000000",
          "2024-06-21T08:27:16.502000000",
          "2024-06-28T08:33:31.094000000",
          "2024-06-29T08:27:10.015000000",
          "2024-07-06T08:33:32.043000000",
          "2024-07-07T08:27:24.594000000",
          "2024-07-14T08:33:41.346000000",
          "2024-07-14T08:50:10.219000000",
          "2024-07-15T08:27:29.392000000",
          "2024-07-19T08:50:02.053000000",
          "2024-07-22T08:33:40.411000000",
          "2024-07-29T08:50:10.247000000",
          "2024-07-30T08:33:51.019000000",
          "2024-07-31T08:27:32.173000000",
          "2024-08-03T08:50:08.885000000",
          "2024-08-07T08:33:44.413000000",
          "2024-08-08T08:50:08.358000000",
          "2024-08-13T08:50:11.790000000",
          "2024-08-15T08:33:54.114000000",
          "2024-08-16T08:27:39.262000000",
          "2024-08-18T08:50:07.533000000",
          "2024-08-23T08:33:58.852000000",
          "2024-08-24T08:27:48.620000000",
          "2024-08-28T08:50:05.862000000",
          "2024-08-31T08:34:02.327000000",
          "2024-09-08T08:33:58.888000000",
          "2024-09-12T08:50:08.570000000",
          "2024-09-16T08:34:09.470000000",
          "2024-09-17T08:27:52.756000000",
          "2024-09-17T08:50:07.720000000",
          "2024-09-22T08:50:04.537000000",
          "2024-09-25T08:27:55.657000000",
          "2024-09-27T08:50:09.596000000",
          "2024-10-02T08:34:04.778000000",
          "2024-10-02T08:50:08.738000000",
          "2024-10-03T08:27:59.295000000",
          "2024-10-07T08:50:06.610000000",
          "2024-10-10T08:34:09.011000000",
          "2024-10-12T08:50:05.981000000",
          "2024-10-18T08:34:18.349000000",
          "2024-10-19T08:28:09.855000000",
          "2024-10-22T08:50:08.515000000",
          "2024-10-26T08:34:23.984000000",
          "2024-10-27T08:28:04.393000000",
          "2024-10-27T08:50:08.238000000",
          "2024-11-01T08:50:06.744000000",
          "2024-11-06T08:50:03.494000000",
          "2024-11-12T08:28:02.787000000",
          "2024-11-19T08:34:18.932000000",
          "2024-11-27T08:34:30.168000000",
          "2024-11-28T08:28:14.974000000",
          "2024-12-06T08:50:08.660000000",
          "2024-12-13T08:34:21.354000000",
          "2024-12-14T08:28:03.122000000",
          "2024-12-22T08:28:13.807000000",
          "2024-12-31T08:50:08.534000000",
          "2025-01-06T08:34:18.072000000",
          "2025-01-10T08:50:07.497000000",
          "2025-01-20T08:50:07.932000000",
          "2025-01-30T08:34:19.648000000",
          "2025-01-31T08:28:07.234000000",
          "2025-02-07T08:34:17.342000000",
          "2025-02-08T08:28:10.903000000",
          "2025-02-09T08:50:10.174000000",
          "2025-02-16T08:28:02.286000000",
          "2025-02-23T08:34:07.956000000",
          "2025-02-24T08:28:10.130000000",
          "2025-02-24T08:50:31.040000000",
          "2025-03-01T08:50:10.636000000",
          "2025-03-04T08:27:54.650000000",
          "2025-03-06T08:50:31.784000000",
          "2025-03-11T08:34:04.052000000",
          "2025-03-11T08:50:09.856000000",
          "2025-03-12T08:28:05.624000000",
          "2025-03-16T08:50:31.138000000",
          "2025-03-18T08:50:20.114000000",
          "2025-03-21T08:50:10.651000000",
          "2025-03-27T08:33:53.162000000",
          "2023-11-01T08:27:41.307000000",
          "2023-11-05T08:07:42.682000000",
          "2023-11-08T08:17:43.869000000",
          "2023-11-18T08:17:39.678000000",
          "2024-01-27T08:17:40.027000000",
          "2024-02-24T08:27:37.237000000",
          "2024-02-25T08:07:33.176000000",
          "2024-02-26T08:01:27.460000000",
          "2024-02-26T08:17:40.828000000",
          "2024-02-29T08:27:36.884000000",
          "2024-03-10T08:27:34.460000000",
          "2024-03-25T08:27:39.815000000",
          "2024-04-06T08:00:56.874000000",
          "2024-04-06T08:17:40.008000000",
          "2024-04-09T08:27:38.367000000",
          "2024-04-22T08:00:48.284000000",
          "2024-05-06T08:17:42.306000000",
          "2024-05-08T08:00:37.649000000",
          "2024-05-19T08:27:37.606000000",
          "2024-05-21T08:17:41.802000000",
          "2024-05-23T08:06:57.736000000",
          "2024-05-24T08:00:23.936000000",
          "2024-05-24T08:27:37.979000000",
          "2024-06-03T08:27:43.038000000",
          "2024-06-05T08:17:43.909000000",
          "2024-06-08T08:06:51.647000000",
          "2024-06-08T08:27:41.807000000",
          "2024-06-23T08:27:43.113000000",
          "2024-06-24T08:06:33.577000000",
          "2024-06-30T08:17:44.771000000",
          "2024-07-03T08:27:42.339000000",
          "2024-07-05T08:17:45.029000000",
          "2024-07-13T08:27:41.227000000",
          "2024-07-15T08:17:44.438000000",
          "2024-07-18T08:07:03.834000000",
          "2024-07-18T08:27:42.204000000",
          "2024-08-03T08:07:06.734000000",
          "2024-08-04T08:17:43.401000000",
          "2024-08-09T08:17:42.455000000",
          "2024-08-11T08:07:05.480000000",
          "2024-08-17T08:27:41.561000000",
          "2024-08-19T08:07:15.442000000",
          "2024-08-19T08:17:40.964000000",
          "2024-08-20T08:01:02.572000000",
          "2024-08-27T08:07:17.878000000",
          "2024-08-27T08:27:40.361000000",
          "2024-08-28T08:01:04.615000000",
          "2024-08-29T08:17:39.838000000",
          "2024-09-08T08:17:41.187000000",
          "2024-09-11T08:27:37.148000000",
          "2024-09-26T08:27:38.226000000",
          "2024-09-28T08:07:23.785000000",
          "2024-09-28T08:17:43.670000000",
          "2024-09-29T08:01:08.086000000",
          "2024-10-06T08:07:23.642000000",
          "2024-10-06T08:27:39.206000000",
          "2024-10-07T08:01:14.721000000",
          "2024-11-20T08:27:38.217000000",
          "2024-12-07T08:17:42.706000000",
          "2024-12-09T08:07:33.421000000",
          "2024-12-18T08:01:21.516000000",
          "2024-12-20T08:27:38.277000000",
          "2025-01-02T08:07:35.882000000",
          "2025-01-03T08:01:23.731000000",
          "2025-01-09T08:27:34.566000000",
          "2025-01-10T08:07:36.775000000",
          "2025-01-29T08:28:06.225000000",
          "2025-01-31T08:17:44.187000000",
          "2025-02-10T08:17:44.543000000",
          "2025-02-11T08:07:32.004000000",
          "2025-02-12T08:01:30.862000000",
          "2025-02-13T08:27:37.896000000",
          "2025-02-15T08:18:05.510000000",
          "2025-02-23T08:27:43.076000000",
          "2025-02-27T08:07:20.983000000",
          "2025-02-28T08:01:23.269000000",
          "2025-02-28T08:28:03.151000000",
          "2025-03-02T08:17:44.673000000",
          "2025-03-05T08:27:41.957000000",
          "2025-03-07T08:18:05.617000000",
          "2025-03-24T08:01:01.388000000",
          "2020-05-08T18:42:28.151000000",
          "2020-05-09T18:19:09.457000000",
          "2020-05-10T18:32:26.246000000",
          "2020-05-25T18:19:13.022000000",
          "2020-05-28T18:42:29.993000000",
          "2020-06-02T18:42:25.659000000",
          "2020-06-04T18:32:34.139000000",
          "2020-06-10T18:19:22.062000000",
          "2020-06-19T18:13:16.352000000",
          "2020-06-19T18:32:30.341000000",
          "2020-06-22T18:42:26.458000000",
          "2020-06-26T18:19:30.714000000",
          "2020-07-04T18:32:32.467000000",
          "2020-07-05T18:13:23.891000000",
          "2020-07-07T18:42:28.168000000",
          "2020-07-09T18:32:29.669000000",
          "2020-07-12T18:19:37.359000000",
          "2020-07-14T18:32:32.413000000",
          "2020-07-19T18:32:29.441000000",
          "2020-07-21T18:13:29.438000000",
          "2020-07-24T18:32:33.301000000",
          "2020-07-29T18:32:30.493000000",
          "2020-08-03T18:32:33.764000000",
          "2020-08-08T18:32:27.844000000",
          "2020-08-11T18:42:27.330000000",
          "2020-08-13T18:19:45.657000000",
          "2020-08-13T18:32:33.750000000",
          "2020-08-16T18:42:29.732000000",
          "2020-08-21T18:42:27.428000000",
          "2020-08-23T18:32:33.352000000",
          "2020-08-26T18:42:29.181000000",
          "2020-08-28T18:32:31.133000000",
          "2020-08-29T18:19:54.122000000",
          "2020-09-02T18:32:32.514000000",
          "2020-09-05T18:42:28.226000000",
          "2020-09-07T18:13:47.144000000",
          "2020-09-07T18:32:30.491000000",
          "2020-09-10T18:42:26.266000000",
          "2020-09-14T18:20:00.460000000",
          "2020-09-15T18:42:28.260000000",
          "2020-09-20T18:42:25.960000000",
          "2020-09-27T18:32:30.707000000",
          "2020-09-30T18:20:04.620000000",
          "2020-09-30T18:42:27.074000000",
          "2020-10-07T18:32:31.458000000",
          "2020-10-09T18:13:54.966000000",
          "2020-10-16T18:20:06.143000000",
          "2020-10-17T18:32:31.559000000",
          "2020-10-30T18:42:26.813000000",
          "2020-11-01T18:32:32.841000000",
          "2020-11-04T18:42:28.644000000",
          "2020-11-14T18:42:27.364000000",
          "2020-11-21T18:32:29.954000000",
          "2020-11-29T18:42:23.477000000",
          "2020-12-03T18:20:07.093000000",
          "2020-12-04T18:42:22.413000000",
          "2020-12-09T18:42:21.449000000",
          "2020-12-12T18:13:56.127000000",
          "2020-12-24T18:42:23.125000000",
          "2021-01-05T18:32:26.713000000",
          "2021-02-07T18:42:22.956000000",
          "2021-02-22T18:42:23.510000000",
          "2021-03-01T18:32:27.713000000",
          "2021-03-02T18:13:33.502000000",
          "2021-03-04T18:42:23.753000000",
          "2021-03-14T18:42:23.359000000",
          "2021-03-16T18:32:27.154000000",
          "2021-03-29T18:42:22.389000000",
          "2021-03-31T18:32:25.075000000",
          "2021-04-08T18:42:20.983000000",
          "2021-04-10T18:19:29.235000000",
          "2021-04-10T18:32:22.887000000",
          "2021-04-18T18:42:18.996000000",
          "2021-04-20T18:32:23.080000000",
          "2021-04-28T18:42:19.372000000",
          "2021-05-05T18:13:04.561000000",
          "2021-05-05T18:32:25.060000000",
          "2021-05-08T18:42:21.773000000",
          "2021-05-12T18:19:19.286000000",
          "2021-05-13T18:42:23.615000000",
          "2021-05-18T18:42:23.480000000",
          "2021-05-30T18:32:28.665000000",
          "2021-06-02T18:42:24.733000000",
          "2021-06-04T18:32:28.814000000",
          "2021-06-06T18:13:22.203000000",
          "2021-06-07T18:42:24.953000000",
          "2021-06-09T18:32:28.510000000",
          "2021-06-12T18:42:24.434000000",
          "2021-06-13T18:19:35.624000000",
          "2021-06-14T18:32:28.856000000",
          "2021-06-17T18:42:24.797000000",
          "2021-06-19T18:32:28.332000000",
          "2021-06-22T18:13:27.292000000",
          "2021-06-22T18:42:24.891000000",
          "2021-06-27T18:42:24.740000000",
          "2021-06-29T18:19:39.452000000",
          "2021-06-29T18:32:29.674000000",
          "2021-07-02T18:42:26.101000000",
          "2021-07-08T18:13:29.524000000",
          "2021-07-09T18:32:30.706000000",
          "2021-07-12T18:42:26.978000000",
          "2021-07-14T18:32:29.867000000",
          "2021-07-15T18:19:40.443000000",
          "2021-07-22T18:42:27.306000000",
          "2021-07-24T18:13:34.878000000",
          "2021-07-24T18:32:29.850000000",
          "2021-08-03T18:32:29.224000000",
          "2021-08-08T18:32:30.520000000",
          "2021-08-09T18:13:42.004000000",
          "2021-08-11T18:42:26.486000000",
          "2021-08-13T18:32:28.112000000",
          "2021-08-23T18:32:26.483000000",
          "2021-08-25T18:13:46.547000000",
          "2021-08-28T18:32:29.477000000",
          "2021-08-31T18:42:25.190000000",
          "2021-09-01T18:19:59.733000000",
          "2021-09-02T18:32:24.258000000",
          "2021-09-05T18:42:20.362000000",
          "2021-09-12T18:32:24.063000000",
          "2021-09-15T18:42:19.940000000",
          "2021-09-17T18:20:03.320000000",
          "2021-09-17T18:32:29.840000000",
          "2021-09-22T18:32:25.493000000",
          "2021-09-25T18:42:22.289000000",
          "2021-09-26T18:13:54.738000000",
          "2021-09-27T18:32:31.781000000",
          "2021-09-30T18:42:28.266000000",
          "2021-10-02T18:32:27.632000000",
          "2021-10-03T18:20:08.394000000",
          "2021-10-15T18:42:25.233000000",
          "2021-10-28T18:14:01.055000000",
          "2021-11-03T18:12:22.425000000",
          "2021-11-16T18:32:28.482000000",
          "2021-11-21T18:32:24.724000000",
          "2021-11-29T18:13:56.761000000",
          "2021-11-29T18:42:23.670000000",
          "2021-12-21T18:32:22.559000000",
          "2022-01-08T18:13:50.513000000",
          "2022-01-10T18:32:23.784000000",
          "2022-01-30T18:32:21.909000000",
          "2022-01-31T18:20:02.321000000",
          "2022-02-19T18:32:21.975000000",
          "2022-03-11T18:32:25.859000000",
          "2022-03-12T18:19:43.437000000",
          "2022-03-24T18:42:21.471000000",
          "2022-03-31T18:32:24.244000000",
          "2022-04-03T18:42:20.643000000",
          "2022-04-06T18:13:21.987000000",
          "2022-04-18T18:42:27.933000000",
          "2022-05-15T18:19:41.822000000",
          "2022-05-15T18:32:32.477000000",
          "2022-05-16T18:13:09.135000000",
          "2022-05-25T18:32:35.126000000",
          "2022-06-02T18:42:23.469000000",
          "2022-06-07T18:42:32.240000000",
          "2022-06-16T18:19:57.071000000",
          "2022-06-17T18:13:14.147000000",
          "2022-06-17T18:42:35.227000000",
          "2022-06-22T18:42:28.635000000",
          "2022-06-24T18:19:39.025000000",
          "2022-06-24T18:32:40.308000000",
          "2022-06-25T18:13:49.160000000",
          "2022-06-27T18:42:36.659000000",
          "2022-07-02T18:20:00.644000000",
          "2022-07-02T18:42:29.051000000",
          "2022-07-03T18:13:26.993000000",
          "2022-07-04T18:32:40.923000000",
          "2022-07-07T18:42:36.930000000",
          "2022-07-10T18:19:35.419000000",
          "2022-07-11T18:13:48.950000000",
          "2022-07-12T18:42:28.319000000",
          "2022-07-14T18:32:40.377000000",
          "2022-07-18T18:20:01.710000000",
          "2022-07-22T18:42:28.935000000",
          "2022-07-24T18:32:38.289000000",
          "2022-07-26T18:19:45.689000000",
          "2022-07-29T18:32:32.775000000",
          "2022-08-01T18:42:28.658000000",
          "2022-08-03T18:20:12.827000000",
          "2022-08-03T18:32:38.581000000",
          "2022-08-08T18:32:31.840000000",
          "2022-08-11T18:19:56.337000000",
          "2022-08-11T18:42:27.447000000",
          "2022-08-12T18:14:05.823000000",
          "2022-08-16T18:42:36.430000000",
          "2022-08-21T18:42:25.029000000",
          "2022-08-23T18:32:40.493000000",
          "2022-08-26T18:42:36.471000000",
          "2022-08-28T18:14:07.202000000",
          "2022-08-28T18:32:28.308000000",
          "2022-08-31T18:42:24.922000000",
          "2022-09-02T18:32:39.894000000",
          "2022-09-04T18:20:18.678000000",
          "2022-09-05T18:13:48.675000000",
          "2022-09-05T18:42:35.539000000",
          "2022-09-10T18:42:25.889000000",
          "2022-09-20T18:42:25.284000000",
          "2022-09-21T18:13:55.302000000",
          "2022-09-25T18:42:31.069000000",
          "2022-09-27T18:32:27.968000000",
          "2022-10-02T18:32:35.010000000",
          "2022-10-05T18:42:30.749000000",
          "2022-10-06T18:20:21.432000000",
          "2022-10-07T18:13:56.558000000",
          "2022-10-07T18:32:25.331000000",
          "2022-10-10T18:42:22.280000000",
          "2022-10-12T18:32:32.926000000",
          "2022-10-14T18:20:11.917000000",
          "2022-10-15T18:14:06.181000000",
          "2022-10-15T18:42:27.790000000",
          "2022-10-17T18:32:27.187000000",
          "2022-10-20T18:42:23.347000000",
          "2022-10-30T18:20:11.889000000",
          "2022-10-30T18:42:22.442000000",
          "2022-11-06T18:32:26.290000000",
          "2022-11-15T18:20:14.368000000",
          "2022-11-19T18:42:23.634000000",
          "2022-11-24T18:14:02.331000000",
          "2022-11-24T18:42:23.001000000",
          "2022-12-02T18:14:08.918000000",
          "2022-12-18T18:14:01.343000000",
          "2022-12-21T18:32:25.769000000",
          "2023-01-11T18:14:00.569000000",
          "2023-01-30T18:32:26.083000000",
          "2023-02-02T18:42:22.596000000",
          "2023-02-04T18:32:25.181000000",
          "2023-02-09T18:32:26.560000000",
          "2023-02-12T18:14:04.636000000",
          "2023-02-17T18:42:22.235000000",
          "2023-02-24T18:32:28.241000000",
          "2023-03-11T18:32:23.552000000",
          "2023-03-16T18:13:43.947000000",
          "2023-03-16T18:32:31.870000000",
          "2023-04-08T18:19:41.434000000",
          "2023-04-08T18:42:26.181000000",
          "2023-04-09T18:13:10.490000000",
          "2023-04-10T18:32:27.995000000",
          "2023-04-15T18:32:28.930000000",
          "2023-04-25T18:13:05.969000000",
          "2023-04-25T18:32:29.654000000",
          "2023-04-28T18:42:25.658000000",
          "2023-04-30T18:32:28.178000000",
          "2023-05-11T18:12:53.124000000",
          "2023-05-19T18:13:08.582000000",
          "2023-05-20T18:32:30.383000000",
          "2023-06-04T18:13:02.317000000",
          "2023-06-22T18:42:21.565000000",
          "2023-06-24T18:32:32.120000000",
          "2023-06-28T18:13:09.561000000",
          "2023-06-29T18:32:32.116000000",
          "2023-07-02T18:42:28.694000000",
          "2023-07-04T18:32:33.230000000",
          "2023-07-05T18:19:25.463000000",
          "2023-07-09T18:32:33.106000000",
          "2023-07-12T18:42:29.045000000",
          "2023-07-13T18:19:21.849000000",
          "2023-07-14T18:13:17.456000000",
          "2023-07-14T18:32:32.727000000",
          "2023-07-19T18:32:31.897000000",
          "2023-07-21T18:19:28.673000000",
          "2023-07-22T18:13:10.457000000",
          "2023-07-22T18:42:28.250000000",
          "2023-07-29T18:19:25.846000000",
          "2023-07-29T18:32:33.110000000",
          "2023-07-30T18:13:24.943000000",
          "2023-08-06T18:42:29.022000000",
          "2023-08-11T18:42:28.668000000",
          "2023-08-13T18:32:33.447000000",
          "2023-08-14T18:19:32.240000000",
          "2023-08-15T18:13:30.516000000",
          "2023-08-16T18:42:29.378000000",
          "2023-08-23T18:13:26.794000000",
          "2023-08-23T18:32:32.058000000",
          "2023-08-26T18:42:28.218000000",
          "2023-08-28T18:32:33.494000000",
          "2023-08-30T18:19:42.115000000",
          "2023-08-31T18:13:34.820000000",
          "2023-08-31T18:42:29.028000000",
          "2023-09-07T18:19:44.356000000",
          "2023-09-07T18:32:33.116000000",
          "2023-09-08T18:13:37.050000000",
          "2023-09-10T18:42:28.857000000",
          "2023-09-12T18:32:31.173000000",
          "2023-09-15T18:19:50.723000000",
          "2023-09-15T18:42:26.913000000",
          "2023-09-16T18:13:39.014000000",
          "2023-09-23T18:19:50.622000000",
          "2023-09-25T18:42:27.197000000",
          "2023-10-05T18:42:23.659000000",
          "2023-10-09T18:19:55.171000000",
          "2023-10-17T18:20:00.625000000",
          "2023-10-17T18:32:27.163000000",
          "2023-10-18T18:13:43.695000000",
          "2023-10-20T18:42:23.764000000",
          "2023-10-27T18:32:27.730000000",
          "2023-10-30T18:42:23.274000000",
          "2023-11-09T18:42:23.293000000",
          "2023-11-11T18:13:45.837000000",
          "2023-11-11T18:32:29.062000000",
          "2023-11-14T18:42:23.871000000",
          "2023-11-21T18:32:23.899000000",
          "2023-11-27T18:13:53.854000000",
          "2023-11-29T18:42:15.650000000",
          "2023-12-21T18:13:48.289000000",
          "2023-12-21T18:32:28.741000000",
          "2023-12-29T18:13:53.988000000",
          "2023-12-29T18:42:20.973000000",
          "2023-12-31T18:32:28.792000000",
          "2024-01-30T18:13:52.303000000",
          "2024-01-30T18:32:25.250000000",
          "2024-02-04T18:32:23.726000000",
          "2024-02-17T18:42:21.876000000",
          "2024-02-24T18:32:26.406000000",
          "2024-03-09T18:19:56.880000000",
          "2024-03-17T18:19:33.894000000",
          "2024-03-18T18:13:44.380000000",
          "2024-03-18T18:42:24.593000000",
          "2024-03-20T18:32:27.776000000",
          "2024-04-02T18:19:22.743000000",
          "2024-04-02T18:42:22.385000000",
          "2024-04-03T18:13:35.432000000",
          "2024-04-10T18:19:43.074000000",
          "2024-04-11T18:13:09.610000000",
          "2024-04-17T18:42:27.027000000",
          "2024-04-18T18:19:13.978000000",
          "2024-04-19T18:13:21.708000000",
          "2024-04-22T18:42:23.758000000",
          "2024-05-12T18:19:20.050000000",
          "2024-05-12T18:42:23.825000000",
          "2024-05-17T18:42:25.986000000",
          "2024-05-19T18:32:26.764000000",
          "2024-05-21T18:13:02.581000000",
          "2024-05-24T18:32:27.286000000",
          "2024-05-27T18:42:25.207000000",
          "2024-05-28T18:19:07.293000000",
          "2024-05-29T18:32:27.592000000",
          "2024-06-06T18:12:56.416000000",
          "2024-06-06T18:42:29.377000000",
          "2024-06-08T18:32:23.378000000",
          "2024-06-11T18:42:27.111000000",
          "2024-06-13T18:19:01.352000000",
          "2024-06-13T18:32:33.910000000",
          "2024-06-14T18:12:41.815000000",
          "2024-06-16T18:42:29.677000000",
          "2024-06-18T18:32:30.263000000",
          "2024-06-21T18:18:59.677000000",
          "2024-06-21T18:42:26.257000000",
          "2024-06-22T18:12:36.885000000",
          "2024-06-23T18:32:31.999000000",
          "2024-06-29T18:18:53.644000000",
          "2024-06-30T18:12:52.474000000",
          "2024-07-01T18:42:27.746000000",
          "2024-07-03T18:32:31.382000000",
          "2024-07-07T18:19:07.734000000",
          "2024-07-08T18:12:56.114000000",
          "2024-07-11T18:42:25.688000000",
          "2024-07-15T18:19:12.436000000",
          "2024-07-16T18:13:05.936000000",
          "2024-07-16T18:42:25.146000000",
          "2024-07-18T18:32:31.259000000",
          "2024-07-21T18:42:27.335000000",
          "2024-07-23T18:19:22.460000000",
          "2024-07-23T18:32:29.905000000",
          "2024-07-28T18:32:29.683000000",
          "2024-07-31T18:19:15.268000000",
          "2024-07-31T18:42:24.574000000",
          "2024-08-01T18:13:11.488000000",
          "2024-08-02T18:32:30.458000000",
          "2024-08-16T18:19:22.870000000",
          "2024-08-17T18:13:18.134000000",
          "2024-08-17T18:32:30.366000000",
          "2024-08-22T18:32:24.970000000",
          "2024-08-25T18:13:21.351000000",
          "2024-08-25T18:42:21.836000000",
          "2024-08-27T18:32:29.549000000",
          "2024-08-30T18:42:26.506000000",
          "2024-09-01T18:19:31.070000000",
          "2024-09-01T18:32:27.431000000",
          "2024-09-04T18:42:23.977000000",
          "2024-09-06T18:32:30.334000000",
          "2024-09-09T18:19:39.487000000",
          "2024-09-09T18:42:25.910000000",
          "2024-09-10T18:13:23.175000000",
          "2024-09-14T18:42:22.732000000",
          "2024-09-19T18:42:18.881000000",
          "2024-09-24T18:42:25.623000000",
          "2024-09-25T18:19:38.128000000",
          "2024-09-26T18:13:25.521000000",
          "2024-09-29T18:42:24.642000000",
          "2024-10-09T18:42:22.070000000",
          "2024-10-11T18:19:45.392000000",
          "2024-10-11T18:32:25.851000000",
          "2024-10-12T18:13:33.598000000",
          "2024-10-14T18:42:23.040000000",
          "2024-10-16T18:32:28.013000000",
          "2024-10-19T18:19:53.094000000",
          "2024-10-19T18:42:24.695000000",
          "2024-10-20T18:13:39.882000000",
          "2024-10-21T18:32:27.713000000",
          "2024-11-08T18:42:17.444000000",
          "2024-11-12T18:19:45.301000000",
          "2024-11-29T18:13:50.990000000",
          "2024-12-03T18:42:24.472000000",
          "2024-12-06T18:19:54.780000000",
          "2024-12-15T18:13:43.946000000",
          "2024-12-15T18:32:29.010000000",
          "2024-12-20T18:32:27.472000000",
          "2024-12-30T18:19:48.880000000",
          "2024-12-30T18:32:28.565000000",
          "2024-12-31T18:13:42.095000000",
          "2025-01-07T18:19:52.552000000",
          "2025-01-07T18:42:24.115000000",
          "2025-01-15T18:19:51.062000000",
          "2025-01-16T18:13:47.119000000",
          "2025-01-19T18:32:26.628000000",
          "2025-01-22T18:42:52.462000000",
          "2025-01-27T18:42:26.437000000",
          "2025-02-09T18:13:37.190000000",
          "2025-02-26T18:42:27.091000000",
          "2025-02-28T18:32:52.223000000",
          "2025-03-08T18:42:26.702000000",
          "2025-03-10T18:32:51.137000000"
         ],
         "y": {
          "bdata": "y0l2xj7L6j+P2HsLX4LpP/zwjz7K5Og/Cko5AeTP6j+Cp1qCYybmP84/zhUq7uM/mfoGuOlF4j+ELZuxdHzjP3Q12J/62OE/dJyu5I4w4T++vHXKLM/YP/7unKvskNU/Z7P9rzvv0j8B7eWTySTZP/S1lzlkm8U/WkHSltCFzT9TjPYUshnUPwBnGdo+K9I/gBIhT+yAwj8i/PoRQArTP+ebahAizrY/+tEKqUy8zD/qQlfOemTQPysYQi13pMQ/K38CI0E/xD+NnJflvbnQP8p/oP7W58k/xNYV+z3O0z9wDokgZEPaP7Jub+mh4NU/gPlUatT72T9MgJPPVq3eP2mdEN7J0dg/3kFBid6E2z9NJOQUC4fkP+wqGY9lDeI/OL4f4Rx55T/EQ93+TMHgP84OuVYoWuc/8xjiSW8U5j8R0lwGHn7nP5ZGOlZOI+k/tbiEMhnz6T98jT+gf1vpP+ilsiDLo+g//hSiEhJI5z8ZVW9kSEfnPwqo5/2HxOY/ZzSiftAS4D8HFUWzqXniP7hbHuEQreM/OOBmusqX4z+UMwugCePiP53IEChUWeI/HQ0VaiME4T9bh0AmYfPdPyYKiPRBT9o/nwNITgWs1z8DwgParmvUP2oaOaLd4tI/qN5QewkM0D88TXDHe1vRP1ad59ba3Mo/GivIaRcSxz9rkasA60vRPw/Ar4LuFM0/+qMdXPnpwz9vSPoLsKrNP7J9ObaGVso/1F+QWzjGtj86BOIKbTXKP/RV3ZweU84/d9fh6hSKzT+IfQ4asw/RPyOvz2M80dA/bGlS/yH2yz+qSxcJmBvQP54NeecmBNQ/FEgB2ZzR2D9DATD0h+baP2daLHqkVtc/3ttv38uC2D/bqvnJGuDfP8mOMAtpw9k/NiQ/mDH33D8eZF0vnobbP+rwGKUQcuE/RFh9TCBN5j9Du4dmalPiP2PDEo1ut+Q/BS7k0pvL5z8GCoKJchPnPwnzcnAdUuY/vWGcCwxr6D/fjjJrraDnP3I3PrijROg/ck5eeayt6T/5xUxpSebmP71Hz/pUK+g/vyspR7Cm5z+8MqoIcpboPzb1q5NBveU//1fMR9w05j+V1ujKA5XlP1wL71VAg+Q/O2QHXTPj5D/QwJKsA9rgP7ozdk7pG9s/Mo4AOrWv1z+yotJLu6rcPzekNyI7N9k/8FP9Lbcu1j9CYiqy71PdP2oZiJUvodU/t2AxkqMx1T+lG6DLdEXWP6L79tolONE/suttVsR80T9OKzxwSL7IP6147XcH/9I/DEre4XJcxD8etndKOg/HP9vdkBNprsY/iNu3pH8owT/g01UaeS3QP9v4pMz2XsY/8P73PWI3zj/k0kilzSDIP1Fx7Ty5INA/lR8nVNU21D+cc5VX+ubcP9G1Vw9129o/n0E8RvRo2z9DWedUEgLjP5RsjYbFE+Q/StgPXLEd4T9WxbeUtxfjP4w/IqFsJeI/IEubwZjf5T+2mPv+ZAbnP/7/JsxD6uQ/21zBjvTj5z+5cx438/boP/Nmu/VGdeY/+jzRY0AE5D/KqVEyW9fjP5BCnjXcxdk//DpekUBa1z/93TlDoI/aPw5Jw+fVFtw/Tfo8O+Yu2T++zyTqm77UP0C3Fh1UhtY/uovBAsN90j8SjxAGwD3UP0tlu0Xhysg/iPNS/aWYxT9IcVAvkVvDP6wnmBPqI84/HB/GQ1g1yj+aBrbvhvDPP2wi8zogSMQ/1/BeJu+rzj8KlTY3AEHXP3I4QNGHHcs/uCAO05Hf0z/SLYK3SaLfP2V+l992xOA/o2hBV/HR5j93MR7WiC/oP3RKiq2M3Oc/eP7I1E7f5T8BI+9taGznP2A+grp5iuY/avQ8p+jh5j9rR0rrshvqP+ttIA7czeg/5HTDpLir6T8oAohfnuDmP0kvWIcQ0ek/5FMHNV0m4j/V2CbtrZ/nP3XigbHv+uU//keBSNF15z+xnFkvudjlP6w2zGYIl+U/4/FBBGIH4z9Zw9ecw93iP8xPeMye8uI/vIXWQbgT4T+AQyr9jXvkPyA3EKyOVOM/ODB7yd+L3D+IVWMRBEnaP7/nXZiRDNs/joSp0Ndy0T/tQ87THHfYP3FMo6ubGdw/FtTmjHTc0j+H5nPDgkTQP2G3GBRTrtE/WdVGiWH71z96UA6jV63PP3rp8912htE/f45UkocozT/ciqqE7jHSP9IUlEPIF8U/xi2RItDZwz+DmPqxYhewP9DDVNKUl80/dy4X7/A7yD9VKP7MO5nAP9vfxJuUQsQ/jRb0IKhs1T/pxfeXMzbHP/4rGeDR5tA/5Ev6LS932j8SjsqCgXncPwP+iO8juts/O7wHr3sK2j80pL0SzkrhP9Imxn/CJ9s/a7gU5cNm0D+H9lCUI5zPP3DxIvdEyMI/zAaG5H76yj9QhI5mp8rLP3k31kHH8sE/hhO1LcWdrT/dzgV2wAjIP8+nv4VJI8I/oeqsE50utj/QBR4K657PP1zACyNkfcI/SL8lFeXjyD9Gg+JS4UjSPxh+EEKPEMs/doBgHKljyz9eSXDtHjDTP3f9hcWXkNA/EW37mXmf1j/D5HCnb63SPzMzv/MgvNk/InOHLePu3T+ma/nVz/rbP/U02wyB4d0/6pALYZmk2j9rKPmy6ZPdP214DPPaR+A/ybOi79E94D/GEBpL/87fP/wOWMkr1uQ/V453s4Jt4j8vRItegvXlP5zwncVSduc/3s8jL1Ko6T9hiZhbTr7jPwJLIZCH9OU/MUPe1H186D9lzJTBmrXmP/xg3KWc0+Y/m0WP8zYJ6j++7ZUUmAjlP1lMktashOg/WjYqP+PD6D8GNkcyVHnoP787r7qxwOU/uWW5ew4k5z+fQZiViU3mP39xXcPQCek/cr/QwPen5j+oSF7AmXjlP6j/Fft/heM/oCRxQW9o6D/VXfhkp5znP5EcLv9QEuc/ypyC2kc45D8c86FtzFXnPyr9nzBR0uc/K5cqQSpK5D9RKGCqLPXiPzAUnimJKeU/D2slvHp/4j/KuhKcCbbgPwF93F/gZeI/OBRdAeHz3j8/NTlkIYjhPw7bUszNSt8/hzbV7X6U3j+H4HQmnx7hP/yLyerL3dw/1opbKMRY3z/d+R8DqpbZP8lS5+VvN9w/552BOBhb2z/CbnhWE23eP26GyM4iZd8/GTX5DNcq1j/7N/W7NIjVP4HIYbgWW9k/fk86BvRr0z/yaCM8FXLNP4kJlNwXtdE/sJXxXKkN1j/aqRd/3rfNPyvx6xjfvNI/OvM3Z+YOzT/tgC6cxpvKPzdL0F3DZ9A/ookuKkdLyT9FmQxUrAewP7ghEkC6CMg/EN1hOjZ5zT9n0kyHvjG5P2PnElvJH8Y/2KPm3A/Ewz+8QHHQ4nTJP5S1yQKa3Ms/npREcFvtwz8GsZB0RRbFP66XSM+xQtE/2+RN6e+byD/1y7eq5XTOPz4MQS4FENM/pLVLFNaJ1j+i6/+jT/XOP/FmI2qaxc8/QlkccOXG1D8EZ+I8Vy/ZP5vF2OHRztY/UWcGoT7M2T/CpFrndeTXP0B96OixN9A/H8qGhK5v2D8thb5nk6TZPyJhVWqGUNU/oI/IPW9V1z/+COVLUarQP9uPfnUyUs0/vzqfo6N4yD9tbenzzgXGPx2sxQh7KsQ/ipgHRLQg1D/cf/RcjU/KP/2H1rl4CdQ/XDIuN8oD0T+iC6XBebTOP1eCxtbtwdE/ctuW/Fa+1j/X5HGbw5rXPwRTGzuZ4N4/8mz8dP752z/gNaTO2DLhP7YCLXf/F+M/bvXwtbNQ4z/JIadELOflP+qk+BRQoec/0YlWrkSu4z+U5UVrYr3kPyEzr2m3Seg/b/3vz0Ny5j/G2GaYE7XnP1xxGXnmY+U/Hb/h8VeE5j9yrykb/XfoP/saYL5LMuc/qSMzxrT25T+3MD+/e4rmP0JIb4Fx6OY/+Nec3MUD5j8zd5Elj1noP8BjGAfUW+Y/u7uAMbwV6D/TOi2fSsrjP+6WLnKI2+U/07JuPN835j9w23MtXMDkPzn5DzlpwuQ/Pb8aoa6d4z9ZFd7OBMTkP8t79jBRueM/xfVdMGyh4T91Zycg+8HgP3eZj/6moOI/2xSl0DBO4z/PTYYawPzcP32/aDbtveA/ejUplAT33z809DqNQPnbP0B68KZNf9w/8j4uMp4X4D8QPt15CCLcP1A2Y/dMVtk/1slIKngz1T/ML4QljDnHPzINjtRHV7w/loXtpG4owD8D6fX6jxi4Pz6VWUFTmLY/73dQcypIyj+OGQdGOsayP1rN4jGEYcE/5+3YhXLZwD+WMbzV18PHP8Z6SOprzsc/F9QuujJ9yD/7XD4HK//KP29bLqfHi80/4xptXEFLzD/5/ZsrOHzGP5hJYWEnFsU/1xO7K2ok1T8HKEXYGSXOP3U99Tx1icw/7p5Af+uS1T8sJEEkwELSP+ZYNq4IGNM/4AZAAhoI3D/KxhvMJWPlP83yyRv+A+I//SfRB4X45D+DdXgMQwXoP1OvxyV2MOc/MixcUVkN5j/BvvSniIDmP09JD6/1vec/d+WQJU2l5j8U3robMmznP4Yic+lwyOg/ucvgSQOI5D8i/EyqnZvnP1qi+8uOKuY/3JqB55tr6T+uk8rQurrlP9J2sfHKRug/h9doiIcQ6T+SoPe/ThjlP7C5foGOFeY/ktxsz4PA5T+SkmEji3zpP1ufqSIaz+Y/Gv7+89oJ5D9wueqYE6XkP3WBx86vBuU/VB/HPAh35T96fkP6Or3lPyEjtpfHUeM/qK/7OLBN5j9eDWw65FDkP5aNmynqM+U/MDjWD5RY5T8UB/+yLSHiP2FSOSD+3eI/VFnSiG8k5D/2rJjvKvbfP0uNwc3NJuI/Ho0cR3z72j9N2sQisx/fP9rkH3LrkeE/C+ns+0ta2D8IuWSyph3bP9xxX4XMZ9s/RADp6/D52D+Qq5SYCx3QP06oWfOJYdQ/oLMSs4l81D86M6KLwpDVP7sGC/71xsw/0vSSnYk20T8D4lDZenzJPx/slTXSU9M/0uPBJ0G3wT9LI7zswW/JPyO5jd4bYcc/w1yyC5e2wT/aScOfPSHHP9HO+ayYbL4/gNM3nZoJwD8sPGf0Mx7SPwgdgk9m7cw/rgnV4OOh0D/PtjZ0fx3XPz6Golj4gso/5niM3IzK2D/ryzMZFj/bPzUP+1NN6eA/neFyCDJO3T83LJgxegvgP6XvafC6gNw/eW/ThEm03T9HdwTn56HgP/B+E3Cqu98/0QSrAtSX4T8sHTMZBu/lP8v5ih7etuM/kt7sgYCv4T9Cflm0uK7iP2siduZx/eU/pWMMKxnD5D/0eI695JPkP3CKz4Gsluc/Er9vzccf5z8cYYdbhkDlP33Iom/h9eU/3Du66cPd5j+Gqyuco+7mP5LKXPTE8+Q/Zz0pO/295j/lVS6BOoDrP9f0Qy0kqeo/v9RhkTBz5j9Ldl5MCVDnP7TCa/Q6F+c/DvmLMD145j+XZQrlUsPnP3gUzgIixuY/jBoK8JJd6T9YJYNh3oznPyUM677p+uc/yFWAqP1T5j/bclX4SSXoP04HsgXWiOY/JMDufxm75z9KaJUFvdbkP2GhyrFMV+U/bMaEkcpv5j+NFvdz1uvlP9pk78p7bOc/GhuYhKJj5T9gWqyjTNLiP1scFl/FoeI/G4uDCd4y5j9qQF5Mq13hP2JVEbmfLuE/LLguzJtr4D866jJTzAjfPxs0mgi+4uQ/pCCBedpX3D8vh/SIU4jdPwSDHNF43uE/T46e7l4H4D+nqZBSmaTbP/Kvs6qXftw/Z+mEL/kW3T+5Ro4j4PPbP98iF2YmKNw/wlPskJRV2z+Utpj2PoPZPya86rGDitE/g9Zn+E4/1j+n1o/aGoHOP9oCbzwXMtA/RoTCpUV+yD9kUUlAckXJP88EVxRqfr4/Qoc9zr8Cuz+8nmqy1I7JPzx5OMVgJcg/aKkH/KFxzD8We9Oqq6vHPw+bFLArD9Q/JM1n4FH40T9e3igMoJfbP1FFSx/liNY/+O1po5aV3D8IeCn2mlXfPzBiSE0k+ds/TS7Xfffz4z8QVuLDlYDkPxVmDBZtHOI/3lBnUudJ5z9wtVQuBwnnPx1/W4teReY/vflPHLH16D/P2ZUn883nP5x1BzlmgOU/UgNSnlNc5z9fTVUNsovmP4kdAxz4sOc/D+B87oc56D+OEsJooeroP0YeSeRQluY/uJJ1D3W46T8T7nUvvFjnP8z/CWJGwOc/FvQCu7lY6D9mOEDUjarkP84PQLoTbuc/foJP49Za6T8ywyXxHN3mP2D/Ic0EPeU/yRsW6g2B5j/9V2j7cYzoPxkQVYMZOuY/1o/Ibquq5j+m8166v/PkP7mB0XFWNeY/M5UZXoiO5D87FmqtBaHmP9DxLAK0K+Q/fxWCkUyM5D/gsESo8hnhP7pUpMWOrOM/dIv+yEKQ5T83kPFGLljjPyiMtEPcCuE/oxs5ADd74j8NWzJvr0jjP2LerU5sseM/19CMkSrP4T/U80LUszHiP1f14MPEKeE/B+BAFSh14j/eD09t83ngPy6NAEj/4t4/+/gwN0Q74T9CTwptoKPcPyMigNrzMtk/0eJQnQVy3z9eltk+LuzWP/Kbbct44dk/CQT9tgoo2T8PmVo+qSfXP2oaoH2/Dtc/+rtn6Qzx1j95vc29CHbXP2L8ZcpIyNQ/73gthmd72z/c8dFsDIvWP+nJulMpctM/BTDa+7L/zD9VjGBvyH3VP+DnfsWNzdc/LonBlNmQzj9oUqJ5V+vBP+8iTYzjHbs/hb2jQHzexj+BuBdAIubHP+aEr0JEGso/jucq0Tz9yz/U29iVoriwPyiBmWZPCNE/BB3ltAdW0D/DUZ6wCI/DP6uoLCCWO80/yAKGU2bryj8i10EANErXP6opyeWkN84/VazJfWvqzT+vFVRFlXTWP9UnpquGC9c/PKnqYutC3T8TFVtr/+naP3i0caVhAts/AygOf62b4T9SeaKEmm/fP2cbWR/t6OI/+lTm8Jqi4z+Pj9dLRYvlP+TttcWhxeU/mEbIC4Jd4j+fR82PW5DkP4k0bS41KOQ/JmEp2A7c4z/XbAoSzKzkP1+6TIVgpOg/FMmpzkK/5T9+/PFxHRfoPziIC/TnOuY//Apmx7cu5j/17lw9MzzmP9VmCWxwoOY/6Bcacl5j6D+BdY5xvF7lP+ajhc0Hauc/hx/reM8T5j9Ts5RHIYjmP7KEqOHoyOY//QnGXYX65T9r7D767TrmP6ono3xg1eM/O3SP1t8Z6j+3iepz8ATnPwrVbmMrmuU/FVOBCRc06T8KNa68Jt3mP5wccucJeeM/2GvDdSI45T/ubShij2PmP+b6JwNByuE/G0z7WiJr4z84SLiEPCrjP+4SGCZL8uM/30csNd0D4z+pfukRwCnhP8kbW4cxoOI/S7kcb69l4j++PGbfJc/YP9DkQyfmZeE/xZ01lSWY3j9wZLzQPJneP6q2YStOrd8/40KIiYwh3D/odAbQjDzcP0o2Bfq50tk/DFnF03tA3j8PSI4Gc1jYP675I09JtNI/o2/hBN+21D9DzVgMslDUPxVLlzGL0tQ/e7JJoF2G3T/LFXfu/xzVP674LQ20vcQ/boez2VOTzD82L1JaJILBP4XNaJ0OGNA/3PbZ5QBHyT/Nq2JfUEPIP2xFHH+VZ8E/QSkBtJqiuT/ESdZJ73y+PygAie4rb8I/823EKDKPxz/eMVlfbei9Pz/lU6GgF8U/IZxiO92gyj94jzp2cIy1P2JRwvmmSss/fYpzcY9K0T9JuwboJovTP+6ydMteQtM/xbGq//RY1D+8eJBqmdDZP2ASSl1rON4/2KNLqJc11z82Q41bXmzbPyVP79vnkdg/8yDW3YUq3z9eAo9oxCzdP14KHZvG3t4//ZMPEFax4z+1WN6JdWLgPydMQi6KoeA/4Z8XP8i84D86VJwBUlXkP9DX4IxWZeQ/97bJGq5M5T+Oo95cH/jkPzvyIOE4tuM/fkdeBK/K5T/Xw7rEPQfpP8BgJSVvweg/G/R6p5ZV5T/Tjx+TlunmP7s2K7Xx9ec/0FiH5xbU5j8qZiX8zqbmP8CbaOcBaOk/0dhnaDfD5z9uiauORT/mP9rVQuxvr+M/QmMnkhVT5z8HYthoZwjpP7q+UJC1oeY/CrUxhUV95j/vRA3fWkjoPxq/9x8Rx+Y/b1UIEKlE6D+K4b4HaurlPzqI+YEDmuc/6AYY5sz85D/hDRLKHabpP5LrjLd7g+c/IHAtwpPy5T8NHRrX5X/nP7DL9Z/u0+Q/ZJBAmKkh5T8zIEKxfrnkP77uX8lnsuU/kGV5FywC5z8O2csjPiPlP9BbIZPaDeY/wGoNmvhx6D9gjFN0KGrnP3H+m7sX3OU/UktC6fdI4j9q/R6bi43iP/wbjF8tbuE/0yBGJrb74T8K5XVTZiPjP7fJ2xdBKuU/wUVLk9GB4z/ynomp87riP+GmYQeNfN8/ZN5OSwL/4j8tVumA6n7gP9kqyZtba+A/b3ybkTKm4D+1Dg1lB4fhP6+DLsXm2uA/EmRyN/CU3D+9tFb804DbPyiqWfpIx9w/IzA8CQk04D9fEuh/jNPcP9LRfCZ1mNc/MoZ3H36j2j8IAv7lyHvXPwGQdNo6yto/VKpBHrEQ0j8NGvc4/4jYP2ULOlAzcNo/0Zh8fEn40z/EN+St9kXSP8gFAuAwT8c/BDriApZu0z/upVLpIMrDP67s7y+aKtE/qN7lKBXQzT9U0HslLNzEPxrB2URS47w/BmSnAdUUwz/9M5SkLznJP6op+xYEELU/luBbehLCwz8kj0Zsr9XDP7ZVF8GAWcE/8y2AyUpisj+dAVBd9wfJP8wSS5mkc8E/1FUeWRyQyT+TYO3BpEzHPxQViAgmncg/KLltXFa7vz/r/7JpxAnOPwbRb1Brfto/bNQozJ5K1j+gIz82ZFHZP8YvXpeamdQ/",
          "dtype": "f8"
         }
        },
        {
         "hovertemplate": "Date: %{x}<br>Predicted: %{y:.3f}<extra></extra>",
         "line": {
          "color": "lightblue",
          "width": 2
         },
         "mode": "lines",
         "name": "Historical Fit",
         "type": "scatter",
         "x": [
          "2020-05-08T18:42:28.151000000",
          "2020-05-09T18:19:09.457000000",
          "2020-05-10T18:32:26.246000000",
          "2020-05-25T18:19:13.022000000",
          "2020-05-28T18:42:29.993000000",
          "2020-06-02T18:42:25.659000000",
          "2020-06-04T18:32:34.139000000",
          "2020-06-10T18:19:22.062000000",
          "2020-06-19T18:13:16.352000000",
          "2020-06-19T18:32:30.341000000",
          "2020-06-22T18:42:26.458000000",
          "2020-06-24T16:02:26.381000000",
          "2020-06-26T18:19:30.714000000",
          "2020-06-29T16:02:29.019000000",
          "2020-07-04T18:32:32.467000000",
          "2020-07-05T18:13:23.891000000",
          "2020-07-07T18:42:28.168000000",
          "2020-07-09T18:32:29.669000000",
          "2020-07-12T18:19:37.359000000",
          "2020-07-14T16:02:25.234000000",
          "2020-07-14T18:32:32.413000000",
          "2020-07-19T18:32:29.441000000",
          "2020-07-21T18:13:29.438000000",
          "2020-07-24T18:32:33.301000000",
          "2020-07-29T15:45:59.461000000",
          "2020-07-29T16:02:29.575000000",
          "2020-07-29T18:32:30.493000000",
          "2020-08-03T18:32:33.764000000",
          "2020-08-08T18:32:27.844000000",
          "2020-08-11T18:42:27.330000000",
          "2020-08-13T18:19:45.657000000",
          "2020-08-13T18:32:33.750000000",
          "2020-08-16T18:42:29.732000000",
          "2020-08-21T18:42:27.428000000",
          "2020-08-23T18:32:33.352000000",
          "2020-08-26T16:12:23.191000000",
          "2020-08-26T18:42:29.181000000",
          "2020-08-28T18:32:31.133000000",
          "2020-08-29T18:19:54.122000000",
          "2020-09-02T18:32:32.514000000",
          "2020-09-05T16:12:22.661000000",
          "2020-09-05T18:42:28.226000000",
          "2020-09-07T18:13:47.144000000",
          "2020-09-07T18:32:30.491000000",
          "2020-09-10T18:42:26.266000000",
          "2020-09-14T18:20:00.460000000",
          "2020-09-15T16:12:21.628000000",
          "2020-09-15T18:42:28.260000000",
          "2020-09-20T16:12:24.709000000",
          "2020-09-20T18:42:25.960000000",
          "2020-09-22T16:02:26.146000000",
          "2020-09-27T18:32:30.707000000",
          "2020-09-30T18:20:04.620000000",
          "2020-09-30T18:42:27.074000000",
          "2020-10-07T16:02:29.694000000",
          "2020-10-07T18:32:31.458000000",
          "2020-10-09T18:13:54.966000000",
          "2020-10-15T16:12:23.556000000",
          "2020-10-16T18:20:06.143000000",
          "2020-10-17T15:46:23.371000000",
          "2020-10-17T16:02:29.491000000",
          "2020-10-17T18:32:31.559000000",
          "2020-10-30T18:42:26.813000000",
          "2020-11-01T18:32:32.841000000",
          "2020-11-04T16:12:22.103000000",
          "2020-11-04T18:42:28.644000000",
          "2020-11-06T16:02:28.422000000",
          "2020-11-14T16:12:20.678000000",
          "2020-11-14T18:42:27.364000000",
          "2020-11-16T16:02:27.012000000",
          "2020-11-21T18:32:29.954000000",
          "2020-11-24T16:12:20.010000000",
          "2020-11-29T16:12:19.929000000",
          "2020-11-29T18:42:23.477000000",
          "2020-12-03T18:20:07.093000000",
          "2020-12-04T18:42:22.413000000",
          "2020-12-06T16:02:21.700000000",
          "2020-12-09T18:42:21.449000000",
          "2020-12-11T16:02:20.926000000",
          "2020-12-12T18:13:56.127000000",
          "2020-12-24T18:42:23.125000000",
          "2020-12-29T16:12:19.702000000",
          "2021-01-05T18:32:26.713000000",
          "2021-01-10T16:02:23.216000000",
          "2021-01-13T16:12:19.393000000",
          "2021-01-30T16:02:23.569000000",
          "2021-02-04T16:02:23.434000000",
          "2021-02-07T18:42:22.956000000",
          "2021-02-22T18:42:23.510000000",
          "2021-02-24T16:02:23.577000000",
          "2021-03-01T18:32:27.713000000",
          "2021-03-02T18:13:33.502000000",
          "2021-03-04T18:42:23.753000000",
          "2021-03-10T15:45:57.104000000",
          "2021-03-11T16:02:23.187000000",
          "2021-03-14T16:12:19.161000000",
          "2021-03-14T18:42:23.359000000",
          "2021-03-16T18:32:27.154000000",
          "2021-03-21T16:02:22.980000000",
          "2021-03-29T16:12:17.433000000",
          "2021-03-29T18:42:22.389000000",
          "2021-03-31T18:32:25.075000000",
          "2021-04-03T16:12:17.663000000",
          "2021-04-05T16:02:20.081000000",
          "2021-04-08T16:12:15.373000000",
          "2021-04-08T18:42:20.983000000",
          "2021-04-10T18:19:29.235000000",
          "2021-04-10T18:32:22.887000000",
          "2021-04-18T18:42:18.996000000",
          "2021-04-20T18:32:23.080000000",
          "2021-04-23T16:12:14.144000000",
          "2021-04-27T15:45:38.023000000",
          "2021-04-28T18:42:19.372000000",
          "2021-05-05T18:13:04.561000000",
          "2021-05-05T18:32:25.060000000",
          "2021-05-08T18:42:21.773000000",
          "2021-05-12T18:19:19.286000000",
          "2021-05-13T15:45:37.141000000",
          "2021-05-13T18:42:23.615000000",
          "2021-05-18T18:42:23.480000000",
          "2021-05-20T16:02:23.683000000",
          "2021-05-30T18:32:28.665000000",
          "2021-06-02T18:42:24.733000000",
          "2021-06-04T18:32:28.814000000",
          "2021-06-06T18:13:22.203000000",
          "2021-06-07T18:42:24.953000000",
          "2021-06-09T18:32:28.510000000",
          "2021-06-12T18:42:24.434000000",
          "2021-06-13T18:19:35.624000000",
          "2021-06-14T18:32:28.856000000",
          "2021-06-17T16:12:19.965000000",
          "2021-06-17T18:42:24.797000000",
          "2021-06-19T18:32:28.332000000",
          "2021-06-22T18:13:27.292000000",
          "2021-06-22T18:42:24.891000000",
          "2021-06-27T18:42:24.740000000",
          "2021-06-29T16:02:24.897000000",
          "2021-06-29T18:19:39.452000000",
          "2021-06-29T18:32:29.674000000",
          "2021-06-30T15:45:56.799000000",
          "2021-07-02T18:42:26.101000000",
          "2021-07-08T18:13:29.524000000",
          "2021-07-09T18:32:30.706000000",
          "2021-07-12T18:42:26.978000000",
          "2021-07-14T18:32:29.867000000",
          "2021-07-15T18:19:40.443000000",
          "2021-07-16T15:45:58.188000000",
          "2021-07-17T16:12:23.088000000",
          "2021-07-22T18:42:27.306000000",
          "2021-07-24T18:13:34.878000000",
          "2021-07-24T18:32:29.850000000",
          "2021-07-27T16:12:23.174000000",
          "2021-08-03T18:32:29.224000000",
          "2021-08-08T16:02:24.780000000",
          "2021-08-08T18:32:30.520000000",
          "2021-08-09T18:13:42.004000000",
          "2021-08-11T16:12:20.373000000",
          "2021-08-11T18:42:26.486000000",
          "2021-08-13T18:32:28.112000000",
          "2021-08-23T18:32:26.483000000",
          "2021-08-25T18:13:46.547000000",
          "2021-08-26T16:12:21.651000000",
          "2021-08-28T18:32:29.477000000",
          "2021-08-31T18:42:25.190000000",
          "2021-09-01T18:19:59.733000000",
          "2021-09-02T15:46:17.241000000",
          "2021-09-02T16:02:24.903000000",
          "2021-09-02T18:32:24.258000000",
          "2021-09-05T18:42:20.362000000",
          "2021-09-07T16:02:20.283000000",
          "2021-09-10T16:12:16.162000000",
          "2021-09-12T16:02:24.639000000",
          "2021-09-12T18:32:24.063000000",
          "2021-09-15T18:42:19.940000000",
          "2021-09-17T18:20:03.320000000",
          "2021-09-17T18:32:29.840000000",
          "2021-09-22T18:32:25.493000000",
          "2021-09-25T18:42:22.289000000",
          "2021-09-26T18:13:54.738000000",
          "2021-09-27T16:02:22.657000000",
          "2021-09-27T18:32:31.781000000",
          "2021-09-30T18:42:28.266000000",
          "2021-10-02T16:02:24.382000000",
          "2021-10-02T18:32:27.632000000",
          "2021-10-03T18:20:08.394000000",
          "2021-10-15T18:42:25.233000000",
          "2021-10-20T15:46:29.102000000",
          "2021-10-22T16:02:29.144000000",
          "2021-10-27T16:02:25.334000000",
          "2021-10-28T18:14:01.055000000",
          "2021-11-01T16:02:28.152000000",
          "2021-11-03T18:12:22.425000000",
          "2021-11-05T15:46:27.757000000",
          "2021-11-06T16:02:24.330000000",
          "2021-11-16T16:02:22.161000000",
          "2021-11-16T18:32:28.482000000",
          "2021-11-19T15:43:12.618000000",
          "2021-11-19T16:12:17.301000000",
          "2021-11-21T18:32:24.724000000",
          "2021-11-24T15:45:39.806000000",
          "2021-11-24T16:12:19.836000000",
          "2021-11-29T18:13:56.761000000",
          "2021-11-29T18:42:23.670000000",
          "2021-12-04T16:12:19.100000000",
          "2021-12-14T16:12:19.538000000",
          "2021-12-21T18:32:22.559000000",
          "2021-12-23T15:46:21.424000000",
          "2021-12-24T16:12:21.150000000",
          "2021-12-26T16:02:19.289000000",
          "2022-01-08T16:12:15.820000000",
          "2022-01-08T18:13:50.513000000",
          "2022-01-10T18:32:23.784000000",
          "2022-01-24T15:46:12.924000000",
          "2022-01-30T18:32:21.909000000",
          "2022-01-31T18:20:02.321000000",
          "2022-02-01T15:46:19.467000000",
          "2022-02-09T15:46:09.914000000",
          "2022-02-09T16:02:22.910000000",
          "2022-02-19T18:32:21.975000000",
          "2022-02-27T16:12:16.040000000",
          "2022-03-04T16:12:23.557000000",
          "2022-03-11T16:02:27.937000000",
          "2022-03-11T18:32:25.859000000",
          "2022-03-12T18:19:43.437000000",
          "2022-03-16T16:02:21.984000000",
          "2022-03-21T15:46:02.368000000",
          "2022-03-21T16:02:27.117000000",
          "2022-03-24T18:42:21.471000000",
          "2022-03-29T15:45:47.410000000",
          "2022-03-29T16:12:16.647000000",
          "2022-03-31T18:32:24.244000000",
          "2022-04-03T18:42:20.643000000",
          "2022-04-06T18:13:21.987000000",
          "2022-04-08T16:12:16.627000000",
          "2022-04-15T16:02:20.013000000",
          "2022-04-18T18:42:27.933000000",
          "2022-04-20T16:02:28.245000000",
          "2022-04-28T16:12:12.425000000",
          "2022-04-30T16:02:28.992000000",
          "2022-05-10T16:02:27.624000000",
          "2022-05-15T18:19:41.822000000",
          "2022-05-15T18:32:32.477000000",
          "2022-05-16T18:13:09.135000000",
          "2022-05-25T18:32:35.126000000",
          "2022-05-30T16:02:31.629000000",
          "2022-06-02T18:42:23.469000000",
          "2022-06-07T18:42:32.240000000",
          "2022-06-16T18:19:57.071000000",
          "2022-06-17T18:13:14.147000000",
          "2022-06-17T18:42:35.227000000",
          "2022-06-19T16:02:35.577000000",
          "2022-06-22T18:42:28.635000000",
          "2022-06-24T18:19:39.025000000",
          "2022-06-24T18:32:40.308000000",
          "2022-06-25T15:45:56.222000000",
          "2022-06-25T18:13:49.160000000",
          "2022-06-27T18:42:36.659000000",
          "2022-06-29T16:02:36.771000000",
          "2022-07-02T18:20:00.644000000",
          "2022-07-02T18:42:29.051000000",
          "2022-07-03T18:13:26.993000000",
          "2022-07-04T16:02:28.963000000",
          "2022-07-04T18:32:40.923000000",
          "2022-07-07T18:42:36.930000000",
          "2022-07-10T18:19:35.419000000",
          "2022-07-11T15:45:52.230000000",
          "2022-07-11T18:13:48.950000000",
          "2022-07-12T18:42:28.319000000",
          "2022-07-14T16:02:28.213000000",
          "2022-07-14T18:32:40.377000000",
          "2022-07-18T18:20:01.710000000",
          "2022-07-22T16:12:30.806000000",
          "2022-07-22T18:42:28.935000000",
          "2022-07-24T16:02:28.910000000",
          "2022-07-24T18:32:38.289000000",
          "2022-07-26T18:19:45.689000000",
          "2022-07-29T18:32:32.775000000",
          "2022-08-01T18:42:28.658000000",
          "2022-08-03T16:02:28.444000000",
          "2022-08-03T18:20:12.827000000",
          "2022-08-03T18:32:38.581000000",
          "2022-08-04T15:46:30.514000000",
          "2022-08-08T18:32:31.840000000",
          "2022-08-11T18:19:56.337000000",
          "2022-08-11T18:42:27.447000000",
          "2022-08-12T15:46:13.949000000",
          "2022-08-12T18:14:05.823000000",
          "2022-08-13T16:02:27.035000000",
          "2022-08-16T18:42:36.430000000",
          "2022-08-18T16:02:36.483000000",
          "2022-08-20T15:46:35.304000000",
          "2022-08-21T18:42:25.029000000",
          "2022-08-23T18:32:40.493000000",
          "2022-08-26T18:42:36.471000000",
          "2022-08-28T18:14:07.202000000",
          "2022-08-28T18:32:28.308000000",
          "2022-08-31T18:42:24.922000000",
          "2022-09-02T18:32:39.894000000",
          "2022-09-04T18:20:18.678000000",
          "2022-09-05T18:13:48.675000000",
          "2022-09-05T18:42:35.539000000",
          "2022-09-10T18:42:25.889000000",
          "2022-09-17T16:02:32.618000000",
          "2022-09-20T18:42:25.284000000",
          "2022-09-21T15:46:42.134000000",
          "2022-09-21T18:13:55.302000000",
          "2022-09-25T18:42:31.069000000",
          "2022-09-27T18:32:27.968000000",
          "2022-10-02T18:32:35.010000000",
          "2022-10-05T18:42:30.749000000",
          "2022-10-06T18:20:21.432000000",
          "2022-10-07T15:46:38.039000000",
          "2022-10-07T16:02:30.392000000",
          "2022-10-07T18:13:56.558000000",
          "2022-10-07T18:32:25.331000000",
          "2022-10-10T16:12:25.582000000",
          "2022-10-10T18:42:22.280000000",
          "2022-10-12T18:32:32.926000000",
          "2022-10-14T18:20:11.917000000",
          "2022-10-15T15:46:29.466000000",
          "2022-10-15T16:12:19.004000000",
          "2022-10-15T18:14:06.181000000",
          "2022-10-15T18:42:27.790000000",
          "2022-10-17T18:32:27.187000000",
          "2022-10-20T16:12:21.299000000",
          "2022-10-20T18:42:23.347000000",
          "2022-10-22T16:02:23.279000000",
          "2022-10-27T16:02:27.173000000",
          "2022-10-30T18:20:11.889000000",
          "2022-10-30T18:42:22.442000000",
          "2022-11-06T18:32:26.290000000",
          "2022-11-15T18:20:14.368000000",
          "2022-11-19T16:12:20.886000000",
          "2022-11-19T18:42:23.634000000",
          "2022-11-21T16:02:23.518000000",
          "2022-11-24T18:14:02.331000000",
          "2022-11-24T18:42:23.001000000",
          "2022-11-26T16:02:23.348000000",
          "2022-12-01T16:02:22.068000000",
          "2022-12-02T18:14:08.918000000",
          "2022-12-09T16:12:20.262000000",
          "2022-12-18T18:14:01.343000000",
          "2022-12-21T16:02:22.962000000",
          "2022-12-21T18:32:25.769000000",
          "2022-12-26T15:46:27.177000000",
          "2022-12-26T16:02:22.249000000",
          "2022-12-29T16:12:18.585000000",
          "2023-01-11T18:14:00.569000000",
          "2023-01-15T16:02:20.479000000",
          "2023-01-30T18:32:26.083000000",
          "2023-02-02T18:42:22.596000000",
          "2023-02-04T15:46:33.027000000",
          "2023-02-04T16:02:22.726000000",
          "2023-02-04T18:32:25.181000000",
          "2023-02-09T18:32:26.560000000",
          "2023-02-12T18:14:04.636000000",
          "2023-02-17T18:42:22.235000000",
          "2023-02-24T16:02:21.439000000",
          "2023-02-24T18:32:28.241000000",
          "2023-03-08T15:46:12.279000000",
          "2023-03-09T16:12:14.455000000",
          "2023-03-11T18:32:23.552000000",
          "2023-03-16T16:02:21.435000000",
          "2023-03-16T18:13:43.947000000",
          "2023-03-16T18:32:31.870000000",
          "2023-03-26T16:02:22.141000000",
          "2023-04-08T18:19:41.434000000",
          "2023-04-08T18:42:26.181000000",
          "2023-04-09T15:45:58.093000000",
          "2023-04-09T18:13:10.490000000",
          "2023-04-10T16:02:25.541000000",
          "2023-04-10T18:32:27.995000000",
          "2023-04-13T16:12:20.295000000",
          "2023-04-15T18:32:28.930000000",
          "2023-04-17T15:45:35.049000000",
          "2023-04-20T16:02:25.829000000",
          "2023-04-25T18:13:05.969000000",
          "2023-04-25T18:32:29.654000000",
          "2023-04-28T18:42:25.658000000",
          "2023-04-30T18:32:28.178000000",
          "2023-05-10T16:02:26.339000000",
          "2023-05-11T18:12:53.124000000",
          "2023-05-15T16:02:24.682000000",
          "2023-05-19T18:13:08.582000000",
          "2023-05-20T18:32:30.383000000",
          "2023-05-25T16:02:27.340000000",
          "2023-06-04T18:13:02.317000000",
          "2023-06-22T18:42:21.565000000",
          "2023-06-24T18:32:32.120000000",
          "2023-06-28T18:13:09.561000000",
          "2023-06-29T16:02:28.946000000",
          "2023-06-29T18:32:32.116000000",
          "2023-07-02T18:42:28.694000000",
          "2023-07-04T18:32:33.230000000",
          "2023-07-05T18:19:25.463000000",
          "2023-07-09T18:32:33.106000000",
          "2023-07-12T18:42:29.045000000",
          "2023-07-13T18:19:21.849000000",
          "2023-07-14T18:13:17.456000000",
          "2023-07-14T18:32:32.727000000",
          "2023-07-19T18:32:31.897000000",
          "2023-07-21T18:19:28.673000000",
          "2023-07-22T18:13:10.457000000",
          "2023-07-22T18:42:28.250000000",
          "2023-07-29T18:19:25.846000000",
          "2023-07-29T18:32:33.110000000",
          "2023-07-30T15:45:43.911000000",
          "2023-07-30T18:13:24.943000000",
          "2023-08-01T16:12:24.818000000",
          "2023-08-06T18:42:29.022000000",
          "2023-08-11T18:42:28.668000000",
          "2023-08-13T18:32:33.447000000",
          "2023-08-14T18:19:32.240000000",
          "2023-08-15T18:13:30.516000000",
          "2023-08-16T18:42:29.378000000",
          "2023-08-23T18:13:26.794000000",
          "2023-08-23T18:32:32.058000000",
          "2023-08-26T18:42:28.218000000",
          "2023-08-28T18:32:33.494000000",
          "2023-08-30T18:19:42.115000000",
          "2023-08-31T15:45:59.702000000",
          "2023-08-31T18:13:34.820000000",
          "2023-08-31T18:42:29.028000000",
          "2023-09-02T16:02:29.149000000",
          "2023-09-07T18:19:44.356000000",
          "2023-09-07T18:32:33.116000000",
          "2023-09-08T18:13:37.050000000",
          "2023-09-10T18:42:28.857000000",
          "2023-09-12T18:32:31.173000000",
          "2023-09-15T18:19:50.723000000",
          "2023-09-15T18:42:26.913000000",
          "2023-09-16T15:46:08.022000000",
          "2023-09-16T18:13:39.014000000",
          "2023-09-23T18:19:50.622000000",
          "2023-09-25T18:42:27.197000000",
          "2023-10-02T15:46:07.789000000",
          "2023-10-02T16:02:25.717000000",
          "2023-10-05T18:42:23.659000000",
          "2023-10-09T18:19:55.171000000",
          "2023-10-10T15:46:12.749000000",
          "2023-10-12T16:02:21.431000000",
          "2023-10-17T18:20:00.625000000",
          "2023-10-17T18:32:27.163000000",
          "2023-10-18T18:13:43.695000000",
          "2023-10-20T18:42:23.764000000",
          "2023-10-24T08:34:28.056000000",
          "2023-10-25T16:12:19.822000000",
          "2023-10-27T18:32:27.730000000",
          "2023-10-30T18:42:23.274000000",
          "2023-11-01T08:27:41.307000000",
          "2023-11-03T15:46:10.512000000",
          "2023-11-05T08:07:42.682000000",
          "2023-11-08T08:17:43.869000000",
          "2023-11-09T18:42:23.293000000",
          "2023-11-11T16:02:23.050000000",
          "2023-11-11T18:13:45.837000000",
          "2023-11-11T18:32:29.062000000",
          "2023-11-14T18:42:23.871000000",
          "2023-11-16T16:02:22.888000000",
          "2023-11-17T08:34:26.759000000",
          "2023-11-17T08:50:06.259000000",
          "2023-11-18T08:17:39.678000000",
          "2023-11-19T15:46:17.245000000",
          "2023-11-19T16:12:17.171000000",
          "2023-11-21T18:32:23.899000000",
          "2023-11-27T08:50:03.874000000",
          "2023-11-27T18:13:53.854000000",
          "2023-11-29T18:42:15.650000000",
          "2023-12-17T08:50:07.247000000",
          "2023-12-20T08:28:23.411000000",
          "2023-12-21T18:13:48.289000000",
          "2023-12-21T18:32:28.741000000",
          "2023-12-27T08:34:33.921000000",
          "2023-12-27T08:50:08.999000000",
          "2023-12-28T08:28:13.848000000",
          "2023-12-29T18:13:53.988000000",
          "2023-12-29T18:42:20.973000000",
          "2023-12-31T18:32:28.792000000",
          "2024-01-03T16:12:16.440000000",
          "2024-01-05T08:28:16.689000000",
          "2024-01-05T16:02:23.701000000",
          "2024-01-11T08:50:02.324000000",
          "2024-01-22T15:46:16.562000000",
          "2024-01-26T08:50:06.295000000",
          "2024-01-27T08:17:40.027000000",
          "2024-01-28T08:34:29.647000000",
          "2024-01-30T18:13:52.303000000",
          "2024-01-30T18:32:25.250000000",
          "2024-02-04T16:02:22.118000000",
          "2024-02-04T18:32:23.726000000",
          "2024-02-05T08:34:19.670000000",
          "2024-02-05T08:50:06.196000000",
          "2024-02-06T08:28:22.018000000",
          "2024-02-07T15:46:22.027000000",
          "2024-02-07T16:12:19.384000000",
          "2024-02-10T08:50:04.067000000",
          "2024-02-14T16:02:24.977000000",
          "2024-02-17T18:42:21.876000000",
          "2024-02-19T16:02:21.834000000",
          "2024-02-24T08:27:37.237000000",
          "2024-02-24T18:32:26.406000000",
          "2024-02-25T08:07:33.176000000",
          "2024-02-25T08:50:07.194000000",
          "2024-02-26T08:01:27.460000000",
          "2024-02-26T08:17:40.828000000",
          "2024-02-29T08:27:36.884000000",
          "2024-02-29T08:34:23.024000000",
          "2024-02-29T16:02:23.776000000",
          "2024-03-09T08:28:14.094000000",
          "2024-03-09T18:19:56.880000000",
          "2024-03-10T08:27:34.460000000",
          "2024-03-16T08:34:23.411000000",
          "2024-03-16T08:50:06.086000000",
          "2024-03-17T18:19:33.894000000",
          "2024-03-18T18:13:44.380000000",
          "2024-03-18T18:42:24.593000000",
          "2024-03-20T18:32:27.776000000",
          "2024-03-24T08:33:54.887000000",
          "2024-03-25T08:27:39.815000000",
          "2024-03-25T16:02:24.309000000",
          "2024-03-26T08:50:07.982000000",
          "2024-03-31T08:50:06.680000000",
          "2024-04-01T08:34:14.572000000",
          "2024-04-02T18:19:22.743000000",
          "2024-04-02T18:42:22.385000000",
          "2024-04-03T18:13:35.432000000",
          "2024-04-05T08:50:05.637000000",
          "2024-04-06T08:00:56.874000000",
          "2024-04-06T08:17:40.008000000",
          "2024-04-09T08:27:38.367000000",
          "2024-04-10T08:28:00.492000000",
          "2024-04-10T08:50:07.936000000",
          "2024-04-10T18:19:43.074000000",
          "2024-04-11T18:13:09.610000000",
          "2024-04-14T16:02:24.726000000",
          "2024-04-15T08:50:08.559000000",
          "2024-04-17T18:42:27.027000000",
          "2024-04-18T18:19:13.978000000",
          "2024-04-19T18:13:21.708000000",
          "2024-04-22T08:00:48.284000000",
          "2024-04-22T18:42:23.758000000",
          "2024-04-29T16:02:26.564000000",
          "2024-05-03T08:33:49.688000000",
          "2024-05-04T08:27:22.295000000",
          "2024-05-06T08:17:42.306000000",
          "2024-05-08T08:00:37.649000000",
          "2024-05-12T18:19:20.050000000",
          "2024-05-12T18:42:23.825000000",
          "2024-05-13T15:45:36.137000000",
          "2024-05-15T08:50:06.078000000",
          "2024-05-17T18:42:25.986000000",
          "2024-05-19T08:27:37.606000000",
          "2024-05-19T18:32:26.764000000",
          "2024-05-20T08:27:09.602000000",
          "2024-05-21T08:17:41.802000000",
          "2024-05-21T15:45:08.927000000",
          "2024-05-21T18:13:02.581000000",
          "2024-05-22T16:12:19.182000000",
          "2024-05-23T08:06:57.736000000",
          "2024-05-24T08:00:23.936000000",
          "2024-05-24T08:27:37.979000000",
          "2024-05-24T18:32:27.286000000",
          "2024-05-27T18:42:25.207000000",
          "2024-05-28T18:19:07.293000000",
          "2024-05-29T18:32:27.592000000",
          "2024-06-03T08:27:43.038000000",
          "2024-06-04T08:33:35.916000000",
          "2024-06-05T08:17:43.909000000",
          "2024-06-05T08:27:08.123000000",
          "2024-06-06T18:12:56.416000000",
          "2024-06-06T18:42:29.377000000",
          "2024-06-08T08:06:51.647000000",
          "2024-06-08T08:27:41.807000000",
          "2024-06-08T16:02:29.726000000",
          "2024-06-08T18:32:23.378000000",
          "2024-06-11T18:42:27.111000000",
          "2024-06-12T08:33:17.991000000",
          "2024-06-13T08:27:18.960000000",
          "2024-06-13T18:19:01.352000000",
          "2024-06-13T18:32:33.910000000",
          "2024-06-14T15:45:17.486000000",
          "2024-06-14T18:12:41.815000000",
          "2024-06-16T18:42:29.677000000",
          "2024-06-18T16:02:29.340000000",
          "2024-06-18T18:32:30.263000000",
          "2024-06-20T08:33:19.859000000",
          "2024-06-21T08:27:16.502000000",
          "2024-06-21T18:18:59.677000000",
          "2024-06-21T18:42:26.257000000",
          "2024-06-22T15:45:17.551000000",
          "2024-06-22T18:12:36.885000000",
          "2024-06-23T08:27:43.113000000",
          "2024-06-23T18:32:31.999000000",
          "2024-06-24T08:06:33.577000000",
          "2024-06-28T08:33:31.094000000",
          "2024-06-28T16:02:26.739000000",
          "2024-06-29T08:27:10.015000000",
          "2024-06-29T18:18:53.644000000",
          "2024-06-30T08:17:44.771000000",
          "2024-06-30T18:12:52.474000000",
          "2024-07-01T18:42:27.746000000",
          "2024-07-03T08:27:42.339000000",
          "2024-07-03T16:02:27.551000000",
          "2024-07-03T18:32:31.382000000",
          "2024-07-05T08:17:45.029000000",
          "2024-07-06T08:33:32.043000000",
          "2024-07-07T08:27:24.594000000",
          "2024-07-07T18:19:07.734000000",
          "2024-07-08T18:12:56.114000000",
          "2024-07-11T18:42:25.688000000",
          "2024-07-13T08:27:41.227000000",
          "2024-07-14T08:33:41.346000000",
          "2024-07-14T08:50:10.219000000",
          "2024-07-15T08:17:44.438000000",
          "2024-07-15T08:27:29.392000000",
          "2024-07-15T18:19:12.436000000",
          "2024-07-16T15:45:30.002000000",
          "2024-07-16T16:12:22.959000000",
          "2024-07-16T18:13:05.936000000",
          "2024-07-16T18:42:25.146000000",
          "2024-07-18T08:07:03.834000000",
          "2024-07-18T08:27:42.204000000",
          "2024-07-18T18:32:31.259000000",
          "2024-07-19T08:50:02.053000000",
          "2024-07-21T18:42:27.335000000",
          "2024-07-22T08:33:40.411000000",
          "2024-07-23T18:19:22.460000000",
          "2024-07-23T18:32:29.905000000",
          "2024-07-28T16:02:26.488000000",
          "2024-07-28T18:32:29.683000000",
          "2024-07-29T08:50:10.247000000",
          "2024-07-30T08:33:51.019000000",
          "2024-07-31T08:27:32.173000000",
          "2024-07-31T18:19:15.268000000",
          "2024-07-31T18:42:24.574000000",
          "2024-08-01T15:45:32.966000000",
          "2024-08-01T18:13:11.488000000",
          "2024-08-02T16:02:24.713000000",
          "2024-08-02T18:32:30.458000000",
          "2024-08-03T08:07:06.734000000",
          "2024-08-03T08:50:08.885000000",
          "2024-08-04T08:17:43.401000000",
          "2024-08-05T16:12:22.327000000",
          "2024-08-07T08:33:44.413000000",
          "2024-08-08T08:50:08.358000000",
          "2024-08-09T08:17:42.455000000",
          "2024-08-11T08:07:05.480000000",
          "2024-08-12T16:02:28.170000000",
          "2024-08-13T08:50:11.790000000",
          "2024-08-15T08:33:54.114000000",
          "2024-08-16T08:27:39.262000000",
          "2024-08-16T18:19:22.870000000",
          "2024-08-17T08:27:41.561000000",
          "2024-08-17T18:13:18.134000000",
          "2024-08-17T18:32:30.366000000",
          "2024-08-18T08:50:07.533000000",
          "2024-08-19T08:07:15.442000000",
          "2024-08-19T08:17:40.964000000",
          "2024-08-20T08:01:02.572000000",
          "2024-08-22T16:02:22.928000000",
          "2024-08-22T18:32:24.970000000",
          "2024-08-23T08:33:58.852000000",
          "2024-08-24T08:27:48.620000000",
          "2024-08-25T15:45:48.471000000",
          "2024-08-25T16:12:20.583000000",
          "2024-08-25T18:13:21.351000000",
          "2024-08-25T18:42:21.836000000",
          "2024-08-27T08:07:17.878000000",
          "2024-08-27T08:27:40.361000000",
          "2024-08-27T16:02:22.051000000",
          "2024-08-27T18:32:29.549000000",
          "2024-08-28T08:01:04.615000000",
          "2024-08-28T08:50:05.862000000",
          "2024-08-29T08:17:39.838000000",
          "2024-08-30T18:42:26.506000000",
          "2024-08-31T08:34:02.327000000",
          "2024-09-01T18:19:31.070000000",
          "2024-09-01T18:32:27.431000000",
          "2024-09-04T18:42:23.977000000",
          "2024-09-06T18:32:30.334000000",
          "2024-09-08T08:17:41.187000000",
          "2024-09-08T08:33:58.888000000",
          "2024-09-09T16:12:18.941000000",
          "2024-09-09T18:19:39.487000000",
          "2024-09-09T18:42:25.910000000",
          "2024-09-10T15:45:56.188000000",
          "2024-09-10T18:13:23.175000000",
          "2024-09-11T08:27:37.148000000",
          "2024-09-11T16:02:25.163000000",
          "2024-09-12T08:50:08.570000000",
          "2024-09-14T18:42:22.732000000",
          "2024-09-16T08:34:09.470000000",
          "2024-09-17T08:27:52.756000000",
          "2024-09-17T08:50:07.720000000",
          "2024-09-19T18:42:18.881000000",
          "2024-09-22T08:50:04.537000000",
          "2024-09-24T18:42:25.623000000",
          "2024-09-25T08:27:55.657000000",
          "2024-09-25T18:19:38.128000000",
          "2024-09-26T08:27:38.226000000",
          "2024-09-26T18:13:25.521000000",
          "2024-09-27T08:50:09.596000000",
          "2024-09-28T08:07:23.785000000",
          "2024-09-28T08:17:43.670000000",
          "2024-09-29T08:01:08.086000000",
          "2024-09-29T18:42:24.642000000",
          "2024-10-02T08:34:04.778000000",
          "2024-10-02T08:50:08.738000000",
          "2024-10-03T08:27:59.295000000",
          "2024-10-06T08:07:23.642000000",
          "2024-10-06T08:27:39.206000000",
          "2024-10-06T16:02:23.430000000",
          "2024-10-07T08:01:14.721000000",
          "2024-10-07T08:50:06.610000000",
          "2024-10-09T16:12:15.220000000",
          "2024-10-09T18:42:22.070000000",
          "2024-10-10T08:34:09.011000000",
          "2024-10-11T16:02:21.862000000",
          "2024-10-11T18:19:45.392000000",
          "2024-10-11T18:32:25.851000000",
          "2024-10-12T08:50:05.981000000",
          "2024-10-12T18:13:33.598000000",
          "2024-10-14T18:42:23.040000000",
          "2024-10-16T18:32:28.013000000",
          "2024-10-18T08:34:18.349000000",
          "2024-10-19T08:28:09.855000000",
          "2024-10-19T16:12:19.751000000",
          "2024-10-19T18:19:53.094000000",
          "2024-10-19T18:42:24.695000000",
          "2024-10-20T15:46:11.080000000",
          "2024-10-20T18:13:39.882000000",
          "2024-10-21T16:02:24.773000000",
          "2024-10-21T18:32:27.713000000",
          "2024-10-22T08:50:08.515000000",
          "2024-10-26T08:34:23.984000000",
          "2024-10-27T08:28:04.393000000",
          "2024-10-27T08:50:08.238000000",
          "2024-10-28T15:46:02.732000000",
          "2024-10-31T16:02:23.413000000",
          "2024-11-01T08:50:06.744000000",
          "2024-11-03T16:12:17.147000000",
          "2024-11-05T16:02:20.471000000",
          "2024-11-06T08:50:03.494000000",
          "2024-11-08T16:12:16.809000000",
          "2024-11-08T18:42:17.444000000",
          "2024-11-12T08:28:02.787000000",
          "2024-11-12T18:19:45.301000000",
          "2024-11-13T16:12:15.474000000",
          "2024-11-19T08:34:18.932000000",
          "2024-11-20T08:27:38.217000000",
          "2024-11-21T15:46:16.319000000",
          "2024-11-25T16:02:26.274000000",
          "2024-11-27T08:34:30.168000000",
          "2024-11-28T08:28:14.974000000",
          "2024-11-29T18:13:50.990000000",
          "2024-12-03T16:12:20.474000000",
          "2024-12-03T18:42:24.472000000",
          "2024-12-06T08:50:08.660000000",
          "2024-12-06T18:19:54.780000000",
          "2024-12-07T08:17:42.706000000",
          "2024-12-09T08:07:33.421000000",
          "2024-12-13T08:34:21.354000000",
          "2024-12-14T08:28:03.122000000",
          "2024-12-15T18:13:43.946000000",
          "2024-12-15T18:32:29.010000000",
          "2024-12-18T08:01:21.516000000",
          "2024-12-20T08:27:38.277000000",
          "2024-12-20T18:32:27.472000000",
          "2024-12-22T08:28:13.807000000",
          "2024-12-23T15:46:14.181000000",
          "2024-12-23T16:12:21.268000000",
          "2024-12-30T16:02:25.004000000",
          "2024-12-30T18:19:48.880000000",
          "2024-12-30T18:32:28.565000000",
          "2024-12-31T08:50:08.534000000",
          "2024-12-31T18:13:42.095000000",
          "2025-01-02T08:07:35.882000000",
          "2025-01-03T08:01:23.731000000",
          "2025-01-06T08:34:18.072000000",
          "2025-01-07T18:19:52.552000000",
          "2025-01-07T18:42:24.115000000",
          "2025-01-09T08:27:34.566000000",
          "2025-01-09T16:02:23.857000000",
          "2025-01-10T08:07:36.775000000",
          "2025-01-10T08:50:07.497000000",
          "2025-01-14T16:02:21.725000000",
          "2025-01-15T18:19:51.062000000",
          "2025-01-16T18:13:47.119000000",
          "2025-01-19T18:32:26.628000000",
          "2025-01-20T08:50:07.932000000",
          "2025-01-22T16:12:21.129000000",
          "2025-01-22T18:42:52.462000000",
          "2025-01-24T16:02:52.322000000",
          "2025-01-27T18:42:26.437000000",
          "2025-01-29T08:28:06.225000000",
          "2025-01-29T16:02:26.519000000",
          "2025-01-30T08:34:19.648000000",
          "2025-01-31T08:17:44.187000000",
          "2025-01-31T08:28:07.234000000",
          "2025-02-07T08:34:17.342000000",
          "2025-02-08T08:28:10.903000000",
          "2025-02-09T08:50:10.174000000",
          "2025-02-09T18:13:37.190000000",
          "2025-02-10T08:17:44.543000000",
          "2025-02-11T08:07:32.004000000",
          "2025-02-12T08:01:30.862000000",
          "2025-02-13T08:27:37.896000000",
          "2025-02-15T08:18:05.510000000",
          "2025-02-16T08:28:02.286000000",
          "2025-02-23T08:27:43.076000000",
          "2025-02-23T08:34:07.956000000",
          "2025-02-23T16:02:44.509000000",
          "2025-02-24T08:28:10.130000000",
          "2025-02-24T08:50:31.040000000",
          "2025-02-26T18:42:27.091000000",
          "2025-02-27T08:07:20.983000000",
          "2025-02-28T08:01:23.269000000",
          "2025-02-28T08:28:03.151000000",
          "2025-02-28T18:32:52.223000000",
          "2025-03-01T08:50:10.636000000",
          "2025-03-02T08:17:44.673000000",
          "2025-03-04T08:27:54.650000000",
          "2025-03-05T08:27:41.957000000",
          "2025-03-06T08:50:31.784000000",
          "2025-03-07T08:18:05.617000000",
          "2025-03-08T18:42:26.702000000",
          "2025-03-10T16:02:26.289000000",
          "2025-03-10T18:32:51.137000000",
          "2025-03-11T08:34:04.052000000",
          "2025-03-11T08:50:09.856000000",
          "2025-03-12T08:28:05.624000000",
          "2025-03-16T08:50:31.138000000",
          "2025-03-18T08:50:20.114000000",
          "2025-03-21T08:50:10.651000000",
          "2025-03-21T15:45:44.306000000",
          "2025-03-24T08:01:01.388000000",
          "2025-03-25T16:02:45.378000000",
          "2025-03-27T08:33:53.162000000",
          "2025-03-27T16:02:31.489000000",
          "2025-03-30T16:02:24.571000000"
         ],
         "y": {
          "bdata": "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",
          "dtype": "f8"
         }
        },
        {
         "hovertemplate": "Date: %{x}<br>Predicted NDVI: %{y:.3f}<extra></extra>",
         "line": {
          "color": "red",
          "width": 3
         },
         "marker": {
          "size": 8
         },
         "mode": "lines+markers",
         "name": "2025 Predictions",
         "type": "scatter",
         "x": [
          "2025-01-01T00:00:00.000000000",
          "2025-01-17T00:00:00.000000000",
          "2025-02-02T00:00:00.000000000",
          "2025-02-18T00:00:00.000000000",
          "2025-03-06T00:00:00.000000000",
          "2025-03-22T00:00:00.000000000",
          "2025-04-07T00:00:00.000000000",
          "2025-04-23T00:00:00.000000000",
          "2025-05-09T00:00:00.000000000",
          "2025-05-25T00:00:00.000000000",
          "2025-06-10T00:00:00.000000000",
          "2025-06-26T00:00:00.000000000",
          "2025-07-12T00:00:00.000000000",
          "2025-07-28T00:00:00.000000000",
          "2025-08-13T00:00:00.000000000",
          "2025-08-29T00:00:00.000000000",
          "2025-09-14T00:00:00.000000000",
          "2025-09-30T00:00:00.000000000",
          "2025-10-16T00:00:00.000000000",
          "2025-11-01T00:00:00.000000000",
          "2025-11-17T00:00:00.000000000",
          "2025-12-03T00:00:00.000000000",
          "2025-12-19T00:00:00.000000000",
          "2026-01-04T00:00:00.000000000"
         ],
         "y": {
          "bdata": "mFQbgK84xj8oJ1ZfH9fHPzUKNaFh98w/FvNHbDgT0T8IGvfNUtPVP7k63T0/kto/MhGGBqF93z+tsER9IgjjPyLpnZcR8uQ/yKCZl06+5j9SZZ1qoGrnP9ByxulFDOg/rRphmvmi5z+l21fo6vDmP24ay3dZjeU/ixezUMJe4z+2PrNYeBbhPx5XfaTzM90/HJjxJDXO1z92rTF5Xp3SP5ugJm+L8s0/Vg14W/NCyD8+rGzmfGHFP57d5wnlvcU/",
          "dtype": "f8"
         }
        },
        {
         "hoverinfo": "skip",
         "line": {
          "width": 0
         },
         "mode": "lines",
         "showlegend": false,
         "type": "scatter",
         "x": [
          "2025-01-01T00:00:00.000000000",
          "2025-01-17T00:00:00.000000000",
          "2025-02-02T00:00:00.000000000",
          "2025-02-18T00:00:00.000000000",
          "2025-03-06T00:00:00.000000000",
          "2025-03-22T00:00:00.000000000",
          "2025-04-07T00:00:00.000000000",
          "2025-04-23T00:00:00.000000000",
          "2025-05-09T00:00:00.000000000",
          "2025-05-25T00:00:00.000000000",
          "2025-06-10T00:00:00.000000000",
          "2025-06-26T00:00:00.000000000",
          "2025-07-12T00:00:00.000000000",
          "2025-07-28T00:00:00.000000000",
          "2025-08-13T00:00:00.000000000",
          "2025-08-29T00:00:00.000000000",
          "2025-09-14T00:00:00.000000000",
          "2025-09-30T00:00:00.000000000",
          "2025-10-16T00:00:00.000000000",
          "2025-11-01T00:00:00.000000000",
          "2025-11-17T00:00:00.000000000",
          "2025-12-03T00:00:00.000000000",
          "2025-12-19T00:00:00.000000000",
          "2026-01-04T00:00:00.000000000"
         ],
         "y": {
          "bdata": "wsyRaPHPzT9clCs8aDjQP0W/Es6HotI/GpIcPBYO1T8wbrg367PZPxIIhgPcqt4/46Xk+RXI4T+1+aWJvgnlPy3LXReN/+Y/XxOgknXX6D/Y1Cd8u3bpP24bGl6/Geo/iiviHW/V6T/ixMQolRfpP6BF9lIvhec/3asKkS925T9UCruhPTPjP80d9qyGqOA/X9KTchnM2z8z8HjwKt7WPw96t2cj1tI/iIFJFyoM0D8sioutlVXNP1yLdeWQJs4/",
          "dtype": "f8"
         }
        },
        {
         "fill": "tonexty",
         "fillcolor": "rgba(255,0,0,0.1)",
         "hovertemplate": "Date: %{x}<br>CI: %{y:.3f}<extra></extra>",
         "line": {
          "width": 0
         },
         "mode": "lines",
         "name": "Confidence Interval",
         "type": "scatter",
         "x": [
          "2025-01-01T00:00:00.000000000",
          "2025-01-17T00:00:00.000000000",
          "2025-02-02T00:00:00.000000000",
          "2025-02-18T00:00:00.000000000",
          "2025-03-06T00:00:00.000000000",
          "2025-03-22T00:00:00.000000000",
          "2025-04-07T00:00:00.000000000",
          "2025-04-23T00:00:00.000000000",
          "2025-05-09T00:00:00.000000000",
          "2025-05-25T00:00:00.000000000",
          "2025-06-10T00:00:00.000000000",
          "2025-06-26T00:00:00.000000000",
          "2025-07-12T00:00:00.000000000",
          "2025-07-28T00:00:00.000000000",
          "2025-08-13T00:00:00.000000000",
          "2025-08-29T00:00:00.000000000",
          "2025-09-14T00:00:00.000000000",
          "2025-09-30T00:00:00.000000000",
          "2025-10-16T00:00:00.000000000",
          "2025-11-01T00:00:00.000000000",
          "2025-11-17T00:00:00.000000000",
          "2025-12-03T00:00:00.000000000",
          "2025-12-19T00:00:00.000000000",
          "2026-01-04T00:00:00.000000000"
         ],
         "y": {
          "bdata": "l6FBxMOPvD8MwMRcpQa/P9HuxmCEfMU/2WtmJx+wyj/jeQIZf2bRP3WhLVr+hdY/KGFNXHaq2z/Y3wx79ADhPz3z/tGq9uI/ZGULpiyo5D+n2bt+50PlP5u84iS5DOY/adzIHf2X5T/tvyibSdXkPzJ+mtonhOM/Gh9HMYFC4T/DS/w28RzeP4SMSaNGLdk/DFVF+3G/0z/y7c6PrETNP6yRFxvzscU/56nIwEKNvz9qRCUHevi6Px9NSDfC0Ls/",
          "dtype": "f8"
         }
        },
        {
         "hovertemplate": "Date: %{x}<br>Actual: %{y:.3f}<extra></extra>",
         "marker": {
          "color": "orange",
          "size": 8,
          "symbol": "diamond"
         },
         "mode": "markers",
         "name": "Validation Data",
         "type": "scatter",
         "x": [
          "2025-04-09T16:02:25.936000000",
          "2025-05-17T16:12:36.837000000",
          "2025-06-03T16:02:44.463000000",
          "2025-06-11T16:12:17.963000000",
          "2025-06-25T15:45:47.041000000",
          "2025-07-03T15:45:46.371000000",
          "2025-07-05T16:02:42.128000000",
          "2025-07-08T16:02:27.449000000",
          "2025-08-04T15:45:59.913000000",
          "2025-08-10T16:12:21.834000000",
          "2025-08-22T16:02:43.436000000",
          "2025-08-27T16:02:25.363000000",
          "2025-08-30T16:12:20.620000000",
          "2025-09-05T15:46:15.076000000",
          "2025-09-09T16:12:18.708000000",
          "2025-09-13T15:46:12.647000000",
          "2025-09-19T16:12:17.693000000",
          "2025-10-01T16:02:39.397000000",
          "2025-04-10T08:50:09.918000000",
          "2025-04-12T08:33:48.551000000",
          "2025-04-15T08:50:28.380000000",
          "2025-04-17T08:50:20.143000000",
          "2025-04-21T08:27:29.540000000",
          "2025-04-27T08:50:21.969000000",
          "2025-04-28T08:33:38.909000000",
          "2025-05-05T08:50:28.315000000",
          "2025-05-14T08:33:38.201000000",
          "2025-05-17T08:50:22.855000000",
          "2025-05-22T08:33:44.067000000",
          "2025-05-23T08:27:30.620000000",
          "2025-06-07T08:33:40.148000000",
          "2025-06-08T08:27:34.556000000",
          "2025-06-15T08:33:52.004000000",
          "2025-06-16T08:27:38.479000000",
          "2025-06-23T08:33:53.762000000",
          "2025-06-24T08:27:46.431000000",
          "2025-07-01T08:33:59.389000000",
          "2025-07-02T08:27:46.103000000",
          "2025-07-06T08:50:25.995000000",
          "2025-07-17T08:34:04.270000000",
          "2025-07-19T08:50:10.593000000",
          "2025-07-24T08:50:30.346000000",
          "2025-07-25T08:34:05.949000000",
          "2025-07-26T08:27:56.150000000",
          "2025-07-26T08:28:20.041000000",
          "2025-07-29T08:50:08.264000000",
          "2025-08-03T08:50:27.869000000",
          "2025-08-05T08:50:23.686000000",
          "2025-08-10T08:34:15.590000000",
          "2025-08-11T08:28:04.248000000",
          "2025-08-13T08:50:26.768000000",
          "2025-08-15T08:50:20.474000000",
          "2025-08-18T08:34:16.968000000",
          "2025-08-18T08:50:09.951000000",
          "2025-08-19T08:28:09.237000000",
          "2025-08-23T08:50:27.144000000",
          "2025-08-25T08:50:22.048000000",
          "2025-08-26T08:34:21.136000000",
          "2025-08-27T08:28:05.692000000",
          "2025-08-28T08:50:08.965000000",
          "2025-09-02T08:50:25.624000000",
          "2025-09-03T08:34:20.665000000",
          "2025-09-04T08:28:14.393000000",
          "2025-09-04T08:50:21.334000000",
          "2025-09-07T08:50:06.623000000",
          "2025-09-11T08:34:27.119000000",
          "2025-09-12T08:28:11.580000000",
          "2025-09-12T08:50:21.408000000",
          "2025-09-14T08:50:20.680000000",
          "2025-09-17T08:50:05.331000000",
          "2025-09-19T08:34:26.834000000",
          "2025-09-20T08:28:17.034000000",
          "2025-09-22T08:50:17.877000000",
          "2025-09-24T08:50:23.082000000",
          "2025-09-27T08:50:07.779000000",
          "2025-04-17T08:01:11.267000000",
          "2025-04-18T08:17:54.313000000",
          "2025-04-19T08:27:59.845000000",
          "2025-04-29T08:28:00.814000000",
          "2025-05-24T08:27:40.062000000",
          "2025-06-03T08:06:58.965000000",
          "2025-06-03T08:27:39.382000000",
          "2025-06-04T08:00:45.392000000",
          "2025-06-07T08:17:57.832000000",
          "2025-06-08T08:27:59.190000000",
          "2025-06-10T08:17:40.160000000",
          "2025-06-10T08:27:54.394000000",
          "2025-06-11T08:07:02.018000000",
          "2025-06-19T08:07:11.966000000",
          "2025-06-20T08:00:58.523000000",
          "2025-06-20T08:17:42.278000000",
          "2025-06-20T08:27:52.270000000",
          "2025-06-25T08:18:01.720000000",
          "2025-06-27T08:07:12.845000000",
          "2025-06-27T08:17:57.691000000",
          "2025-06-28T08:01:05.156000000",
          "2025-06-28T08:27:59.837000000",
          "2025-07-05T08:07:17.056000000",
          "2025-07-05T08:18:04.082000000",
          "2025-07-06T08:01:03.741000000",
          "2025-07-07T08:18:00.135000000",
          "2025-07-08T08:28:01.711000000",
          "2025-07-10T08:17:45.183000000",
          "2025-07-10T08:27:57.797000000",
          "2025-07-13T08:07:16.449000000",
          "2025-07-13T08:27:42.392000000",
          "2025-07-14T08:01:09.089000000",
          "2025-07-17T08:18:00.988000000",
          "2025-07-18T08:28:02.072000000",
          "2025-07-21T08:07:23.195000000",
          "2025-07-22T08:01:11.315000000",
          "2025-07-23T08:27:41.140000000",
          "2025-07-25T08:18:04.178000000",
          "2025-07-27T08:18:00.167000000",
          "2025-07-28T08:28:00.815000000",
          "2025-07-29T08:07:23.896000000",
          "2025-07-30T08:27:56.757000000",
          "2025-08-06T08:17:57.288000000",
          "2025-08-09T08:17:43.395000000",
          "2025-08-09T08:27:53.350000000",
          "2025-08-12T08:27:41.007000000",
          "2025-08-14T08:07:35.304000000",
          "2025-08-14T08:18:00.843000000",
          "2025-08-15T08:01:22.868000000",
          "2025-08-16T08:17:54.653000000",
          "2025-08-17T08:27:58.298000000",
          "2025-08-19T08:17:43.897000000",
          "2025-08-19T08:27:52.502000000",
          "2025-08-22T08:07:34.465000000",
          "2025-08-22T08:27:40.993000000",
          "2025-08-23T08:01:27.392000000",
          "2025-08-27T08:27:58.068000000",
          "2025-08-29T08:17:42.712000000",
          "2025-08-29T08:27:53.365000000",
          "2025-08-30T08:07:38.660000000",
          "2025-09-01T08:27:39.121000000",
          "2025-09-03T08:17:59.281000000",
          "2025-09-05T08:17:55.043000000",
          "2025-09-06T08:27:55.344000000",
          "2025-09-13T08:17:55.221000000",
          "2025-09-15T08:07:44.436000000",
          "2025-09-15T08:17:54.970000000",
          "2025-09-23T08:07:45.470000000",
          "2025-09-23T08:17:56.011000000",
          "2025-09-24T08:01:36.592000000",
          "2025-09-25T08:17:57.104000000",
          "2025-10-03T08:17:56.890000000",
          "2025-04-05T18:19:24.531000000",
          "2025-04-06T18:13:26.317000000",
          "2025-04-09T18:32:50.532000000",
          "2025-04-13T18:19:38.428000000",
          "2025-04-14T18:13:08.438000000",
          "2025-04-19T18:32:48.996000000",
          "2025-04-21T18:19:11.825000000",
          "2025-04-21T18:32:41.587000000",
          "2025-04-22T18:13:20.903000000",
          "2025-04-22T18:42:45.679000000",
          "2025-04-29T18:19:29.806000000",
          "2025-04-29T18:32:53.170000000",
          "2025-05-02T18:42:45.316000000",
          "2025-05-07T18:19:08.714000000",
          "2025-05-08T18:13:14.192000000",
          "2025-05-09T18:32:46.926000000",
          "2025-05-19T18:32:45.641000000",
          "2025-05-23T18:19:13.595000000",
          "2025-05-24T18:13:04.423000000",
          "2025-05-27T18:42:25.199000000",
          "2025-05-31T18:19:12.361000000",
          "2025-05-31T18:32:44.961000000",
          "2025-06-06T18:42:23.626000000",
          "2025-06-08T18:19:17.866000000",
          "2025-06-08T18:32:48.187000000",
          "2025-06-09T18:13:04.215000000",
          "2025-06-13T18:32:26.113000000",
          "2025-06-16T18:19:21.646000000",
          "2025-06-16T18:42:23.406000000",
          "2025-06-17T18:13:14.911000000",
          "2025-06-18T18:32:46.230000000",
          "2025-06-23T18:32:32.678000000",
          "2025-06-23T18:42:38.753000000",
          "2025-06-24T18:19:29.457000000",
          "2025-06-25T18:13:16.135000000",
          "2025-06-28T18:32:48.982000000",
          "2025-07-06T18:42:27.415000000",
          "2025-07-08T18:32:50.792000000",
          "2025-07-10T18:19:32.246000000",
          "2025-07-10T18:32:46.869000000",
          "2025-07-11T18:13:19.036000000",
          "2025-07-11T18:42:47.082000000",
          "2025-07-13T18:42:43.189000000",
          "2025-07-16T18:42:27.220000000",
          "2025-07-27T18:13:27.661000000",
          "2025-07-28T18:32:49.752000000",
          "2025-07-30T18:32:45.680000000",
          "2025-07-31T18:42:44.991000000",
          "2025-08-02T18:32:28.277000000",
          "2025-08-02T18:42:40.868000000",
          "2025-08-03T18:19:41.784000000",
          "2025-08-05T18:42:25.083000000",
          "2025-08-11T18:19:47.275000000",
          "2025-08-12T18:13:38.370000000",
          "2025-08-12T18:32:30.057000000",
          "2025-08-15T18:42:26.259000000",
          "2025-08-19T18:19:52.205000000",
          "2025-08-19T18:32:41.596000000",
          "2025-08-22T18:32:29.981000000",
          "2025-08-22T18:42:38.098000000",
          "2025-08-30T18:42:42.566000000",
          "2025-09-01T18:32:22.352000000",
          "2025-09-05T18:13:42.390000000",
          "2025-09-08T18:32:40.229000000",
          "2025-09-11T18:32:26.507000000",
          "2025-09-11T18:42:36.040000000",
          "2025-09-12T18:19:54.747000000",
          "2025-09-13T18:13:48.425000000",
          "2025-09-16T18:32:40.827000000",
          "2025-09-20T18:20:00.185000000",
          "2025-09-24T18:42:23.581000000",
          "2025-09-26T18:32:43.138000000",
          "2025-09-29T18:13:51.672000000",
          "2025-10-01T18:32:28.130000000",
          "2025-10-01T18:42:39.581000000"
         ],
         "y": {
          "bdata": "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",
          "dtype": "f8"
         }
        }
       ],
       "layout": {
        "annotations": [
         {
          "showarrow": false,
          "text": "Stress threshold",
          "x": 1,
          "xanchor": "right",
          "xref": "x domain",
          "y": 0.2,
          "yanchor": "bottom",
          "yref": "y"
         },
         {
          "showarrow": false,
          "text": "Crop threshold",
          "x": 1,
          "xanchor": "right",
          "xref": "x domain",
          "y": 0.35,
          "yanchor": "bottom",
          "yref": "y"
         },
         {
          "showarrow": false,
          "text": "Healthy canopy",
          "x": 1,
          "xanchor": "right",
          "xref": "x domain",
          "y": 0.6,
          "yanchor": "bottom",
          "yref": "y"
         }
        ],
        "height": 600,
        "hovermode": "x unified",
        "legend": {
         "orientation": "h",
         "x": 1,
         "xanchor": "right",
         "y": 1.02,
         "yanchor": "bottom"
        },
        "shapes": [
         {
          "line": {
           "color": "red",
           "dash": "dash"
          },
          "type": "line",
          "x0": 0,
          "x1": 1,
          "xref": "x domain",
          "y0": 0.2,
          "y1": 0.2,
          "yref": "y"
         },
         {
          "line": {
           "color": "orange",
           "dash": "dash"
          },
          "type": "line",
          "x0": 0,
          "x1": 1,
          "xref": "x domain",
          "y0": 0.35,
          "y1": 0.35,
          "yref": "y"
         },
         {
          "line": {
           "color": "green",
           "dash": "dash"
          },
          "type": "line",
          "x0": 0,
          "x1": 1,
          "xref": "x domain",
          "y0": 0.6,
          "y1": 0.6,
          "yref": "y"
         }
        ],
        "template": {
         "data": {
          "candlestick": [
           {
            "decreasing": {
             "line": {
              "color": "#000033"
             }
            },
            "increasing": {
             "line": {
              "color": "#000032"
             }
            },
            "type": "candlestick"
           }
          ],
          "contour": [
           {
            "colorscale": [
             [
              0,
              "#000011"
             ],
             [
              0.1111111111111111,
              "#000012"
             ],
             [
              0.2222222222222222,
              "#000013"
             ],
             [
              0.3333333333333333,
              "#000014"
             ],
             [
              0.4444444444444444,
              "#000015"
             ],
             [
              0.5555555555555556,
              "#000016"
             ],
             [
              0.6666666666666666,
              "#000017"
             ],
             [
              0.7777777777777778,
              "#000018"
             ],
             [
              0.8888888888888888,
              "#000019"
             ],
             [
              1,
              "#000020"
             ]
            ],
            "type": "contour"
           }
          ],
          "contourcarpet": [
           {
            "colorscale": [
             [
              0,
              "#000011"
             ],
             [
              0.1111111111111111,
              "#000012"
             ],
             [
              0.2222222222222222,
              "#000013"
             ],
             [
              0.3333333333333333,
              "#000014"
             ],
             [
              0.4444444444444444,
              "#000015"
             ],
             [
              0.5555555555555556,
              "#000016"
             ],
             [
              0.6666666666666666,
              "#000017"
             ],
             [
              0.7777777777777778,
              "#000018"
             ],
             [
              0.8888888888888888,
              "#000019"
             ],
             [
              1,
              "#000020"
             ]
            ],
            "type": "contourcarpet"
           }
          ],
          "heatmap": [
           {
            "colorscale": [
             [
              0,
              "#000011"
             ],
             [
              0.1111111111111111,
              "#000012"
             ],
             [
              0.2222222222222222,
              "#000013"
             ],
             [
              0.3333333333333333,
              "#000014"
             ],
             [
              0.4444444444444444,
              "#000015"
             ],
             [
              0.5555555555555556,
              "#000016"
             ],
             [
              0.6666666666666666,
              "#000017"
             ],
             [
              0.7777777777777778,
              "#000018"
             ],
             [
              0.8888888888888888,
              "#000019"
             ],
             [
              1,
              "#000020"
             ]
            ],
            "type": "heatmap"
           }
          ],
          "histogram2d": [
           {
            "colorscale": [
             [
              0,
              "#000011"
             ],
             [
              0.1111111111111111,
              "#000012"
             ],
             [
              0.2222222222222222,
              "#000013"
             ],
             [
              0.3333333333333333,
              "#000014"
             ],
             [
              0.4444444444444444,
              "#000015"
             ],
             [
              0.5555555555555556,
              "#000016"
             ],
             [
              0.6666666666666666,
              "#000017"
             ],
             [
              0.7777777777777778,
              "#000018"
             ],
             [
              0.8888888888888888,
              "#000019"
             ],
             [
              1,
              "#000020"
             ]
            ],
            "type": "histogram2d"
           }
          ],
          "icicle": [
           {
            "textfont": {
             "color": "white"
            },
            "type": "icicle"
           }
          ],
          "sankey": [
           {
            "textfont": {
             "color": "#000036"
            },
            "type": "sankey"
           }
          ],
          "scatter": [
           {
            "marker": {
             "line": {
              "width": 0
             }
            },
            "type": "scatter"
           }
          ],
          "table": [
           {
            "cells": {
             "fill": {
              "color": "#000038"
             },
             "font": {
              "color": "#000037"
             },
             "line": {
              "color": "#000039"
             }
            },
            "header": {
             "fill": {
              "color": "#000040"
             },
             "font": {
              "color": "#000036"
             },
             "line": {
              "color": "#000039"
             }
            },
            "type": "table"
           }
          ],
          "waterfall": [
           {
            "connector": {
             "line": {
              "color": "#000036",
              "width": 2
             }
            },
            "decreasing": {
             "marker": {
              "color": "#000033"
             }
            },
            "increasing": {
             "marker": {
              "color": "#000032"
             }
            },
            "totals": {
             "marker": {
              "color": "#000034"
             }
            },
            "type": "waterfall"
           }
          ]
         },
         "layout": {
          "coloraxis": {
           "colorscale": [
            [
             0,
             "#000011"
            ],
            [
             0.1111111111111111,
             "#000012"
            ],
            [
             0.2222222222222222,
             "#000013"
            ],
            [
             0.3333333333333333,
             "#000014"
            ],
            [
             0.4444444444444444,
             "#000015"
            ],
            [
             0.5555555555555556,
             "#000016"
            ],
            [
             0.6666666666666666,
             "#000017"
            ],
            [
             0.7777777777777778,
             "#000018"
            ],
            [
             0.8888888888888888,
             "#000019"
            ],
            [
             1,
             "#000020"
            ]
           ]
          },
          "colorscale": {
           "diverging": [
            [
             0,
             "#000021"
            ],
            [
             0.1,
             "#000022"
            ],
            [
             0.2,
             "#000023"
            ],
            [
             0.3,
             "#000024"
            ],
            [
             0.4,
             "#000025"
            ],
            [
             0.5,
             "#000026"
            ],
            [
             0.6,
             "#000027"
            ],
            [
             0.7,
             "#000028"
            ],
            [
             0.8,
             "#000029"
            ],
            [
             0.9,
             "#000030"
            ],
            [
             1,
             "#000031"
            ]
           ],
           "sequential": [
            [
             0,
             "#000011"
            ],
            [
             0.1111111111111111,
             "#000012"
            ],
            [
             0.2222222222222222,
             "#000013"
            ],
            [
             0.3333333333333333,
             "#000014"
            ],
            [
             0.4444444444444444,
             "#000015"
            ],
            [
             0.5555555555555556,
             "#000016"
            ],
            [
             0.6666666666666666,
             "#000017"
            ],
            [
             0.7777777777777778,
             "#000018"
            ],
            [
             0.8888888888888888,
             "#000019"
            ],
            [
             1,
             "#000020"
            ]
           ],
           "sequentialminus": [
            [
             0,
             "#000011"
            ],
            [
             0.1111111111111111,
             "#000012"
            ],
            [
             0.2222222222222222,
             "#000013"
            ],
            [
             0.3333333333333333,
             "#000014"
            ],
            [
             0.4444444444444444,
             "#000015"
            ],
            [
             0.5555555555555556,
             "#000016"
            ],
            [
             0.6666666666666666,
             "#000017"
            ],
            [
             0.7777777777777778,
             "#000018"
            ],
            [
             0.8888888888888888,
             "#000019"
            ],
            [
             1,
             "#000020"
            ]
           ]
          },
          "colorway": [
           "#000001",
           "#000002",
           "#000003",
           "#000004",
           "#000005",
           "#000006",
           "#000007",
           "#000008",
           "#000009",
           "#000010"
          ]
         }
        },
        "title": {
         "text": "NDVI Predictions for 2025 - Prophet Model"
        },
        "xaxis": {
         "title": {
          "text": "Date"
         }
        },
        "yaxis": {
         "title": {
          "text": "NDVI"
         }
        }
       }
      }
     },
     "metadata": {},
     "output_type": "display_data"
    },
    {
     "name": "stdout",
     "output_type": "stream",
     "text": [
      "📊 Creating component analysis...\n"
     ]
    },
    {
     "data": {
      "application/vnd.plotly.v1+json": {
       "config": {
        "plotlyServerURL": "https://plot.ly"
       },
       "data": [
        {
         "line": {
          "color": "blue"
         },
         "name": "Trend",
         "type": "scatter",
         "x": [
          "2025-01-01T00:00:00.000000000",
          "2025-01-17T00:00:00.000000000",
          "2025-02-02T00:00:00.000000000",
          "2025-02-18T00:00:00.000000000",
          "2025-03-06T00:00:00.000000000",
          "2025-03-22T00:00:00.000000000",
          "2025-04-07T00:00:00.000000000",
          "2025-04-23T00:00:00.000000000",
          "2025-05-09T00:00:00.000000000",
          "2025-05-25T00:00:00.000000000",
          "2025-06-10T00:00:00.000000000",
          "2025-06-26T00:00:00.000000000",
          "2025-07-12T00:00:00.000000000",
          "2025-07-28T00:00:00.000000000",
          "2025-08-13T00:00:00.000000000",
          "2025-08-29T00:00:00.000000000",
          "2025-09-14T00:00:00.000000000",
          "2025-09-30T00:00:00.000000000",
          "2025-10-16T00:00:00.000000000",
          "2025-11-01T00:00:00.000000000",
          "2025-11-17T00:00:00.000000000",
          "2025-12-03T00:00:00.000000000",
          "2025-12-19T00:00:00.000000000",
          "2026-01-04T00:00:00.000000000"
         ],
         "xaxis": "x",
         "y": {
          "bdata": "SJyPtEwj3D8ntasnKyHcPwbOx5oJH9w/5ebjDegc3D/E//+AxhrcP6MYHPSkGNw/gzE4Z4MW3D9iSlTaYRTcP0FjcE1AEtw/IHyMwB4Q3D//lKgz/Q3cP96txKbbC9w/vcbgGboJ3D+b3/yMmAfcP3r4GAB3Bdw/WRE1c1UD3D84KlHmMwHcPxdDbVkS/9s/9luJzPD82z/VdKU/z/rbP7WNwbKt+Ns/lKbdJYz22z9zv/mYavTbP1LYFQxJ8ts/",
          "dtype": "f8"
         },
         "yaxis": "y"
        },
        {
         "line": {
          "color": "green"
         },
         "name": "Yearly",
         "type": "scatter",
         "x": [
          "2025-01-01T00:00:00.000000000",
          "2025-01-17T00:00:00.000000000",
          "2025-02-02T00:00:00.000000000",
          "2025-02-18T00:00:00.000000000",
          "2025-03-06T00:00:00.000000000",
          "2025-03-22T00:00:00.000000000",
          "2025-04-07T00:00:00.000000000",
          "2025-04-23T00:00:00.000000000",
          "2025-05-09T00:00:00.000000000",
          "2025-05-25T00:00:00.000000000",
          "2025-06-10T00:00:00.000000000",
          "2025-06-26T00:00:00.000000000",
          "2025-07-12T00:00:00.000000000",
          "2025-07-28T00:00:00.000000000",
          "2025-08-13T00:00:00.000000000",
          "2025-08-29T00:00:00.000000000",
          "2025-09-14T00:00:00.000000000",
          "2025-09-30T00:00:00.000000000",
          "2025-10-16T00:00:00.000000000",
          "2025-11-01T00:00:00.000000000",
          "2025-11-17T00:00:00.000000000",
          "2025-12-03T00:00:00.000000000",
          "2025-12-19T00:00:00.000000000",
          "2026-01-04T00:00:00.000000000"
         ],
         "xaxis": "x2",
         "y": {
          "bdata": "0LyBYnxh0r+6ue8SLbTRv7KjtbY24s2/lC6qJKOayL9v9ZiSXza+v3KpcrLAKqW/Cg9Pev6WoD8i3r3q9MfAP9szBBm5LMk/Vhoc5sLPzz8rYWYkvmfRP58b6TS4ltI//hsiJLXP0T8vBivSEDzQP4XBuj7ENcw/HZZHLR4dwj884vCjPzayP27lLZ69A3a/K/+8WVfUtb+ghpbqlUfFv7FyC1SEi8y/2hv5pmwb0b9G5ZpUBorSv3Rl+bWwWdK/",
          "dtype": "f8"
         },
         "yaxis": "y2"
        },
        {
         "line": {
          "color": "orange"
         },
         "name": "Weather Effects",
         "type": "scatter",
         "x": [
          "2025-01-01T00:00:00.000000000",
          "2025-01-17T00:00:00.000000000",
          "2025-02-02T00:00:00.000000000",
          "2025-02-18T00:00:00.000000000",
          "2025-03-06T00:00:00.000000000",
          "2025-03-22T00:00:00.000000000",
          "2025-04-07T00:00:00.000000000",
          "2025-04-23T00:00:00.000000000",
          "2025-05-09T00:00:00.000000000",
          "2025-05-25T00:00:00.000000000",
          "2025-06-10T00:00:00.000000000",
          "2025-06-26T00:00:00.000000000",
          "2025-07-12T00:00:00.000000000",
          "2025-07-28T00:00:00.000000000",
          "2025-08-13T00:00:00.000000000",
          "2025-08-29T00:00:00.000000000",
          "2025-09-14T00:00:00.000000000",
          "2025-09-30T00:00:00.000000000",
          "2025-10-16T00:00:00.000000000",
          "2025-11-01T00:00:00.000000000",
          "2025-11-17T00:00:00.000000000",
          "2025-12-03T00:00:00.000000000",
          "2025-12-19T00:00:00.000000000",
          "2026-01-04T00:00:00.000000000"
         ],
         "xaxis": "x3",
         "y": {
          "bdata": "8HSR+UttbL/altUDa9BUv/ozWTHdZ3G/vJByTgXwc79Lh2UVdU9zv0ae3XjpG32/Hfh39xqSb79cqOiMkxoyP1kqZirs9nW/DPJqtBSKTb+tooxjRO5pvwqb0RMOal2/Go/NmQdvY79ghccp15RFP/tDYroGIYO/avBkmhE+WD+4z1lMuJVFP1CBiKgRxzm/KHPcxvVBc78oc9zG9UFzvyhz3Mb1QXO/KHPcxvVBc78oc9zG9UFzvyhz3Mb1QXO/",
          "dtype": "f8"
         },
         "yaxis": "y3"
        },
        {
         "line": {
          "color": "red"
         },
         "name": "Predictions",
         "type": "scatter",
         "x": [
          "2025-01-01T00:00:00.000000000",
          "2025-01-17T00:00:00.000000000",
          "2025-02-02T00:00:00.000000000",
          "2025-02-18T00:00:00.000000000",
          "2025-03-06T00:00:00.000000000",
          "2025-03-22T00:00:00.000000000",
          "2025-04-07T00:00:00.000000000",
          "2025-04-23T00:00:00.000000000",
          "2025-05-09T00:00:00.000000000",
          "2025-05-25T00:00:00.000000000",
          "2025-06-10T00:00:00.000000000",
          "2025-06-26T00:00:00.000000000",
          "2025-07-12T00:00:00.000000000",
          "2025-07-28T00:00:00.000000000",
          "2025-08-13T00:00:00.000000000",
          "2025-08-29T00:00:00.000000000",
          "2025-09-14T00:00:00.000000000",
          "2025-09-30T00:00:00.000000000",
          "2025-10-16T00:00:00.000000000",
          "2025-11-01T00:00:00.000000000",
          "2025-11-17T00:00:00.000000000",
          "2025-12-03T00:00:00.000000000",
          "2025-12-19T00:00:00.000000000",
          "2026-01-04T00:00:00.000000000"
         ],
         "xaxis": "x4",
         "y": {
          "bdata": "mFQbgK84xj8oJ1ZfH9fHPzUKNaFh98w/FvNHbDgT0T8IGvfNUtPVP7k63T0/kto/MhGGBqF93z+tsER9IgjjPyLpnZcR8uQ/yKCZl06+5j9SZZ1qoGrnP9ByxulFDOg/rRphmvmi5z+l21fo6vDmP24ay3dZjeU/ixezUMJe4z+2PrNYeBbhPx5XfaTzM90/HJjxJDXO1z92rTF5Xp3SP5ugJm+L8s0/Vg14W/NCyD8+rGzmfGHFP57d5wnlvcU/",
          "dtype": "f8"
         },
         "yaxis": "y4"
        },
        {
         "marker": {
          "color": "blue"
         },
         "mode": "markers",
         "name": "Actual",
         "type": "scatter",
         "x": [
          "2025-04-09T16:02:25.936000000",
          "2025-05-17T16:12:36.837000000",
          "2025-06-03T16:02:44.463000000",
          "2025-06-11T16:12:17.963000000",
          "2025-06-25T15:45:47.041000000",
          "2025-07-03T15:45:46.371000000",
          "2025-07-05T16:02:42.128000000",
          "2025-07-08T16:02:27.449000000",
          "2025-08-04T15:45:59.913000000",
          "2025-08-10T16:12:21.834000000",
          "2025-08-22T16:02:43.436000000",
          "2025-08-27T16:02:25.363000000",
          "2025-08-30T16:12:20.620000000",
          "2025-09-05T15:46:15.076000000",
          "2025-09-09T16:12:18.708000000",
          "2025-09-13T15:46:12.647000000",
          "2025-09-19T16:12:17.693000000",
          "2025-10-01T16:02:39.397000000",
          "2025-04-10T08:50:09.918000000",
          "2025-04-12T08:33:48.551000000",
          "2025-04-15T08:50:28.380000000",
          "2025-04-17T08:50:20.143000000",
          "2025-04-21T08:27:29.540000000",
          "2025-04-27T08:50:21.969000000",
          "2025-04-28T08:33:38.909000000",
          "2025-05-05T08:50:28.315000000",
          "2025-05-14T08:33:38.201000000",
          "2025-05-17T08:50:22.855000000",
          "2025-05-22T08:33:44.067000000",
          "2025-05-23T08:27:30.620000000",
          "2025-06-07T08:33:40.148000000",
          "2025-06-08T08:27:34.556000000",
          "2025-06-15T08:33:52.004000000",
          "2025-06-16T08:27:38.479000000",
          "2025-06-23T08:33:53.762000000",
          "2025-06-24T08:27:46.431000000",
          "2025-07-01T08:33:59.389000000",
          "2025-07-02T08:27:46.103000000",
          "2025-07-06T08:50:25.995000000",
          "2025-07-17T08:34:04.270000000",
          "2025-07-19T08:50:10.593000000",
          "2025-07-24T08:50:30.346000000",
          "2025-07-25T08:34:05.949000000",
          "2025-07-26T08:27:56.150000000",
          "2025-07-26T08:28:20.041000000",
          "2025-07-29T08:50:08.264000000",
          "2025-08-03T08:50:27.869000000",
          "2025-08-05T08:50:23.686000000",
          "2025-08-10T08:34:15.590000000",
          "2025-08-11T08:28:04.248000000",
          "2025-08-13T08:50:26.768000000",
          "2025-08-15T08:50:20.474000000",
          "2025-08-18T08:34:16.968000000",
          "2025-08-18T08:50:09.951000000",
          "2025-08-19T08:28:09.237000000",
          "2025-08-23T08:50:27.144000000",
          "2025-08-25T08:50:22.048000000",
          "2025-08-26T08:34:21.136000000",
          "2025-08-27T08:28:05.692000000",
          "2025-08-28T08:50:08.965000000",
          "2025-09-02T08:50:25.624000000",
          "2025-09-03T08:34:20.665000000",
          "2025-09-04T08:28:14.393000000",
          "2025-09-04T08:50:21.334000000",
          "2025-09-07T08:50:06.623000000",
          "2025-09-11T08:34:27.119000000",
          "2025-09-12T08:28:11.580000000",
          "2025-09-12T08:50:21.408000000",
          "2025-09-14T08:50:20.680000000",
          "2025-09-17T08:50:05.331000000",
          "2025-09-19T08:34:26.834000000",
          "2025-09-20T08:28:17.034000000",
          "2025-09-22T08:50:17.877000000",
          "2025-09-24T08:50:23.082000000",
          "2025-09-27T08:50:07.779000000",
          "2025-04-17T08:01:11.267000000",
          "2025-04-18T08:17:54.313000000",
          "2025-04-19T08:27:59.845000000",
          "2025-04-29T08:28:00.814000000",
          "2025-05-24T08:27:40.062000000",
          "2025-06-03T08:06:58.965000000",
          "2025-06-03T08:27:39.382000000",
          "2025-06-04T08:00:45.392000000",
          "2025-06-07T08:17:57.832000000",
          "2025-06-08T08:27:59.190000000",
          "2025-06-10T08:17:40.160000000",
          "2025-06-10T08:27:54.394000000",
          "2025-06-11T08:07:02.018000000",
          "2025-06-19T08:07:11.966000000",
          "2025-06-20T08:00:58.523000000",
          "2025-06-20T08:17:42.278000000",
          "2025-06-20T08:27:52.270000000",
          "2025-06-25T08:18:01.720000000",
          "2025-06-27T08:07:12.845000000",
          "2025-06-27T08:17:57.691000000",
          "2025-06-28T08:01:05.156000000",
          "2025-06-28T08:27:59.837000000",
          "2025-07-05T08:07:17.056000000",
          "2025-07-05T08:18:04.082000000",
          "2025-07-06T08:01:03.741000000",
          "2025-07-07T08:18:00.135000000",
          "2025-07-08T08:28:01.711000000",
          "2025-07-10T08:17:45.183000000",
          "2025-07-10T08:27:57.797000000",
          "2025-07-13T08:07:16.449000000",
          "2025-07-13T08:27:42.392000000",
          "2025-07-14T08:01:09.089000000",
          "2025-07-17T08:18:00.988000000",
          "2025-07-18T08:28:02.072000000",
          "2025-07-21T08:07:23.195000000",
          "2025-07-22T08:01:11.315000000",
          "2025-07-23T08:27:41.140000000",
          "2025-07-25T08:18:04.178000000",
          "2025-07-27T08:18:00.167000000",
          "2025-07-28T08:28:00.815000000",
          "2025-07-29T08:07:23.896000000",
          "2025-07-30T08:27:56.757000000",
          "2025-08-06T08:17:57.288000000",
          "2025-08-09T08:17:43.395000000",
          "2025-08-09T08:27:53.350000000",
          "2025-08-12T08:27:41.007000000",
          "2025-08-14T08:07:35.304000000",
          "2025-08-14T08:18:00.843000000",
          "2025-08-15T08:01:22.868000000",
          "2025-08-16T08:17:54.653000000",
          "2025-08-17T08:27:58.298000000",
          "2025-08-19T08:17:43.897000000",
          "2025-08-19T08:27:52.502000000",
          "2025-08-22T08:07:34.465000000",
          "2025-08-22T08:27:40.993000000",
          "2025-08-23T08:01:27.392000000",
          "2025-08-27T08:27:58.068000000",
          "2025-08-29T08:17:42.712000000",
          "2025-08-29T08:27:53.365000000",
          "2025-08-30T08:07:38.660000000",
          "2025-09-01T08:27:39.121000000",
          "2025-09-03T08:17:59.281000000",
          "2025-09-05T08:17:55.043000000",
          "2025-09-06T08:27:55.344000000",
          "2025-09-13T08:17:55.221000000",
          "2025-09-15T08:07:44.436000000",
          "2025-09-15T08:17:54.970000000",
          "2025-09-23T08:07:45.470000000",
          "2025-09-23T08:17:56.011000000",
          "2025-09-24T08:01:36.592000000",
          "2025-09-25T08:17:57.104000000",
          "2025-10-03T08:17:56.890000000",
          "2025-04-05T18:19:24.531000000",
          "2025-04-06T18:13:26.317000000",
          "2025-04-09T18:32:50.532000000",
          "2025-04-13T18:19:38.428000000",
          "2025-04-14T18:13:08.438000000",
          "2025-04-19T18:32:48.996000000",
          "2025-04-21T18:19:11.825000000",
          "2025-04-21T18:32:41.587000000",
          "2025-04-22T18:13:20.903000000",
          "2025-04-22T18:42:45.679000000",
          "2025-04-29T18:19:29.806000000",
          "2025-04-29T18:32:53.170000000",
          "2025-05-02T18:42:45.316000000",
          "2025-05-07T18:19:08.714000000",
          "2025-05-08T18:13:14.192000000",
          "2025-05-09T18:32:46.926000000",
          "2025-05-19T18:32:45.641000000",
          "2025-05-23T18:19:13.595000000",
          "2025-05-24T18:13:04.423000000",
          "2025-05-27T18:42:25.199000000",
          "2025-05-31T18:19:12.361000000",
          "2025-05-31T18:32:44.961000000",
          "2025-06-06T18:42:23.626000000",
          "2025-06-08T18:19:17.866000000",
          "2025-06-08T18:32:48.187000000",
          "2025-06-09T18:13:04.215000000",
          "2025-06-13T18:32:26.113000000",
          "2025-06-16T18:19:21.646000000",
          "2025-06-16T18:42:23.406000000",
          "2025-06-17T18:13:14.911000000",
          "2025-06-18T18:32:46.230000000",
          "2025-06-23T18:32:32.678000000",
          "2025-06-23T18:42:38.753000000",
          "2025-06-24T18:19:29.457000000",
          "2025-06-25T18:13:16.135000000",
          "2025-06-28T18:32:48.982000000",
          "2025-07-06T18:42:27.415000000",
          "2025-07-08T18:32:50.792000000",
          "2025-07-10T18:19:32.246000000",
          "2025-07-10T18:32:46.869000000",
          "2025-07-11T18:13:19.036000000",
          "2025-07-11T18:42:47.082000000",
          "2025-07-13T18:42:43.189000000",
          "2025-07-16T18:42:27.220000000",
          "2025-07-27T18:13:27.661000000",
          "2025-07-28T18:32:49.752000000",
          "2025-07-30T18:32:45.680000000",
          "2025-07-31T18:42:44.991000000",
          "2025-08-02T18:32:28.277000000",
          "2025-08-02T18:42:40.868000000",
          "2025-08-03T18:19:41.784000000",
          "2025-08-05T18:42:25.083000000",
          "2025-08-11T18:19:47.275000000",
          "2025-08-12T18:13:38.370000000",
          "2025-08-12T18:32:30.057000000",
          "2025-08-15T18:42:26.259000000",
          "2025-08-19T18:19:52.205000000",
          "2025-08-19T18:32:41.596000000",
          "2025-08-22T18:32:29.981000000",
          "2025-08-22T18:42:38.098000000",
          "2025-08-30T18:42:42.566000000",
          "2025-09-01T18:32:22.352000000",
          "2025-09-05T18:13:42.390000000",
          "2025-09-08T18:32:40.229000000",
          "2025-09-11T18:32:26.507000000",
          "2025-09-11T18:42:36.040000000",
          "2025-09-12T18:19:54.747000000",
          "2025-09-13T18:13:48.425000000",
          "2025-09-16T18:32:40.827000000",
          "2025-09-20T18:20:00.185000000",
          "2025-09-24T18:42:23.581000000",
          "2025-09-26T18:32:43.138000000",
          "2025-09-29T18:13:51.672000000",
          "2025-10-01T18:32:28.130000000",
          "2025-10-01T18:42:39.581000000"
         ],
         "xaxis": "x4",
         "y": {
          "bdata": "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",
          "dtype": "f8"
         },
         "yaxis": "y4"
        }
       ],
       "layout": {
        "annotations": [
         {
          "font": {
           "size": 16
          },
          "showarrow": false,
          "text": "Trend",
          "x": 0.5,
          "xanchor": "center",
          "xref": "paper",
          "y": 1,
          "yanchor": "bottom",
          "yref": "paper"
         },
         {
          "font": {
           "size": 16
          },
          "showarrow": false,
          "text": "Yearly Seasonality",
          "x": 0.5,
          "xanchor": "center",
          "xref": "paper",
          "y": 0.73,
          "yanchor": "bottom",
          "yref": "paper"
         },
         {
          "font": {
           "size": 16
          },
          "showarrow": false,
          "text": "Weather Effects",
          "x": 0.5,
          "xanchor": "center",
          "xref": "paper",
          "y": 0.46,
          "yanchor": "bottom",
          "yref": "paper"
         },
         {
          "font": {
           "size": 16
          },
          "showarrow": false,
          "text": "Predictions vs Actual",
          "x": 0.5,
          "xanchor": "center",
          "xref": "paper",
          "y": 0.19,
          "yanchor": "bottom",
          "yref": "paper"
         }
        ],
        "height": 800,
        "showlegend": true,
        "template": {
         "data": {
          "candlestick": [
           {
            "decreasing": {
             "line": {
              "color": "#000033"
             }
            },
            "increasing": {
             "line": {
              "color": "#000032"
             }
            },
            "type": "candlestick"
           }
          ],
          "contour": [
           {
            "colorscale": [
             [
              0,
              "#000011"
             ],
             [
              0.1111111111111111,
              "#000012"
             ],
             [
              0.2222222222222222,
              "#000013"
             ],
             [
              0.3333333333333333,
              "#000014"
             ],
             [
              0.4444444444444444,
              "#000015"
             ],
             [
              0.5555555555555556,
              "#000016"
             ],
             [
              0.6666666666666666,
              "#000017"
             ],
             [
              0.7777777777777778,
              "#000018"
             ],
             [
              0.8888888888888888,
              "#000019"
             ],
             [
              1,
              "#000020"
             ]
            ],
            "type": "contour"
           }
          ],
          "contourcarpet": [
           {
            "colorscale": [
             [
              0,
              "#000011"
             ],
             [
              0.1111111111111111,
              "#000012"
             ],
             [
              0.2222222222222222,
              "#000013"
             ],
             [
              0.3333333333333333,
              "#000014"
             ],
             [
              0.4444444444444444,
              "#000015"
             ],
             [
              0.5555555555555556,
              "#000016"
             ],
             [
              0.6666666666666666,
              "#000017"
             ],
             [
              0.7777777777777778,
              "#000018"
             ],
             [
              0.8888888888888888,
              "#000019"
             ],
             [
              1,
              "#000020"
             ]
            ],
            "type": "contourcarpet"
           }
          ],
          "heatmap": [
           {
            "colorscale": [
             [
              0,
              "#000011"
             ],
             [
              0.1111111111111111,
              "#000012"
             ],
             [
              0.2222222222222222,
              "#000013"
             ],
             [
              0.3333333333333333,
              "#000014"
             ],
             [
              0.4444444444444444,
              "#000015"
             ],
             [
              0.5555555555555556,
              "#000016"
             ],
             [
              0.6666666666666666,
              "#000017"
             ],
             [
              0.7777777777777778,
              "#000018"
             ],
             [
              0.8888888888888888,
              "#000019"
             ],
             [
              1,
              "#000020"
             ]
            ],
            "type": "heatmap"
           }
          ],
          "histogram2d": [
           {
            "colorscale": [
             [
              0,
              "#000011"
             ],
             [
              0.1111111111111111,
              "#000012"
             ],
             [
              0.2222222222222222,
              "#000013"
             ],
             [
              0.3333333333333333,
              "#000014"
             ],
             [
              0.4444444444444444,
              "#000015"
             ],
             [
              0.5555555555555556,
              "#000016"
             ],
             [
              0.6666666666666666,
              "#000017"
             ],
             [
              0.7777777777777778,
              "#000018"
             ],
             [
              0.8888888888888888,
              "#000019"
             ],
             [
              1,
              "#000020"
             ]
            ],
            "type": "histogram2d"
           }
          ],
          "icicle": [
           {
            "textfont": {
             "color": "white"
            },
            "type": "icicle"
           }
          ],
          "sankey": [
           {
            "textfont": {
             "color": "#000036"
            },
            "type": "sankey"
           }
          ],
          "scatter": [
           {
            "marker": {
             "line": {
              "width": 0
             }
            },
            "type": "scatter"
           }
          ],
          "table": [
           {
            "cells": {
             "fill": {
              "color": "#000038"
             },
             "font": {
              "color": "#000037"
             },
             "line": {
              "color": "#000039"
             }
            },
            "header": {
             "fill": {
              "color": "#000040"
             },
             "font": {
              "color": "#000036"
             },
             "line": {
              "color": "#000039"
             }
            },
            "type": "table"
           }
          ],
          "waterfall": [
           {
            "connector": {
             "line": {
              "color": "#000036",
              "width": 2
             }
            },
            "decreasing": {
             "marker": {
              "color": "#000033"
             }
            },
            "increasing": {
             "marker": {
              "color": "#000032"
             }
            },
            "totals": {
             "marker": {
              "color": "#000034"
             }
            },
            "type": "waterfall"
           }
          ]
         },
         "layout": {
          "coloraxis": {
           "colorscale": [
            [
             0,
             "#000011"
            ],
            [
             0.1111111111111111,
             "#000012"
            ],
            [
             0.2222222222222222,
             "#000013"
            ],
            [
             0.3333333333333333,
             "#000014"
            ],
            [
             0.4444444444444444,
             "#000015"
            ],
            [
             0.5555555555555556,
             "#000016"
            ],
            [
             0.6666666666666666,
             "#000017"
            ],
            [
             0.7777777777777778,
             "#000018"
            ],
            [
             0.8888888888888888,
             "#000019"
            ],
            [
             1,
             "#000020"
            ]
           ]
          },
          "colorscale": {
           "diverging": [
            [
             0,
             "#000021"
            ],
            [
             0.1,
             "#000022"
            ],
            [
             0.2,
             "#000023"
            ],
            [
             0.3,
             "#000024"
            ],
            [
             0.4,
             "#000025"
            ],
            [
             0.5,
             "#000026"
            ],
            [
             0.6,
             "#000027"
            ],
            [
             0.7,
             "#000028"
            ],
            [
             0.8,
             "#000029"
            ],
            [
             0.9,
             "#000030"
            ],
            [
             1,
             "#000031"
            ]
           ],
           "sequential": [
            [
             0,
             "#000011"
            ],
            [
             0.1111111111111111,
             "#000012"
            ],
            [
             0.2222222222222222,
             "#000013"
            ],
            [
             0.3333333333333333,
             "#000014"
            ],
            [
             0.4444444444444444,
             "#000015"
            ],
            [
             0.5555555555555556,
             "#000016"
            ],
            [
             0.6666666666666666,
             "#000017"
            ],
            [
             0.7777777777777778,
             "#000018"
            ],
            [
             0.8888888888888888,
             "#000019"
            ],
            [
             1,
             "#000020"
            ]
           ],
           "sequentialminus": [
            [
             0,
             "#000011"
            ],
            [
             0.1111111111111111,
             "#000012"
            ],
            [
             0.2222222222222222,
             "#000013"
            ],
            [
             0.3333333333333333,
             "#000014"
            ],
            [
             0.4444444444444444,
             "#000015"
            ],
            [
             0.5555555555555556,
             "#000016"
            ],
            [
             0.6666666666666666,
             "#000017"
            ],
            [
             0.7777777777777778,
             "#000018"
            ],
            [
             0.8888888888888888,
             "#000019"
            ],
            [
             1,
             "#000020"
            ]
           ]
          },
          "colorway": [
           "#000001",
           "#000002",
           "#000003",
           "#000004",
           "#000005",
           "#000006",
           "#000007",
           "#000008",
           "#000009",
           "#000010"
          ]
         }
        },
        "title": {
         "text": "Prophet Model Components Analysis"
        },
        "xaxis": {
         "anchor": "y",
         "domain": [
          0,
          1
         ],
         "matches": "x4",
         "showticklabels": false
        },
        "xaxis2": {
         "anchor": "y2",
         "domain": [
          0,
          1
         ],
         "matches": "x4",
         "showticklabels": false
        },
        "xaxis3": {
         "anchor": "y3",
         "domain": [
          0,
          1
         ],
         "matches": "x4",
         "showticklabels": false
        },
        "xaxis4": {
         "anchor": "y4",
         "domain": [
          0,
          1
         ]
        },
        "yaxis": {
         "anchor": "x",
         "domain": [
          0.81,
          1
         ]
        },
        "yaxis2": {
         "anchor": "x2",
         "domain": [
          0.54,
          0.73
         ]
        },
        "yaxis3": {
         "anchor": "x3",
         "domain": [
          0.27,
          0.46
         ]
        },
        "yaxis4": {
         "anchor": "x4",
         "domain": [
          0,
          0.19
         ]
        }
       }
      }
     },
     "metadata": {},
     "output_type": "display_data"
    },
    {
     "name": "stdout",
     "output_type": "stream",
     "text": [
      "📊 Creating weather effects visualization...\n"
     ]
    },
    {
     "data": {
      "application/vnd.plotly.v1+json": {
       "config": {
        "plotlyServerURL": "https://plot.ly"
       },
       "data": [
        {
         "line": {
          "width": 2
         },
         "name": "Temperature Mean",
         "type": "scatter",
         "x": [
          "2025-01-01T00:00:00.000000000",
          "2025-01-17T00:00:00.000000000",
          "2025-02-02T00:00:00.000000000",
          "2025-02-18T00:00:00.000000000",
          "2025-03-06T00:00:00.000000000",
          "2025-03-22T00:00:00.000000000",
          "2025-04-07T00:00:00.000000000",
          "2025-04-23T00:00:00.000000000",
          "2025-05-09T00:00:00.000000000",
          "2025-05-25T00:00:00.000000000",
          "2025-06-10T00:00:00.000000000",
          "2025-06-26T00:00:00.000000000",
          "2025-07-12T00:00:00.000000000",
          "2025-07-28T00:00:00.000000000",
          "2025-08-13T00:00:00.000000000",
          "2025-08-29T00:00:00.000000000",
          "2025-09-14T00:00:00.000000000",
          "2025-09-30T00:00:00.000000000",
          "2025-10-16T00:00:00.000000000",
          "2025-11-01T00:00:00.000000000",
          "2025-11-17T00:00:00.000000000",
          "2025-12-03T00:00:00.000000000",
          "2025-12-19T00:00:00.000000000",
          "2026-01-04T00:00:00.000000000"
         ],
         "xaxis": "x",
         "y": {
          "bdata": "ytJsoHX6Zz96rymymM50P1uzdpGIjnY/qWZSHPDweT+xvLz/YaVoP40vWI0pHlk/3ysm0NbRYT9GNFQre1NJv41dg+RscTQ/ZJdJ1KuhJL+x7XnCEhVov4K0dw9olHK/JEACXzkgbr83P1OJaP1zv0U8tX9JYGy/opgswVRiYr+f8XsR6Utlv6kYB/nHHWC/rSUnVMD7Wr+tJSdUwPtav60lJ1TA+1q/rSUnVMD7Wr+tJSdUwPtav60lJ1TA+1q/",
          "dtype": "f8"
         },
         "yaxis": "y"
        },
        {
         "line": {
          "width": 2
         },
         "name": "Humidity",
         "type": "scatter",
         "x": [
          "2025-01-01T00:00:00.000000000",
          "2025-01-17T00:00:00.000000000",
          "2025-02-02T00:00:00.000000000",
          "2025-02-18T00:00:00.000000000",
          "2025-03-06T00:00:00.000000000",
          "2025-03-22T00:00:00.000000000",
          "2025-04-07T00:00:00.000000000",
          "2025-04-23T00:00:00.000000000",
          "2025-05-09T00:00:00.000000000",
          "2025-05-25T00:00:00.000000000",
          "2025-06-10T00:00:00.000000000",
          "2025-06-26T00:00:00.000000000",
          "2025-07-12T00:00:00.000000000",
          "2025-07-28T00:00:00.000000000",
          "2025-08-13T00:00:00.000000000",
          "2025-08-29T00:00:00.000000000",
          "2025-09-14T00:00:00.000000000",
          "2025-09-30T00:00:00.000000000",
          "2025-10-16T00:00:00.000000000",
          "2025-11-01T00:00:00.000000000",
          "2025-11-17T00:00:00.000000000",
          "2025-12-03T00:00:00.000000000",
          "2025-12-19T00:00:00.000000000",
          "2026-01-04T00:00:00.000000000"
         ],
         "xaxis": "x2",
         "y": {
          "bdata": "gU6EX8DuVT9i4U+M22RYP+apfSIsPFA/2U2kzUEhRL/AcL/yR0NHPwc7ySx0Zyc/jKmYjK7tZT8pJypV36Yxv+pU9DQgoWQ/nJUeTMHLQj9pVh8LSqxaP/GvExVQOFs/H3+/wO8aZD/mqX0iLDxQPyHq4Jp/imU/+7SirKKdyz6Sp1zp58hRPz3Vju6ncls/71c/LjIfaj/vVz8uMh9qP+9XPy4yH2o/71c/LjIfaj/vVz8uMh9qP+9XPy4yH2o/",
          "dtype": "f8"
         },
         "yaxis": "y2"
        },
        {
         "line": {
          "width": 2
         },
         "name": "Growing Degree Days",
         "type": "scatter",
         "x": [
          "2025-01-01T00:00:00.000000000",
          "2025-01-17T00:00:00.000000000",
          "2025-02-02T00:00:00.000000000",
          "2025-02-18T00:00:00.000000000",
          "2025-03-06T00:00:00.000000000",
          "2025-03-22T00:00:00.000000000",
          "2025-04-07T00:00:00.000000000",
          "2025-04-23T00:00:00.000000000",
          "2025-05-09T00:00:00.000000000",
          "2025-05-25T00:00:00.000000000",
          "2025-06-10T00:00:00.000000000",
          "2025-06-26T00:00:00.000000000",
          "2025-07-12T00:00:00.000000000",
          "2025-07-28T00:00:00.000000000",
          "2025-08-13T00:00:00.000000000",
          "2025-08-29T00:00:00.000000000",
          "2025-09-14T00:00:00.000000000",
          "2025-09-30T00:00:00.000000000",
          "2025-10-16T00:00:00.000000000",
          "2025-11-01T00:00:00.000000000",
          "2025-11-17T00:00:00.000000000",
          "2025-12-03T00:00:00.000000000",
          "2025-12-19T00:00:00.000000000",
          "2026-01-04T00:00:00.000000000"
         ],
         "xaxis": "x3",
         "y": {
          "bdata": "zjgdZitEZ7/OOB1mK0Rnv844HWYrRGe/zjgdZitEZ7/OOB1mK0Rnv4MUetuRfWW/zjgdZitEZ79yqNDR4in8vpFAm+4GdFS/l0RZd+CWR78Oh3usaMRjPzis2uz3PnE/YoAoAX2Saj9FxL4idNVyP3QaeWUdmmg/ASLO88CzWj9Nl4KqZKFgP1LMJVZdmFU/EDUvBn1eTz8QNS8GfV5PPxA1LwZ9Xk8/EDUvBn1eTz8QNS8GfV5PPxA1LwZ9Xk8/",
          "dtype": "f8"
         },
         "yaxis": "y3"
        },
        {
         "line": {
          "width": 2
         },
         "name": "Vapor Pressure Deficit",
         "type": "scatter",
         "x": [
          "2025-01-01T00:00:00.000000000",
          "2025-01-17T00:00:00.000000000",
          "2025-02-02T00:00:00.000000000",
          "2025-02-18T00:00:00.000000000",
          "2025-03-06T00:00:00.000000000",
          "2025-03-22T00:00:00.000000000",
          "2025-04-07T00:00:00.000000000",
          "2025-04-23T00:00:00.000000000",
          "2025-05-09T00:00:00.000000000",
          "2025-05-25T00:00:00.000000000",
          "2025-06-10T00:00:00.000000000",
          "2025-06-26T00:00:00.000000000",
          "2025-07-12T00:00:00.000000000",
          "2025-07-28T00:00:00.000000000",
          "2025-08-13T00:00:00.000000000",
          "2025-08-29T00:00:00.000000000",
          "2025-09-14T00:00:00.000000000",
          "2025-09-30T00:00:00.000000000",
          "2025-10-16T00:00:00.000000000",
          "2025-11-01T00:00:00.000000000",
          "2025-11-17T00:00:00.000000000",
          "2025-12-03T00:00:00.000000000",
          "2025-12-19T00:00:00.000000000",
          "2026-01-04T00:00:00.000000000"
         ],
         "xaxis": "x4",
         "y": {
          "bdata": "b2Uyssy6er8SAymetp5+v4cd3zp8x32/fHa9mPJCe7/Rebw5Ggd4v/Rim3fxj3C/mKFUE/EvgL93sJlpwQQ1v2onoq7Ccn2/qNTq3b2YaL8JklVbsIFmvwUZ178trU6/Ncwwbywedb+Bz+xg6epmP/zzRTsrZni/hivNveCKWD+oh0m75vdVv1F+5Nxhp2+/MYDHnTX7gL8xgMedNfuAvzGAx501+4C/MYDHnTX7gL8xgMedNfuAvzGAx501+4C/",
          "dtype": "f8"
         },
         "yaxis": "y4"
        },
        {
         "line": {
          "width": 2
         },
         "name": "Precipitation",
         "type": "scatter",
         "x": [
          "2025-01-01T00:00:00.000000000",
          "2025-01-17T00:00:00.000000000",
          "2025-02-02T00:00:00.000000000",
          "2025-02-18T00:00:00.000000000",
          "2025-03-06T00:00:00.000000000",
          "2025-03-22T00:00:00.000000000",
          "2025-04-07T00:00:00.000000000",
          "2025-04-23T00:00:00.000000000",
          "2025-05-09T00:00:00.000000000",
          "2025-05-25T00:00:00.000000000",
          "2025-06-10T00:00:00.000000000",
          "2025-06-26T00:00:00.000000000",
          "2025-07-12T00:00:00.000000000",
          "2025-07-28T00:00:00.000000000",
          "2025-08-13T00:00:00.000000000",
          "2025-08-29T00:00:00.000000000",
          "2025-09-14T00:00:00.000000000",
          "2025-09-30T00:00:00.000000000",
          "2025-10-16T00:00:00.000000000",
          "2025-11-01T00:00:00.000000000",
          "2025-11-17T00:00:00.000000000",
          "2025-12-03T00:00:00.000000000",
          "2025-12-19T00:00:00.000000000",
          "2026-01-04T00:00:00.000000000"
         ],
         "xaxis": "x5",
         "y": {
          "bdata": "ZCmDAUa1Wj/hIwn2w0lkP/2+DOz23kS/HWsRlRPfUb/KJ/SSDeoxP5cNgzDqn2G/pfE4X0+yYD/EfNwz8ktbP3fOBnIVEzA/Wl3jOBuzYz9rqpDvHeRYv6jOQl8D+2G/zCe5hncAST84zZDa4FNnvyL40PkLvna/mgWZM5VsQz+WfAzG405YPwg2gP7EBmQ/LxBbR/PfUT8vEFtH899RPy8QW0fz31E/LxBbR/PfUT8vEFtH899RPy8QW0fz31E/",
          "dtype": "f8"
         },
         "yaxis": "y5"
        }
       ],
       "layout": {
        "annotations": [
         {
          "font": {
           "size": 16
          },
          "showarrow": false,
          "text": "Temperature Mean Effect",
          "x": 0.5,
          "xanchor": "center",
          "xref": "paper",
          "y": 1,
          "yanchor": "bottom",
          "yref": "paper"
         },
         {
          "font": {
           "size": 16
          },
          "showarrow": false,
          "text": "Humidity Effect",
          "x": 0.5,
          "xanchor": "center",
          "xref": "paper",
          "y": 0.79,
          "yanchor": "bottom",
          "yref": "paper"
         },
         {
          "font": {
           "size": 16
          },
          "showarrow": false,
          "text": "Growing Degree Days Effect",
          "x": 0.5,
          "xanchor": "center",
          "xref": "paper",
          "y": 0.5800000000000001,
          "yanchor": "bottom",
          "yref": "paper"
         },
         {
          "font": {
           "size": 16
          },
          "showarrow": false,
          "text": "Vapor Pressure Deficit Effect",
          "x": 0.5,
          "xanchor": "center",
          "xref": "paper",
          "y": 0.37,
          "yanchor": "bottom",
          "yref": "paper"
         },
         {
          "font": {
           "size": 16
          },
          "showarrow": false,
          "text": "Precipitation Effect",
          "x": 0.5,
          "xanchor": "center",
          "xref": "paper",
          "y": 0.16,
          "yanchor": "bottom",
          "yref": "paper"
         }
        ],
        "height": 750,
        "showlegend": false,
        "template": {
         "data": {
          "candlestick": [
           {
            "decreasing": {
             "line": {
              "color": "#000033"
             }
            },
            "increasing": {
             "line": {
              "color": "#000032"
             }
            },
            "type": "candlestick"
           }
          ],
          "contour": [
           {
            "colorscale": [
             [
              0,
              "#000011"
             ],
             [
              0.1111111111111111,
              "#000012"
             ],
             [
              0.2222222222222222,
              "#000013"
             ],
             [
              0.3333333333333333,
              "#000014"
             ],
             [
              0.4444444444444444,
              "#000015"
             ],
             [
              0.5555555555555556,
              "#000016"
             ],
             [
              0.6666666666666666,
              "#000017"
             ],
             [
              0.7777777777777778,
              "#000018"
             ],
             [
              0.8888888888888888,
              "#000019"
             ],
             [
              1,
              "#000020"
             ]
            ],
            "type": "contour"
           }
          ],
          "contourcarpet": [
           {
            "colorscale": [
             [
              0,
              "#000011"
             ],
             [
              0.1111111111111111,
              "#000012"
             ],
             [
              0.2222222222222222,
              "#000013"
             ],
             [
              0.3333333333333333,
              "#000014"
             ],
             [
              0.4444444444444444,
              "#000015"
             ],
             [
              0.5555555555555556,
              "#000016"
             ],
             [
              0.6666666666666666,
              "#000017"
             ],
             [
              0.7777777777777778,
              "#000018"
             ],
             [
              0.8888888888888888,
              "#000019"
             ],
             [
              1,
              "#000020"
             ]
            ],
            "type": "contourcarpet"
           }
          ],
          "heatmap": [
           {
            "colorscale": [
             [
              0,
              "#000011"
             ],
             [
              0.1111111111111111,
              "#000012"
             ],
             [
              0.2222222222222222,
              "#000013"
             ],
             [
              0.3333333333333333,
              "#000014"
             ],
             [
              0.4444444444444444,
              "#000015"
             ],
             [
              0.5555555555555556,
              "#000016"
             ],
             [
              0.6666666666666666,
              "#000017"
             ],
             [
              0.7777777777777778,
              "#000018"
             ],
             [
              0.8888888888888888,
              "#000019"
             ],
             [
              1,
              "#000020"
             ]
            ],
            "type": "heatmap"
           }
          ],
          "histogram2d": [
           {
            "colorscale": [
             [
              0,
              "#000011"
             ],
             [
              0.1111111111111111,
              "#000012"
             ],
             [
              0.2222222222222222,
              "#000013"
             ],
             [
              0.3333333333333333,
              "#000014"
             ],
             [
              0.4444444444444444,
              "#000015"
             ],
             [
              0.5555555555555556,
              "#000016"
             ],
             [
              0.6666666666666666,
              "#000017"
             ],
             [
              0.7777777777777778,
              "#000018"
             ],
             [
              0.8888888888888888,
              "#000019"
             ],
             [
              1,
              "#000020"
             ]
            ],
            "type": "histogram2d"
           }
          ],
          "icicle": [
           {
            "textfont": {
             "color": "white"
            },
            "type": "icicle"
           }
          ],
          "sankey": [
           {
            "textfont": {
             "color": "#000036"
            },
            "type": "sankey"
           }
          ],
          "scatter": [
           {
            "marker": {
             "line": {
              "width": 0
             }
            },
            "type": "scatter"
           }
          ],
          "table": [
           {
            "cells": {
             "fill": {
              "color": "#000038"
             },
             "font": {
              "color": "#000037"
             },
             "line": {
              "color": "#000039"
             }
            },
            "header": {
             "fill": {
              "color": "#000040"
             },
             "font": {
              "color": "#000036"
             },
             "line": {
              "color": "#000039"
             }
            },
            "type": "table"
           }
          ],
          "waterfall": [
           {
            "connector": {
             "line": {
              "color": "#000036",
              "width": 2
             }
            },
            "decreasing": {
             "marker": {
              "color": "#000033"
             }
            },
            "increasing": {
             "marker": {
              "color": "#000032"
             }
            },
            "totals": {
             "marker": {
              "color": "#000034"
             }
            },
            "type": "waterfall"
           }
          ]
         },
         "layout": {
          "coloraxis": {
           "colorscale": [
            [
             0,
             "#000011"
            ],
            [
             0.1111111111111111,
             "#000012"
            ],
            [
             0.2222222222222222,
             "#000013"
            ],
            [
             0.3333333333333333,
             "#000014"
            ],
            [
             0.4444444444444444,
             "#000015"
            ],
            [
             0.5555555555555556,
             "#000016"
            ],
            [
             0.6666666666666666,
             "#000017"
            ],
            [
             0.7777777777777778,
             "#000018"
            ],
            [
             0.8888888888888888,
             "#000019"
            ],
            [
             1,
             "#000020"
            ]
           ]
          },
          "colorscale": {
           "diverging": [
            [
             0,
             "#000021"
            ],
            [
             0.1,
             "#000022"
            ],
            [
             0.2,
             "#000023"
            ],
            [
             0.3,
             "#000024"
            ],
            [
             0.4,
             "#000025"
            ],
            [
             0.5,
             "#000026"
            ],
            [
             0.6,
             "#000027"
            ],
            [
             0.7,
             "#000028"
            ],
            [
             0.8,
             "#000029"
            ],
            [
             0.9,
             "#000030"
            ],
            [
             1,
             "#000031"
            ]
           ],
           "sequential": [
            [
             0,
             "#000011"
            ],
            [
             0.1111111111111111,
             "#000012"
            ],
            [
             0.2222222222222222,
             "#000013"
            ],
            [
             0.3333333333333333,
             "#000014"
            ],
            [
             0.4444444444444444,
             "#000015"
            ],
            [
             0.5555555555555556,
             "#000016"
            ],
            [
             0.6666666666666666,
             "#000017"
            ],
            [
             0.7777777777777778,
             "#000018"
            ],
            [
             0.8888888888888888,
             "#000019"
            ],
            [
             1,
             "#000020"
            ]
           ],
           "sequentialminus": [
            [
             0,
             "#000011"
            ],
            [
             0.1111111111111111,
             "#000012"
            ],
            [
             0.2222222222222222,
             "#000013"
            ],
            [
             0.3333333333333333,
             "#000014"
            ],
            [
             0.4444444444444444,
             "#000015"
            ],
            [
             0.5555555555555556,
             "#000016"
            ],
            [
             0.6666666666666666,
             "#000017"
            ],
            [
             0.7777777777777778,
             "#000018"
            ],
            [
             0.8888888888888888,
             "#000019"
            ],
            [
             1,
             "#000020"
            ]
           ]
          },
          "colorway": [
           "#000001",
           "#000002",
           "#000003",
           "#000004",
           "#000005",
           "#000006",
           "#000007",
           "#000008",
           "#000009",
           "#000010"
          ]
         }
        },
        "title": {
         "text": "Weather Regressor Effects on NDVI Predictions"
        },
        "xaxis": {
         "anchor": "y",
         "domain": [
          0,
          1
         ],
         "matches": "x5",
         "showticklabels": false
        },
        "xaxis2": {
         "anchor": "y2",
         "domain": [
          0,
          1
         ],
         "matches": "x5",
         "showticklabels": false
        },
        "xaxis3": {
         "anchor": "y3",
         "domain": [
          0,
          1
         ],
         "matches": "x5",
         "showticklabels": false
        },
        "xaxis4": {
         "anchor": "y4",
         "domain": [
          0,
          1
         ],
         "matches": "x5",
         "showticklabels": false
        },
        "xaxis5": {
         "anchor": "y5",
         "domain": [
          0,
          1
         ]
        },
        "yaxis": {
         "anchor": "x",
         "domain": [
          0.8400000000000001,
          1
         ]
        },
        "yaxis2": {
         "anchor": "x2",
         "domain": [
          0.63,
          0.79
         ]
        },
        "yaxis3": {
         "anchor": "x3",
         "domain": [
          0.42000000000000004,
          0.5800000000000001
         ]
        },
        "yaxis4": {
         "anchor": "x4",
         "domain": [
          0.21000000000000002,
          0.37
         ]
        },
        "yaxis5": {
         "anchor": "x5",
         "domain": [
          0,
          0.16
         ]
        }
       }
      }
     },
     "metadata": {},
     "output_type": "display_data"
    },
    {
     "name": "stdout",
     "output_type": "stream",
     "text": [
      "📊 Creating performance metrics visualization...\n"
     ]
    },
    {
     "data": {
      "application/vnd.plotly.v1+json": {
       "config": {
        "plotlyServerURL": "https://plot.ly"
       },
       "data": [
        {
         "marker": {
          "color": [
           "lightblue",
           "lightgreen",
           "lightcoral"
          ]
         },
         "type": "bar",
         "x": [
          "MAE",
          "RMSE",
          "MAPE (%)"
         ],
         "y": [
          0.10347203473243854,
          0.12821483231308037,
          17.38462637609582
         ]
        }
       ],
       "layout": {
        "height": 400,
        "template": {
         "data": {
          "candlestick": [
           {
            "decreasing": {
             "line": {
              "color": "#000033"
             }
            },
            "increasing": {
             "line": {
              "color": "#000032"
             }
            },
            "type": "candlestick"
           }
          ],
          "contour": [
           {
            "colorscale": [
             [
              0,
              "#000011"
             ],
             [
              0.1111111111111111,
              "#000012"
             ],
             [
              0.2222222222222222,
              "#000013"
             ],
             [
              0.3333333333333333,
              "#000014"
             ],
             [
              0.4444444444444444,
              "#000015"
             ],
             [
              0.5555555555555556,
              "#000016"
             ],
             [
              0.6666666666666666,
              "#000017"
             ],
             [
              0.7777777777777778,
              "#000018"
             ],
             [
              0.8888888888888888,
              "#000019"
             ],
             [
              1,
              "#000020"
             ]
            ],
            "type": "contour"
           }
          ],
          "contourcarpet": [
           {
            "colorscale": [
             [
              0,
              "#000011"
             ],
             [
              0.1111111111111111,
              "#000012"
             ],
             [
              0.2222222222222222,
              "#000013"
             ],
             [
              0.3333333333333333,
              "#000014"
             ],
             [
              0.4444444444444444,
              "#000015"
             ],
             [
              0.5555555555555556,
              "#000016"
             ],
             [
              0.6666666666666666,
              "#000017"
             ],
             [
              0.7777777777777778,
              "#000018"
             ],
             [
              0.8888888888888888,
              "#000019"
             ],
             [
              1,
              "#000020"
             ]
            ],
            "type": "contourcarpet"
           }
          ],
          "heatmap": [
           {
            "colorscale": [
             [
              0,
              "#000011"
             ],
             [
              0.1111111111111111,
              "#000012"
             ],
             [
              0.2222222222222222,
              "#000013"
             ],
             [
              0.3333333333333333,
              "#000014"
             ],
             [
              0.4444444444444444,
              "#000015"
             ],
             [
              0.5555555555555556,
              "#000016"
             ],
             [
              0.6666666666666666,
              "#000017"
             ],
             [
              0.7777777777777778,
              "#000018"
             ],
             [
              0.8888888888888888,
              "#000019"
             ],
             [
              1,
              "#000020"
             ]
            ],
            "type": "heatmap"
           }
          ],
          "histogram2d": [
           {
            "colorscale": [
             [
              0,
              "#000011"
             ],
             [
              0.1111111111111111,
              "#000012"
             ],
             [
              0.2222222222222222,
              "#000013"
             ],
             [
              0.3333333333333333,
              "#000014"
             ],
             [
              0.4444444444444444,
              "#000015"
             ],
             [
              0.5555555555555556,
              "#000016"
             ],
             [
              0.6666666666666666,
              "#000017"
             ],
             [
              0.7777777777777778,
              "#000018"
             ],
             [
              0.8888888888888888,
              "#000019"
             ],
             [
              1,
              "#000020"
             ]
            ],
            "type": "histogram2d"
           }
          ],
          "icicle": [
           {
            "textfont": {
             "color": "white"
            },
            "type": "icicle"
           }
          ],
          "sankey": [
           {
            "textfont": {
             "color": "#000036"
            },
            "type": "sankey"
           }
          ],
          "scatter": [
           {
            "marker": {
             "line": {
              "width": 0
             }
            },
            "type": "scatter"
           }
          ],
          "table": [
           {
            "cells": {
             "fill": {
              "color": "#000038"
             },
             "font": {
              "color": "#000037"
             },
             "line": {
              "color": "#000039"
             }
            },
            "header": {
             "fill": {
              "color": "#000040"
             },
             "font": {
              "color": "#000036"
             },
             "line": {
              "color": "#000039"
             }
            },
            "type": "table"
           }
          ],
          "waterfall": [
           {
            "connector": {
             "line": {
              "color": "#000036",
              "width": 2
             }
            },
            "decreasing": {
             "marker": {
              "color": "#000033"
             }
            },
            "increasing": {
             "marker": {
              "color": "#000032"
             }
            },
            "totals": {
             "marker": {
              "color": "#000034"
             }
            },
            "type": "waterfall"
           }
          ]
         },
         "layout": {
          "coloraxis": {
           "colorscale": [
            [
             0,
             "#000011"
            ],
            [
             0.1111111111111111,
             "#000012"
            ],
            [
             0.2222222222222222,
             "#000013"
            ],
            [
             0.3333333333333333,
             "#000014"
            ],
            [
             0.4444444444444444,
             "#000015"
            ],
            [
             0.5555555555555556,
             "#000016"
            ],
            [
             0.6666666666666666,
             "#000017"
            ],
            [
             0.7777777777777778,
             "#000018"
            ],
            [
             0.8888888888888888,
             "#000019"
            ],
            [
             1,
             "#000020"
            ]
           ]
          },
          "colorscale": {
           "diverging": [
            [
             0,
             "#000021"
            ],
            [
             0.1,
             "#000022"
            ],
            [
             0.2,
             "#000023"
            ],
            [
             0.3,
             "#000024"
            ],
            [
             0.4,
             "#000025"
            ],
            [
             0.5,
             "#000026"
            ],
            [
             0.6,
             "#000027"
            ],
            [
             0.7,
             "#000028"
            ],
            [
             0.8,
             "#000029"
            ],
            [
             0.9,
             "#000030"
            ],
            [
             1,
             "#000031"
            ]
           ],
           "sequential": [
            [
             0,
             "#000011"
            ],
            [
             0.1111111111111111,
             "#000012"
            ],
            [
             0.2222222222222222,
             "#000013"
            ],
            [
             0.3333333333333333,
             "#000014"
            ],
            [
             0.4444444444444444,
             "#000015"
            ],
            [
             0.5555555555555556,
             "#000016"
            ],
            [
             0.6666666666666666,
             "#000017"
            ],
            [
             0.7777777777777778,
             "#000018"
            ],
            [
             0.8888888888888888,
             "#000019"
            ],
            [
             1,
             "#000020"
            ]
           ],
           "sequentialminus": [
            [
             0,
             "#000011"
            ],
            [
             0.1111111111111111,
             "#000012"
            ],
            [
             0.2222222222222222,
             "#000013"
            ],
            [
             0.3333333333333333,
             "#000014"
            ],
            [
             0.4444444444444444,
             "#000015"
            ],
            [
             0.5555555555555556,
             "#000016"
            ],
            [
             0.6666666666666666,
             "#000017"
            ],
            [
             0.7777777777777778,
             "#000018"
            ],
            [
             0.8888888888888888,
             "#000019"
            ],
            [
             1,
             "#000020"
            ]
           ]
          },
          "colorway": [
           "#000001",
           "#000002",
           "#000003",
           "#000004",
           "#000005",
           "#000006",
           "#000007",
           "#000008",
           "#000009",
           "#000010"
          ]
         }
        },
        "title": {
         "text": "Model Performance Metrics"
        },
        "yaxis": {
         "title": {
          "text": "Error Value"
         }
        }
       }
      }
     },
     "metadata": {},
     "output_type": "display_data"
    },
    {
     "name": "stdout",
     "output_type": "stream",
     "text": [
      "✅ All visualizations created successfully!\n"
     ]
    }
   ],
   "source": [
    "if model is not None and forecast is not None:\n",
    "    print(\"📊 Creating visualizations...\")\n",
    "    \n",
    "    # 1. Main prediction plot with Plotly\n",
    "    fig_main = go.Figure()\n",
    "    \n",
    "    # Historical data\n",
    "    fig_main.add_trace(go.Scatter(\n",
    "        x=train_df['ds'],\n",
    "        y=train_df['y'],\n",
    "        mode='markers',\n",
    "        name='Historical NDVI',\n",
    "        marker=dict(color='blue', size=6),\n",
    "        hovertemplate='Date: %{x}<br>NDVI: %{y:.3f}<extra></extra>'\n",
    "    ))\n",
    "    \n",
    "    # Historical predictions\n",
    "    if historical_forecast is not None:\n",
    "        fig_main.add_trace(go.Scatter(\n",
    "            x=historical_forecast['ds'],\n",
    "            y=historical_forecast['yhat'],\n",
    "            mode='lines',\n",
    "            name='Historical Fit',\n",
    "            line=dict(color='lightblue', width=2),\n",
    "            hovertemplate='Date: %{x}<br>Predicted: %{y:.3f}<extra></extra>'\n",
    "        ))\n",
    "    \n",
    "    # Future predictions\n",
    "    fig_main.add_trace(go.Scatter(\n",
    "        x=forecast['ds'],\n",
    "        y=forecast['yhat'],\n",
    "        mode='lines+markers',\n",
    "        name=f'{CURRENT_YEAR} Predictions',\n",
    "        line=dict(color='red', width=3),\n",
    "        marker=dict(size=8),\n",
    "        hovertemplate='Date: %{x}<br>Predicted NDVI: %{y:.3f}<extra></extra>'\n",
    "    ))\n",
    "    \n",
    "    # Confidence intervals\n",
    "    fig_main.add_trace(go.Scatter(\n",
    "        x=forecast['ds'],\n",
    "        y=forecast['yhat_upper'],\n",
    "        mode='lines',\n",
    "        line=dict(width=0),\n",
    "        showlegend=False,\n",
    "        hoverinfo='skip'\n",
    "    ))\n",
    "    \n",
    "    fig_main.add_trace(go.Scatter(\n",
    "        x=forecast['ds'],\n",
    "        y=forecast['yhat_lower'],\n",
    "        mode='lines',\n",
    "        fill='tonexty',\n",
    "        fillcolor='rgba(255,0,0,0.1)',\n",
    "        line=dict(width=0),\n",
    "        name='Confidence Interval',\n",
    "        hovertemplate='Date: %{x}<br>CI: %{y:.3f}<extra></extra>'\n",
    "    ))\n",
    "    \n",
    "    # Validation data if available\n",
    "    if not val_df.empty:\n",
    "        fig_main.add_trace(go.Scatter(\n",
    "            x=val_df['ds'],\n",
    "            y=val_df['y'],\n",
    "            mode='markers',\n",
    "            name='Validation Data',\n",
    "            marker=dict(color='orange', size=8, symbol='diamond'),\n",
    "            hovertemplate='Date: %{x}<br>Actual: %{y:.3f}<extra></extra>'\n",
    "        ))\n",
    "    \n",
    "    fig_main.update_layout(\n",
    "        title=f'NDVI Predictions for {CURRENT_YEAR} - Prophet Model',\n",
    "        xaxis_title='Date',\n",
    "        yaxis_title='NDVI',\n",
    "        height=600,\n",
    "        hovermode='x unified',\n",
    "        legend=dict(orientation='h', yanchor='bottom', y=1.02, xanchor='right', x=1)\n",
    "    )\n",
    "    \n",
    "    # Add NDVI interpretation lines\n",
    "    fig_main.add_hline(y=0.2, line_dash=\"dash\", line_color=\"red\", \n",
    "                      annotation_text=\"Stress threshold\")\n",
    "    fig_main.add_hline(y=0.35, line_dash=\"dash\", line_color=\"orange\", \n",
    "                      annotation_text=\"Crop threshold\")\n",
    "    fig_main.add_hline(y=0.6, line_dash=\"dash\", line_color=\"green\", \n",
    "                      annotation_text=\"Healthy canopy\")\n",
    "    \n",
    "    fig_main.show()\n",
    "    \n",
    "    # 2. Seasonal decomposition plot\n",
    "    print(\"📊 Creating component analysis...\")\n",
    "    \n",
    "    if len(forecast) > 0:\n",
    "        fig_components = make_subplots(\n",
    "            rows=4, cols=1,\n",
    "            subplot_titles=['Trend', 'Yearly Seasonality', 'Weather Effects', 'Predictions vs Actual'],\n",
    "            vertical_spacing=0.08,\n",
    "            shared_xaxes=True\n",
    "        )\n",
    "        \n",
    "        # Trend\n",
    "        if 'trend' in forecast.columns:\n",
    "            fig_components.add_trace(\n",
    "                go.Scatter(x=forecast['ds'], y=forecast['trend'], \n",
    "                          name='Trend', line=dict(color='blue')),\n",
    "                row=1, col=1\n",
    "            )\n",
    "        \n",
    "        # Seasonality\n",
    "        if 'yearly' in forecast.columns:\n",
    "            fig_components.add_trace(\n",
    "                go.Scatter(x=forecast['ds'], y=forecast['yearly'], \n",
    "                          name='Yearly', line=dict(color='green')),\n",
    "                row=2, col=1\n",
    "            )\n",
    "        \n",
    "        # Weather effects (sum of regressor contributions)\n",
    "        weather_effect = np.zeros(len(forecast))\n",
    "        for regressor in available_regressors:\n",
    "            if regressor in forecast.columns:\n",
    "                weather_effect += forecast[regressor].values\n",
    "        \n",
    "        fig_components.add_trace(\n",
    "            go.Scatter(x=forecast['ds'], y=weather_effect, \n",
    "                      name='Weather Effects', line=dict(color='orange')),\n",
    "            row=3, col=1\n",
    "        )\n",
    "        \n",
    "        # Predictions vs actual (if validation data available)\n",
    "        fig_components.add_trace(\n",
    "            go.Scatter(x=forecast['ds'], y=forecast['yhat'], \n",
    "                      name='Predictions', line=dict(color='red')),\n",
    "            row=4, col=1\n",
    "        )\n",
    "        \n",
    "        if not val_df.empty and len(val_forecast) > 0:\n",
    "            fig_components.add_trace(\n",
    "                go.Scatter(x=val_df['ds'], y=val_df['y'], \n",
    "                          mode='markers', name='Actual', marker=dict(color='blue')),\n",
    "                row=4, col=1\n",
    "            )\n",
    "        \n",
    "        fig_components.update_layout(\n",
    "            height=800,\n",
    "            title_text=\"Prophet Model Components Analysis\",\n",
    "            showlegend=True\n",
    "        )\n",
    "        \n",
    "        fig_components.show()\n",
    "    \n",
    "    # 3. Weather regressor effects\n",
    "    if len(available_regressors) > 0:\n",
    "        print(\"📊 Creating weather effects visualization...\")\n",
    "        \n",
    "        fig_weather = make_subplots(\n",
    "            rows=len(available_regressors), cols=1,\n",
    "            subplot_titles=[f'{reg.replace(\"_\", \" \").title()} Effect' for reg in available_regressors],\n",
    "            vertical_spacing=0.05,\n",
    "            shared_xaxes=True\n",
    "        )\n",
    "        \n",
    "        for i, regressor in enumerate(available_regressors):\n",
    "            if regressor in forecast.columns:\n",
    "                fig_weather.add_trace(\n",
    "                    go.Scatter(\n",
    "                        x=forecast['ds'], \n",
    "                        y=forecast[regressor], \n",
    "                        name=regressor.replace('_', ' ').title(),\n",
    "                        line=dict(width=2)\n",
    "                    ),\n",
    "                    row=i+1, col=1\n",
    "                )\n",
    "        \n",
    "        fig_weather.update_layout(\n",
    "            height=150*len(available_regressors),\n",
    "            title_text=\"Weather Regressor Effects on NDVI Predictions\",\n",
    "            showlegend=False\n",
    "        )\n",
    "        \n",
    "        fig_weather.show()\n",
    "    \n",
    "    # 4. Model performance visualization (if validation data available)\n",
    "    if evaluation_results is not None:\n",
    "        print(\"📊 Creating performance metrics visualization...\")\n",
    "        \n",
    "        # Create a simple bar chart of metrics\n",
    "        metrics_fig = go.Figure(data=[\n",
    "            go.Bar(\n",
    "                x=['MAE', 'RMSE', 'MAPE (%)'],\n",
    "                y=[evaluation_results['mae'], evaluation_results['rmse'], evaluation_results['mape']],\n",
    "                marker_color=['lightblue', 'lightgreen', 'lightcoral']\n",
    "            )\n",
    "        ])\n",
    "        \n",
    "        metrics_fig.update_layout(\n",
    "            title='Model Performance Metrics',\n",
    "            yaxis_title='Error Value',\n",
    "            height=400\n",
    "        )\n",
    "        \n",
    "        metrics_fig.show()\n",
    "    \n",
    "    print(\"✅ All visualizations created successfully!\")\n",
    "    \n",
    "else:\n",
    "    print(\"❌ Cannot create visualizations - no model or predictions available\")"
   ]
  },
  {
   "cell_type": "markdown",
   "id": "24bf9a75",
   "metadata": {},
   "source": [
    "## Export Trained Model and Results\n",
    "\n",
    "Save the trained model and export prediction results for use in crop monitoring applications."
   ]
  },
  {
   "cell_type": "code",
   "execution_count": 40,
   "id": "d45f9184",
   "metadata": {},
   "outputs": [
    {
     "name": "stdout",
     "output_type": "stream",
     "text": [
      "💾 Saving trained model and results...\n",
      "✅ Model saved to: models\\ndvi_prophet_model_20251005_101111.pkl\n",
      "✅ Metadata saved to: models\\model_metadata_20251005_101111.json\n",
      "✅ Predictions exported to: models\\ndvi_predictions_2025.csv\n",
      "   Contains 24 predictions for 2025\n",
      "✅ Summary report saved to: models\\model_summary_20251005.md\n",
      "\n",
      "🎉 Model export completed! Check the 'models' directory for all files.\n",
      "📋 Growth stage estimation function defined\n"
     ]
    }
   ],
   "source": [
    "def estimate_growth_stage(day_of_year, ndvi):\n",
    "    \"\"\"Simple growth stage estimation based on day of year and NDVI\"\"\"\n",
    "    if day_of_year < 90 or day_of_year > 300:  # Winter\n",
    "        return 'Dormant'\n",
    "    elif day_of_year < 120:  # Early spring\n",
    "        if ndvi < 0.3:\n",
    "            return 'Planting/Emergence'\n",
    "        else:\n",
    "            return 'Early Growth'\n",
    "    elif day_of_year < 180:  # Late spring/Early summer\n",
    "        if ndvi < 0.4:\n",
    "            return 'Vegetative Growth'\n",
    "        elif ndvi < 0.6:\n",
    "            return 'Rapid Growth'\n",
    "        else:\n",
    "            return 'Canopy Development'\n",
    "    elif day_of_year < 240:  # Mid-summer\n",
    "        if ndvi > 0.6:\n",
    "            return 'Peak Biomass'\n",
    "        else:\n",
    "            return 'Reproduction'\n",
    "    elif day_of_year < 300:  # Fall\n",
    "        if ndvi > 0.5:\n",
    "            return 'Maturation'\n",
    "        else:\n",
    "            return 'Senescence'\n",
    "    else:\n",
    "        return 'Harvest/Dormancy'\n",
    "\n",
    "if model is not None:\n",
    "    print(\"💾 Saving trained model and results...\")\n",
    "    \n",
    "    # 1. Save the trained Prophet model\n",
    "    model_filename = MODEL_OUTPUT_DIR / f\"ndvi_prophet_model_{datetime.now().strftime('%Y%m%d_%H%M%S')}.pkl\"\n",
    "    \n",
    "    try:\n",
    "        with open(model_filename, 'wb') as f:\n",
    "            pickle.dump(model, f)\n",
    "        print(f\"✅ Model saved to: {model_filename}\")\n",
    "    except Exception as e:\n",
    "        print(f\"❌ Failed to save model: {e}\")\n",
    "    \n",
    "    # 2. Save model metadata\n",
    "    metadata = {\n",
    "        'model_type': 'Prophet',\n",
    "        'training_period': {\n",
    "            'start': train_df['ds'].min().isoformat(),\n",
    "            'end': train_df['ds'].max().isoformat(),\n",
    "            'n_observations': len(train_df)\n",
    "        },\n",
    "        'regressors': available_regressors,\n",
    "        'target_variable': 'NDVI',\n",
    "        'prediction_year': CURRENT_YEAR,\n",
    "        'created_at': datetime.now().isoformat(),\n",
    "        'model_parameters': {\n",
    "            'yearly_seasonality': True,\n",
    "            'changepoint_prior_scale': 0.05,\n",
    "            'seasonality_prior_scale': 10.0,\n",
    "            'n_changepoints': 25\n",
    "        }\n",
    "    }\n",
    "    \n",
    "    if evaluation_results:\n",
    "        metadata['performance'] = evaluation_results\n",
    "    \n",
    "    metadata_filename = MODEL_OUTPUT_DIR / f\"model_metadata_{datetime.now().strftime('%Y%m%d_%H%M%S')}.json\"\n",
    "    \n",
    "    try:\n",
    "        with open(metadata_filename, 'w') as f:\n",
    "            json.dump(metadata, f, indent=2, default=str)\n",
    "        print(f\"✅ Metadata saved to: {metadata_filename}\")\n",
    "    except Exception as e:\n",
    "        print(f\"❌ Failed to save metadata: {e}\")\n",
    "    \n",
    "    # 3. Export predictions to CSV\n",
    "    if forecast is not None:\n",
    "        predictions_df = forecast[['ds', 'yhat', 'yhat_lower', 'yhat_upper']].copy()\n",
    "        predictions_df['ds'] = predictions_df['ds'].dt.strftime('%Y-%m-%d')\n",
    "        predictions_df.columns = ['date', 'predicted_ndvi', 'lower_bound', 'upper_bound']\n",
    "        \n",
    "        # Add weather variables\n",
    "        for regressor in available_regressors:\n",
    "            if regressor in forecast.columns:\n",
    "                predictions_df[regressor] = forecast[regressor]\n",
    "        \n",
    "        # Add crop status interpretation\n",
    "        predictions_df['crop_status'] = predictions_df['predicted_ndvi'].apply(\n",
    "            lambda x: 'Stressed' if x < 0.2 else\n",
    "                     'Emerging' if x < 0.35 else\n",
    "                     'Developing' if x < 0.5 else\n",
    "                     'Healthy' if x < 0.7 else\n",
    "                     'Peak'\n",
    "        )\n",
    "        \n",
    "        # Add growth stage estimates (simplified)\n",
    "        predictions_df['estimated_growth_stage'] = predictions_df.apply(\n",
    "            lambda row: estimate_growth_stage(\n",
    "                pd.to_datetime(row['date']).timetuple().tm_yday, \n",
    "                row['predicted_ndvi']\n",
    "            ), axis=1\n",
    "        )\n",
    "        \n",
    "        predictions_filename = MODEL_OUTPUT_DIR / f\"ndvi_predictions_{CURRENT_YEAR}.csv\"\n",
    "        \n",
    "        try:\n",
    "            predictions_df.to_csv(predictions_filename, index=False)\n",
    "            print(f\"✅ Predictions exported to: {predictions_filename}\")\n",
    "            print(f\"   Contains {len(predictions_df)} predictions for {CURRENT_YEAR}\")\n",
    "        except Exception as e:\n",
    "            print(f\"❌ Failed to export predictions: {e}\")\n",
    "    \n",
    "    # 4. Create summary report\n",
    "    summary_report = f\"\"\"\n",
    "# NDVI Prophet Model Summary Report\n",
    "Generated: {datetime.now().strftime('%Y-%m-%d %H:%M:%S')}\n",
    "\n",
    "## Model Configuration\n",
    "- Target Variable: NDVI\n",
    "- Training Period: {train_df['ds'].min().date()} to {train_df['ds'].max().date()}\n",
    "- Training Observations: {len(train_df)}\n",
    "- Prediction Year: {CURRENT_YEAR}\n",
    "- Weather Regressors: {', '.join(available_regressors) if available_regressors else 'None'}\n",
    "\n",
    "## Model Performance\n",
    "\"\"\"\n",
    "    \n",
    "    if evaluation_results:\n",
    "        summary_report += f\"\"\"- Mean Absolute Error (MAE): {evaluation_results['mae']:.4f}\n",
    "- Root Mean Square Error (RMSE): {evaluation_results['rmse']:.4f}\n",
    "- Mean Absolute Percentage Error (MAPE): {evaluation_results['mape']:.2f}%\n",
    "\"\"\"\n",
    "        \n",
    "        if 'cv_mae' in evaluation_results:\n",
    "            summary_report += f\"\"\"\n",
    "## Cross-Validation Results\n",
    "- CV MAE: {evaluation_results['cv_mae']:.4f}\n",
    "- CV RMSE: {evaluation_results['cv_rmse']:.4f}\n",
    "- CV MAPE: {evaluation_results['cv_mape']:.2f}%\n",
    "\"\"\"\n",
    "    \n",
    "    if forecast is not None:\n",
    "        summary_report += f\"\"\"\n",
    "## Predictions Summary\n",
    "- Prediction Dates: {len(predictions_df)}\n",
    "- NDVI Range: {forecast['yhat'].min():.3f} to {forecast['yhat'].max():.3f}\n",
    "- Peak NDVI Expected: {forecast.loc[forecast['yhat'].idxmax(), 'ds'].strftime('%Y-%m-%d')}\n",
    "- Minimum NDVI Expected: {forecast.loc[forecast['yhat'].idxmin(), 'ds'].strftime('%Y-%m-%d')}\n",
    "\n",
    "## Growing Season Analysis\n",
    "- Growing season months (Apr-Oct): {len(forecast[(forecast['ds'].dt.month >= 4) & (forecast['ds'].dt.month <= 10)])} predictions\n",
    "- Expected peak canopy period: {forecast[forecast['yhat'] > 0.6]['ds'].min().strftime('%Y-%m-%d') if len(forecast[forecast['yhat'] > 0.6]) > 0 else 'Not expected'}\n",
    "\n",
    "## Crop Monitoring Insights\n",
    "\"\"\"\n",
    "        \n",
    "        # Seasonal insights\n",
    "        monthly_means = forecast.groupby(forecast['ds'].dt.month)['yhat'].mean()\n",
    "        peak_month = monthly_means.idxmax()\n",
    "        month_names = ['Jan', 'Feb', 'Mar', 'Apr', 'May', 'Jun', \n",
    "                      'Jul', 'Aug', 'Sep', 'Oct', 'Nov', 'Dec']\n",
    "        \n",
    "        summary_report += f\"\"\"- Predicted peak growth month: {month_names[peak_month-1]} (NDVI: {monthly_means[peak_month]:.3f})\n",
    "- Early season average (Mar-May): {monthly_means[[3,4,5]].mean():.3f}\n",
    "- Late season average (Sep-Nov): {monthly_means[[9,10,11]].mean():.3f}\n",
    "\n",
    "## Files Generated\n",
    "- Model: {model_filename.name}\n",
    "- Metadata: {metadata_filename.name}\n",
    "- Predictions: {predictions_filename.name}\n",
    "- Summary: model_summary_{datetime.now().strftime('%Y%m%d')}.md\n",
    "\"\"\"\n",
    "    \n",
    "    summary_filename = MODEL_OUTPUT_DIR / f\"model_summary_{datetime.now().strftime('%Y%m%d')}.md\"\n",
    "    \n",
    "    try:\n",
    "        with open(summary_filename, 'w') as f:\n",
    "            f.write(summary_report)\n",
    "        print(f\"✅ Summary report saved to: {summary_filename}\")\n",
    "    except Exception as e:\n",
    "        print(f\"❌ Failed to save summary: {e}\")\n",
    "    \n",
    "    print(f\"\\n🎉 Model export completed! Check the '{MODEL_OUTPUT_DIR}' directory for all files.\")\n",
    "\n",
    "else:\n",
    "    print(\"❌ Cannot export - no trained model available\")\n",
    "\n",
    "print(\"📋 Growth stage estimation function defined\")"
   ]
  },
  {
   "cell_type": "markdown",
   "id": "607883aa",
   "metadata": {},
   "source": [
    "## Summary and Next Steps\n",
    "\n",
    "This notebook has demonstrated how to train a Prophet model for NDVI prediction using cached data from the HLS Crop Monitor project.\n",
    "\n",
    "### Key Accomplishments:\n",
    "1. ✅ **Data Loading**: Successfully loaded cached NDVI and weather data\n",
    "2. ✅ **Feature Engineering**: Created weather-based regressors and seasonal features  \n",
    "3. ✅ **Model Training**: Trained Prophet model with external regressors\n",
    "4. ✅ **Prediction Generation**: Created NDVI forecasts for the current year\n",
    "5. ✅ **Model Evaluation**: Assessed performance using validation metrics\n",
    "6. ✅ **Visualization**: Generated comprehensive plots and analysis\n",
    "7. ✅ **Export**: Saved model, predictions, and summary reports\n",
    "\n",
    "### Usage in Production:\n",
    "- The saved model can be loaded and used to generate updated predictions\n",
    "- Predictions include confidence intervals for uncertainty quantification\n",
    "- Weather regressors enable more accurate forecasting\n",
    "- Growth stage estimates support agricultural decision making\n",
    "\n",
    "### Potential Improvements:\n",
    "- **More Weather Variables**: Add soil moisture, solar radiation, wind speed\n",
    "- **Spatial Modeling**: Extend to multiple field locations\n",
    "- **Crop-Specific Models**: Train separate models for different crop types\n",
    "- **Real-time Updates**: Implement automated model retraining\n",
    "- **Anomaly Detection**: Add alerts for unusual NDVI patterns\n",
    "\n",
    "### Integration with HLS Crop Monitor:\n",
    "The predictions from this model can be integrated back into the main Streamlit application to provide:\n",
    "- Forward-looking crop health forecasts\n",
    "- Early warning systems for stress conditions\n",
    "- Seasonal planning support for farmers\n",
    "- Yield estimation improvements"
   ]
  },
  {
   "cell_type": "markdown",
   "id": "654ad81e",
   "metadata": {},
   "source": [
    "## Export Model for API Integration\n",
    "\n",
    "Save the trained Prophet model and metadata for use in the API."
   ]
  },
  {
   "cell_type": "code",
   "execution_count": 41,
   "id": "7290cfdb",
   "metadata": {},
   "outputs": [
    {
     "name": "stdout",
     "output_type": "stream",
     "text": [
      "📦 Exporting trained model for API integration...\n",
      "✅ Model saved to: models\\ndvi_prophet_model.pkl\n",
      "✅ Metadata saved to: models\\model_metadata.json\n",
      "✅ Sample predictions saved to: models\\sample_predictions.csv\n",
      "✅ Blooming predictions saved to: models\\blooming_prediction_sample.json\n",
      "\n",
      "🎉 Model export complete!\n",
      "   📁 Model files location: models\n",
      "   🔧 The API can now use your trained ML model\n",
      "   🌸 Includes blooming date predictions\n",
      "   📊 Model performance metrics included\n",
      "\n",
      "📋 API Integration Instructions:\n",
      "   1. The API will automatically load the model from models\\ndvi_prophet_model.pkl\n",
      "   2. ML predictions will replace heuristic NDVI peak calculations\n",
      "   3. Blooming dates will be included in API responses\n",
      "   4. The API will fall back to heuristic method if ML fails\n"
     ]
    }
   ],
   "source": [
    "# Export the trained model for API integration\n",
    "if 'model' in globals() and model is not None:\n",
    "    import pickle\n",
    "    \n",
    "    # Ensure model output directory exists\n",
    "    MODEL_OUTPUT_DIR.mkdir(exist_ok=True)\n",
    "    \n",
    "    print(\"📦 Exporting trained model for API integration...\")\n",
    "    \n",
    "    # Save the Prophet model\n",
    "    model_filename = MODEL_OUTPUT_DIR / \"ndvi_prophet_model.pkl\"\n",
    "    \n",
    "    try:\n",
    "        with open(model_filename, 'wb') as f:\n",
    "            pickle.dump(model, f)\n",
    "        print(f\"✅ Model saved to: {model_filename}\")\n",
    "        \n",
    "        # Save model metadata\n",
    "        metadata = {\n",
    "            'model_type': 'Prophet',\n",
    "            'training_date': datetime.now().isoformat(),\n",
    "            'regions_trained': list(all_regions),\n",
    "            'regressors': available_regressors + ['region_numeric', 'is_northern_region', 'is_growing_season'],\n",
    "            'training_data_shape': list(modeling_df.shape) if 'modeling_df' in globals() else None,\n",
    "            'cv_metrics': {\n",
    "                'mae': float(mae) if 'mae' in globals() else None,\n",
    "                'rmse': float(rmse) if 'rmse' in globals() else None,\n",
    "                'mape': float(mape) if 'mape' in globals() else None\n",
    "            } if any(var in globals() for var in ['mae', 'rmse', 'mape']) else None,\n",
    "            'blooming_prediction_available': True,\n",
    "            'weather_forecast_integration': True\n",
    "        }\n",
    "        \n",
    "        metadata_filename = MODEL_OUTPUT_DIR / \"model_metadata.json\"\n",
    "        with open(metadata_filename, 'w') as f:\n",
    "            import json\n",
    "            json.dump(metadata, f, indent=2)\n",
    "        print(f\"✅ Metadata saved to: {metadata_filename}\")\n",
    "        \n",
    "        # Save example predictions for verification\n",
    "        if 'forecast' in globals() and forecast is not None:\n",
    "            predictions_sample = forecast[['ds', 'yhat', 'yhat_lower', 'yhat_upper']].head(10)\n",
    "            predictions_filename = MODEL_OUTPUT_DIR / \"sample_predictions.csv\"\n",
    "            predictions_sample.to_csv(predictions_filename, index=False)\n",
    "            print(f\"✅ Sample predictions saved to: {predictions_filename}\")\n",
    "        \n",
    "        # Save blooming prediction results if available\n",
    "        if 'blooming_start_date' in globals() and blooming_start_date is not None:\n",
    "            blooming_info = {\n",
    "                'blooming_start_date': blooming_start_date.isoformat(),\n",
    "                'blooming_confidence': float(blooming_confidence),\n",
    "                'blooming_method': blooming_method,\n",
    "                'ndvi_at_blooming': float(blooming_ndvi) if 'blooming_ndvi' in globals() else None\n",
    "            }\n",
    "            \n",
    "            blooming_filename = MODEL_OUTPUT_DIR / \"blooming_prediction_sample.json\"\n",
    "            with open(blooming_filename, 'w') as f:\n",
    "                # Convert all numeric types to Python native types for JSON serialization\n",
    "                def convert_for_json(obj):\n",
    "                    if isinstance(obj, pd.Timestamp):\n",
    "                        return obj.isoformat()\n",
    "                    elif isinstance(obj, (np.integer, np.int32, np.int64)):\n",
    "                        return int(obj)\n",
    "                    elif isinstance(obj, (np.floating, np.float32, np.float64)):\n",
    "                        return float(obj)\n",
    "                    elif isinstance(obj, dict):\n",
    "                        return {k: convert_for_json(v) for k, v in obj.items()}\n",
    "                    elif isinstance(obj, list):\n",
    "                        return [convert_for_json(item) for item in obj]\n",
    "                    return obj\n",
    "                \n",
    "                json.dump(convert_for_json(blooming_info), f, indent=2)\n",
    "            print(f\"✅ Blooming predictions saved to: {blooming_filename}\")\n",
    "        \n",
    "        print(f\"\\n🎉 Model export complete!\")\n",
    "        print(f\"   📁 Model files location: {MODEL_OUTPUT_DIR}\")\n",
    "        print(f\"   🔧 The API can now use your trained ML model\")\n",
    "        print(f\"   🌸 Includes blooming date predictions\")\n",
    "        print(f\"   📊 Model performance metrics included\")\n",
    "        \n",
    "        # Display integration instructions\n",
    "        print(f\"\\n📋 API Integration Instructions:\")\n",
    "        print(f\"   1. The API will automatically load the model from {model_filename}\")\n",
    "        print(f\"   2. ML predictions will replace heuristic NDVI peak calculations\")\n",
    "        print(f\"   3. Blooming dates will be included in API responses\")\n",
    "        print(f\"   4. The API will fall back to heuristic method if ML fails\")\n",
    "        \n",
    "    except Exception as e:\n",
    "        print(f\"❌ Error exporting model: {e}\")\n",
    "        import traceback\n",
    "        traceback.print_exc()\n",
    "        \n",
    "else:\n",
    "    print(\"⚠️  No trained model available for export\")\n",
    "    print(\"   Please run the model training cells first\")"
   ]
  }
 ],
 "metadata": {
  "language_info": {
   "name": "python"
  }
 },
 "nbformat": 4,
 "nbformat_minor": 5
}
